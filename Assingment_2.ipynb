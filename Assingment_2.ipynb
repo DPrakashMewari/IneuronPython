{
 "cells": [
  {
   "cell_type": "code",
   "execution_count": 6,
   "metadata": {},
   "outputs": [
    {
     "data": {
      "text/plain": [
       "bool"
      ]
     },
     "execution_count": 6,
     "metadata": {},
     "output_type": "execute_result"
    }
   ],
   "source": [
    "\"\"\"\n",
    "Question - 1 \n",
    "\"\"\"\n",
    "\n",
    "# What are the Boolean data type's two values? How do you go about writing them?\n",
    "\n",
    "\"\"\"\n",
    "Answer - \n",
    "\n",
    "The boolean data type is True or False.\n",
    ".boolean variables are defined by the True and False keywords.\n",
    "\"\"\"\n",
    "\n",
    "a = True\n",
    "type(a)\n",
    "#<class 'bool'>\n",
    "\n",
    "b = False\n",
    "type(b)\n",
    "#<class 'bool'>\n",
    "\n",
    "\n"
   ]
  },
  {
   "cell_type": "code",
   "execution_count": 15,
   "metadata": {},
   "outputs": [
    {
     "name": "stdout",
     "output_type": "stream",
     "text": [
      "True\n",
      "False\n"
     ]
    },
    {
     "data": {
      "text/plain": [
       "False"
      ]
     },
     "execution_count": 15,
     "metadata": {},
     "output_type": "execute_result"
    }
   ],
   "source": [
    "\"\"\"\n",
    "Question 2 \n",
    "\n",
    "2. What are the three different types of Boolean operators?\n",
    "\n",
    "\"\"\"\n",
    "\n",
    "## Answers\n",
    "\n",
    "\"\"\"\n",
    "\n",
    "#Types of Operators:\n",
    "\n",
    "#1.or\n",
    "#2.and\n",
    "#3.not\n",
    "\n",
    "\"\"\"\n",
    "# Or operator return true if one of the statements is True\n",
    "a = True\n",
    "b = False\n",
    "print(a or b)\n",
    "\n",
    "# and operator return true if both statements are true \n",
    "print(b and a)\n",
    "\n",
    "# not operator : reverse the result return false if the return is true\n",
    "x = 4\n",
    "not(x<5 and x<10) #or (4 less than 5 and 4 less than 10) \n",
    "\n"
   ]
  },
  {
   "cell_type": "code",
   "execution_count": 10,
   "metadata": {},
   "outputs": [
    {
     "name": "stdout",
     "output_type": "stream",
     "text": [
      "True\n",
      "False\n",
      "False True\n",
      "False\n",
      "True\n"
     ]
    }
   ],
   "source": [
    "\"\"\"\n",
    "3. Make a list of each Boolean operator's truth tables \n",
    "(i.e. every possible combination of Boolean \n",
    "values for the operator and what it evaluate ).\n",
    "\n",
    "\n",
    "\"\"\"\n",
    "\n",
    "\n",
    "\"\"\"\n",
    "Answers :\n",
    "\n",
    "#1.or\n",
    "#2.and\n",
    "#3.not\n",
    "#4.== (equivalent)\n",
    "#5.!= (not equivalent)\n",
    "\n",
    "a = True\n",
    "b = False \n",
    "\n",
    "c=a or b\n",
    "print(c)\n",
    "c = a and b\n",
    "print(c)\n",
    "print(not(a),not(b))\n",
    "c = a == b\n",
    "print(c)\n",
    "c = a != b\n",
    "print(c)\n",
    "\n",
    "\"\"\""
   ]
  },
  {
   "cell_type": "code",
   "execution_count": 24,
   "metadata": {},
   "outputs": [
    {
     "name": "stdout",
     "output_type": "stream",
     "text": [
      "False\n",
      "False\n",
      "True\n",
      "False\n",
      "False\n",
      "True\n"
     ]
    }
   ],
   "source": [
    "# Questions :\n",
    "\n",
    "\"\"\"\n",
    "(5 > 4) and (3 == 5)\n",
    "not (5 > 4)\n",
    "(5 > 4) or (3 == 5)\n",
    "not ((5 > 4) or (3 == 5))\n",
    "(True and True) and (True == False)\n",
    "(not False) or (not True)\n",
    "\n",
    "\"\"\"\n",
    "\n",
    "\n",
    "# Answers :\n",
    "\n",
    "print((5 > 4) and (3 == 5)) # means 1 and 0  so it gone be false\n",
    "print(not (5 > 4)) # means true but not\n",
    "print((5 > 4) or (3 == 5)) #  1 or 0  so it gone be true only one condition\n",
    "print(not ((5 > 4) or (3 == 5)))\n",
    "print((True and True) and (True == False))\n",
    "print((not False) or (not True))  # 1 or 0\n"
   ]
  },
  {
   "cell_type": "code",
   "execution_count": 18,
   "metadata": {},
   "outputs": [
    {
     "data": {
      "text/plain": [
       "1"
      ]
     },
     "execution_count": 18,
     "metadata": {},
     "output_type": "execute_result"
    }
   ],
   "source": [
    "## Question 5 \n",
    "\"\"\"\n",
    "What are the six different types of reference operators?\n",
    "\"\"\"\n",
    "\"\"\"\n",
    "Answers:\n",
    "\n",
    "1. =  equal operator\n",
    "x = 5\n",
    "2. +=  additon equal \n",
    "x += 5\n",
    "3. -= subraction equal\n",
    "x -=5\n",
    "4. *=  multiplication equal operator\n",
    "x *= 5\n",
    "5. /= division equal operator\n",
    "x /= 5\n",
    "6. x %= 5 mod equal operator\n",
    "\"\"\"\n"
   ]
  },
  {
   "cell_type": "code",
   "execution_count": 70,
   "metadata": {},
   "outputs": [
    {
     "name": "stdout",
     "output_type": "stream",
     "text": [
      "False\n"
     ]
    }
   ],
   "source": [
    "## Question 6 \n",
    "\"\"\"\n",
    "6. How do you tell the difference between\n",
    "the equal to and assignment operators?example\n",
    "\"\"\"\n",
    "\"\"\"\n",
    "Answers:\n",
    "-> It is an assingment operator   = \n",
    "-> It is for assingning the value\n",
    "\n",
    "->It is a relational or comparison operator ==\n",
    "->It is used for comparing two value \n",
    "\n",
    "\"\"\"\n",
    "# example\n",
    "x = 14\n",
    "# assingment operators\n",
    "x += 1\n",
    "# equal operators\n",
    "x = 12; y = 10;\n",
    "print(x == y)\n"
   ]
  },
  {
   "cell_type": "code",
   "execution_count": 34,
   "metadata": {},
   "outputs": [],
   "source": [
    "## Question 8\n",
    "\n",
    "spam = 0  # Intialize variable with 0 \n",
    "if spam == 10:  # check condition is it == 10 \n",
    "    print('eggs')   # it will not print because condition not succesful\n",
    "    if spam > 5:  #  checking spam is bigger or not \n",
    "        print('bacon')  # not \n",
    "    else:\n",
    "        print('ham')\n",
    "    #print('spam')\n",
    "print('spam')\n",
    "# Upper condtion is not fullfill so nested if else also ! not\n",
    "# So it print only spam"
   ]
  },
  {
   "cell_type": "code",
   "execution_count": 45,
   "metadata": {},
   "outputs": [
    {
     "name": "stdout",
     "output_type": "stream",
     "text": [
      "2\n",
      "Howdy\n"
     ]
    }
   ],
   "source": [
    "\"\"\"\n",
    "9. Create a programme that prints.\n",
    "If 1 is stored in spam, prints Hello; \n",
    "if 2 is stored in spam, prints Howdy; \n",
    "and if 3 is stored in spam, p\n",
    "prints Salutations! if there's something else in spam.\n",
    "\n",
    "\"\"\"\n",
    "spam = int(input())\n",
    "if spam == 1:\n",
    "    print(\"Hello\")\n",
    "elif spam == 2:\n",
    "    print(\"Howdy\")\n",
    "elif spam == 3:\n",
    "    print(\"Salutation !\")\n",
    "else:\n",
    "    print(None)\n",
    "    \n",
    "\n"
   ]
  },
  {
   "cell_type": "code",
   "execution_count": 55,
   "metadata": {},
   "outputs": [
    {
     "data": {
      "text/plain": [
       "'\\na = 1\\nwhile (a >= 1):\\n    print(\"loop entered\",a,\"times\")\\n    a = a + 1\\n    print(a)\\n    \\n# Solution ctrl + c\\n\\n'"
      ]
     },
     "execution_count": 55,
     "metadata": {},
     "output_type": "execute_result"
    }
   ],
   "source": [
    "\"\"\"\n",
    "10.If your programme is stuck in an endless loop, \n",
    "what keys can you press?\n",
    "\n",
    "\"\"\"\n",
    "\"\"\"\n",
    "a = 1\n",
    "while (a >= 1):\n",
    "    print(\"loop entered\",a,\"times\")\n",
    "    a = a + 1\n",
    "    print(a)\n",
    "    \n",
    "# Solution ctrl + c\n",
    "\n",
    "\"\"\""
   ]
  },
  {
   "cell_type": "code",
   "execution_count": null,
   "metadata": {},
   "outputs": [],
   "source": [
    "\"\"\"\n",
    " 11. How can you tell the difference between break and continue?\n",
    "\n",
    "\"\"\"\n",
    "\n",
    "\"\"\"\n",
    "->It terminates the execution of remaining iteration of the loop.\n",
    "\n",
    "->'break' resumes the control of the program \n",
    "to the end of loop enclosing that 'break'.\n",
    "\n",
    "------------------------------------------------------------\n",
    "->It terminates only the current iteration of the loop.\n",
    "\n",
    "->'continue' resumes the control of the program \n",
    "to the next iteration of that loop enclosing 'continue'.\n",
    "\n",
    "\n",
    "\n",
    "\"\"\""
   ]
  },
  {
   "cell_type": "code",
   "execution_count": 59,
   "metadata": {},
   "outputs": [
    {
     "data": {
      "text/plain": [
       "'\\nfor i in range(10):\\n    print(i)\\n# it only take the range of 10\\n\\nfor i in range(0,10):\\n    print(i)\\n# it has start point 0 , and end point 10 \\n\\nfor i in range(0,10,1):\\n    print(i)\\n# it has start ,end , step \\n'"
      ]
     },
     "execution_count": 59,
     "metadata": {},
     "output_type": "execute_result"
    }
   ],
   "source": [
    "\"\"\"\n",
    "12. In a for loop, what is the difference between range(10), \n",
    "range(0, 10), and range(0, 10, 1)?\n",
    "\"\"\"\n",
    "\"\"\"\n",
    "for i in range(10):\n",
    "    print(i)\n",
    "# it only take the range of 10\n",
    "\n",
    "for i in range(0,10):\n",
    "    print(i)\n",
    "# it has start point 0 , and end point 10 \n",
    "\n",
    "for i in range(0,10,1):\n",
    "    print(i)\n",
    "# it has start ,end , step \n",
    "\"\"\"    "
   ]
  },
  {
   "cell_type": "code",
   "execution_count": 64,
   "metadata": {},
   "outputs": [
    {
     "name": "stdout",
     "output_type": "stream",
     "text": [
      "1\n",
      "2\n",
      "3\n",
      "4\n",
      "5\n",
      "6\n",
      "7\n",
      "8\n",
      "9\n"
     ]
    }
   ],
   "source": [
    "\"\"\"\n",
    "13. Using a for loop, write a short programme that\n",
    "prints the numbers 1 to 10 Then, using a while loop,\n",
    "create an identical programme that prints the numbers 1 to 10.\n",
    "\"\"\"\n",
    "\n",
    "# Using for\n",
    "for i in range(1,10):\n",
    "    print(i)\n",
    "    \n",
    "# Using While\n",
    "a = 1\n",
    "while a >= 10:\n",
    "    a = a+1\n",
    "    print(a)"
   ]
  },
  {
   "cell_type": "code",
   "execution_count": 72,
   "metadata": {},
   "outputs": [
    {
     "data": {
      "text/plain": [
       "'\\nimport spam \\nfrom spam import bacon;\\n'"
      ]
     },
     "execution_count": 72,
     "metadata": {},
     "output_type": "execute_result"
    }
   ],
   "source": [
    "# 14. If you had a function named bacon() \n",
    "#inside a module named spam, \n",
    "#how would you call it after importing spam?\n",
    "\n",
    "\"\"\"\n",
    "import spam \n",
    "from spam import bacon;\n",
    "\"\"\"\n",
    "\n"
   ]
  }
 ],
 "metadata": {
  "kernelspec": {
   "display_name": "Python 3",
   "language": "python",
   "name": "python3"
  },
  "language_info": {
   "codemirror_mode": {
    "name": "ipython",
    "version": 3
   },
   "file_extension": ".py",
   "mimetype": "text/x-python",
   "name": "python",
   "nbconvert_exporter": "python",
   "pygments_lexer": "ipython3",
   "version": "3.7.3"
  }
 },
 "nbformat": 4,
 "nbformat_minor": 2
}
