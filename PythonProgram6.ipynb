{
 "cells": [
  {
   "cell_type": "code",
   "execution_count": 9,
   "metadata": {},
   "outputs": [
    {
     "name": "stdout",
     "output_type": "stream",
     "text": [
      "Enter a element of series11\n",
      "---Fibonnaci Series---\n",
      "0\n",
      "1\n",
      "1\n",
      "2\n",
      "3\n",
      "5\n",
      "8\n",
      "13\n",
      "21\n",
      "34\n",
      "55\n"
     ]
    }
   ],
   "source": [
    "#Write a Python Program to Display Fibonacci Sequence Using Recursion?\n",
    "def fibonnaci(n):\n",
    "    if n <= 1:\n",
    "        return n\n",
    "    else:\n",
    "        return(fibonnaci(n-1) + fibonnaci(n-2))\n",
    "n = int(input(\"Enter a element of series:\"))\n",
    "if n <= 0:\n",
    "    print(\"Enter a positivenumber\")\n",
    "else:\n",
    "    print(\"---Fibonnaci Series---\")\n",
    "    for i in range(n):\n",
    "        print(fibonnaci(i))"
   ]
  },
  {
   "cell_type": "code",
   "execution_count": 18,
   "metadata": {},
   "outputs": [
    {
     "name": "stdout",
     "output_type": "stream",
     "text": [
      "7\n",
      "Factorial number of 7 is 5040\n"
     ]
    }
   ],
   "source": [
    "# Write a Python Program to Find Factorial of Number Using Recursion?\n",
    "def factorial(n):\n",
    "    if n == 1:\n",
    "        return n \n",
    "    else:\n",
    "        return(n*factorial(n-1))\n",
    "n = int(input())\n",
    "if n < 0:\n",
    "    print(\"Print positive number\")\n",
    "elif n == 0:\n",
    "    print(\"Factorial of 0 is 1\")\n",
    "else:\n",
    "    print(\"Factorial number of {1} is {0}\".format(factorial(n),n))"
   ]
  },
  {
   "cell_type": "code",
   "execution_count": 38,
   "metadata": {},
   "outputs": [
    {
     "name": "stdout",
     "output_type": "stream",
     "text": [
      "underweight\n"
     ]
    }
   ],
   "source": [
    "# Python Program to Check BMI\n",
    "class BMI:\n",
    "    def __init__(self,height,weight):\n",
    "        self.height = height\n",
    "        self.weight = weight\n",
    "    def calculate(self):\n",
    "        bmi=self.weight/(self.height**2)\n",
    "        if (bmi < 18.5):\n",
    "            print(\"underweight\")\n",
    "        elif ( bmi >= 18.5 and bmi < 24.9):\n",
    "            print(\"Healthy\")\n",
    "        elif ( bmi >= 24.9 and bmi < 30):\n",
    "            print(\"overweight\")\n",
    "        elif ( bmi >=30):\n",
    "            print(\"Suffering from Obesity\")\n",
    "        \n",
    "obj = BMI(2.7,100)     \n",
    "obj.calculate()"
   ]
  },
  {
   "cell_type": "code",
   "execution_count": 46,
   "metadata": {},
   "outputs": [
    {
     "data": {
      "text/plain": [
       "('Natural log is ', 2.302585092994046)"
      ]
     },
     "execution_count": 46,
     "metadata": {},
     "output_type": "execute_result"
    }
   ],
   "source": [
    "# Python Program to check natural log of any number : \n",
    "def findnaturallog(num):\n",
    "    return(\"Natural log is \",np.log(num))\n",
    "\n",
    "findnaturallog(10)"
   ]
  },
  {
   "cell_type": "code",
   "execution_count": 50,
   "metadata": {},
   "outputs": [
    {
     "data": {
      "text/plain": [
       "36"
      ]
     },
     "execution_count": 50,
     "metadata": {},
     "output_type": "execute_result"
    }
   ],
   "source": [
    "# Python Program for cube sum of first n natural numbers\n",
    "\n",
    "def sumofseries(n):\n",
    "    sum = 0 \n",
    "    for i in range(1,n+1):\n",
    "        sum +=i**3\n",
    "    return sum\n",
    "\n",
    "sumofseries(3)"
   ]
  }
 ],
 "metadata": {
  "kernelspec": {
   "display_name": "Python 3",
   "language": "python",
   "name": "python3"
  },
  "language_info": {
   "codemirror_mode": {
    "name": "ipython",
    "version": 3
   },
   "file_extension": ".py",
   "mimetype": "text/x-python",
   "name": "python",
   "nbconvert_exporter": "python",
   "pygments_lexer": "ipython3",
   "version": "3.7.6"
  }
 },
 "nbformat": 4,
 "nbformat_minor": 4
}
