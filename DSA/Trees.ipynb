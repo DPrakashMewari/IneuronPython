{
 "cells": [
  {
   "cell_type": "code",
   "execution_count": 9,
   "metadata": {},
   "outputs": [],
   "source": [
    "class TreeNode:\n",
    "    def __init__(self,data):\n",
    "        self.data = data\n",
    "        self.children = []\n",
    "    \n",
    "    def add_child(self,child):\n",
    "        self.children.append(child)\n",
    "\n",
    "  \n"
   ]
  },
  {
   "cell_type": "code",
   "execution_count": 15,
   "metadata": {},
   "outputs": [
    {
     "name": "stdout",
     "output_type": "stream",
     "text": [
      "Parent Node\n",
      "Child Node A\n",
      "child_of_A\n",
      "Child Node B\n"
     ]
    }
   ],
   "source": [
    "root = TreeNode('Parent Node')\n",
    "\n",
    "# Create child Node \n",
    "child_A = TreeNode('Child Node A')\n",
    "child_B = TreeNode('Child Node B')\n",
    "\n",
    "\n",
    "# Add child nodes to the root\n",
    "root.add_child(child_A)\n",
    "root.add_child(child_B)\n",
    "\n",
    "# Add child in A\n",
    "child_of_A = TreeNode(\"child_of_A\")\n",
    "child_A.add_child(child_of_A)\n",
    "\n",
    "def traverse(root):\n",
    "    print(root.data)\n",
    "    for child in root.children:\n",
    "        traverse(child)\n",
    "\n",
    "traverse(root)"
   ]
  },
  {
   "cell_type": "code",
   "execution_count": null,
   "metadata": {},
   "outputs": [],
   "source": []
  },
  {
   "cell_type": "code",
   "execution_count": null,
   "metadata": {},
   "outputs": [],
   "source": []
  },
  {
   "cell_type": "code",
   "execution_count": null,
   "metadata": {},
   "outputs": [],
   "source": []
  },
  {
   "cell_type": "code",
   "execution_count": null,
   "metadata": {},
   "outputs": [],
   "source": []
  },
  {
   "cell_type": "code",
   "execution_count": null,
   "metadata": {},
   "outputs": [],
   "source": []
  }
 ],
 "metadata": {
  "kernelspec": {
   "display_name": "Python 3",
   "language": "python",
   "name": "python3"
  },
  "language_info": {
   "codemirror_mode": {
    "name": "ipython",
    "version": 3
   },
   "file_extension": ".py",
   "mimetype": "text/x-python",
   "name": "python",
   "nbconvert_exporter": "python",
   "pygments_lexer": "ipython3",
   "version": "3.11.1"
  },
  "orig_nbformat": 4
 },
 "nbformat": 4,
 "nbformat_minor": 2
}
