{
 "cells": [
  {
   "cell_type": "code",
   "execution_count": null,
   "metadata": {},
   "outputs": [],
   "source": [
    "# Insertion sort :\n",
    "# First we compare first two element'\n",
    "# Next sort them and compare it \n",
    "# Then we pick the third element find its proper pos.\n",
    "# among previous two sorted numbers.\n"
   ]
  },
  {
   "cell_type": "code",
   "execution_count": null,
   "metadata": {},
   "outputs": [],
   "source": []
  },
  {
   "cell_type": "code",
   "execution_count": 12,
   "metadata": {},
   "outputs": [
    {
     "name": "stdout",
     "output_type": "stream",
     "text": [
      "It sort like this: [1, 321, 3, 12, 312, 31, 23]\n",
      "It sort like this: [1, 3, 321, 12, 312, 31, 23]\n",
      "It sort like this: [1, 3, 12, 321, 312, 31, 23]\n",
      "It sort like this: [1, 3, 12, 312, 321, 31, 23]\n",
      "It sort like this: [1, 3, 12, 31, 312, 321, 23]\n",
      "It sort like this: [1, 3, 12, 23, 31, 312, 321]\n",
      "It was a final o/p [1, 3, 12, 23, 31, 312, 321]\n"
     ]
    }
   ],
   "source": [
    "# Ruff\n",
    "inputlist = [1,321,3,12,312,31,23]\n",
    "for i in range(1,len(inputlist)):\n",
    "    j = i-1\n",
    "    nextelement = inputlist[i]\n",
    "    while (inputlist[j] > nextelement) and (j >= 0):\n",
    "        inputlist[j+1] = inputlist[j]\n",
    "        j = j -1\n",
    "    inputlist[j+1] = nextelement\n",
    "    print(\"It sort like this:\",inputlist)\n",
    "print(\"It was a final o/p\",inputlist)"
   ]
  },
  {
   "cell_type": "code",
   "execution_count": 15,
   "metadata": {},
   "outputs": [
    {
     "data": {
      "text/plain": [
       "[1, 1, 13, 2, 231, 31, 2, 13, 31, 32]"
      ]
     },
     "execution_count": 15,
     "metadata": {},
     "output_type": "execute_result"
    }
   ],
   "source": [
    "def insertsort(inputlist):\n",
    "    for i in range(len(inputlist)):\n",
    "        j = i -1\n",
    "        nextelement = inputlist[i]\n",
    "        while(inputlist[j] > nextelement) and (inputlist[j] >= 0):\n",
    "            inputlist[j+1] = inputlist[j]\n",
    "            j = j - 1\n",
    "            inputlist[j+1] = nextelement\n",
    "    return inputlist\n",
    "\n",
    "\n",
    "insertsort([1,31,32,13,1,13,2,231,31,2])"
   ]
  }
 ],
 "metadata": {
  "kernelspec": {
   "display_name": "Python 3",
   "language": "python",
   "name": "python3"
  },
  "language_info": {
   "codemirror_mode": {
    "name": "ipython",
    "version": 3
   },
   "file_extension": ".py",
   "mimetype": "text/x-python",
   "name": "python",
   "nbconvert_exporter": "python",
   "pygments_lexer": "ipython3",
   "version": "3.7.3"
  }
 },
 "nbformat": 4,
 "nbformat_minor": 2
}
