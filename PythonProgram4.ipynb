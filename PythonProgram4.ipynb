{
 "cells": [
  {
   "cell_type": "code",
   "execution_count": 13,
   "metadata": {},
   "outputs": [
    {
     "name": "stdout",
     "output_type": "stream",
     "text": [
      "enter a number5\n",
      "120\n"
     ]
    }
   ],
   "source": [
    "#Write a Python Program to Find the Factorial of a Number?\n",
    "\n",
    "\n",
    "\n",
    "num = int(input(\"enter a number\"))\n",
    "\n",
    "factorial  = 1\n",
    "\n",
    "for i in range(1,num + 1):\n",
    "    factorial = factorial * i\n",
    "    i = i+1 \n",
    "    \n",
    "print(factorial)"
   ]
  },
  {
   "cell_type": "code",
   "execution_count": 25,
   "metadata": {},
   "outputs": [
    {
     "name": "stdout",
     "output_type": "stream",
     "text": [
      "14 * 1 = 14\n",
      "14 * 2 = 28\n",
      "14 * 3 = 42\n",
      "14 * 4 = 56\n",
      "14 * 5 = 70\n",
      "14 * 6 = 84\n",
      "14 * 7 = 98\n",
      "14 * 8 = 112\n",
      "14 * 9 = 126\n",
      "14 * 10 = 140\n"
     ]
    }
   ],
   "source": [
    "# Write a Python Program to Display the multiplication Table?\n",
    "\n",
    "n = 14\n",
    "for i in range(1,11):\n",
    "    print(n ,\"*\" ,i ,\"=\" ,i * n)"
   ]
  },
  {
   "cell_type": "code",
   "execution_count": 17,
   "metadata": {},
   "outputs": [],
   "source": [
    "# Write a Python Program to Print the Fibonacci sequence?\n",
    "#  xn = xn−1 + xn−2\n",
    "\n",
    "def fibonnaci(n):\n",
    "    a = 0 \n",
    "    b = 1 \n",
    "    count = 2 \n",
    "    if n < 0:\n",
    "        print(\"Please try again\")\n",
    "    elif n == 0:\n",
    "        print(a)\n",
    "    elif n == 1:\n",
    "        print(b)\n",
    "    else:\n",
    "        print(\"Fibonnaci sequence \")\n",
    "        print(a,\"\",b,end=\",\")\n",
    "        while count < n:\n",
    "            c = a + b\n",
    "            print(c,end=\",\")\n",
    "            a  = b\n",
    "            b  = c \n",
    "            count += 1\n",
    "            "
   ]
  },
  {
   "cell_type": "code",
   "execution_count": 18,
   "metadata": {},
   "outputs": [
    {
     "name": "stdout",
     "output_type": "stream",
     "text": [
      "Fibonnaci sequence \n",
      "0  1,1,2,3,5,8,13,21,"
     ]
    }
   ],
   "source": [
    "fibonnaci(9)"
   ]
  },
  {
   "cell_type": "code",
   "execution_count": 27,
   "metadata": {},
   "outputs": [],
   "source": [
    "# Python program to check armstrong number\n",
    "def func(n):\n",
    "    sum = 0 \n",
    "    temp = n\n",
    "    while temp > 0:\n",
    "        digit = temp % 10\n",
    "        sum += digit ** 3\n",
    "        temp //= 10\n",
    "    if n == sum:\n",
    "        print(n,\"is an armstrong number\")\n",
    "    else:\n",
    "        print(n,\"is not an armstrong number\")"
   ]
  },
  {
   "cell_type": "code",
   "execution_count": 28,
   "metadata": {},
   "outputs": [
    {
     "name": "stdout",
     "output_type": "stream",
     "text": [
      "153 is an armstrong number\n"
     ]
    }
   ],
   "source": [
    "func(153)"
   ]
  },
  {
   "cell_type": "code",
   "execution_count": 29,
   "metadata": {},
   "outputs": [
    {
     "name": "stdout",
     "output_type": "stream",
     "text": [
      "153\n",
      "370\n",
      "371\n",
      "407\n",
      "1634\n"
     ]
    }
   ],
   "source": [
    "# Python program to check armstrong number in interval \n",
    "lower = 10\n",
    "upper = 2000\n",
    "\n",
    "for num in range(lower,upper+1):\n",
    "    order = len(str(num))\n",
    "    sum = 0 \n",
    "    temp = num \n",
    "    while temp > 0:\n",
    "        digit = temp % 10 \n",
    "        sum += digit ** order \n",
    "        temp //= 10 \n",
    "    if num == sum:\n",
    "        print(num)\n",
    "        "
   ]
  },
  {
   "cell_type": "code",
   "execution_count": 32,
   "metadata": {},
   "outputs": [
    {
     "name": "stdout",
     "output_type": "stream",
     "text": [
      "Enter a number5\n",
      "the sum is  15\n"
     ]
    }
   ],
   "source": [
    "# Sum of natural numbers \n",
    "num = int(input(\"Enter a number\"))\n",
    "\n",
    "\n",
    "if num < 0 :\n",
    "    print(\"Enter a positive number\")\n",
    "else:\n",
    "    sum = 0\n",
    "    while(num > 0):\n",
    "        sum += num \n",
    "        num -= 1\n",
    "print(\"the sum is \",sum)\n",
    "        "
   ]
  }
 ],
 "metadata": {
  "kernelspec": {
   "display_name": "Python 3",
   "language": "python",
   "name": "python3"
  },
  "language_info": {
   "codemirror_mode": {
    "name": "ipython",
    "version": 3
   },
   "file_extension": ".py",
   "mimetype": "text/x-python",
   "name": "python",
   "nbconvert_exporter": "python",
   "pygments_lexer": "ipython3",
   "version": "3.7.3"
  }
 },
 "nbformat": 4,
 "nbformat_minor": 2
}
