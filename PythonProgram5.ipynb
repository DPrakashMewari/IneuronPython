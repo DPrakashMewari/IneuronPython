{
 "cells": [
  {
   "cell_type": "code",
   "execution_count": 5,
   "metadata": {},
   "outputs": [
    {
     "name": "stdout",
     "output_type": "stream",
     "text": [
      "Enter a number54\n",
      "Enter a number24\n",
      "216\n",
      "The lcm of  54   and 24 : 216\n"
     ]
    }
   ],
   "source": [
    "# Python Program to find lcm\n",
    "x = int(input(\"Enter a number\"))\n",
    "y = int(input(\"Enter a number\"))\n",
    "\n",
    "if x > y:\n",
    "    greater = x\n",
    "elif y > x :\n",
    "    greater = y\n",
    "while(True):\n",
    "    if((greater%x==0) and (greater%y == 0)):\n",
    "        lcm = greater\n",
    "        break\n",
    "    greater +=1 \n",
    "print(lcm)\n",
    "print(\"The lcm of \",x,\" \",\"and\",y,\":\",lcm)"
   ]
  },
  {
   "cell_type": "code",
   "execution_count": 8,
   "metadata": {},
   "outputs": [
    {
     "name": "stdout",
     "output_type": "stream",
     "text": [
      "Enter a number54\n",
      "Enter a number24\n",
      "6\n",
      "Th hcf of num is  6\n"
     ]
    }
   ],
   "source": [
    "# Python Program to find hcf:\n",
    "x  = int(input(\"Enter a number\"))\n",
    "y = int(input(\"Enter a number\"))\n",
    "\n",
    "if  x > y:\n",
    "    smaller = x\n",
    "elif y > x:\n",
    "    smaller = y\n",
    "for i in range(1,smaller+1):\n",
    "    if((x%i==0) and (y%i==0)):\n",
    "        hcf = i\n",
    "print(hcf)\n",
    "print(\"Th hcf of num is \",hcf)"
   ]
  },
  {
   "cell_type": "code",
   "execution_count": 17,
   "metadata": {},
   "outputs": [
    {
     "name": "stdout",
     "output_type": "stream",
     "text": [
      "Binary number is 0b10110\n",
      "Octal number is : 0o26\n",
      "Hex number is: 0x16\n"
     ]
    }
   ],
   "source": [
    "# Python program to convert decimal to binary,octal,hex\n",
    "class decimal:\n",
    "    def __init__(self,num):\n",
    "        self.num = num\n",
    "        \n",
    "    def binary(self):\n",
    "        print(\"Binary number is\", bin(self.num))\n",
    "    def octal(self):\n",
    "        print(\"Octal number is :\", oct(self.num))\n",
    "    def hex1(self):\n",
    "        print(\"Hex number is:\", hex(self.num))\n",
    "\n",
    "\n",
    "obj1 = decimal(22)    \n",
    "obj1.binary()\n",
    "obj1.octal()\n",
    "obj1.hex1()"
   ]
  },
  {
   "cell_type": "code",
   "execution_count": 23,
   "metadata": {},
   "outputs": [
    {
     "data": {
      "text/plain": [
       "97"
      ]
     },
     "execution_count": 23,
     "metadata": {},
     "output_type": "execute_result"
    }
   ],
   "source": [
    "# Python program to find ascii value of number:\n",
    "\n",
    "def ascifinderofword(string):\n",
    "    return ord(string)\n",
    "\n",
    "\n",
    "ascifinderofword('a')"
   ]
  },
  {
   "cell_type": "code",
   "execution_count": 28,
   "metadata": {},
   "outputs": [
    {
     "name": "stdout",
     "output_type": "stream",
     "text": [
      "Addition of two number is 23\n",
      "Subraction of two number is -1\n",
      "Multiplication of two number is 132\n",
      "Divide of two number is 0.917\n"
     ]
    }
   ],
   "source": [
    "# Python Program to make Simple calculator with 4 operation\n",
    "class calculator:\n",
    "    def __init__(self,num1,num2):\n",
    "        self.num1 = num1\n",
    "        self.num2 = num2\n",
    "        \n",
    "    def addition(self):\n",
    "        print(\"Addition of two number is\",self.num1+self.num2)\n",
    "    def subraction(self):\n",
    "        print(\"Subraction of two number is\",self.num1-self.num2)\n",
    "\n",
    "    def mul(self):\n",
    "        print(\"Multiplication of two number is\",self.num1*self.num2)\n",
    "    \n",
    "    def div(self):\n",
    "        print(\"Divide of two number is {0:.3f}\".format(abs(self.num1/self.num2)))\n",
    "        \n",
    "        \n",
    "obj1 = calculator(11,12)\n",
    "obj1.addition()\n",
    "obj1.subraction()\n",
    "obj1.mul()\n",
    "obj1.div()"
   ]
  }
 ],
 "metadata": {
  "kernelspec": {
   "display_name": "Python 3",
   "language": "python",
   "name": "python3"
  },
  "language_info": {
   "codemirror_mode": {
    "name": "ipython",
    "version": 3
   },
   "file_extension": ".py",
   "mimetype": "text/x-python",
   "name": "python",
   "nbconvert_exporter": "python",
   "pygments_lexer": "ipython3",
   "version": "3.7.6"
  }
 },
 "nbformat": 4,
 "nbformat_minor": 4
}
