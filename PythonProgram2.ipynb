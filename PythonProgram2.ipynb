{
 "cells": [
  {
   "cell_type": "code",
   "execution_count": 3,
   "metadata": {},
   "outputs": [
    {
     "name": "stdout",
     "output_type": "stream",
     "text": [
      "Enter the km 3.5\n",
      "Your km to miles is  2.174799165\n"
     ]
    }
   ],
   "source": [
    "# Write a Python program to convert kilometers to miles?\n",
    "\n",
    "\n",
    "\n",
    "kilometer = float(input(\"Enter the km \"))\n",
    "# 1 km: 0.62137119 mi\n",
    "miles  = kilometer * 0.62137119\n",
    "print(\"Your km to miles is \",abs(miles))\n"
   ]
  },
  {
   "cell_type": "code",
   "execution_count": 6,
   "metadata": {},
   "outputs": [
    {
     "name": "stdout",
     "output_type": "stream",
     "text": [
      "Enter the celsius value37\n",
      "98.60000000000001\n"
     ]
    }
   ],
   "source": [
    "# Write a Python program to convert Celsius to Fahrenheit?\n",
    "   \n",
    "celsius = float(input(\"Enter the celsius value\"))\n",
    "fahrenheit = ((celsius / 5)*9+32)\n",
    "print(fahrenheit)"
   ]
  },
  {
   "cell_type": "code",
   "execution_count": 14,
   "metadata": {},
   "outputs": [],
   "source": [
    "# Write a Python program to display calendar?\n",
    "# import calender \n"
   ]
  },
  {
   "cell_type": "code",
   "execution_count": 19,
   "metadata": {},
   "outputs": [
    {
     "name": "stdout",
     "output_type": "stream",
     "text": [
      "Enter the number1\n",
      "Enter the number5\n",
      "Enter the number6\n",
      "-5.783882181415011 -0.21611781858498924\n"
     ]
    }
   ],
   "source": [
    "# Python Program to Display quardatic equation ?\n",
    "\n",
    "import math\n",
    "from math import sqrt\n",
    "a = float(input(\"Enter the number\"))\n",
    "c = float(input(\"Enter the number\"))\n",
    "b = float(input(\"Enter the number\"))\n",
    "\n",
    "d = (b**2) - (a *c)\n",
    "\n",
    "# find two solution :\n",
    "sol1 = (-b-sqrt(d))/(2*a)\n",
    "sol2 = (-b+sqrt(d))/(2*a)\n",
    "\n",
    "print(sol1,sol2,end=\"\\n\")\n"
   ]
  },
  {
   "cell_type": "code",
   "execution_count": 26,
   "metadata": {},
   "outputs": [
    {
     "data": {
      "text/plain": [
       "(11, 12)"
      ]
     },
     "execution_count": 26,
     "metadata": {},
     "output_type": "execute_result"
    }
   ],
   "source": [
    "# Write a Python program to swap two variables without temp variable?\n",
    "\n",
    "def func(a,b):\n",
    "    a,b = b,a\n",
    "    return a,b\n",
    "\n",
    "\n",
    "func(12,11)"
   ]
  }
 ],
 "metadata": {
  "kernelspec": {
   "display_name": "Python 3",
   "language": "python",
   "name": "python3"
  },
  "language_info": {
   "codemirror_mode": {
    "name": "ipython",
    "version": 3
   },
   "file_extension": ".py",
   "mimetype": "text/x-python",
   "name": "python",
   "nbconvert_exporter": "python",
   "pygments_lexer": "ipython3",
   "version": "3.7.3"
  }
 },
 "nbformat": 4,
 "nbformat_minor": 2
}
