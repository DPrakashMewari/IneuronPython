{
 "cells": [
  {
   "cell_type": "code",
   "execution_count": 19,
   "id": "d9e71f18-8e21-450a-8f7d-4414c26ed667",
   "metadata": {},
   "outputs": [
    {
     "name": "stdout",
     "output_type": "stream",
     "text": [
      "[10, 10, 10]\n",
      "[10, 10, 10]\n",
      "[10, 10, 10]\n"
     ]
    }
   ],
   "source": [
    "# 1. Write a Python Program to Add Two Matrices\n",
    "\n",
    "\n",
    "x = [[1,2,3],\n",
    "    [4 ,5,6],\n",
    "    [7 ,8,9]]\n",
    " \n",
    "y = [[9,8,7],\n",
    "    [6,5,4],\n",
    "    [3,2,1]]\n",
    "\n",
    "result = [[0,0,0],\n",
    "         [0,0,0],\n",
    "         [0,0,0]]\n",
    "\n",
    "\n",
    "for i in range(len(x)):\n",
    "    for j in range(len(x[0])):\n",
    "        result[i][j] = x[i][j] + y[i][j]\n",
    "\n",
    "         \n",
    "for r in result:\n",
    "    print(r)"
   ]
  },
  {
   "cell_type": "code",
   "execution_count": 5,
   "id": "04ff33a6-6de0-4030-a7fc-9c468f73cb3a",
   "metadata": {},
   "outputs": [
    {
     "name": "stdout",
     "output_type": "stream",
     "text": [
      "[114, 160, 60, 27]\n",
      "[74, 97, 73, 14]\n",
      "[119, 157, 112, 23]\n"
     ]
    }
   ],
   "source": [
    "# 2. Write a Python Program to Multiply Two Matrices?\n",
    "\n",
    "x = [[12, 7, 3],\n",
    "    [4, 5, 6],\n",
    "    [7, 8, 9]]\n",
    " \n",
    "# take a 3x4 matrix   \n",
    "y = [[5, 8, 1, 2],\n",
    "    [6, 7, 3, 0],\n",
    "    [4, 5, 9, 1]]\n",
    "\n",
    "result = [[0,0,0,0],\n",
    "         [0,0,0,0],\n",
    "         [0,0,0,0]]\n",
    "\n",
    "\n",
    "for i in range(len(x)):\n",
    "    for j in range(len(y[0])):\n",
    "        for k in range(len(y)):\n",
    "            result[i][j] += x[i][k] * y[k][j]\n",
    "for r in result:\n",
    "    print(r)"
   ]
  },
  {
   "cell_type": "code",
   "execution_count": 21,
   "id": "a1bb6861-399a-435c-8bd2-214318a6dc61",
   "metadata": {},
   "outputs": [
    {
     "name": "stdout",
     "output_type": "stream",
     "text": [
      "[12, 4, 7]\n",
      "[7, 5, 8]\n"
     ]
    }
   ],
   "source": [
    "# Write a Python Program to Transpose a Matrix?\n",
    "x = [[12, 7],\n",
    "    [4, 5],\n",
    "    [7, 8]]\n",
    " \n",
    "\n",
    "result = [[0,0,0],\n",
    "         [0,0,0]]\n",
    "\n",
    "\n",
    "for i in range(len(x)):\n",
    "    \n",
    "    for j in range(len(x[0])):\n",
    "        result[j][i] = x[i][j]\n",
    "        \n",
    "        \n",
    "for r in result:\n",
    "    print(r)"
   ]
  },
  {
   "cell_type": "code",
   "execution_count": 7,
   "id": "8f4883a3-0d06-48ec-a811-9acce95c4ebe",
   "metadata": {},
   "outputs": [
    {
     "name": "stdout",
     "output_type": "stream",
     "text": [
      "a\n",
      "good\n",
      "hello\n",
      "is\n",
      "prakash\n",
      "see\n",
      "this\n",
      "to\n",
      "you\n"
     ]
    }
   ],
   "source": [
    "# Write a Python Program to Sort Words in Alphabetic Order?\n",
    "\n",
    "my_str = \"Hello this is a Prakash good to see you\"\n",
    "\n",
    "words = [i.lower() for i in my_str.split()]\n",
    "\n",
    "words.sort()\n",
    "\n",
    "for r in words:\n",
    "    print(r)"
   ]
  },
  {
   "cell_type": "code",
   "execution_count": 12,
   "id": "09652649-f7d7-4104-85ec-d4c2f0c78a4c",
   "metadata": {},
   "outputs": [
    {
     "name": "stdout",
     "output_type": "stream",
     "text": [
      "Hi This is Prakash  Good To  see You\n"
     ]
    }
   ],
   "source": [
    "# 5. Write a Python Program to Remove Punctuation From a String?\n",
    "\n",
    "punctuations = '''!()-[]{};:'\"\\,<>./?@#$%^&*_~'''\n",
    "\n",
    "my_str = \"Hi--> ,This!$ is@ Prakas<<h :) Good To ~ see Y%ou\"\n",
    "\n",
    "str1 = \"\"\n",
    "for i in my_str:\n",
    "    if i not in punctuations:\n",
    "        str1 += i\n",
    "        \n",
    "print(str1)"
   ]
  }
 ],
 "metadata": {
  "kernelspec": {
   "display_name": "Python 3 (ipykernel)",
   "language": "python",
   "name": "python3"
  },
  "language_info": {
   "codemirror_mode": {
    "name": "ipython",
    "version": 3
   },
   "file_extension": ".py",
   "mimetype": "text/x-python",
   "name": "python",
   "nbconvert_exporter": "python",
   "pygments_lexer": "ipython3",
   "version": "3.10.6"
  }
 },
 "nbformat": 4,
 "nbformat_minor": 5
}
