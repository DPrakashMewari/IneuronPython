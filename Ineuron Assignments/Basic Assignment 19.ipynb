{
 "cells": [
  {
   "cell_type": "code",
   "execution_count": 8,
   "id": "986268cf",
   "metadata": {},
   "outputs": [
    {
     "name": "stdout",
     "output_type": "stream",
     "text": [
      "SSttrriinngg\n",
      "HHeelllloo  WWoorrlldd!!\n",
      "11223344!!__\n"
     ]
    }
   ],
   "source": [
    "# Create a function that takes a string and returns a string in which each character is repeated\n",
    "# once.\n",
    "\n",
    "\n",
    "def double_char(str1):\n",
    "    val = \"\"\n",
    "    for i in str1:\n",
    "        val += i * 2\n",
    "        \n",
    "    print(val) \n",
    "\n",
    "double_char(\"String\")\n",
    "\n",
    "double_char(\"Hello World!\")\n",
    "\n",
    "double_char(\"1234!_\")"
   ]
  },
  {
   "cell_type": "code",
   "execution_count": 16,
   "id": "b38ba7b4",
   "metadata": {},
   "outputs": [
    {
     "data": {
      "text/plain": [
       "'Boolean Expected'"
      ]
     },
     "execution_count": 16,
     "metadata": {},
     "output_type": "execute_result"
    }
   ],
   "source": [
    "# 2.Create a function that reverses a boolean value and returns the string \"boolean expected\" if another variable type is given.\n",
    "\n",
    "\n",
    "\n",
    "def reverse(val):\n",
    "    if type(val) == bool:\n",
    "        return not val\n",
    "    else:\n",
    "        return \"Boolean Expected\"\n",
    "    \n",
    "    \n",
    "reverse(True)\n",
    "reverse(False)\n",
    "reverse(0)"
   ]
  },
  {
   "cell_type": "code",
   "execution_count": 22,
   "id": "1e981fe9",
   "metadata": {},
   "outputs": [
    {
     "name": "stdout",
     "output_type": "stream",
     "text": [
      "Output -> 0.01m\n",
      "Output -> 0.08m\n",
      "Output -> 10485.76m\n"
     ]
    }
   ],
   "source": [
    "def num_layers(n):\n",
    "    thick = 0.5\n",
    "    for i in range(n):\n",
    "        thick *= 2 \n",
    "    print(f\"Output -> {thick/100}m\" )\n",
    "    \n",
    "num_layers(1)\n",
    "num_layers(4)\n",
    "num_layers(21)"
   ]
  },
  {
   "cell_type": "code",
   "execution_count": 16,
   "id": "94770038",
   "metadata": {},
   "outputs": [
    {
     "name": "stdout",
     "output_type": "stream",
     "text": [
      "[1, 3]\n",
      "[1, 3, 4, 6]\n",
      "[]\n",
      "[0, 1, 2, 3, 4, 5]\n",
      "[1]\n"
     ]
    }
   ],
   "source": [
    "def index_of_caps(str1):\n",
    "    l1 = []\n",
    "    for i in str1:\n",
    "        if i.upper() in i:\n",
    "             l1.append(str1.rfind(i))\n",
    "    print(l1)\n",
    "        \n",
    "        \n",
    "        \n",
    "index_of_caps(\"eDaBit\")\n",
    "index_of_caps(\"eQuINoX\")\n",
    "index_of_caps(\"determine\")\n",
    "index_of_caps(\"STRIKE\")\n",
    "index_of_caps(\"sUn\")"
   ]
  },
  {
   "cell_type": "code",
   "execution_count": 21,
   "id": "2c359892",
   "metadata": {},
   "outputs": [
    {
     "name": "stdout",
     "output_type": "stream",
     "text": [
      "[2, 4, 6, 8]\n",
      "[2, 4]\n",
      "[2]\n"
     ]
    }
   ],
   "source": [
    "def find_even_nums(val):\n",
    "    n = [x for x in range(1,val+1) if x %2 == 0]\n",
    "    print(n)\n",
    "\n",
    "find_even_nums(8)\n",
    "find_even_nums(4)\n",
    "find_even_nums(2)\n"
   ]
  },
  {
   "cell_type": "code",
   "execution_count": null,
   "id": "9b16f07f",
   "metadata": {},
   "outputs": [],
   "source": []
  }
 ],
 "metadata": {
  "kernelspec": {
   "display_name": "Python 3 (ipykernel)",
   "language": "python",
   "name": "python3"
  },
  "language_info": {
   "codemirror_mode": {
    "name": "ipython",
    "version": 3
   },
   "file_extension": ".py",
   "mimetype": "text/x-python",
   "name": "python",
   "nbconvert_exporter": "python",
   "pygments_lexer": "ipython3",
   "version": "3.11.1"
  }
 },
 "nbformat": 4,
 "nbformat_minor": 5
}
