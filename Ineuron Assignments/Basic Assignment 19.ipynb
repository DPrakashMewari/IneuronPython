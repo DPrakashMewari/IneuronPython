{
 "cells": [
  {
   "cell_type": "code",
   "execution_count": 3,
   "id": "b8cd2d9b-d725-435e-910a-3ffea1b6b925",
   "metadata": {},
   "outputs": [
    {
     "name": "stdout",
     "output_type": "stream",
     "text": [
      "<class '__main__.Thing'>\n",
      "<__main__.Thing object at 0x7ff3e860a5f0>\n"
     ]
    }
   ],
   "source": [
    "# 1. Make a class called Thing with no contents and print it. Then, create an object called example\n",
    "# from this class and also print it. Are the printed values the same or different?\n",
    "\n",
    "\n",
    "\n",
    "class Thing:\n",
    "    pass\n",
    "print(Thing)\n",
    "Example = Thing()\n",
    "print(Example)\n",
    "\n",
    "# Both same upper is showing Thing is Main Clas \n",
    "# Below One Showing it is Object "
   ]
  },
  {
   "cell_type": "code",
   "execution_count": 5,
   "id": "6108622e-d4bd-4093-8069-66747d46e204",
   "metadata": {},
   "outputs": [
    {
     "name": "stdout",
     "output_type": "stream",
     "text": [
      "abc\n"
     ]
    }
   ],
   "source": [
    "# 2. Create a new class called Thing2 and add the value &#39;abc&#39; to the letters class attribute. Letters\n",
    "# should be printed.\n",
    "\n",
    "\n",
    "class Thing2 :\n",
    "    letter = 'abc'\n",
    "    \n",
    "# Class Variable we can access Directly \n",
    "\n",
    "print(Thing2.letter)"
   ]
  },
  {
   "cell_type": "code",
   "execution_count": 12,
   "id": "a62ebd48-f8d4-4377-b07a-f1cb8a807118",
   "metadata": {},
   "outputs": [
    {
     "name": "stdout",
     "output_type": "stream",
     "text": [
      "xyz\n"
     ]
    }
   ],
   "source": [
    "# 3. Make yet another class called, of course, Thing3. This time, assign the value &#39;xyz&#39; to an instance\n",
    "# (object) attribute called letters. Print letters. Do you need to make an object from the class to do\n",
    "# this?\n",
    "\n",
    "\n",
    "class Thing3 :\n",
    "    def __init__(self):\n",
    "        self.letter = 'xyz'\n",
    "    \n",
    "\n",
    "    \n",
    "try: \n",
    "    # It is not class variable \n",
    "    Thing3.letter\n",
    "except:\n",
    "    # It is instance variable so it can be access using obj\n",
    "    obj = Thing3()\n",
    "    print(obj.letter)\n",
    "    "
   ]
  },
  {
   "cell_type": "code",
   "execution_count": 13,
   "id": "20a00692-1052-4ab0-900d-61009bba392f",
   "metadata": {},
   "outputs": [],
   "source": [
    "# 4. Create an Element class with the instance attributes name, symbol, and number. Create a class\n",
    "# object with the values &#39;Hydrogen,&#39; &#39;H,&#39; and 1.\n",
    "\n",
    "\n",
    "class Element:\n",
    "    def __init__(self,name,symbol,number):\n",
    "        self.name = name \n",
    "        self.symbol = symbol\n",
    "        self.number = number \n",
    "\n",
    "my_elem = Element('Hydrogen','H',1)"
   ]
  },
  {
   "cell_type": "code",
   "execution_count": 16,
   "id": "7d551f0c-7ee7-4750-b50b-5c4cf353f705",
   "metadata": {},
   "outputs": [
    {
     "name": "stdout",
     "output_type": "stream",
     "text": [
      "Hydrogen H 1\n"
     ]
    }
   ],
   "source": [
    "# 5. Make a dictionary with these keys and values: &#39;name&#39;: &#39;Hydrogen&#39;, &#39;symbol&#39;: &#39;H&#39;, &#39;number&#39;: 1. Then,\n",
    "# create an object called hydrogen from class Element using this dictionary.\n",
    "\n",
    "\n",
    "cust = {'name':'Hydrogen','symbol':'H','number':1}\n",
    "\n",
    "hydrogen = Element(**cust)\n",
    "print(hydrogen.name,hydrogen.symbol,hydrogen.number)"
   ]
  },
  {
   "cell_type": "code",
   "execution_count": 18,
   "id": "aa71fe14-5f70-4a3b-8e87-74eb2b6482e7",
   "metadata": {},
   "outputs": [
    {
     "name": "stdout",
     "output_type": "stream",
     "text": [
      "Hydra h 2\n"
     ]
    }
   ],
   "source": [
    "# 6. For the Element class, define a method called dump() that prints the values of the object’s\n",
    "# attributes (name, symbol, and number). Create the hydrogen object from this new definition and\n",
    "# use dump() to print its attributes.\n",
    "\n",
    "class Element:\n",
    "    def __init__(self,name,symbol,number):\n",
    "        self.name = name \n",
    "        self.symbol = symbol\n",
    "        self.number = number \n",
    "        \n",
    "    def dump(self):\n",
    "        print(self.name,self.symbol,self.number)\n",
    "        \n",
    "hydrogen = Element('Hydra','h',2)\n",
    "hydrogen.dump()"
   ]
  },
  {
   "cell_type": "code",
   "execution_count": 29,
   "id": "df4b492a-c676-4d6d-9e1c-535067312087",
   "metadata": {},
   "outputs": [
    {
     "name": "stdout",
     "output_type": "stream",
     "text": [
      "Hydra,h,2\n"
     ]
    }
   ],
   "source": [
    "# 7. Call print(hydrogen). In the definition of Element, change the name of method dump to __str__,\n",
    "# create a new hydrogen object, and call print(hydrogen) again.\n",
    "\n",
    "\n",
    "\n",
    "class Element:\n",
    "    def __init__(self,name,symbol,number):\n",
    "        self.name = name \n",
    "        self.symbol = symbol\n",
    "        self.number = number \n",
    "\n",
    "    def __str__(self):\n",
    "        return f'{self.name},{self.symbol},{self.number}'\n",
    "\n",
    "hydrogen = Element('Hydra','h',2)\n",
    "print(hydrogen)"
   ]
  },
  {
   "cell_type": "code",
   "execution_count": 38,
   "id": "ef1b0d87-1958-4a58-90f8-7918348816b1",
   "metadata": {},
   "outputs": [
    {
     "name": "stdout",
     "output_type": "stream",
     "text": [
      "Hydra\n",
      "h\n",
      "2\n"
     ]
    }
   ],
   "source": [
    "# 8. Modify Element to make the attributes name, symbol, and number private. Define a getter\n",
    "# property for each to return its value.\n",
    "\n",
    "class Element:\n",
    "    def __init__(self,name,symbol,number):\n",
    "        self.__name = name \n",
    "        self.__symbol = symbol\n",
    "        self.__number = number \n",
    "    @property\n",
    "    def get_name(self):\n",
    "        return self.__name\n",
    "    \n",
    "    @property\n",
    "    def get_symbol(self):\n",
    "        return self.__symbol\n",
    "\n",
    "    @property\n",
    "    def get_number(self):\n",
    "        return self.__number\n",
    "    \n",
    "hydrogen = Element('Hydra','h',2)\n",
    "print(hydrogen.get_name)\n",
    "print(hydrogen.get_symbol)\n",
    "print(hydrogen.get_number)"
   ]
  },
  {
   "cell_type": "code",
   "execution_count": 41,
   "id": "0ce573e2-b775-4db3-840e-59248046f552",
   "metadata": {},
   "outputs": [
    {
     "name": "stdout",
     "output_type": "stream",
     "text": [
      "Berries\n",
      "clover\n",
      "campers\n"
     ]
    }
   ],
   "source": [
    "# 9. Define three classes: Bear, Rabbit, and Octothorpe. For each, define only one method: eats(). This\n",
    "# should return &#39;berries&#39; (Bear), &#39;clover&#39; (Rabbit), or &#39;campers&#39; (Octothorpe). Create one object from\n",
    "# each and print what it eats.\n",
    "\n",
    "\n",
    "class Bear:\n",
    "    def eats(self):\n",
    "        return 'Berries'\n",
    "    \n",
    "class Rabbit:\n",
    "    def eats(self):\n",
    "        return 'clover'\n",
    "\n",
    "class Octothorpe:\n",
    "    def eats(self):\n",
    "        return 'campers'\n",
    "    \n",
    "    \n",
    "Bear,Rabbit,Octothorpe =  Bear(),Rabbit(),Octothorpe()\n",
    "print(Bear.eats())\n",
    "print(Rabbit.eats())\n",
    "print(Octothorpe.eats())"
   ]
  },
  {
   "cell_type": "code",
   "execution_count": 54,
   "id": "3f291d25-a69e-4dfc-807d-b20be6416868",
   "metadata": {},
   "outputs": [
    {
     "name": "stdout",
     "output_type": "stream",
     "text": [
      "disintegrate,crush,ring\n"
     ]
    }
   ],
   "source": [
    "# 10. Define these classes: Laser, Claw, and SmartPhone. Each has only one method: does(). This\n",
    "# returns &#39;disintegrate&#39; (Laser), &#39;crush&#39; (Claw), or &#39;ring&#39; (SmartPhone). Then, define the class Robot that\n",
    "# has one instance (object) of each of these. Define a does() method for the Robot that prints what its\n",
    "# component objects do.\n",
    "\n",
    "\n",
    "\n",
    "class Laser:\n",
    "    def does(self):\n",
    "        return 'disintegrate'\n",
    "class Claw:\n",
    "    def does(self):\n",
    "        return 'crush'\n",
    "class Smartphone:\n",
    "    def does(self):\n",
    "        return 'ring'\n",
    "    \n",
    "class Robot:\n",
    "    def __init__(self):\n",
    "        self.laser = Laser()\n",
    "        self.claw = Claw()\n",
    "        self.smartphone = Smartphone()\n",
    "\n",
    "    def does(self):\n",
    "        print (f'{self.laser.does()},{self.claw.does()},{self.smartphone.does()}')\n",
    "    \n",
    "rbt = Robot()\n",
    "rbt.does()\n",
    "    "
   ]
  },
  {
   "cell_type": "code",
   "execution_count": null,
   "id": "b7153e56-801a-4fe9-bac7-60a62004b38c",
   "metadata": {},
   "outputs": [],
   "source": []
  },
  {
   "cell_type": "code",
   "execution_count": null,
   "id": "e8528107-c9cf-4267-8dd8-6528cfa32d3e",
   "metadata": {},
   "outputs": [],
   "source": []
  },
  {
   "cell_type": "code",
   "execution_count": null,
   "id": "40335fb3-a07f-40ce-97e5-186e640f3b36",
   "metadata": {},
   "outputs": [],
   "source": []
  }
 ],
 "metadata": {
  "kernelspec": {
   "display_name": "Python 3 (ipykernel)",
   "language": "python",
   "name": "python3"
  },
  "language_info": {
   "codemirror_mode": {
    "name": "ipython",
    "version": 3
   },
   "file_extension": ".py",
   "mimetype": "text/x-python",
   "name": "python",
   "nbconvert_exporter": "python",
   "pygments_lexer": "ipython3",
   "version": "3.10.6"
  }
 },
 "nbformat": 4,
 "nbformat_minor": 5
}
