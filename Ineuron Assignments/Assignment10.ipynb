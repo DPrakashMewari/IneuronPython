{
 "cells": [
  {
   "cell_type": "code",
   "execution_count": 2,
   "id": "6068d73c-ecd4-45f1-b250-a7182488f26e",
   "metadata": {},
   "outputs": [],
   "source": [
    "# # Assignment 10 \n",
    "# How do you distinguish between shutil.copy() and shutil.copytree()?\n",
    "\n",
    "\n",
    "# Shutil.copy() : this will copy a single file \n",
    "# Shutil.copytree(): this will copy entire folder \n"
   ]
  },
  {
   "cell_type": "code",
   "execution_count": null,
   "id": "317b9964-df2e-43f4-a4b9-7e0d113e1f4f",
   "metadata": {},
   "outputs": [],
   "source": []
  },
  {
   "cell_type": "code",
   "execution_count": 14,
   "id": "f1e82839-5e29-4320-9856-d74d34adeb8b",
   "metadata": {},
   "outputs": [],
   "source": [
    "# 2. What function is used to rename files??\n",
    "  \n",
    "# Source file path\n",
    "source = '/home/jovyan/work/new/data.txt'\n",
    "  \n",
    "# destination file path\n",
    "dest = '/home/jovyan/work/new/data.xlsx'\n",
    "\n",
    "os.rename(source,dest)\n",
    "  \n"
   ]
  },
  {
   "cell_type": "code",
   "execution_count": 15,
   "id": "499592d6-1d65-4eb9-b8bc-8e47ef23bf2a",
   "metadata": {},
   "outputs": [],
   "source": [
    "# 3. What is the difference between the delete functions in the send2trash and shutil modules?\n",
    "\n",
    "# The send2trash function will move a file or folder to the recycle bin \n",
    "# Shutil Module will permanently delete files and folders"
   ]
  },
  {
   "cell_type": "code",
   "execution_count": 21,
   "id": "cf3e0bb0-01f1-47e9-90f5-11eba21403f5",
   "metadata": {},
   "outputs": [
    {
     "name": "stdout",
     "output_type": "stream",
     "text": [
      "File Name                                             Modified             Size\n",
      "password.txt                                   2022-08-10 11:53:14          220\n",
      "mobile.zip                                     2022-08-10 11:53:14         1273\n",
      "Extracting all the files now...\n",
      "Done!\n"
     ]
    }
   ],
   "source": [
    "# 4.ZipFile objects have a close() method just like File objects’ close() method. What ZipFile method is\n",
    "# equivalent to File objects’ open() method?\n",
    "\n",
    "import zipfile\n",
    "from zipfile import ZipFile\n",
    "\n",
    "\n",
    "file_name = 'Vadial-Data.zip'\n",
    "with ZipFile(file_name, 'r') as zip:\n",
    "    # printing all the contents of the zip file\n",
    "    zip.printdir()\n",
    "  \n",
    "    # extracting all the files\n",
    "    print('Extracting all the files now...')\n",
    "    zip.extractall()\n",
    "    print('Done!')"
   ]
  },
  {
   "cell_type": "code",
   "execution_count": 1,
   "id": "2bf24272-66d2-48b2-9342-65c9a67b4e84",
   "metadata": {},
   "outputs": [],
   "source": [
    "# 5. Create a programme that searches a folder tree for files with a certain file extension (such as .pdf\n",
    "# or .jpg). Copy these files from whatever location they are in to a new folder.\n",
    "\n",
    "\n",
    "\n",
    "source = os.path.abspath(\"C:\\\\Users\\\\Mewari's\\\\Untitled Folder\")  \n",
    "destination = os.path.abspath(\"C:\\\\Users\\\\Mewari's\\\\Postman\")\n",
    "extension = ['.pdf','.jpg','.ipynb']\n",
    "for foldername, subfolder, filenames in os.walk(source):\n",
    "    print(f'Folder Name  {foldername}',end='\\n\\n')\n",
    "    print(f'Sub Folders  {subfolder}',end='\\n\\n')\n",
    "    print(f'Files {filenames}',end='\\n\\n')\n",
    "    for filename in filenames:\n",
    "        fileName,extension = os.path.splitext(filename)\n",
    "        if extension in extensions:\n",
    "            targetFile = foldername+os.path.sep+fileName+extension\n",
    "            shutil.copy(targetFile, destination)\n",
    "    print(f'Files copied successfully from {source} to {destination}')\n",
    "\n",
    "extensions = ['.pdf','.jpg','.ipynb']\n",
    "search_and_copy(source, destination, extensions)\n"
   ]
  }
 ],
 "metadata": {
  "kernelspec": {
   "display_name": "Python 3 (ipykernel)",
   "language": "python",
   "name": "python3"
  },
  "language_info": {
   "codemirror_mode": {
    "name": "ipython",
    "version": 3
   },
   "file_extension": ".py",
   "mimetype": "text/x-python",
   "name": "python",
   "nbconvert_exporter": "python",
   "pygments_lexer": "ipython3",
   "version": "3.10.6"
  }
 },
 "nbformat": 4,
 "nbformat_minor": 5
}
