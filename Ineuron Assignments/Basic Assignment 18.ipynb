{
 "cells": [
  {
   "cell_type": "code",
   "execution_count": 5,
   "id": "4749c68a",
   "metadata": {},
   "outputs": [
    {
     "name": "stdout",
     "output_type": "stream",
     "text": [
      "[1, 2]\n",
      "[1, 0, 15]\n",
      "[1, 2, 123]\n"
     ]
    }
   ],
   "source": [
    "#\n",
    "\n",
    "def filter_list(n):\n",
    "    l1 = []\n",
    "    for i in n :\n",
    "        if type(i) == int:\n",
    "            l1.append(i)\n",
    "    print(l1)\n",
    "    \n",
    "filter_list([1,2,\"a\",\"b\"])\n",
    "filter_list([1,\"a\",\"b\",0,15])\n",
    "filter_list([1,2,\"aasf\",\"1\",\"123\",123])\n",
    "\n"
   ]
  },
  {
   "cell_type": "code",
   "execution_count": 18,
   "id": "fff109b5",
   "metadata": {},
   "outputs": [
    {
     "name": "stdout",
     "output_type": "stream",
     "text": [
      "DLROw OLLEh\n",
      "eSrEvEr\n",
      "RADAr\n"
     ]
    }
   ],
   "source": [
    "def reverse(n):\n",
    "    vaal = \"\".join([x.swapcase() for x in n ][::-1])\n",
    "    print(vaal)\n",
    "    \n",
    "reverse(\"Hello World\")\n",
    "reverse(\"ReVeRsE\")\n",
    "reverse(\"Radar\")"
   ]
  },
  {
   "cell_type": "code",
   "execution_count": 22,
   "id": "7425abef",
   "metadata": {},
   "outputs": [
    {
     "name": "stdout",
     "output_type": "stream",
     "text": [
      "1\n",
      "2 3 4 5\n",
      "6\n"
     ]
    }
   ],
   "source": [
    "first, *middle, last = [1,2,3,4,5,6]\n",
    "print(first)\n",
    "print(*middle)\n",
    "print(last)"
   ]
  },
  {
   "cell_type": "code",
   "execution_count": 25,
   "id": "ce24ddc2",
   "metadata": {},
   "outputs": [
    {
     "name": "stdout",
     "output_type": "stream",
     "text": [
      "120\n",
      "6\n",
      "1\n",
      "1\n"
     ]
    }
   ],
   "source": [
    "def factorial(n):\n",
    "    if n == 0 :\n",
    "        return 1\n",
    "   \n",
    "    return n * factorial(n-1)\n",
    "\n",
    "\n",
    "print(factorial(5))\n",
    "print(factorial(3))\n",
    "print(factorial(1))\n",
    "print(factorial(0))\n",
    "\n"
   ]
  },
  {
   "cell_type": "code",
   "execution_count": 51,
   "id": "47d0c956",
   "metadata": {},
   "outputs": [
    {
     "name": "stdout",
     "output_type": "stream",
     "text": [
      "[3, 2, 4, 4, 1, 1]\n",
      "[7, 8, 1, 2, 3, 4, 9]\n",
      "['b', 'a', 'a', 'a']\n"
     ]
    }
   ],
   "source": [
    "def move_to_end(list1,n):\n",
    "    n1 = []\n",
    "    l1 = []\n",
    "    for i in list1:\n",
    "        if n == i:\n",
    "            n1.append(i)\n",
    "        else:\n",
    "            l1.append(i)\n",
    "    l1.extend(n1)\n",
    "    print(l1)\n",
    "    \n",
    "    \n",
    "move_to_end([1, 3, 2, 4, 4, 1], 1)\n",
    "move_to_end([7, 8, 9, 1, 2, 3, 4], 9)\n",
    "move_to_end([\"a\", \"a\", \"a\", \"b\"], \"a\")\n"
   ]
  },
  {
   "cell_type": "code",
   "execution_count": null,
   "id": "b244cc42",
   "metadata": {
    "scrolled": false
   },
   "outputs": [],
   "source": []
  }
 ],
 "metadata": {
  "kernelspec": {
   "display_name": "Python 3 (ipykernel)",
   "language": "python",
   "name": "python3"
  },
  "language_info": {
   "codemirror_mode": {
    "name": "ipython",
    "version": 3
   },
   "file_extension": ".py",
   "mimetype": "text/x-python",
   "name": "python",
   "nbconvert_exporter": "python",
   "pygments_lexer": "ipython3",
   "version": "3.11.1"
  }
 },
 "nbformat": 4,
 "nbformat_minor": 5
}
