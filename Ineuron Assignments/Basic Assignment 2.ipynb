{
 "cells": [
  {
   "cell_type": "code",
   "execution_count": null,
   "id": "c4231c30-ea5a-4db6-b6d3-b97acab8f29d",
   "metadata": {},
   "outputs": [],
   "source": [
    "# 1. Write a Python program to convert kilometers to miles?\n",
    "# 2. Write a Python program to convert Celsius to Fahrenheit?\n",
    "# 3. Write a Python program to display calendar?\n",
    "# 4. Write a Python program to solve quadratic equation?\n",
    "# 5. Write a Python program to swap two variables without temp variable?"
   ]
  },
  {
   "cell_type": "code",
   "execution_count": 6,
   "id": "9d53f1cc-15d7-41d1-ba6e-bf7d312d4776",
   "metadata": {},
   "outputs": [
    {
     "name": "stdout",
     "output_type": "stream",
     "text": [
      "Before Swap 12\n",
      "Before Swap 22\n",
      "After Swap 22\n",
      "After Swap 12\n"
     ]
    }
   ],
   "source": [
    "#5. Write a Python program to swap two variables without temp variable?\n",
    "x = 12 \n",
    "y = 22\n",
    "\n",
    "print(f\"Before Swap {x}\")\n",
    "print(f\"Before Swap {y}\")\n",
    "\n",
    "x,y  = y,x \n",
    "print(f\"After Swap {x}\")\n",
    "print(f\"After Swap {y}\")"
   ]
  },
  {
   "cell_type": "code",
   "execution_count": 23,
   "id": "b30a315a-5cbf-4d44-9863-ec8e750f7ed7",
   "metadata": {},
   "outputs": [
    {
     "name": "stdout",
     "output_type": "stream",
     "text": [
      "0.5857864376269049\n",
      "3.414213562373095\n"
     ]
    }
   ],
   "source": [
    "# 4. Write a Python program to solve quadratic equation?\n",
    "\n",
    "import cmath\n",
    "\n",
    "\n",
    "\n",
    "a,b,c = 1,4,2\n",
    "\n",
    "# calculate Discriminate\n",
    "d = b**2 - 4 * a * c\n",
    "\n",
    "ans1 = (-b +cmath.sqrt(d))/(2 *a)\n",
    "ans2 = (-b -cmath.sqrt(d))/(2 *a)\n",
    "\n",
    "print(abs(ans1))\n",
    "print(abs(ans2))"
   ]
  },
  {
   "cell_type": "code",
   "execution_count": 22,
   "id": "21aa9c94-a296-4dc8-9376-65c3eb3a56dd",
   "metadata": {},
   "outputs": [
    {
     "name": "stdout",
     "output_type": "stream",
     "text": [
      "   November 2022\n",
      "Mo Tu We Th Fr Sa Su\n",
      "    1  2  3  4  5  6\n",
      " 7  8  9 10 11 12 13\n",
      "14 15 16 17 18 19 20\n",
      "21 22 23 24 25 26 27\n",
      "28 29 30\n",
      "\n"
     ]
    }
   ],
   "source": [
    "# 3. Write a Python program to display calendar?\n",
    "\n",
    "import calendar\n",
    "\n",
    "\n",
    "Year = 2022\n",
    "month = 11\n",
    "\n",
    "print(calendar.month(Year,month))"
   ]
  },
  {
   "cell_type": "code",
   "execution_count": 29,
   "id": "012cc3c7-855f-4763-b62f-42956ecb2dc5",
   "metadata": {},
   "outputs": [
    {
     "name": "stdout",
     "output_type": "stream",
     "text": [
      "37.5 degree Celsius is equal to 99.5 degree Fahrenheit\n"
     ]
    }
   ],
   "source": [
    "# 2. Write a Python program to convert Celsius to Fahrenheit?\n",
    "# fahrenheit = celsius * 1.8 + 32\n",
    "\n",
    "celsius = 37.5 \n",
    "fahrenheit = (celsius * 1.8) + 32\n",
    "print(f\"{celsius} degree Celsius is equal to {fahrenheit} degree Fahrenheit\")"
   ]
  },
  {
   "cell_type": "code",
   "execution_count": 33,
   "id": "97b3bb6b-62a2-413b-b24b-970cc39c7b5d",
   "metadata": {},
   "outputs": [
    {
     "name": "stdout",
     "output_type": "stream",
     "text": [
      "3.5km is equal to `2.1747985`miles \n"
     ]
    }
   ],
   "source": [
    "# 1. Write a Python program to convert kilometers to miles?\n",
    "# 1 kilometer = c= 0.621371\n",
    "\n",
    "Kilometer = 3.5\n",
    "c = 0.621371\n",
    "\n",
    "Miles = Kilometer * c\n",
    "print(f\"{Kilometer}km is equal to `{Miles}`miles \")\n"
   ]
  },
  {
   "cell_type": "code",
   "execution_count": null,
   "id": "1a80e87f-209e-4ac8-b889-465894ff6079",
   "metadata": {},
   "outputs": [],
   "source": []
  },
  {
   "cell_type": "code",
   "execution_count": null,
   "id": "f3347f13-d787-44fe-a977-66c1278a571b",
   "metadata": {},
   "outputs": [],
   "source": []
  },
  {
   "cell_type": "code",
   "execution_count": null,
   "id": "87c9d7aa-8231-4dbc-8cd9-d7f4b904462b",
   "metadata": {},
   "outputs": [],
   "source": []
  },
  {
   "cell_type": "code",
   "execution_count": null,
   "id": "8d2fe8a2-da8a-4773-a7f4-75d627f9fb27",
   "metadata": {},
   "outputs": [],
   "source": []
  }
 ],
 "metadata": {
  "kernelspec": {
   "display_name": "Python 3 (ipykernel)",
   "language": "python",
   "name": "python3"
  },
  "language_info": {
   "codemirror_mode": {
    "name": "ipython",
    "version": 3
   },
   "file_extension": ".py",
   "mimetype": "text/x-python",
   "name": "python",
   "nbconvert_exporter": "python",
   "pygments_lexer": "ipython3",
   "version": "3.10.6"
  }
 },
 "nbformat": 4,
 "nbformat_minor": 5
}
