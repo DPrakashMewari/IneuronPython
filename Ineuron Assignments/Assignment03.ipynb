{
 "cells": [
  {
   "cell_type": "code",
   "execution_count": 11,
   "id": "26a37a08-e4e1-41f4-bfab-5cf7cfb5a8e7",
   "metadata": {},
   "outputs": [],
   "source": [
    "#1. Why are functions advantageous to have in your programs?\n",
    "\n",
    "# Function Will Help to ease duplicate line of code\n",
    "# Function we can say it is for reusablity \n",
    "\n",
    "\n",
    "\n"
   ]
  },
  {
   "cell_type": "code",
   "execution_count": 12,
   "id": "80b8c758-5eab-49cc-b7cb-c63592d5f18d",
   "metadata": {},
   "outputs": [],
   "source": [
    "# 2. When does the code in a function run: when it is;s specified or when it is called?\n",
    "\n",
    "# Function will run when we run , Not we just specify\n"
   ]
  },
  {
   "cell_type": "code",
   "execution_count": 3,
   "id": "fe97af61-d3dc-4dfe-ad0f-1dbf6b6d5644",
   "metadata": {},
   "outputs": [
    {
     "name": "stdout",
     "output_type": "stream",
     "text": [
      "<function function_name at 0x7f73205aa560>\n"
     ]
    }
   ],
   "source": [
    "# 3 .What statement creates a function?\n",
    "\n",
    "\n",
    "def function_name():\n",
    "    pass\n",
    "\n",
    "print(function_name)\n",
    "# Def create a statement of function"
   ]
  },
  {
   "cell_type": "code",
   "execution_count": 13,
   "id": "975d3fe4-1539-4202-813b-9a35eb483cf0",
   "metadata": {},
   "outputs": [],
   "source": [
    "# 4. What is the difference between a function and a function call?\n",
    "\n",
    "\n",
    "# Function is something that create to full fill particular result \n",
    "# In Function call it is an expression that passes control and arguments  to a function"
   ]
  },
  {
   "cell_type": "code",
   "execution_count": 14,
   "id": "0346a800-8c35-4e16-b9f5-3e504176f077",
   "metadata": {},
   "outputs": [],
   "source": [
    "# 5. How many global scopes are there in a Python program? How many local scopes?\n",
    "\n",
    "\n",
    "# In function we defined one global scope ,  one local scope ."
   ]
  },
  {
   "cell_type": "code",
   "execution_count": 16,
   "id": "47ad1f6e-14dd-4ee3-aac8-93a72ecee984",
   "metadata": {},
   "outputs": [],
   "source": [
    "# 6. What happens to variables in a local scope when the function call returns?\n",
    "\n",
    "# Inside Function when it return local variable will be no more . And all variable will vanish ."
   ]
  },
  {
   "cell_type": "code",
   "execution_count": 15,
   "id": "c9d3d6f4-dba5-4ce2-9fc5-7914c600b767",
   "metadata": {},
   "outputs": [],
   "source": [
    "# 7. What is the concept of a return value? Is it possible to have a return value in an expression?\n",
    "\n",
    "# The value that a function returns to the caller is generally known as the function's return value, Yes it is Possible to Have an Expression."
   ]
  },
  {
   "cell_type": "code",
   "execution_count": 17,
   "id": "4d9d3641-3647-4f18-807d-fd654f996776",
   "metadata": {},
   "outputs": [],
   "source": [
    "#8. If a function does not have a return statement, what is the return value of a call to that function?\n",
    "\n",
    "#If there is no return statement for a function then return value is None."
   ]
  },
  {
   "cell_type": "code",
   "execution_count": 18,
   "id": "953462cd-bf7b-4fc1-a9b6-e33e6a52dbb9",
   "metadata": {},
   "outputs": [],
   "source": [
    "#9. How do you make a function variable refer to the global variable?\n",
    "\n",
    "# a global variable in Python, we need to declare the variable outside the function or in a global scope."
   ]
  },
  {
   "cell_type": "code",
   "execution_count": 19,
   "id": "5bf90300-33a6-4429-a017-e13d89941b4f",
   "metadata": {},
   "outputs": [],
   "source": [
    "# 10. What is the data type of None?\n",
    "\n",
    "# The data type of None is NoneType."
   ]
  },
  {
   "cell_type": "code",
   "execution_count": 9,
   "id": "397fee0f-e3a3-440e-aed6-f259652e5c15",
   "metadata": {},
   "outputs": [],
   "source": [
    "#11 What does the sentence import areallyourpetsnamederic do\n",
    "#  imports a module named  called areallyourpetsnamederic."
   ]
  },
  {
   "cell_type": "code",
   "execution_count": 10,
   "id": "fb8c3449-6a52-4b9f-a2e0-f144976b09a3",
   "metadata": {},
   "outputs": [],
   "source": [
    "#12. If you had a bacon() feature in a spam module, what would you call it after importing spam?\n",
    "\n",
    "# it callled as spam.bacon()"
   ]
  },
  {
   "cell_type": "code",
   "execution_count": 6,
   "id": "7b79e2af-9ede-4eac-8302-3e68bd30f2b9",
   "metadata": {},
   "outputs": [],
   "source": [
    "#13. What can you do to save a programme from crashing if it encounters an error?\n",
    "\n",
    "# using try clause and except block we can handle the error.\n",
    "\n",
    "try:\n",
    "    pass\n",
    "    # orignal code \n",
    "    # If anything wrong\n",
    "except:\n",
    "    pass\n",
    "    # Except will handles \n",
    "    # Except block exception it will not throw any error"
   ]
  },
  {
   "cell_type": "code",
   "execution_count": 4,
   "id": "1280eec7-f6ce-4146-ab34-723b44390f62",
   "metadata": {},
   "outputs": [],
   "source": [
    "# What is the purpose of the try clause? What is the purpose of the except clause?\n",
    "\n",
    "# try block is used to check some code for errors \n",
    "# Except block will execute whenever the program encounters some error in the preceding try block."
   ]
  }
 ],
 "metadata": {
  "kernelspec": {
   "display_name": "Python 3 (ipykernel)",
   "language": "python",
   "name": "python3"
  },
  "language_info": {
   "codemirror_mode": {
    "name": "ipython",
    "version": 3
   },
   "file_extension": ".py",
   "mimetype": "text/x-python",
   "name": "python",
   "nbconvert_exporter": "python",
   "pygments_lexer": "ipython3",
   "version": "3.10.6"
  }
 },
 "nbformat": 4,
 "nbformat_minor": 5
}
