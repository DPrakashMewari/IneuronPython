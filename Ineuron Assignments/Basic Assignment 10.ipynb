{
 "cells": [
  {
   "cell_type": "code",
   "execution_count": 25,
   "id": "395ff6e3-bcfd-4f5e-a48f-86472a190896",
   "metadata": {},
   "outputs": [
    {
     "data": {
      "text/plain": [
       "380"
      ]
     },
     "execution_count": 25,
     "metadata": {},
     "output_type": "execute_result"
    }
   ],
   "source": [
    "# Write a Python program to find sum of elements in list?\n",
    "\n",
    "\n",
    "\n",
    "def sumof_list(n):\n",
    "    n1 = []\n",
    "    for i in n :\n",
    "        n1.append(i)\n",
    "    return sum(n1)\n",
    "\n",
    "l1 = [2, 23, 2, 1, 3, 12, 312, 3, 1, 21]\n",
    "sumof_list(l1)\n"
   ]
  },
  {
   "cell_type": "code",
   "execution_count": 31,
   "id": "e85db0ba-9510-48ab-829f-904eb7d2feef",
   "metadata": {},
   "outputs": [
    {
     "data": {
      "text/plain": [
       "64"
      ]
     },
     "execution_count": 31,
     "metadata": {},
     "output_type": "execute_result"
    }
   ],
   "source": [
    "# Write a Python program to Multiply all numbers in the list?\n",
    "\n",
    "def multof_list(n):\n",
    "    n1 = []\n",
    "    mult = 1\n",
    "    for i in n :\n",
    "        n1.append(i)\n",
    "    for j in n1:\n",
    "        mult =j * mult\n",
    "    return mult\n",
    "\n",
    "\n",
    "l1 = [2,4,2,4]\n",
    "multof_list(l1)"
   ]
  },
  {
   "cell_type": "code",
   "execution_count": 38,
   "id": "2074372e-6bf3-450a-b975-ebfc3e708c69",
   "metadata": {},
   "outputs": [
    {
     "name": "stdout",
     "output_type": "stream",
     "text": [
      "Minimum no is: 3\n"
     ]
    }
   ],
   "source": [
    "# Write a Python program to find smallest number in a list?\n",
    "\n",
    "def find_small_no(n):\n",
    "    n.sort()\n",
    "    return n[0]\n",
    "\n",
    "\n",
    "l2 = [12,12,31,3,12,3,333,455,55323]\n",
    "print(\"Minimum no is:\",find_small_no(l2))"
   ]
  },
  {
   "cell_type": "code",
   "execution_count": 45,
   "id": "0beef51c-e188-4a02-b2c0-de472f685571",
   "metadata": {},
   "outputs": [
    {
     "name": "stdout",
     "output_type": "stream",
     "text": [
      "Max no is: 55323\n"
     ]
    }
   ],
   "source": [
    "# 4. Write a Python program to find largest number in a list?\n",
    "\n",
    "\n",
    "def largest_no(n):\n",
    "    val=sorted(n,reverse=True)\n",
    "    return val[0]\n",
    "\n",
    "l2 = [12,12,31,3,12,3,333,455,55323]\n",
    "print(\"Max no is:\",largest_no(l2))"
   ]
  },
  {
   "cell_type": "code",
   "execution_count": 47,
   "id": "b6336166-763a-4541-a070-fa400d01e187",
   "metadata": {},
   "outputs": [
    {
     "name": "stdout",
     "output_type": "stream",
     "text": [
      "Max no is: 455\n"
     ]
    }
   ],
   "source": [
    "# Write a Python program to find second largest number in a list?\n",
    "\n",
    "def secondlargest_no(n):\n",
    "    val=sorted(n,reverse=True)\n",
    "    return val[1]\n",
    "\n",
    "\n",
    "l2 = [12,12,31,3,12,3,333,455,55323]\n",
    "print(\"Max no is:\",secondlargest_no(l2))"
   ]
  },
  {
   "cell_type": "code",
   "execution_count": 57,
   "id": "6cd571c4-5a63-4d08-8878-07dec139174c",
   "metadata": {},
   "outputs": [
    {
     "name": "stdout",
     "output_type": "stream",
     "text": [
      "N Largest no is: [55323, 455, 333, 31]\n"
     ]
    }
   ],
   "source": [
    "# 6. Write a Python program to find N largest elements from a list?\n",
    "\n",
    "def Nlargest_no(args,n):\n",
    "    val=sorted(args,reverse=True)\n",
    "    return val[:n]\n",
    "\n",
    "\n",
    "l2 = [12,12,31,3,12,3,333,455,55323]\n",
    "print(\"N Largest no is:\",Nlargest_no(l2,4))"
   ]
  },
  {
   "cell_type": "code",
   "execution_count": 59,
   "id": "013b9c82-e3bf-4d92-9f12-62ecdcb9f4c3",
   "metadata": {},
   "outputs": [
    {
     "name": "stdout",
     "output_type": "stream",
     "text": [
      "Even No: [12, 12, 12, 24]\n"
     ]
    }
   ],
   "source": [
    "# 7. Write a Python program to print even numbers in a list?\n",
    "\n",
    "\n",
    "def even_no(n):\n",
    "    l2 = []\n",
    "    for i in n:\n",
    "        if i %2 == 0 :\n",
    "            l2.append(i)\n",
    "    return l2 \n",
    "\n",
    "\n",
    "l2 = [12,12,31,3,12,3,24,333,455,55323]\n",
    "print(\"Even No:\",even_no(l2))\n"
   ]
  },
  {
   "cell_type": "code",
   "execution_count": 60,
   "id": "17a0992b-6768-4f08-87f9-4e96bb480cce",
   "metadata": {},
   "outputs": [
    {
     "name": "stdout",
     "output_type": "stream",
     "text": [
      "Odd No: [31, 3, 3, 333, 455, 55323]\n"
     ]
    }
   ],
   "source": [
    "# 8. Write a Python program to print odd numbers in a List?\n",
    "\n",
    "def odd_no(n):\n",
    "    l2 = []\n",
    "    for i in n:\n",
    "        if i %2 != 0 :\n",
    "            l2.append(i)\n",
    "    return l2 \n",
    "\n",
    "\n",
    "l2 = [12,12,31,3,12,3,24,333,455,55323]\n",
    "print(\"Odd No:\",odd_no(l2))"
   ]
  },
  {
   "cell_type": "code",
   "execution_count": 67,
   "id": "50e0ef87-0d97-48a0-a85e-e638f029ca3d",
   "metadata": {},
   "outputs": [
    {
     "data": {
      "text/plain": [
       "[12, 333, 455, 55323]"
      ]
     },
     "execution_count": 67,
     "metadata": {},
     "output_type": "execute_result"
    }
   ],
   "source": [
    "# 9. Write a Python program to Remove empty List from List?\n",
    "\n",
    "\n",
    "\n",
    "l2 = [12,[],333,455,[],55323]\n",
    "\n",
    "[x for x in l2 if x != []]"
   ]
  },
  {
   "cell_type": "code",
   "execution_count": 72,
   "id": "f3990292-e795-44cd-8492-71a85bb9fcb8",
   "metadata": {},
   "outputs": [
    {
     "data": {
      "text/plain": [
       "[12, 12, 31, 3, 12, 3, 24, 333, 455, 55323]"
      ]
     },
     "execution_count": 72,
     "metadata": {},
     "output_type": "execute_result"
    }
   ],
   "source": [
    "l2 = [12,12,31,3,12,3,24,333,455,55323]\n",
    "import copy\n",
    "v1=copy.deepcopy(l2)\n",
    "v1"
   ]
  },
  {
   "cell_type": "code",
   "execution_count": 73,
   "id": "1bbadf8d-f60d-46f9-909f-89ea7ae58515",
   "metadata": {},
   "outputs": [
    {
     "data": {
      "text/plain": [
       "Counter({12: 3, 31: 1, 3: 2, 24: 1, 333: 1, 455: 1, 55323: 1})"
      ]
     },
     "execution_count": 73,
     "metadata": {},
     "output_type": "execute_result"
    }
   ],
   "source": [
    "# 11. Write a Python program to Count occurrences of an element in a list?\n",
    "\n",
    "from collections import Counter\n",
    "\n",
    "\n",
    "\n",
    "def occurence_check(n):\n",
    "    return Counter(n)\n",
    "\n",
    "l2 = [12,12,31,3,12,3,24,333,455,55323]\n",
    "occurence_check(l2)\n"
   ]
  }
 ],
 "metadata": {
  "kernelspec": {
   "display_name": "Python 3 (ipykernel)",
   "language": "python",
   "name": "python3"
  },
  "language_info": {
   "codemirror_mode": {
    "name": "ipython",
    "version": 3
   },
   "file_extension": ".py",
   "mimetype": "text/x-python",
   "name": "python",
   "nbconvert_exporter": "python",
   "pygments_lexer": "ipython3",
   "version": "3.10.6"
  }
 },
 "nbformat": 4,
 "nbformat_minor": 5
}
