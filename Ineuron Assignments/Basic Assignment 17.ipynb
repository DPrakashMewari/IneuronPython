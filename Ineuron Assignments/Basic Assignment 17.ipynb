{
 "cells": [
  {
   "cell_type": "code",
   "execution_count": 6,
   "id": "a1bcf36d-1585-402a-852b-fe4d4a1787c4",
   "metadata": {},
   "outputs": [
    {
     "name": "stdout",
     "output_type": "stream",
     "text": [
      "[2, 4, 6, 8, 10]\n",
      "[3, 6, 9]\n"
     ]
    }
   ],
   "source": [
    "# Question1. Create a function that takes three arguments a, b, c and returns the sum of the\n",
    "# numbers that are evenly divided by c from the range a, b inclusive.\n",
    "\n",
    "\n",
    "def evenly_divible(a,b,c):\n",
    "    c1  = []\n",
    "    for i in range(a,b+1):\n",
    "        if i % c == 0:\n",
    "            c1.append(i)\n",
    "    print(c1)\n",
    "            \n",
    "evenly_divible(1,10,2)\n",
    "evenly_divible(1,10,3)"
   ]
  },
  {
   "cell_type": "code",
   "execution_count": 10,
   "id": "cfd66a9a-44a8-4ab1-8a8e-a014eb38de2d",
   "metadata": {},
   "outputs": [
    {
     "name": "stdin",
     "output_type": "stream",
     "text": [
      "Enter the inequality:  3 < 7 < 11\n"
     ]
    },
    {
     "name": "stdout",
     "output_type": "stream",
     "text": [
      "3 < 7 < 11 True\n"
     ]
    },
    {
     "name": "stdin",
     "output_type": "stream",
     "text": [
      "Enter the inequality:  13 > 44 > 33 > 1\n"
     ]
    },
    {
     "name": "stdout",
     "output_type": "stream",
     "text": [
      "13 > 44 > 33 > 1 False\n"
     ]
    },
    {
     "name": "stdin",
     "output_type": "stream",
     "text": [
      "Enter the inequality:  1 < 2 < 6 < 9 > 3\n"
     ]
    },
    {
     "name": "stdout",
     "output_type": "stream",
     "text": [
      "1 < 2 < 6 < 9 > 3 True\n"
     ]
    }
   ],
   "source": [
    "# Question2. Create a function that returns True if a given inequality expression is correct and\n",
    "# False otherwise.\n",
    "\n",
    "def correct_signs():\n",
    "    in_string = input('Enter the inequality: ')\n",
    "    out_bool = eval(in_string)\n",
    "    print(in_string,out_bool)\n",
    "\n",
    "    \n",
    "correct_signs()\n",
    "correct_signs()\n",
    "correct_signs()"
   ]
  },
  {
   "cell_type": "code",
   "execution_count": 12,
   "id": "c9dd0d6b-91d0-4ee8-9f5b-aff2bca2e5c0",
   "metadata": {},
   "outputs": [
    {
     "name": "stdout",
     "output_type": "stream",
     "text": [
      "the aardvark # ➞ th# ##rdv#rk\n",
      "minnie mouse ? ➞ m?nn?? m??s?\n",
      "shakespeare * ➞ sh*k*sp**r*\n"
     ]
    }
   ],
   "source": [
    "# 3.Create a function that replaces all the vowels in a string with a specified character ?\n",
    "\n",
    "\n",
    "def replace_vowel(list_item,chr_rep):\n",
    "    vowels = ['a','e','i','o','u','A','E','I','O','U']\n",
    "    l = list_item\n",
    "    for i in list_item:\n",
    "        if i in vowels:\n",
    "            list_item = list_item.replace(i,chr_rep)\n",
    "    print(f'{l} {chr_rep} ➞ {list_item}')\n",
    "    \n",
    "    \n",
    "\n",
    "replace_vowel('the aardvark','#')        \n",
    "replace_vowel('minnie mouse','?')\n",
    "replace_vowel('shakespeare','*')\n",
    "\n"
   ]
  },
  {
   "cell_type": "code",
   "execution_count": 10,
   "id": "5c26481d-2451-46d8-a06a-953ff4af118c",
   "metadata": {},
   "outputs": [
    {
     "name": "stdout",
     "output_type": "stream",
     "text": [
      "120\n",
      "6\n",
      "1\n",
      "1\n"
     ]
    }
   ],
   "source": [
    "# 4. Write a function that calculates the factorial of a number recursively.\n",
    "\n",
    "def factorial(n):\n",
    "    if n == 0:\n",
    "        return 1\n",
    "    else:\n",
    "        return n * factorial(n -1)\n",
    "    \n",
    "print(factorial(5))\n",
    "print(factorial(3))\n",
    "print(factorial(1))\n",
    "print(factorial(0))"
   ]
  },
  {
   "cell_type": "code",
   "execution_count": 19,
   "id": "0bcea2df-dd2d-4af9-958b-418455a60737",
   "metadata": {},
   "outputs": [
    {
     "name": "stdout",
     "output_type": "stream",
     "text": [
      "abcde == bcdef  ➞ 5\n",
      "abcde == abcde  ➞ 0\n",
      "prakash == prakvsh  ➞ 1\n"
     ]
    }
   ],
   "source": [
    "# Hamming distance is the number of characters that differ between two strings.\n",
    "def hamming_distance(args1,args2):\n",
    "    count = 0 \n",
    "    if len(args1) == len(args2):\n",
    "        for i in range(len(args1)):\n",
    "            if args1[i] != args2[i]:\n",
    "                count = count + 1 \n",
    "        print(f'{args1} == {args2}  ➞',count)\n",
    "                \n",
    "\n",
    "            \n",
    "hamming_distance(\"abcde\",\"bcdef\")\n",
    "hamming_distance(\"abcde\",\"abcde\")\n",
    "hamming_distance(\"prakash\",\"prakvsh\")\n",
    "\n"
   ]
  }
 ],
 "metadata": {
  "kernelspec": {
   "display_name": "Python 3 (ipykernel)",
   "language": "python",
   "name": "python3"
  },
  "language_info": {
   "codemirror_mode": {
    "name": "ipython",
    "version": 3
   },
   "file_extension": ".py",
   "mimetype": "text/x-python",
   "name": "python",
   "nbconvert_exporter": "python",
   "pygments_lexer": "ipython3",
   "version": "3.10.6"
  }
 },
 "nbformat": 4,
 "nbformat_minor": 5
}
