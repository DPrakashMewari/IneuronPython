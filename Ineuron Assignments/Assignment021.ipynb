{
 "cells": [
  {
   "cell_type": "code",
   "execution_count": 23,
   "id": "7d7892bc-bbe0-4aa5-8c0f-42fad833fa23",
   "metadata": {},
   "outputs": [
    {
     "data": {
      "text/plain": [
       "10"
      ]
     },
     "execution_count": 23,
     "metadata": {},
     "output_type": "execute_result"
    }
   ],
   "source": [
    "# 1. Add the current date to the text file today.txt as a string.\n",
    "\n",
    "import datetime \n",
    "from datetime import datetime\n",
    "\n",
    "f = open('today.txt',mode='w+')\n",
    "f.write(datetime.now().strftime(\"%d-%m-%Y\"))\n",
    "\n"
   ]
  },
  {
   "cell_type": "code",
   "execution_count": 16,
   "id": "404a2845-2908-40b5-a80b-59f3214bcfdd",
   "metadata": {},
   "outputs": [
    {
     "name": "stdout",
     "output_type": "stream",
     "text": [
      "10-01-2023\n"
     ]
    }
   ],
   "source": [
    "# 2. Read the text file today.txt \n",
    "# into the string today_string\n",
    "today_string =  open('today.txt','r')\n",
    "print(today_string.read())\n",
    "today_string = str(today_string)\n"
   ]
  },
  {
   "cell_type": "code",
   "execution_count": 20,
   "id": "8214ed65-4a75-4600-867f-82fd9bf8c15d",
   "metadata": {},
   "outputs": [
    {
     "name": "stdout",
     "output_type": "stream",
     "text": [
      "2023-01-10 00:00:00\n"
     ]
    }
   ],
   "source": [
    "# Parse the date from today_string.\n",
    "parsed_data = datetime.strptime(today_string, '%d-%m-%Y')\n",
    "print(parsed_data)"
   ]
  },
  {
   "cell_type": "code",
   "execution_count": 23,
   "id": "3838e5b5-5443-48f4-bd14-2c53684d6558",
   "metadata": {},
   "outputs": [
    {
     "name": "stdout",
     "output_type": "stream",
     "text": [
      "Vadial-Data.zip\n",
      "data.zip\n",
      "simple2.jpg\n",
      "mobile.zip\n",
      "Untitled8.ipynb\n",
      "Untitled13.ipynb\n",
      "Untitled5.ipynb\n",
      "simple.jpg\n",
      "Untitled12.ipynb\n",
      "Untitled7.ipynb\n",
      "Untitled6.ipynb\n",
      "Untitled9.ipynb\n",
      "Untitled3.ipynb\n",
      "Untitled1.ipynb\n",
      "Untitled4.ipynb\n",
      "happy.jpg\n",
      "Untitled11.ipynb\n",
      "Untitled.ipynb\n",
      "today.txt\n",
      "data.xlsx\n",
      "simple1.jpg\n",
      "Untitled2.ipynb\n",
      "Untitled10.ipynb\n",
      "today-checkpoint.txt\n",
      "Untitled13-checkpoint.ipynb\n",
      "Untitled12-checkpoint.ipynb\n",
      "Untitled6-checkpoint.ipynb\n",
      "Untitled1-checkpoint.ipynb\n",
      "Untitled4-checkpoint.ipynb\n",
      "Untitled2-checkpoint.ipynb\n",
      "Untitled11-checkpoint.ipynb\n",
      "Untitled10-checkpoint.ipynb\n",
      "Untitled7-checkpoint.ipynb\n",
      "Untitled3-checkpoint.ipynb\n",
      "Untitled-checkpoint.ipynb\n",
      "Untitled8-checkpoint.ipynb\n",
      "Untitled9-checkpoint.ipynb\n",
      "Untitled5-checkpoint.ipynb\n"
     ]
    }
   ],
   "source": [
    "# 4. List the files in your current directory\n",
    "\n",
    "import os \n",
    "for folder,subfolder,files in os.walk(os.getcwd()):\n",
    "    for file in files :\n",
    "        print(file)"
   ]
  },
  {
   "cell_type": "code",
   "execution_count": 24,
   "id": "7196cbf9-1cfc-4bae-b830-ef17fdb65a1d",
   "metadata": {},
   "outputs": [
    {
     "data": {
      "text/plain": [
       "['Vadial-Data.zip',\n",
       " 'data.zip',\n",
       " 'simple2.jpg',\n",
       " 'mobile.zip',\n",
       " 'Untitled8.ipynb',\n",
       " 'Untitled13.ipynb',\n",
       " 'Untitled5.ipynb',\n",
       " 'simple.jpg',\n",
       " 'Untitled12.ipynb',\n",
       " 'Untitled7.ipynb',\n",
       " 'Untitled6.ipynb',\n",
       " 'Untitled9.ipynb',\n",
       " 'Untitled3.ipynb',\n",
       " 'Untitled1.ipynb',\n",
       " 'Untitled4.ipynb',\n",
       " 'happy.jpg',\n",
       " 'Untitled11.ipynb',\n",
       " 'Untitled.ipynb',\n",
       " '.ipynb_checkpoints',\n",
       " 'today.txt',\n",
       " 'data.xlsx',\n",
       " 'simple1.jpg',\n",
       " 'Untitled2.ipynb',\n",
       " 'Untitled10.ipynb']"
      ]
     },
     "execution_count": 24,
     "metadata": {},
     "output_type": "execute_result"
    }
   ],
   "source": [
    "# 5. Create a list of all of the files in your parent directory (minimum five files should be available).\n",
    "\n",
    "os.listdir()"
   ]
  },
  {
   "cell_type": "code",
   "execution_count": 36,
   "id": "4491b8b5-563b-457f-81da-a63db12f71ac",
   "metadata": {},
   "outputs": [
    {
     "name": "stdout",
     "output_type": "stream",
     "text": [
      "P1 2023-01-10 04:10:38.497922\n",
      "P3 2023-01-10 04:10:39.508886\n",
      "P2 2023-01-10 04:10:40.504566\n"
     ]
    }
   ],
   "source": [
    "# 5. Create a list of all of the files in your parent directory (minimum five files should be available).\n",
    "\n",
    "import random,time\n",
    "import multiprocessing\n",
    "def p1():\n",
    "    time.sleep(random.randint(1,5))\n",
    "    print( \"P1\",datetime.now())\n",
    "\n",
    "def p2():\n",
    "    time.sleep(random.randint(1,5))\n",
    "    print(\"P2\" ,datetime.now())\n",
    "\n",
    "def p3():\n",
    "    time.sleep(random.randint(1,5))\n",
    "    print(\"P3\" ,datetime.now())\n",
    "\n",
    "\n",
    "pr1 = multiprocessing.Process(target=p1)\n",
    "\n",
    "pr2 = multiprocessing.Process(target=p2)\n",
    "\n",
    "pr3 = multiprocessing.Process(target=p3)\n",
    "\n",
    "\n",
    "pr1.start()\n",
    "pr2.start()\n",
    "pr3.start()\n",
    "\n",
    "pr1.join()\n",
    "pr2.join()\n",
    "pr3.join()\n"
   ]
  },
  {
   "cell_type": "code",
   "execution_count": 37,
   "id": "866f7180-0273-4d2f-a365-f75d13a01503",
   "metadata": {},
   "outputs": [
    {
     "name": "stdout",
     "output_type": "stream",
     "text": [
      "1995-09-25 00:00:00 <class 'datetime.datetime'>\n"
     ]
    }
   ],
   "source": [
    "# 7. Create a date object of your day of birth.\n",
    "\n",
    "my_dob = datetime.strptime('25/09/1995','%d/%m/%Y')\n",
    "print(my_dob, type(my_dob))"
   ]
  },
  {
   "cell_type": "code",
   "execution_count": 51,
   "id": "a912c60c-c5ba-4888-a3f9-41d5db129641",
   "metadata": {},
   "outputs": [
    {
     "data": {
      "text/plain": [
       "datetime.datetime(2025, 2, 10, 0, 0)"
      ]
     },
     "execution_count": 51,
     "metadata": {},
     "output_type": "execute_result"
    }
   ],
   "source": [
    "# 9. When will you be (or when were you) 10,000 days old?\n",
    "from datetime import datetime, timedelta\n",
    "my_dob = datetime.strptime(\"25/09/1997\",'%d/%m/%Y')\n",
    "future_date = my_dob + timedelta(days=10000)\n",
    "future_date\n",
    "\n",
    "# Future_date is not coming if i add a days"
   ]
  }
 ],
 "metadata": {
  "kernelspec": {
   "display_name": "Python 3 (ipykernel)",
   "language": "python",
   "name": "python3"
  },
  "language_info": {
   "codemirror_mode": {
    "name": "ipython",
    "version": 3
   },
   "file_extension": ".py",
   "mimetype": "text/x-python",
   "name": "python",
   "nbconvert_exporter": "python",
   "pygments_lexer": "ipython3",
   "version": "3.10.6"
  }
 },
 "nbformat": 4,
 "nbformat_minor": 5
}
