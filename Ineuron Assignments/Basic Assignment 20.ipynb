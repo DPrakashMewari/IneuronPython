{
 "cells": [
  {
   "cell_type": "code",
   "execution_count": 3,
   "id": "c15038ed",
   "metadata": {},
   "outputs": [
    {
     "name": "stdout",
     "output_type": "stream",
     "text": [
      "[1, 2, 3, 4]\n",
      "[0, 1729]\n"
     ]
    }
   ],
   "source": [
    "def filter_list(args):\n",
    "    l1 = []\n",
    "    for i in args:\n",
    "        if type(i) == int:\n",
    "            l1.append(i)\n",
    "    return l1\n",
    "\n",
    "\n",
    "\n",
    "print(filter_list([1, 2, 3,\"a\",\"b\", 4]))\n",
    "print(filter_list([\"A\", 0,\"Edabit\" ,1729,\"Python\",\"1729\"]))\n"
   ]
  },
  {
   "cell_type": "code",
   "execution_count": 8,
   "id": "fbf321c6",
   "metadata": {},
   "outputs": [
    {
     "name": "stdout",
     "output_type": "stream",
     "text": [
      "[0, 1, 2, 3, 4]\n",
      "[1, 3, 5, 7, 9]\n",
      "[5, 5, 5, 5, 5]\n"
     ]
    }
   ],
   "source": [
    "def add_indexes(args):\n",
    "    l1 = []\n",
    "    for i in range(len(args)):\n",
    "        l1.append(i+args[i])\n",
    "    return l1\n",
    "\n",
    "print(add_indexes([0, 0, 0, 0, 0]))\n",
    "print(add_indexes([1, 2, 3, 4, 5]))\n",
    "print(add_indexes([5,4,3,2,1]))"
   ]
  },
  {
   "cell_type": "code",
   "execution_count": 16,
   "id": "4d9ac103",
   "metadata": {},
   "outputs": [
    {
     "name": "stdout",
     "output_type": "stream",
     "text": [
      "12.566370614359172\n",
      "565.4866776461628\n",
      "0.0\n"
     ]
    }
   ],
   "source": [
    "import math \n",
    "\n",
    "def cube_volume(h,r):\n",
    "    output = ((math.pi) * pow(r,2)) * (h/3)\n",
    "    return output\n",
    "\n",
    "print(cube_volume(3,2))\n",
    "\n",
    "print(cube_volume(15,6))\n",
    "\n",
    "print(cube_volume(18,0))\n"
   ]
  },
  {
   "cell_type": "code",
   "execution_count": 18,
   "id": "1842fd7e",
   "metadata": {},
   "outputs": [
    {
     "name": "stdout",
     "output_type": "stream",
     "text": [
      "Output ➞ 1\n",
      "Output ➞ 21\n",
      "Output ➞ 23220\n"
     ]
    }
   ],
   "source": [
    "def triangle(in_num):\n",
    "    print(f'Output ➞ {int((in_num)*((in_num+1)/2))}')\n",
    "\n",
    "    \n",
    "triangle(1)\n",
    "triangle(6)\n",
    "triangle(215)"
   ]
  },
  {
   "cell_type": "code",
   "execution_count": 22,
   "id": "557fd25a",
   "metadata": {},
   "outputs": [
    {
     "name": "stdout",
     "output_type": "stream",
     "text": [
      "[1, 2, 3, 4, 6, 7, 8, 9, 10] -> 5\n",
      "[10, 5, 1, 2, 4, 6, 8, 3, 9] -> 7\n"
     ]
    }
   ],
   "source": [
    "# 5.Create a function that takes a list of numbers between 1 and 10 (excluding one number) and returns the missing number.\n",
    "\n",
    "\n",
    "\n",
    "def missing_num(args):\n",
    "    for i in range(1,11):\n",
    "        if i not in args:\n",
    "            print(f\"{args} -> {i}\")\n",
    "            \n",
    "            \n",
    "missing_num([1, 2, 3, 4, 6, 7, 8, 9, 10])\n",
    "missing_num([10, 5, 1, 2, 4, 6, 8, 3, 9])"
   ]
  }
 ],
 "metadata": {
  "kernelspec": {
   "display_name": "Python 3 (ipykernel)",
   "language": "python",
   "name": "python3"
  },
  "language_info": {
   "codemirror_mode": {
    "name": "ipython",
    "version": 3
   },
   "file_extension": ".py",
   "mimetype": "text/x-python",
   "name": "python",
   "nbconvert_exporter": "python",
   "pygments_lexer": "ipython3",
   "version": "3.11.1"
  }
 },
 "nbformat": 4,
 "nbformat_minor": 5
}
