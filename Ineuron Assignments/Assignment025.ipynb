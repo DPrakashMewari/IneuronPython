{
 "cells": [
  {
   "cell_type": "code",
   "execution_count": 5,
   "id": "155042ab-24dd-4083-af55-47a4fc576a52",
   "metadata": {},
   "outputs": [
    {
     "name": "stdout",
     "output_type": "stream",
     "text": [
      "List Comprenshion  [0, 1, 2, 3, 4, 5, 6, 7, 8, 9] <class 'list'>\n",
      "tuple Comprenshion which return generator <generator object <genexpr> at 0x7fbd0d30f1b0> <class 'list'>\n"
     ]
    }
   ],
   "source": [
    "# 1 . What is the difference between enclosing a list comprehension in square brackets and parentheses?\n",
    "\n",
    "\n",
    "# [] this bracket  is a list comprehension in square brackets return list\n",
    "# () this parenthese return a generator object \n",
    "\n",
    "\n",
    "example1 = [x for x in range(10)]\n",
    "print(\"List Comprenshion \",example1,type(example1))\n",
    "\n",
    "example2 = (x for x in range(10))\n",
    "print(\"tuple Comprenshion which return generator\",example2,type(example1))\n",
    "\n"
   ]
  },
  {
   "cell_type": "code",
   "execution_count": 6,
   "id": "7765c918-2abf-4582-b781-e80ca14bc51c",
   "metadata": {},
   "outputs": [
    {
     "name": "stdout",
     "output_type": "stream",
     "text": [
      "<class 'list_iterator'>\n",
      "1\n",
      "3\n",
      "43\n",
      "4\n",
      "3\n",
      "4\n",
      "<generator object cube_no at 0x7f5be9ec74c0>\n",
      "0\n",
      "1\n",
      "8\n"
     ]
    }
   ],
   "source": [
    "# 2) What is the relationship between generators and iterators?\n",
    "\n",
    "\n",
    "# An iterator is an object which contains a countable number of values and it is used to iterate over iterable objects like list, tuples, sets, etc. Iterators are implemented using a class. It follows lazy evaluation where the evaluation of the expression will be on hold and stored in the memory until the item is called specifically which helps us to avoid repeated evaluation. As lazy evaluation is implemented, it requires only 1 memory location to process the value and when we are using a large dataset then, wastage of RAM space will be reduced the need to load the entire dataset at the same time will not be there.For an iterator: iter() keyword is used to create an iterator containing an iterable object.next() keyword is used to call the next element in the iterable object.\n",
    "\n",
    "# Similarly Generators are an another way of creating iterators in a simple way where it uses the keyword yield statement instead of return statement in a defined function.Generators are implemented using a function. Just as iterators, generators also follow lazy evaluation. Here, the yield function returns the data without affecting or exiting the function. It will return a sequence of data in an iterable format where we need to iterate over the sequence to use the data as they won’t store the entire sequence in the memory.\n",
    "\n",
    "\n",
    "\n",
    "# \n",
    "example1 = iter([1,3,43,4,3,4])\n",
    "print(type(example1))\n",
    "print(next(example1))\n",
    "print(next(example1))\n",
    "print(next(example1))\n",
    "print(next(example1))\n",
    "print(next(example1))\n",
    "print(next(example1))\n",
    "\n",
    "\n",
    "def cube_no(n):\n",
    "    for i in range(n):\n",
    "        yield i**3\n",
    "\n",
    "example2 = cube_no(3)\n",
    "print(example2)\n",
    "print(next(example2))\n",
    "print(next(example2))\n",
    "print(next(example2))\n",
    "\n",
    "\n"
   ]
  },
  {
   "cell_type": "code",
   "execution_count": 7,
   "id": "174b6c10-cab5-4a35-a126-0e81c08b8a1b",
   "metadata": {},
   "outputs": [],
   "source": [
    "# 3) What are the signs that a function is a generator function?\n",
    "\n",
    "\n",
    "# A generator function uses a yield statement instead of a return statement.\n",
    "# A generator function will always return a iterable object called generator.\n",
    "# where as a normal function can return a string/list/tuple/dict/NoneType .etc"
   ]
  },
  {
   "cell_type": "code",
   "execution_count": null,
   "id": "b83e2596-8c1a-4a74-a632-d5227af03a26",
   "metadata": {},
   "outputs": [],
   "source": [
    "# 4) What is the purpose of a yield statement?\n",
    "\n",
    "\n",
    "# The yield statement suspends function’s \n",
    "# execution and sends a value back to the caller,\n",
    "# but retains enough state to enable function to \n",
    "# resume where it is left off. When resumed,\n",
    "# the function continues execution immediately after\n",
    "# the last yield run. \n",
    "# This allows its code to produce a\n",
    "# series of values over time, rather than computing them \n",
    "# at once and \n",
    "# sending them back like a list."
   ]
  },
  {
   "cell_type": "code",
   "execution_count": null,
   "id": "fce09f39-a7f2-499b-bb10-aa5628ec213c",
   "metadata": {},
   "outputs": [],
   "source": [
    "# 5) What is the relationship between map calls and list comprehensions? Make a comparison and contrast between the two ?\n",
    "\n",
    "\n",
    "# List comprehension are used when a list of results is required as final output.but map only returns a map object. it needs to be explicitly coverted to desired datatype.\n",
    "# List comprehension is faster than map when we need to evaluate expressions that are too long or complicated to express\n",
    "# Map is faster in case of calling an already defined function on a set of values."
   ]
  },
  {
   "cell_type": "code",
   "execution_count": null,
   "id": "4c854116-ed8f-41ca-9d22-5be5d821a855",
   "metadata": {},
   "outputs": [],
   "source": []
  },
  {
   "cell_type": "code",
   "execution_count": null,
   "id": "151a43c9-12a8-4b3d-9ba0-b35acc72034e",
   "metadata": {},
   "outputs": [],
   "source": []
  },
  {
   "cell_type": "code",
   "execution_count": null,
   "id": "79882644-9f70-4990-9621-a4d40923f817",
   "metadata": {},
   "outputs": [],
   "source": []
  }
 ],
 "metadata": {
  "kernelspec": {
   "display_name": "Python 3 (ipykernel)",
   "language": "python",
   "name": "python3"
  },
  "language_info": {
   "codemirror_mode": {
    "name": "ipython",
    "version": 3
   },
   "file_extension": ".py",
   "mimetype": "text/x-python",
   "name": "python",
   "nbconvert_exporter": "python",
   "pygments_lexer": "ipython3",
   "version": "3.10.6"
  }
 },
 "nbformat": 4,
 "nbformat_minor": 5
}
