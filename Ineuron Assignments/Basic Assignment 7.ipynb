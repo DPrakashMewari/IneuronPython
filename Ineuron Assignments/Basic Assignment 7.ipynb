{
 "cells": [
  {
   "cell_type": "code",
   "execution_count": 5,
   "id": "d72d7768-4fea-45cd-8340-ef30094b51c0",
   "metadata": {},
   "outputs": [
    {
     "data": {
      "text/plain": [
       "60"
      ]
     },
     "execution_count": 5,
     "metadata": {},
     "output_type": "execute_result"
    }
   ],
   "source": [
    "# 1. Write a Python Program to find sum of array?\n",
    "\n",
    "def summofarray(arr):\n",
    "    val =0 \n",
    "    for i in arr:\n",
    "        val += i \n",
    "    return val \n",
    "\n",
    "summofarray([1,23,2,2,32])\n"
   ]
  },
  {
   "cell_type": "code",
   "execution_count": 7,
   "id": "1daf609e-48e7-4777-9941-c77ef208af7f",
   "metadata": {},
   "outputs": [
    {
     "data": {
      "text/plain": [
       "9808"
      ]
     },
     "execution_count": 7,
     "metadata": {},
     "output_type": "execute_result"
    }
   ],
   "source": [
    "# Write a Python Program to find largest element in an array?\n",
    "\n",
    "\n",
    "def maxofarray(n):\n",
    "    return max(n)\n",
    "\n",
    "\n",
    "v = [10, 324, 45, 90, 9808]\n",
    "maxofarray(v)"
   ]
  },
  {
   "cell_type": "code",
   "execution_count": 3,
   "id": "ce9ea3b1-9977-4da6-9b14-1ed5896e5cbb",
   "metadata": {},
   "outputs": [
    {
     "data": {
      "text/plain": [
       "[45, 90, 9808, 10, 324]"
      ]
     },
     "execution_count": 3,
     "metadata": {},
     "output_type": "execute_result"
    }
   ],
   "source": [
    "# Write a Python Program for array rotation?\n",
    "def rotatearry(a):\n",
    "    middleIndex = int((len(a) - 1)/2)\n",
    "    lengthArray = len(a)\n",
    "    a[:] = a[middleIndex:lengthArray] + a[0:middleIndex]\n",
    "    return a \n",
    "\n",
    "v = [10, 324, 45, 90, 9808]\n",
    "rotatearry(v)"
   ]
  },
  {
   "cell_type": "code",
   "execution_count": 16,
   "id": "b7b4efcb-a3f1-4966-a773-993cb3c2e673",
   "metadata": {},
   "outputs": [
    {
     "name": "stdout",
     "output_type": "stream",
     "text": [
      "90,9808,10,324,45,"
     ]
    }
   ],
   "source": [
    "# Write a Python Program to Split the array and add the first part to the end?\n",
    "\n",
    "def splitarray(array,lengtharr,position):\n",
    "    b = array[:position]\n",
    "    return array[position::] + b[::]\n",
    "\n",
    "v = [10, 324, 45, 90, 9808]\n",
    "arr = splitarray(v,len(v),3)\n",
    "for i in range(0,len(arr)):\n",
    "    print(arr[i],end=\",\")\n"
   ]
  },
  {
   "cell_type": "code",
   "execution_count": 21,
   "id": "1afc3be5-97d4-49e2-a131-7497a6996a82",
   "metadata": {},
   "outputs": [
    {
     "name": "stdout",
     "output_type": "stream",
     "text": [
      "True\n"
     ]
    }
   ],
   "source": [
    "def isMonotonicis(a):\n",
    "    x = []\n",
    "    y = []\n",
    "    x.extend(a)\n",
    "    y.extend(a)\n",
    "    x.sort()\n",
    "    y.sort(reverse=True)\n",
    "    if (x == a or y == a):\n",
    "        return True \n",
    "    else:\n",
    "        return False\n",
    "    \n",
    "a = [6, 5, 4, 4,2]\n",
    " \n",
    "print(isMonotonicis(a))"
   ]
  }
 ],
 "metadata": {
  "kernelspec": {
   "display_name": "Python 3 (ipykernel)",
   "language": "python",
   "name": "python3"
  },
  "language_info": {
   "codemirror_mode": {
    "name": "ipython",
    "version": 3
   },
   "file_extension": ".py",
   "mimetype": "text/x-python",
   "name": "python",
   "nbconvert_exporter": "python",
   "pygments_lexer": "ipython3",
   "version": "3.10.6"
  }
 },
 "nbformat": 4,
 "nbformat_minor": 5
}
