{
 "cells": [
  {
   "cell_type": "code",
   "execution_count": 3,
   "id": "019f4c58-2336-42d1-b577-74493520a3bb",
   "metadata": {},
   "outputs": [
    {
     "name": "stdout",
     "output_type": "stream",
     "text": [
      "Error Happen ! So here we are \n"
     ]
    }
   ],
   "source": [
    "# Q1. What is the purpose of the try statement?\n",
    "\n",
    "# The try block is used to check some code for errors i.e the code inside the try block will execute when there is no error in the program.`\n",
    "\n",
    "try: \n",
    "    # Here is Chance to get error \n",
    "    a = 10 /0 \n",
    "    print(a)\n",
    "except:\n",
    "    print(\"Error Happen ! So here we are \")"
   ]
  },
  {
   "cell_type": "code",
   "execution_count": 2,
   "id": "426a4987-b7d6-476f-bc2e-34158d13e9a5",
   "metadata": {},
   "outputs": [
    {
     "name": "stdout",
     "output_type": "stream",
     "text": [
      "I am Going to execute anyway\n",
      "Me too !\n"
     ]
    }
   ],
   "source": [
    "# Q2. What are the two most popular try statement variations?\n",
    "\n",
    "\n",
    "# There are two other optional variation to a try block: else and finally. Both of these optional blocks will come after the try and the except.\n",
    "\n",
    "\n",
    "try:\n",
    "    pass\n",
    "except:\n",
    "    pass\n",
    "else:\n",
    "    print(\"I am Going to execute anyway\")\n",
    "finally:\n",
    "    print(\"Me too !\")"
   ]
  },
  {
   "cell_type": "code",
   "execution_count": null,
   "id": "fe5f26b2-1b00-480d-a3c7-852efa1453b0",
   "metadata": {},
   "outputs": [],
   "source": [
    "\n",
    "# Q3. What is the purpose of the raise statement?\n",
    "\n",
    "\n",
    "# raise statement is used to trigger an exception explicitly, \n",
    "# if a certain condition is not as per requirement of programmer.\n",
    "# raise statement helps in triggering exception as per programming logic."
   ]
  },
  {
   "cell_type": "code",
   "execution_count": 4,
   "id": "dfd6284b-e32c-41ec-88bf-84073abd30b4",
   "metadata": {},
   "outputs": [
    {
     "ename": "AssertionError",
     "evalue": "Custom error !!!",
     "output_type": "error",
     "traceback": [
      "\u001b[0;31m---------------------------------------------------------------------------\u001b[0m",
      "\u001b[0;31mAssertionError\u001b[0m                            Traceback (most recent call last)",
      "Cell \u001b[0;32mIn [4], line 11\u001b[0m\n\u001b[1;32m      1\u001b[0m \u001b[38;5;66;03m# Q4. What does the assert statement do, and what other statement is it like?\u001b[39;00m\n\u001b[1;32m      2\u001b[0m \n\u001b[1;32m      3\u001b[0m \n\u001b[0;32m   (...)\u001b[0m\n\u001b[1;32m      7\u001b[0m \u001b[38;5;66;03m# This statement takes a boolean condition output of which is True, Further Program Executes.\u001b[39;00m\n\u001b[1;32m      8\u001b[0m \u001b[38;5;66;03m# if output of assert statement is False, it raises an Assertion Error.\u001b[39;00m\n\u001b[1;32m     10\u001b[0m b \u001b[38;5;241m=\u001b[39m \u001b[38;5;241m3\u001b[39m \n\u001b[0;32m---> 11\u001b[0m \u001b[38;5;28;01massert\u001b[39;00m b \u001b[38;5;241m==\u001b[39m \u001b[38;5;241m4\u001b[39m , \u001b[38;5;124m\"\u001b[39m\u001b[38;5;124mCustom error !!!\u001b[39m\u001b[38;5;124m\"\u001b[39m\n",
      "\u001b[0;31mAssertionError\u001b[0m: Custom error !!!"
     ]
    }
   ],
   "source": [
    "\n",
    "# Q4. What does the assert statement do, and what other statement is it like?\n",
    "\n",
    "\n",
    "\n",
    "# There are few assertions that programmer always want to be true to avoid code failure. \n",
    "# This type of requirement is fulfilled by assert statement. \n",
    "# This statement takes a boolean condition output of which is True, Further Program Executes.\n",
    "# if output of assert statement is False, it raises an Assertion Error.\n",
    "\n",
    "b = 3 \n",
    "assert b == 4 , \"Custom error !!!\""
   ]
  },
  {
   "cell_type": "code",
   "execution_count": 26,
   "id": "8ecb16cf-8bf4-4cf4-b52d-329cc68918ea",
   "metadata": {},
   "outputs": [
    {
     "name": "stdout",
     "output_type": "stream",
     "text": [
      "d!!!Hello World!!!prakash!!!prakash!!!\n"
     ]
    }
   ],
   "source": [
    "# Q5. What is the purpose of the with/as argument, and what other statement is it like?\n",
    "\n",
    "# With/as statement simplifies use of file handling in python. When we use we dont \n",
    "# to explicitly take care of other activies such resource deallocation \n",
    "# and file closing by using file.close() method \n",
    "\n",
    "\n",
    "# Example \n",
    "with open(\"file.txt\", \"r+\") as f:\n",
    "    f.write(\"prakash!!!\")\n",
    "    data = f.read()\n",
    "print(data)\n",
    "   "
   ]
  }
 ],
 "metadata": {
  "kernelspec": {
   "display_name": "Python 3 (ipykernel)",
   "language": "python",
   "name": "python3"
  },
  "language_info": {
   "codemirror_mode": {
    "name": "ipython",
    "version": 3
   },
   "file_extension": ".py",
   "mimetype": "text/x-python",
   "name": "python",
   "nbconvert_exporter": "python",
   "pygments_lexer": "ipython3",
   "version": "3.10.6"
  }
 },
 "nbformat": 4,
 "nbformat_minor": 5
}
