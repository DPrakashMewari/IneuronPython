{
 "cells": [
  {
   "cell_type": "code",
   "execution_count": 2,
   "id": "1df55e9c-b0ec-4e12-8d21-e3ac18d8beb2",
   "metadata": {},
   "outputs": [],
   "source": [
    "# Q1. Describe three applications for exception processing.\n",
    "\n",
    "\n",
    "# Exception Processing is important to find exceptions that causes the runtime error.\n",
    "# As runtime errors Halt the program execution when exception occurs.\n",
    "\n",
    "# Exception Processing is used in Various Applications of which few examples are:\n",
    "\n",
    "# Checking Appropriate use of input in an application\n",
    "# Checking for Arithmetic exceptions in mathematical executions\n",
    "# Checking File I/O exceptions during File handling\n",
    "\n"
   ]
  },
  {
   "cell_type": "code",
   "execution_count": null,
   "id": "6f37d5d2-eea0-49d3-854a-f52c1b9a4a72",
   "metadata": {},
   "outputs": [],
   "source": [
    "# Q2. What happens if you don't do something extra to treat an exception?\n",
    "\n",
    "# If Exceptions are not handled flow of program will be broken during the run time \n",
    "# which might lead to a abnormal termination of the program. \n",
    "# Inshort inability of program to handle exceptions will result in crashing of program."
   ]
  },
  {
   "cell_type": "code",
   "execution_count": 4,
   "id": "d64af9e0-3d5d-483e-9962-026c06ba05de",
   "metadata": {},
   "outputs": [],
   "source": [
    "# Q3. What are your options for recovering from an exception in your script?\n",
    "# Python provides try and except statements for recovering from an exception in your script.\n",
    "\n",
    "try:\n",
    "    pass\n",
    "except:\n",
    "    pass"
   ]
  },
  {
   "cell_type": "code",
   "execution_count": 10,
   "id": "7e194e61-ed37-4b9d-8b11-f1da68133b98",
   "metadata": {},
   "outputs": [
    {
     "ename": "Exception",
     "evalue": "('Prakash Custom Error!', 10)",
     "output_type": "error",
     "traceback": [
      "\u001b[0;31m---------------------------------------------------------------------------\u001b[0m",
      "\u001b[0;31mException\u001b[0m                                 Traceback (most recent call last)",
      "Cell \u001b[0;32mIn [10], line 8\u001b[0m\n\u001b[1;32m      1\u001b[0m \u001b[38;5;66;03m# Q4. Describe two methods for triggering exceptions in your script ?\u001b[39;00m\n\u001b[1;32m      2\u001b[0m \u001b[38;5;66;03m# raise and assert are two methods that can be used to trigger manual exceptions in your script.\u001b[39;00m\n\u001b[1;32m      3\u001b[0m \n\u001b[1;32m      4\u001b[0m \u001b[38;5;66;03m# raise method triggers an exception if condition provided to it turns out to be True.\u001b[39;00m\n\u001b[1;32m      5\u001b[0m \u001b[38;5;66;03m# assert will let the program to continue execution if condition provided to it \u001b[39;00m\n\u001b[1;32m      6\u001b[0m \u001b[38;5;66;03m# turns out to be True else exception will be raised\u001b[39;00m\n\u001b[1;32m      7\u001b[0m x \u001b[38;5;241m=\u001b[39m \u001b[38;5;241m10\u001b[39m\n\u001b[0;32m----> 8\u001b[0m \u001b[38;5;28;01mraise\u001b[39;00m \u001b[38;5;167;01mException\u001b[39;00m(\u001b[38;5;124m\"\u001b[39m\u001b[38;5;124mPrakash Custom Error!\u001b[39m\u001b[38;5;124m\"\u001b[39m,x)\n",
      "\u001b[0;31mException\u001b[0m: ('Prakash Custom Error!', 10)"
     ]
    }
   ],
   "source": [
    "# Q4. Describe two methods for triggering exceptions in your script ?\n",
    "# raise and assert are two methods that can be used to trigger manual exceptions in your script.\n",
    "\n",
    "# raise method triggers an exception if condition provided to it turns out to be True.\n",
    "# assert will let the program to continue execution if condition provided to it \n",
    "# turns out to be True else exception will be raised\n",
    "\n",
    "\n",
    "x = 10\n",
    "raise Exception(\"Prakash Custom Error!\",x)\n"
   ]
  },
  {
   "cell_type": "code",
   "execution_count": 14,
   "id": "ffb5b349-3b8e-4710-a677-be99b1b70f40",
   "metadata": {},
   "outputs": [
    {
     "ename": "AssertionError",
     "evalue": "Prakash Custom Error Occured",
     "output_type": "error",
     "traceback": [
      "\u001b[0;31m---------------------------------------------------------------------------\u001b[0m",
      "\u001b[0;31mAssertionError\u001b[0m                            Traceback (most recent call last)",
      "Cell \u001b[0;32mIn [14], line 2\u001b[0m\n\u001b[1;32m      1\u001b[0m n \u001b[38;5;241m=\u001b[39m \u001b[38;5;28;01mFalse\u001b[39;00m\n\u001b[0;32m----> 2\u001b[0m \u001b[38;5;28;01massert\u001b[39;00m n \u001b[38;5;241m==\u001b[39m \u001b[38;5;28;01mTrue\u001b[39;00m,\u001b[38;5;124m'\u001b[39m\u001b[38;5;124mPrakash Custom Error Occured\u001b[39m\u001b[38;5;124m'\u001b[39m\n",
      "\u001b[0;31mAssertionError\u001b[0m: Prakash Custom Error Occured"
     ]
    }
   ],
   "source": [
    "n = False\n",
    "assert n == True,'Prakash Custom Error Occured'"
   ]
  },
  {
   "cell_type": "code",
   "execution_count": null,
   "id": "c749cb05-5080-455b-81d3-63f98396a7ee",
   "metadata": {},
   "outputs": [],
   "source": [
    "# Q5. Identify two methods for specifying actions to be executed at termination time,\n",
    "# regardless of whether or not an exception exists.\n",
    "\n",
    "# Python Provides else and finally blocks for specifying actions \n",
    "# to be executed at termination time, regardless of whether an exceptions exists or not."
   ]
  },
  {
   "cell_type": "code",
   "execution_count": null,
   "id": "d398c0f0-1c6e-4ee6-bde8-07c59c732c74",
   "metadata": {},
   "outputs": [],
   "source": []
  }
 ],
 "metadata": {
  "kernelspec": {
   "display_name": "Python 3 (ipykernel)",
   "language": "python",
   "name": "python3"
  },
  "language_info": {
   "codemirror_mode": {
    "name": "ipython",
    "version": 3
   },
   "file_extension": ".py",
   "mimetype": "text/x-python",
   "name": "python",
   "nbconvert_exporter": "python",
   "pygments_lexer": "ipython3",
   "version": "3.10.6"
  }
 },
 "nbformat": 4,
 "nbformat_minor": 5
}
