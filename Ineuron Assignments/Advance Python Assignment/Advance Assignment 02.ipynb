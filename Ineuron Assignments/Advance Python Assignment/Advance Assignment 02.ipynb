{
 "cells": [
  {
   "cell_type": "code",
   "execution_count": null,
   "id": "2758185a",
   "metadata": {},
   "outputs": [],
   "source": [
    "# Q1. What is the relationship between classes and modules?\n",
    "\n",
    "\n",
    "# A class is a blueprint for creating objects, which are instances of the class. \n",
    "# A class defines a set of attributes and methods that are common to all instances of that class.\n",
    "\n",
    "\n",
    "# A module, on the other hand, is a collection of functions, \n",
    "# classes, and variables that can be used in a program"
   ]
  },
  {
   "cell_type": "code",
   "execution_count": null,
   "id": "bb86e108",
   "metadata": {},
   "outputs": [],
   "source": [
    "# Q2. How do you make instances and classes?\n",
    "\n",
    "# Ans: For creating a class instance. \n",
    "# we call a class by its name and pass the arguments which its __init__ method accepts.\n"
   ]
  },
  {
   "cell_type": "code",
   "execution_count": 2,
   "id": "5dad6825",
   "metadata": {},
   "outputs": [],
   "source": [
    "# Q3. Where and how should be class attributes created?\n",
    "\n",
    "# Class attributes or Class level Attributes belong to the class itself. \n",
    "# these attributes will be shared by all the instances of the class.\n",
    "class Car: \n",
    "    no_of_wheels = 4; # this is a class attribute \n",
    "    def __init__(self,color,price,engine):\n",
    "        self.color = color # All this are instance attributes \n",
    "        self.price = price \n",
    "        self.engine = engine"
   ]
  },
  {
   "cell_type": "code",
   "execution_count": 3,
   "id": "8933480f",
   "metadata": {},
   "outputs": [],
   "source": [
    "# Q4. Where and how are instance attributes created?\n",
    "\n",
    "# Instances attributes are passed to the class when an object of the class is created.\n",
    "# Unlike class attributes, instance attributes are not shared by all objects of the classs. \n",
    "# instead each object maintains its own copy of instance attributes at object level.\n",
    "\n",
    "# It is Defined Under __init__ method\n",
    "\n",
    "\n",
    "class Car: \n",
    "    def __init__(self,color,price,engine):\n",
    "        self.color = color # All this are instance attributes \n",
    "        self.price = price \n",
    "        self.engine = engine"
   ]
  },
  {
   "cell_type": "code",
   "execution_count": 9,
   "id": "f9cc4503",
   "metadata": {},
   "outputs": [
    {
     "data": {
      "text/plain": [
       "({'color': 'Red', 'price': 240000, 'engine': 'gas'},\n",
       " {'color': 'Blue', 'price': 28000, 'engine': 'fuel'})"
      ]
     },
     "execution_count": 9,
     "metadata": {},
     "output_type": "execute_result"
    }
   ],
   "source": [
    "# Q5. What does the term \"self\" in a Python class mean?\n",
    "\n",
    "# Ans: self represents the instance of the class (it represents the object itself). \n",
    "# By using the “self” keyword we can access the attributes and methods of the class with in the class in python.\n",
    "# It binds the attributes with the given arguments.\n",
    "\n",
    "class Car: \n",
    "    def __init__(self,color,price,engine):\n",
    "        self.color = color # All this are instance attributes \n",
    "        self.price = price \n",
    "        self.engine = engine\n",
    "\n",
    "obj = Car('Red',240000,'gas')\n",
    "obj1 = Car('Blue',28000,'fuel')\n",
    "\n",
    "obj.__dict__,obj1.__dict__"
   ]
  },
  {
   "cell_type": "code",
   "execution_count": 23,
   "id": "64f86c33",
   "metadata": {},
   "outputs": [
    {
     "name": "stdout",
     "output_type": "stream",
     "text": [
      "200\n"
     ]
    }
   ],
   "source": [
    "# Q6. How does a Python class handle operator overloading?\n",
    "# Ans: Python Classes handle operator overloading by using special methods called Magic methods. \n",
    "#     these special methods usually begin and end with __ (double underscore) such as \n",
    "# __add__ \n",
    "# __dict__\n",
    "# __mult__\n",
    "# __div__\n",
    "\n",
    "\n",
    "class OperatorOverloading:\n",
    "    def __init__(self,num):\n",
    "        self.num = num \n",
    "    def __mul__(self,oth):\n",
    "        return self.num * oth.num\n",
    "\n",
    "obj1 = OperatorOverloading(10)\n",
    "obj2= OperatorOverloading(20)\n",
    "print(obj1*obj2)"
   ]
  },
  {
   "cell_type": "code",
   "execution_count": null,
   "id": "e77e97a4",
   "metadata": {},
   "outputs": [],
   "source": [
    "# Q7. When do you consider allowing operator overloading of your classes?\n",
    "\n",
    "# Ans: When we want to have different meaning for the same operator \n",
    "# accroding to the context we use operator overloading."
   ]
  },
  {
   "cell_type": "code",
   "execution_count": 38,
   "id": "b41a874f",
   "metadata": {},
   "outputs": [
    {
     "name": "stdout",
     "output_type": "stream",
     "text": [
      "40\n",
      "300\n"
     ]
    }
   ],
   "source": [
    "# Q8. What is the most popular form of operator overloading?\n",
    "# Ans: The most popular form of operator overloading in python is by special methods called Magic methods. \n",
    "\n",
    "class OperatorOverloading:\n",
    "    def __init__(self,num):\n",
    "        self.num = num \n",
    "    def __mul__(self,oth):\n",
    "        return self.num * oth.num\n",
    "    def __add__(self,ath):\n",
    "        return self.num + ath.num\n",
    "\n",
    "obj1 = OperatorOverloading(10)\n",
    "obj2 = OperatorOverloading(30)\n",
    "print(obj1+obj2)\n",
    "print(obj1*obj2)"
   ]
  },
  {
   "cell_type": "code",
   "execution_count": null,
   "id": "55d29486",
   "metadata": {},
   "outputs": [],
   "source": [
    "# Q9. What are the two most important concepts to grasp in order to comprehend Python OOP code?\n",
    "# Ans: Classes and objects are the two concepts to comprehend python OOP code as\n",
    "# more formally objects are entities that represent instances of general abstract concept called class\n",
    "\n",
    "# Plus we need to grasp that concept also \n",
    "\n",
    "# Inheritence\n",
    "# Abstraction\n",
    "# Polymorphism\n",
    "# Encapsulation"
   ]
  }
 ],
 "metadata": {
  "kernelspec": {
   "display_name": "Python 3 (ipykernel)",
   "language": "python",
   "name": "python3"
  },
  "language_info": {
   "codemirror_mode": {
    "name": "ipython",
    "version": 3
   },
   "file_extension": ".py",
   "mimetype": "text/x-python",
   "name": "python",
   "nbconvert_exporter": "python",
   "pygments_lexer": "ipython3",
   "version": "3.11.1"
  }
 },
 "nbformat": 4,
 "nbformat_minor": 5
}
