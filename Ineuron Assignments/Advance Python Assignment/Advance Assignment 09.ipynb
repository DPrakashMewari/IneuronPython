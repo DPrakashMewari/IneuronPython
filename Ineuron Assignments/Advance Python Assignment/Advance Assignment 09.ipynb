{
 "cells": [
  {
   "cell_type": "code",
   "execution_count": 63,
   "id": "ead4806d",
   "metadata": {},
   "outputs": [
    {
     "name": "stdout",
     "output_type": "stream",
     "text": [
      "True\n",
      "True\n",
      "False\n",
      "('', 'sea', ' shore and sea see and sea think sea')\n",
      "('sea shore and ', 'sea', ' see')\n",
      "True\n",
      "6\n",
      "3\n",
      "7\n",
      "v\n",
      "a\n",
      "['Ineuron ', ' Full Stack ', ' Data Science ', ' Course ']\n",
      "Finding nemo\n",
      "DATAPIPELINES\n",
      "mlops\n",
      "doloris jane umbridge\n",
      "Data science    Data Analyst\n",
      "1\n",
      "6\n",
      "2\n",
      "['i', 'euro', '']\n",
      "['i', 'euro', '']\n",
      "EDA \n",
      " EDA\n",
      "EDA\n",
      "EXPLORATORY dATA aNALYSIS\n",
      "Iris_flower_Dataset\n",
      "Hello Pnake!\n",
      "Hello Pnake!\n",
      "I2euro2\n",
      "b'Natural Language Processing'\n",
      "Vemo      \n",
      "      Vemo\n",
      "   Nemo   \n",
      "00000Hello\n"
     ]
    }
   ],
   "source": [
    "# Q1. In Python 3.X, what are the names and functions of string object types?\n",
    "# <string>.isdecimal() -> Returns True if all characters in a string are decimal.\n",
    "# <string>.isalnum() -> Returns True if all characters in the string are AlphaNumeric.\n",
    "# <string>.istitle() -> Returns True if first character in a string is in Uppercase.\n",
    "# <string>.partition(<sub_string>) -> Splits string at first occurance of sub string and returns a tuple of 3 elements.\n",
    "# <string>.rpartition(<sub_string>) -> Splits string at last occurance of sub string and returns a tuple of 3 elements.\n",
    "# <string>.isidentifier() -> Returns True if give string is a valid identifier name.\n",
    "# len(<string>) -> Returns the length of the given string.\n",
    "# <string>.index(<sub_string>) -> Returns the lowest index of substring if substring is found in the string.\n",
    "# <string>.rindex(<sub_string>) -> Returns the highest index of substring if substring is found in the string.\n",
    "# max(<string>) -> Returns the highest Alphabetical Character in the string as per ASCII.\n",
    "# min(<string>) -> Returns the lowest Alphabetical Character in the string as per ASCII.\n",
    "# <string>.splitlines() -> Returns a list of lines in the string.\n",
    "# <string>.capitalize() -> Returns the string with first character capitalized.\n",
    "# <string>.upper() -> Returns the string with all characters in uppercase.\n",
    "# <string>.lower() -> Returns the string with all characters in lowercase\n",
    "# <string>.casefold() -> Returns the string in lowercase which can be used for caseless comparisions.\n",
    "# <string>.expandtabs(no_of_spaces) -> Replaces tabs in a string with specified no of spaces default is 8\n",
    "# <string>.find(<sub_string>) -> Returns lowest index of substring if substring is found in the string else returns -1.\n",
    "# <string>.rfind(<sub_string>) -> Returns highest index of substring if substring is found in the string else returns -1.\n",
    "# <string>.count(<char>) -> Returns the no of occurances of the char in the given string.\n",
    "# <string>.split(<sep>) -> Returns list of words seperated by given sep else seperated by whitespace.\n",
    "# <string>.rsplit(<sep>) -> Returns list of words seperated by given sep else seperated by whitespace scanning from end.\n",
    "# <string>.lstrip() -> Returns a copy of where leading whitespaces are removed.\n",
    "# <string>.rstrip() -> Returns a copy of where trailed whitespaces are removed.\n",
    "# <string>.strip() -> Returns a copy of where both leading and trailing whitespaces are removed.\n",
    "# <string>.swapcase() -> Swaps lowercase characters with uppercase and vice versa.\n",
    "# <sep>.join(<list>) -> Concatenates a list or tuple of words with intervening occuernces of sep.\n",
    "# <string>.translate(<mapping_table>) -> translates the characters using table.\n",
    "# <string>.maketrans(<dict>) -> Creating a mapping translation tbale usable for <string>.translate(<mapping_table>)\n",
    "# <string>.replace(<char_1>,<char_2>) -> Replace all occurances of char_1 with char_2 in string.\n",
    "# <string>.encode() -> Encodes string into any encoding supported by python. Default encoding is UTF-8.\n",
    "# <string>.ljust(<no_of_spaces>) -> Left-justify in a field of given width.\n",
    "# <string>.rjust(<no_of_spaces>) -> Right-justify in a field of given width.\n",
    "# <string>.center(<no_of_spaces>) -> Center-justify in a field of given width.\n",
    "# <stirng>.zfill(<length>) -> Zfill adds zeros to the begining of string until the specified length is reached.\n",
    "\n",
    "\n",
    "# Ans: The following are the names and functions of string object types in Python 3.X\n",
    "\n",
    "print(\"132131231\".isdecimal())\n",
    "print(\"Prak1\".isalnum())\n",
    "print(\"ccsa\".istitle())\n",
    "print(\"sea shore and sea see and sea think sea\".partition('sea'))\n",
    "print(\"sea shore and sea see\".rpartition(\"sea\"))\n",
    "print(\"Rangers\".isidentifier())\n",
    "print(len(\"Ragers\"))\n",
    "print(\"ranger\".index('g'))\n",
    "print(\"Vengence\".rindex('e'))\n",
    "print(max(\"venice\"))\n",
    "print(min(\"sbhramanyam\"))\n",
    "\n",
    "print('Ineuron \\n Full Stack \\n Data Science \\n Course '.splitlines())\n",
    "\n",
    "print('finding nemo'.capitalize())\n",
    "print('datapipelines'.upper())\n",
    "print('MLOPS'.lower())\n",
    "print('Doloris Jane Umbridge'.casefold())\n",
    "\n",
    "print('Data science\\tData Analyst'.expandtabs(8))\n",
    "print('Ineuron'.find('n'))\n",
    "print('Ineuron'.rfind('n'))\n",
    "\n",
    "print('Transformers'.count('s'))\n",
    "print('ineuron'.split('n'))\n",
    "print('ineuron'.rsplit('n'))\n",
    "print(' EDA '.lstrip())\n",
    "print(' EDA '.rstrip())\n",
    "print(' EDA '.strip())\n",
    "\n",
    "print('exploratory Data Analysis'.swapcase())\n",
    "print('_'.join(['Iris','flower','Dataset']))\n",
    "\n",
    "mydict = {83:80}\n",
    "print(\"Hello Snake!\".translate(mydict))\n",
    "\n",
    "txt = \"Hello Snake!\"\n",
    "mytable = txt.maketrans(\"S\", \"P\")\n",
    "print(txt.translate(mytable))\n",
    "\n",
    "\n",
    "print('Ineuron'.replace('n','2'))\n",
    "print('Natural Language Processing'.encode())\n",
    "print('Vemo'.ljust(10))\n",
    "print('Vemo'.rjust(10))\n",
    "print('Nemo'.center(10))\n",
    "print('Hello'.zfill(10))"
   ]
  },
  {
   "cell_type": "code",
   "execution_count": null,
   "id": "bcd7db63",
   "metadata": {},
   "outputs": [],
   "source": [
    "# Q2. How do the string forms in Python 3.X vary in terms of operations?\n",
    "# In Python3 default format of strings is Unicode Whereas in Pyton2 we need to explicitly mention Unicode value using u."
   ]
  },
  {
   "cell_type": "code",
   "execution_count": 67,
   "id": "2cf394fd",
   "metadata": {},
   "outputs": [
    {
     "name": "stdout",
     "output_type": "stream",
     "text": [
      "kozuscek\n",
      "aap niice apnii bhaassaa aur inputt upkrnn cuneN aur likhnaa aarNbh kreN\n",
      "Xie Xie Ni \n",
      "arigatou. \n",
      "ulybat'sia Vladimir Putin\n"
     ]
    }
   ],
   "source": [
    "# Import unidecode module from unidecode\n",
    "from unidecode import unidecode\n",
    "\n",
    "\n",
    "# non-ASCII text (Unicode string)\n",
    "print(unidecode(u'ko\\u017eu\\u0161\\u010dek'))\n",
    "\n",
    "# non-ASCII text (Devanagari)\n",
    "print(unidecode(\"आप नीचे अपनी भाषा और इनपुट उपकरण चुनें और लिखना आरंभ करें\"))\n",
    "\n",
    "# non-ASCII text (Chinese)\n",
    "print(unidecode(\"谢谢你\"))\n",
    "\n",
    "# non-ASCII text (Japanese)\n",
    "print(unidecode(\"ありがとう。\"))\n",
    "\n",
    "\n",
    "# non-ASCII text (Russian)\n",
    "print(unidecode(\"улыбаться Владимир Путин\"))\n"
   ]
  },
  {
   "cell_type": "code",
   "execution_count": null,
   "id": "862a5ef7",
   "metadata": {},
   "outputs": [],
   "source": [
    "# Q4. In Python 3.X, what are the key differences between text-mode and binary-mode files?\n",
    "\n",
    "# When a file is opened in text mode, reading its data automatically decodes its content (as per the platform default or as per provided encoding), and returns it as a str; writing operation takes a str, and automatically encodes it before transferring to the file. Text mode files also support universal end-of-line translation, and encoding specification arguments.\n",
    "# When a file is opened in binary mode by adding a b to the mode string argument in the open() call, reading its data does not decode it in any way, and simply returns its content raw and unchanged, as a bytes object; writing takes a bytes object and transfers it to the file unchanged. Binary-mode files also accept a bytearray object for the content to be written to the file."
   ]
  },
  {
   "cell_type": "code",
   "execution_count": null,
   "id": "051c9af5",
   "metadata": {},
   "outputs": [],
   "source": [
    "# Q5. How can you interpret a Unicode text file containing text encoded in a different encoding than your platform's default?\n",
    "# Ans: Use of encode() and decode() method can be used to you interpret a Unicode text file containing text encoded in a different encoding than your platform's default, by default encoding parameter is UTF-8"
   ]
  },
  {
   "cell_type": "code",
   "execution_count": 70,
   "id": "c603b690",
   "metadata": {},
   "outputs": [
    {
     "name": "stdout",
     "output_type": "stream",
     "text": [
      "b'Hey I am there'\n",
      "\n",
      "b'Hey I am there'\n"
     ]
    }
   ],
   "source": [
    "# Q6. What is the best way to make a Unicode text file in a particular encoding format?\n",
    "# Ans: Use str.encode() and file.write() to make a Unicode text file in a particular encoding format, default encoding format is UTF-18.\n",
    "\n",
    "\n",
    "unicode_text = u\"Hey I am there\"\n",
    "encoded_unicode_text = unicode_text.encode(\"utf-8\")\n",
    "print(encoded_unicode_text,end=\"\\n\\n\")\n",
    "\n",
    "w_file = open(\"w_file.txt\",\"wb\")\n",
    "w_file.write(encoded_unicode_text)\n",
    "w_file.close()\n",
    "\n",
    "r_file = open(\"w_file.txt\",\"rb\")\n",
    "data = r_file.read()\n",
    "print(data)"
   ]
  },
  {
   "cell_type": "code",
   "execution_count": null,
   "id": "ee60906b",
   "metadata": {},
   "outputs": [],
   "source": [
    "# Q7. What qualifies ASCII text as a form of Unicode text?\n",
    "# Ans: Unicode represents most written languages in the world.\n",
    "#     ASCII has its equivalent in Unicode. \n",
    "#     The difference between ASCII and Unicode is that ASCII represents lowercase letters (a-z),\n",
    "#     uppercase letters (A-Z), digits (0–9) and symbols such as punctuation marks while Unicode represents letters of English, Arabic, Greek etc. mathematical symbols, historical scripts, emoji covering a wide range of characters than ASCII."
   ]
  },
  {
   "cell_type": "code",
   "execution_count": 72,
   "id": "9e57f8f0",
   "metadata": {},
   "outputs": [],
   "source": [
    "# Q8. How much of an effect does the change in string types in Python 3.X have on your code?\n",
    "# Ans: Python 3 stores strings as Unicode by default whereas Python 2 \n",
    "# requires you to mark a string with a u if you want to store it as Unicode. Unicode strings are more versatile than ASCII strings, which are the Python 3.X default, as they can store letters from foreign languages as well as emoji and the standard Roman letters and numerals."
   ]
  }
 ],
 "metadata": {
  "kernelspec": {
   "display_name": "Python 3 (ipykernel)",
   "language": "python",
   "name": "python3"
  },
  "language_info": {
   "codemirror_mode": {
    "name": "ipython",
    "version": 3
   },
   "file_extension": ".py",
   "mimetype": "text/x-python",
   "name": "python",
   "nbconvert_exporter": "python",
   "pygments_lexer": "ipython3",
   "version": "3.11.1"
  }
 },
 "nbformat": 4,
 "nbformat_minor": 5
}
