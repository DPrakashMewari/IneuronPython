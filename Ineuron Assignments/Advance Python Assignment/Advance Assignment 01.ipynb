{
 "cells": [
  {
   "cell_type": "code",
   "execution_count": null,
   "id": "1baa1020",
   "metadata": {},
   "outputs": [],
   "source": [
    "\n",
    "# Q1. What is the purpose of Python&#39;s OOP?\n",
    "\n",
    "# The purpose of Python's Object-Oriented Programming (OOP) is to provide \n",
    "# a way of organizing and structuring code that makes it easier to write, understand, and maintain. \n",
    "# OOP is a programming paradigm that uses objects to represent and manipulate data and their associated behaviors.\n",
    "\n",
    "\n",
    "# OOP allows developers to create classes that encapsulate data and functions, \n",
    "# which can be used to create instances of those classes, also known as objects.\n",
    "# This approach enables the developer to write reusable code that can be used to solve complex problems,\n",
    "# and to design modular systems that can be easily expanded or modified."
   ]
  },
  {
   "cell_type": "code",
   "execution_count": null,
   "id": "60cdea91",
   "metadata": {},
   "outputs": [],
   "source": [
    "# Q2. Where does an inheritance search look for an attribute?\n",
    "\n",
    "# In Python, when an object is asked for an attribute or a method,\n",
    "# the interpreter looks for that attribute or method in a specific order.\n",
    "# This order is called the Method Resolution Order (MRO) and is determined by the inheritance hierarchy of the object.\n",
    "\n",
    "# When an inheritance search is performed to look for an attribute in a subclass,\n",
    "# the interpreter first looks for the attribute in the subclass itself.\n",
    "# If the attribute is not found in the subclass, \n",
    "# the interpreter then looks for the attribute in its parent class or superclasses, following the MRO."
   ]
  },
  {
   "cell_type": "code",
   "execution_count": 11,
   "id": "ce6e87b8",
   "metadata": {},
   "outputs": [
    {
     "name": "stdout",
     "output_type": "stream",
     "text": [
      "Beep Beep!\n"
     ]
    },
    {
     "data": {
      "text/plain": [
       "<bound method Car.honk of <__main__.Car object at 0x000001A95CAA8E10>>"
      ]
     },
     "execution_count": 11,
     "metadata": {},
     "output_type": "execute_result"
    }
   ],
   "source": [
    "# Q3. How do you distinguish between a class object and an instance object?\n",
    "\n",
    "\n",
    "# A class object is a blueprint or a template that defines the attributes \n",
    "# and methods that will be shared by all instances of that class. \n",
    "# An instance object, on the other hand, is a specific object that is created \n",
    "# from a class and has \n",
    "# its own unique set of attributes and values.\n",
    "\n",
    "\n",
    "# Definition: A class object is defined using the \"class\" keyword,\n",
    "#     whereas an instance object is created by calling the class as if it were a function.\n",
    "\n",
    "# Memory allocation: When a class is defined, memory is allocated for the class object. \n",
    "#     When an instance is created, memory is allocated for the instance object.\n",
    "\n",
    "\n",
    "\n",
    "\n",
    "\n",
    "class Car:\n",
    "    category = 'Automobile'\n",
    "    \n",
    "    def honk():\n",
    "        print(\"Beep Beep!\")\n",
    "        return \n",
    "\n",
    "# Creating an instance object of the class Car\n",
    "my_car = Car()\n",
    "\n",
    "\n",
    "# Calling the class method\n",
    "Car.honk()\n",
    "\n",
    "# Calling the instance method\n",
    "my_car.honk\n"
   ]
  },
  {
   "cell_type": "code",
   "execution_count": 13,
   "id": "1b2fa309",
   "metadata": {},
   "outputs": [
    {
     "name": "stdout",
     "output_type": "stream",
     "text": [
      "Prakash 30\n"
     ]
    }
   ],
   "source": [
    "# Q4. What makes the first argument in a class’s method function special?\n",
    "\n",
    "\n",
    "# The first argument of a method function in a class is usually referred to as \"self\". \n",
    "# This argument is special because it refers to the instance of the class that the method is being called on.\n",
    "\n",
    "\n",
    "\n",
    "class Person:\n",
    "    def __init__(self, name, age):\n",
    "        self.name = name\n",
    "        self.age = age\n",
    "    \n",
    "    def introduce(self):\n",
    "        print(self.name,self.age)\n",
    "\n",
    "obj = Person(\"Prakash\", 30)\n",
    "obj.introduce()"
   ]
  },
  {
   "cell_type": "code",
   "execution_count": null,
   "id": "475b6bcc",
   "metadata": {},
   "outputs": [],
   "source": [
    "# Q5. What is the purpose of the __init__ method?\n",
    "\n",
    "\n",
    "# The __init__ method is a special method that is called automatically when an instance of a class is created.\n",
    "# The purpose of the __init__ method is to initialize the attributes of the instance to their default values,\n",
    "# or to values passed as arguments during instantiation."
   ]
  },
  {
   "cell_type": "code",
   "execution_count": 16,
   "id": "300a10a3",
   "metadata": {},
   "outputs": [],
   "source": [
    "# Q6. What is the process for creating a class instance?\n",
    "\n",
    "# To create a class instance, we need to call the class by its name and pass the arguments to the class,\n",
    "# which its init method accepts.\n",
    "\n",
    "\n",
    "class Myclass:\n",
    "    def __init__(self,demo):\n",
    "        self.demo = demo\n",
    "        \n",
    "obj = Myclass('Demo')"
   ]
  },
  {
   "cell_type": "code",
   "execution_count": 18,
   "id": "dc276e33",
   "metadata": {},
   "outputs": [],
   "source": [
    "# Q7. What is the process for creating a class?\n",
    "\n",
    "# Ans: class keyword is used to created a class in python. The syntax to create a class in python is class <classname>:\n",
    "\n",
    "class sample_class:\n",
    "    pass\n"
   ]
  },
  {
   "cell_type": "code",
   "execution_count": 21,
   "id": "5bd8b463",
   "metadata": {},
   "outputs": [],
   "source": [
    "# Q8. How would you define the superclasses of a class?\n",
    "\n",
    "# Ans Superclass or a Parent class is given as a arugment to the child class\n",
    "\n",
    "\n",
    "class Animal:\n",
    "    def __init__(self, name):\n",
    "        self.name = name\n",
    "        \n",
    "    def move(self):\n",
    "        print(\"He is moving.\")\n",
    "        \n",
    "class Dog(Animal):\n",
    "    def bark(self):\n",
    "        print(\"Woof!\")\n",
    "        \n",
    "\n",
    "Dogobject = Dog('Shiro')"
   ]
  }
 ],
 "metadata": {
  "kernelspec": {
   "display_name": "Python 3 (ipykernel)",
   "language": "python",
   "name": "python3"
  },
  "language_info": {
   "codemirror_mode": {
    "name": "ipython",
    "version": 3
   },
   "file_extension": ".py",
   "mimetype": "text/x-python",
   "name": "python",
   "nbconvert_exporter": "python",
   "pygments_lexer": "ipython3",
   "version": "3.11.1"
  }
 },
 "nbformat": 4,
 "nbformat_minor": 5
}
