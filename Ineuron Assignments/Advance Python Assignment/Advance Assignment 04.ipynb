{
 "cells": [
  {
   "cell_type": "code",
   "execution_count": 41,
   "id": "0d83b80a",
   "metadata": {},
   "outputs": [
    {
     "name": "stdout",
     "output_type": "stream",
     "text": [
      "1\n",
      "23\n",
      "2\n",
      "3223\n",
      "44\n"
     ]
    }
   ],
   "source": [
    "# Q1. Which two operator overloading methods can you use in your classes to support iteration?\n",
    "\n",
    "# For support Iteration we can use two operator overloading methods \n",
    "\n",
    "# __iter__ \n",
    "# __next__\n",
    "\n",
    "\n",
    "class Demo: \n",
    "    def __init__(self,items):\n",
    "        self.items = items \n",
    "        \n",
    "    def __iter__(self):\n",
    "        return DemoIteratorExample(self.items)\n",
    "\n",
    "class DemoIteratorExample:\n",
    "    def __init__(self,items):\n",
    "        self.items = items \n",
    "        self.index = 0 \n",
    "    def __next__(self):\n",
    "        if self.index >= len(self.items):\n",
    "#             raise 'CustomError'\n",
    "            raise StopIteration\n",
    "        value = self.items[self.index]\n",
    "        self.index += 1 \n",
    "        return value \n",
    "    \n",
    "obj = Demo([1,23,2,3223,44])\n",
    "for i in obj:\n",
    "    print(i)"
   ]
  },
  {
   "cell_type": "code",
   "execution_count": 75,
   "id": "f73420c2",
   "metadata": {},
   "outputs": [
    {
     "name": "stdout",
     "output_type": "stream",
     "text": [
      "Your name is Prakash\n",
      "Your Finding this 2023-03-09 21:31:27.177742 \n",
      "No we cant convert back to datetime obj\n",
      "2023-03-09 21:31:27.181499\n",
      "Yes We did it  <class 'datetime.datetime'>\n"
     ]
    }
   ],
   "source": [
    "# Q2. In what contexts do the two operator overloading methods manage printing?\n",
    "\n",
    "\n",
    "# The two operator overloading metthods that manage printing:\n",
    "\n",
    "# __str__ : this function  is used to \n",
    "# return a string \n",
    "# representation of an object.\n",
    "\n",
    "\n",
    "# __repr__ : It is also used to return a string\n",
    "# representation of an object \n",
    "# that can be used to recreate the object. \n",
    "# The string returned by this \n",
    "# method should be a valid Python \n",
    "# expression that can be used to\n",
    "# construct the object.\n",
    "import datetime \n",
    "from datetime import datetime\n",
    "class Demo:\n",
    "    def __init__(self,name,date):\n",
    "        self.name = name\n",
    "        self.date = date\n",
    "    # It is for string Representation\n",
    "    def __str__(self):\n",
    "        return f\"Your name is {self.name}\"\n",
    "    \n",
    "    # It is also for string representation but what string can do it can  \n",
    "    def __repr__(self):\n",
    "        return f\"Your Finding this {self.date} \"\n",
    "    \n",
    "obj = Demo(\"Prakash\",datetime.now())\n",
    "# Now we try to use our string method \n",
    "print(str(obj))\n",
    "print(repr(obj))\n",
    "\n",
    "# Trying what we can do with repr and not with str ...\n",
    "try:\n",
    "    now = str(datetime.now())\n",
    "    d = eval(now)\n",
    "except:\n",
    "    print(\"No we cant convert back to datetime obj\")\n",
    "\n",
    "# With the help of repr it possible\n",
    "import datetime\n",
    "try:\n",
    "    e = repr(datetime.datetime.now())\n",
    "    e = eval(e)\n",
    "    print(e)\n",
    "    print(\"Yes We did it \",type(e))\n",
    "except:\n",
    "    print(\"No we cant convert back to datetime obj\")\n",
    "    "
   ]
  },
  {
   "cell_type": "code",
   "execution_count": 88,
   "id": "ba1fd084",
   "metadata": {},
   "outputs": [
    {
     "name": "stdout",
     "output_type": "stream",
     "text": [
      "(2, 7, 1)\n"
     ]
    },
    {
     "data": {
      "text/plain": [
       "[3, 1, 23, 1, 23]"
      ]
     },
     "execution_count": 88,
     "metadata": {},
     "output_type": "execute_result"
    }
   ],
   "source": [
    "# Q3. In a class, how do you intercept slice operations?\n",
    "\n",
    "class ListSlicingClass:\n",
    "    def __init__(self,data):\n",
    "        self.data = data \n",
    "    def __getitem__(self,key):\n",
    "        if isinstance(key,slice):\n",
    "            print(key.indices(len(self.data)))\n",
    "            start,stop,step = key.indices(len(self.data))\n",
    "            return [self.data[i] for i in range(start,stop,step)]\n",
    "\n",
    "        else:\n",
    "            return self.data[key]\n",
    "        \n",
    "        \n",
    "obj = ListSlicingClass([1,23,3,1,23,1,23])\n",
    "obj[2:]"
   ]
  },
  {
   "cell_type": "code",
   "execution_count": 93,
   "id": "2fd54a6c",
   "metadata": {},
   "outputs": [
    {
     "name": "stdout",
     "output_type": "stream",
     "text": [
      "30\n"
     ]
    }
   ],
   "source": [
    "\n",
    "# Q4. In a class, how do you capture in-place addition?\n",
    "\n",
    "# In this in place addition a itself will store\n",
    "# the value of addition . In class __iadd__ method\n",
    "# is used for this in place operation.\n",
    "\n",
    "\n",
    "class addition:\n",
    "    def __init__(self,num):\n",
    "        self.num = num \n",
    "    def __iadd__(self,num1):\n",
    "        self.num += num1.num\n",
    "        return self.num \n",
    "\n",
    "a = addition(10)\n",
    "b = addition(20)\n",
    "a += b \n",
    "print(a)\n"
   ]
  },
  {
   "cell_type": "code",
   "execution_count": 96,
   "id": "521702d9",
   "metadata": {},
   "outputs": [
    {
     "name": "stdout",
     "output_type": "stream",
     "text": [
      "250\n"
     ]
    }
   ],
   "source": [
    "# Q5. When is it appropriate to use operator overloading?\n",
    "\n",
    "# Operator Overloading is used when we want \n",
    "# want to use an operator other then a normal operation \n",
    "# to have differenet meaning.\n",
    "\n",
    "\n",
    "class demo:\n",
    "    def __init__(self,num1):\n",
    "        self.num1 = num1\n",
    "    def __add__(self,num2):\n",
    "        return self.num1 + num2.num1\n",
    "    \n",
    "a = demo(120)\n",
    "b = demo(130)\n",
    "print(a+b)"
   ]
  },
  {
   "cell_type": "code",
   "execution_count": null,
   "id": "625736e4",
   "metadata": {},
   "outputs": [],
   "source": []
  },
  {
   "cell_type": "code",
   "execution_count": null,
   "id": "61f77c89",
   "metadata": {},
   "outputs": [],
   "source": []
  },
  {
   "cell_type": "code",
   "execution_count": null,
   "id": "f52a4acf",
   "metadata": {},
   "outputs": [],
   "source": []
  },
  {
   "cell_type": "code",
   "execution_count": null,
   "id": "1a5db654",
   "metadata": {},
   "outputs": [],
   "source": []
  }
 ],
 "metadata": {
  "kernelspec": {
   "display_name": "Python 3 (ipykernel)",
   "language": "python",
   "name": "python3"
  },
  "language_info": {
   "codemirror_mode": {
    "name": "ipython",
    "version": 3
   },
   "file_extension": ".py",
   "mimetype": "text/x-python",
   "name": "python",
   "nbconvert_exporter": "python",
   "pygments_lexer": "ipython3",
   "version": "3.11.1"
  }
 },
 "nbformat": 4,
 "nbformat_minor": 5
}
