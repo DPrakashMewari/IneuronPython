{
 "cells": [
  {
   "cell_type": "code",
   "execution_count": 2,
   "id": "345dab89-4bd2-4edd-b688-b7f3e6d91b3e",
   "metadata": {},
   "outputs": [],
   "source": [
    "# Q1. What is the meaning of multiple inheritance?\n",
    "\n",
    "# Multiple inheritance is a feature in object-oriented programming where a \n",
    "# class can inherit behaviors and attributes from more than one parent class. \n",
    "# This means that a single child class can inherit the properties of multiple parent classes simultaneously.\n",
    "\n",
    "\n",
    "class DemoA:\n",
    "    pass\n",
    "class DemoB:\n",
    "    pass\n",
    "class Demo1(DemoA,DemoB):\n",
    "    pass"
   ]
  },
  {
   "cell_type": "code",
   "execution_count": 20,
   "id": "7c4a4547-6a20-40ba-9666-362463ff5e2d",
   "metadata": {},
   "outputs": [
    {
     "name": "stdout",
     "output_type": "stream",
     "text": [
      "Printing :  data.pdf\n"
     ]
    }
   ],
   "source": [
    "# Q2. What is the concept of delegation?\n",
    "\n",
    "# Delegation is a fundamental concept in Object-Oriented Programming (OOP) \n",
    "# that allows one object to use the services of another object,\n",
    "# without having to know the details of how those services are implemented. \n",
    "# In other words, delegation is a mechanism that allows an object to pass responsibility for\n",
    "# a particular task to another object.\n",
    "\n",
    "\n",
    "class Printer:\n",
    "    def print_doc(self,document):\n",
    "        pass\n",
    "class RealPrint(Printer):\n",
    "    def print_doc(self,document):\n",
    "        print(\"Printing : \" ,document)\n",
    "\n",
    "class printerpro(Printer):\n",
    "    def __init__(self):\n",
    "        self.obj = RealPrint()\n",
    "    def print_doc(self,document):\n",
    "        if True:\n",
    "            self.obj.print_doc(document)\n",
    "        else:\n",
    "            print(\"Sorry It is not able to print\")\n",
    "\n",
    "\n",
    "obj = printerpro()\n",
    "\n",
    "obj.print_doc(\"data.pdf\")\n",
    "    \n"
   ]
  },
  {
   "cell_type": "code",
   "execution_count": 25,
   "id": "06ecdf4d-4320-402d-804c-23cbffaab760",
   "metadata": {},
   "outputs": [
    {
     "name": "stdout",
     "output_type": "stream",
     "text": [
      "Eating Food\n",
      "Dog Eating Dog Food\n"
     ]
    }
   ],
   "source": [
    "# What is the concept of composition ?\n",
    "\n",
    "\n",
    "# Composition is another fundamental concept in Object-Oriented Programming (OOP) that allows objects to be combined\n",
    "# to create more complex objects. Composition is the process of creating complex \n",
    "# objects by combining simpler objects or components. In other words, \n",
    "# composition is a way to build a more complex object by assembling smaller objects together.\n",
    "\n",
    "\n",
    "\n",
    "\n",
    "class Animal:\n",
    "    def eatfood(self):\n",
    "        print(\"Eating Food\")\n",
    "class Dog:\n",
    "    def __init__(self):\n",
    "        self.animal = Animal()\n",
    "    def eatfood(self):\n",
    "        self.animal.eatfood()\n",
    "        print(\"Dog Eating Dog Food\")\n",
    "obj = Dog()\n",
    "obj.eatfood()"
   ]
  },
  {
   "cell_type": "code",
   "execution_count": 29,
   "id": "9a0eabff-72f8-426b-8f6a-574feb1f028b",
   "metadata": {},
   "outputs": [],
   "source": [
    "# Q4. What are bound methods and how do we use them?\n",
    "\n",
    "# If a function is an attribute of class and it is accessed\n",
    "# via the instances they are called bound methods.\n",
    "\n",
    "# A bound method is one that has self as its first argument.\n",
    "# Since these are dependent on the instance of classes, these are also known as instance methods.\n",
    "\n",
    "class Demo:\n",
    "    def myfunc(self): # Bound Methods\n",
    "        pass\n",
    "    def myafunct(self):\n",
    "        pass\n",
    "    \n",
    "obj = Demo()\n",
    "obj.myfunc()"
   ]
  },
  {
   "cell_type": "code",
   "execution_count": 37,
   "id": "01866d03-c58c-413b-af2b-d298f65a12d7",
   "metadata": {},
   "outputs": [
    {
     "name": "stdout",
     "output_type": "stream",
     "text": [
      "password ,P-ray-sh\n",
      "None\n",
      "password\n"
     ]
    }
   ],
   "source": [
    "# Q5. What is the purpose of pseudoprivate attributes?\n",
    "\n",
    "# In Python, pseudoprivate attributes are attributes that have a name\n",
    "# that starts with double underscore (__). \n",
    "# Pseudoprivate attributes are not truly private,\n",
    "# as they can still be accessed and modified \n",
    "# from outside the class using a special name mangling technique\n",
    "\n",
    "class Demo:\n",
    "    def __init__(self):\n",
    "        self.__privateattr = \"password\"\n",
    "        self.__otherattr = \"P-ray-sh\"\n",
    "    def get_try(self):\n",
    "        print(f\"{self.__privateattr} ,{self.__otherattr}\")\n",
    "\n",
    "obj = Demo()\n",
    "print(obj.get_try())\n",
    "# print(obj.__privateattr)# raise error\n",
    "# print(obj.__otherattr)# raise error\n",
    "print(obj._Demo__privateattr)"
   ]
  },
  {
   "cell_type": "code",
   "execution_count": null,
   "id": "971a79a7-bda4-4375-9ce8-f44d86dc38f3",
   "metadata": {},
   "outputs": [],
   "source": []
  }
 ],
 "metadata": {
  "kernelspec": {
   "display_name": "Python 3 (ipykernel)",
   "language": "python",
   "name": "python3"
  },
  "language_info": {
   "codemirror_mode": {
    "name": "ipython",
    "version": 3
   },
   "file_extension": ".py",
   "mimetype": "text/x-python",
   "name": "python",
   "nbconvert_exporter": "python",
   "pygments_lexer": "ipython3",
   "version": "3.10.6"
  }
 },
 "nbformat": 4,
 "nbformat_minor": 5
}
