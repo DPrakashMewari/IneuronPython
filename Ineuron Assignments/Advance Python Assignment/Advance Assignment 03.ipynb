{
 "cells": [
  {
   "cell_type": "code",
   "execution_count": null,
   "id": "738bf843",
   "metadata": {},
   "outputs": [],
   "source": [
    "# 1. What is the concept of an abstract superclass?\n",
    "\n",
    "# An abstract class can be considered as a blueprint for \n",
    "# other . It allows you to create a set of methods that must be created \n",
    "# within any child class. A class which contains one or more abstract methods \n",
    "# are called abstract class \n",
    "\n",
    "# Abstract method has a declaration but not have an implementation \n",
    "\n",
    "\n",
    "from abc import abstractmethod\n",
    "class demo(ABC): # Abstract class\n",
    "    @abstractmethod\n",
    "    def action(self): # Abstract Method\n",
    "        pass\n",
    "class OtherDemo(demo):   \n",
    "    def action(self):\n",
    "        print(\"Action...\") # Overiding Abstract Method IN child Class\n",
    "class AnotherDemo(demo):\n",
    "    def action(self):\n",
    "        print(\"A Action ...\") # Overiding Abstract Method In Child Class\n",
    "        "
   ]
  },
  {
   "cell_type": "code",
   "execution_count": 1,
   "id": "3f82257d",
   "metadata": {},
   "outputs": [],
   "source": [
    "# 2. What happens when a class statement's top level contains a basic assignment statement?\n",
    "\n",
    "\n",
    "# Class Statement Top level contain a basic Assignment statement.\n",
    "# Its usually Treated as class Attribute \n",
    "class Demo:\n",
    "    action = 'Do Something'  # Class Attribute\n",
    "    \n",
    "# Inside Methods in class it treated as Instance Attribute\n"
   ]
  },
  {
   "cell_type": "code",
   "execution_count": 9,
   "id": "542b71d5",
   "metadata": {},
   "outputs": [
    {
     "data": {
      "text/plain": [
       "{'name': 'Prakash', 'address': 'Xyz'}"
      ]
     },
     "execution_count": 9,
     "metadata": {},
     "output_type": "execute_result"
    }
   ],
   "source": [
    "# 3. Why does a class need to manually \n",
    "# call a superclass's \n",
    "# init method?\n",
    "\n",
    "\n",
    "# Child Class has __init__ method But it will not inherit \n",
    "# the properites of parent class . Meaning  __init__ method of\n",
    "# child class overides the __init__ method of parent class \n",
    "# In that case we need to call super() method to call parent properties \n",
    "\n",
    "\n",
    "class Demo:\n",
    "    def __init__(self,name):\n",
    "        self.name = name \n",
    "class Demo1(Demo):\n",
    "    def __init__(self,name,address):\n",
    "        super().__init__(name)\n",
    "        self.address= address\n",
    "\n",
    "obj = Demo1('Prakash','Xyz')\n",
    "obj.__dict__"
   ]
  },
  {
   "cell_type": "code",
   "execution_count": 13,
   "id": "d410311a",
   "metadata": {},
   "outputs": [
    {
     "data": {
      "text/plain": [
       "{'name': 'P-a-y-sh', 'address': 'Zyz'}"
      ]
     },
     "execution_count": 13,
     "metadata": {},
     "output_type": "execute_result"
    }
   ],
   "source": [
    "# 4. How can you augment,\n",
    "# instead of completely replacing, an inherited method?\n",
    "\n",
    "\n",
    "\n",
    "# super() method can be used to augment instead of \n",
    "# completely replacing an inherited method\n",
    "\n",
    "\n",
    "class Demo:\n",
    "    def __init__(self,name):\n",
    "        self.name = name \n",
    "class Demo1(Demo):\n",
    "    def __init__(self,name,address):\n",
    "        super().__init__(name)\n",
    "        self.address= address\n",
    "\n",
    "obj = Demo1('P-a-y-sh','Zyz')\n",
    "obj.__dict__"
   ]
  },
  {
   "cell_type": "code",
   "execution_count": 23,
   "id": "1238e3ae",
   "metadata": {},
   "outputs": [
    {
     "name": "stdout",
     "output_type": "stream",
     "text": [
      "name is not accessible\n",
      " Name is Praksh\n"
     ]
    },
    {
     "data": {
      "text/plain": [
       "'Horse'"
      ]
     },
     "execution_count": 23,
     "metadata": {},
     "output_type": "execute_result"
    }
   ],
   "source": [
    "# 5. How is the local scope of a class different from that of a function?\n",
    "\n",
    "\n",
    "\n",
    "# Local scoope in regular function which is accessible \n",
    "# inside the function only . Outside we cant able to access\n",
    "# that variable .\n",
    "def Plainfunction(name):\n",
    "    name = name \n",
    "    print(f\" Name is {name}\")\n",
    "\n",
    "try:\n",
    "    name \n",
    "except:\n",
    "    print('name is not accessible')\n",
    "    \n",
    "Plainfunction('Praksh')\n",
    "\n",
    "\n",
    "\n",
    "# In class local scope of a variable accessible even outside of the class\n",
    "# Using . They called  as a class variable.\n",
    "class Demo:\n",
    "    animal = 'Horse'\n",
    "    def __init__(self):\n",
    "        pass\n",
    "    \n",
    "Demo.animal"
   ]
  },
  {
   "cell_type": "code",
   "execution_count": null,
   "id": "f39a0847",
   "metadata": {},
   "outputs": [],
   "source": []
  }
 ],
 "metadata": {
  "kernelspec": {
   "display_name": "Python 3 (ipykernel)",
   "language": "python",
   "name": "python3"
  },
  "language_info": {
   "codemirror_mode": {
    "name": "ipython",
    "version": 3
   },
   "file_extension": ".py",
   "mimetype": "text/x-python",
   "name": "python",
   "nbconvert_exporter": "python",
   "pygments_lexer": "ipython3",
   "version": "3.11.1"
  }
 },
 "nbformat": 4,
 "nbformat_minor": 5
}
