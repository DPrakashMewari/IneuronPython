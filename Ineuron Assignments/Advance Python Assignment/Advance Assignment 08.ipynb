{
 "cells": [
  {
   "cell_type": "code",
   "execution_count": null,
   "id": "35ee0f46-a0b9-448b-b605-c1606390ad35",
   "metadata": {},
   "outputs": [],
   "source": [
    "# Q1. What are the two latest user-defined exception constraints in Python 3.X?\n",
    "\n",
    "\n",
    "\n",
    "# raise and assert are the two user-defined exception constraints in Python 3.X"
   ]
  },
  {
   "cell_type": "code",
   "execution_count": 1,
   "id": "c36fa526-e1cf-4a78-adbb-383eb9462221",
   "metadata": {},
   "outputs": [
    {
     "ename": "MyCustomError",
     "evalue": "Custom Error Happen !",
     "output_type": "error",
     "traceback": [
      "\u001b[0;31m---------------------------------------------------------------------------\u001b[0m",
      "\u001b[0;31mMyCustomError\u001b[0m                             Traceback (most recent call last)",
      "Cell \u001b[0;32mIn [1], line 15\u001b[0m\n\u001b[1;32m     13\u001b[0m a \u001b[38;5;241m=\u001b[39m \u001b[38;5;241m2\u001b[39m  \n\u001b[1;32m     14\u001b[0m \u001b[38;5;28;01mif\u001b[39;00m a \u001b[38;5;241m<\u001b[39m \u001b[38;5;241m3\u001b[39m:\n\u001b[0;32m---> 15\u001b[0m     \u001b[38;5;28;01mraise\u001b[39;00m MyCustomError(\u001b[38;5;124m\"\u001b[39m\u001b[38;5;124mCustom Error Happen !\u001b[39m\u001b[38;5;124m\"\u001b[39m)\n",
      "\u001b[0;31mMyCustomError\u001b[0m: Custom Error Happen !"
     ]
    }
   ],
   "source": [
    "# Q2. How are class-based exceptions that have been raised matched to handlers?\n",
    "\n",
    "# In python, Users can define custom exceptions by creating a new class. \n",
    "# This exception class has to be derived, \n",
    "# either directly or indirectly from built-in Exception class. \n",
    "# This new exception class \n",
    "# like other exceptions can be raised using the \n",
    "# raise statement with an optional error message.\n",
    "\n",
    "class MyCustomError(Exception):\n",
    "    def __init__(self,msg):\n",
    "        self.msg = msg \n",
    "a = 2  \n",
    "if a < 3:\n",
    "    raise MyCustomError(\"Custom Error Happen !\")\n"
   ]
  },
  {
   "cell_type": "code",
   "execution_count": 5,
   "id": "43c17bc8-c904-4fcd-aba2-4da8a5a27893",
   "metadata": {},
   "outputs": [
    {
     "ename": "MyCustomError",
     "evalue": "division by zero",
     "output_type": "error",
     "traceback": [
      "\u001b[0;31m---------------------------------------------------------------------------\u001b[0m",
      "\u001b[0;31mZeroDivisionError\u001b[0m                         Traceback (most recent call last)",
      "Cell \u001b[0;32mIn [5], line 20\u001b[0m\n\u001b[1;32m     19\u001b[0m \u001b[38;5;28;01mtry\u001b[39;00m:\n\u001b[0;32m---> 20\u001b[0m     a\u001b[38;5;241m=\u001b[39m \u001b[38;5;241;43m4\u001b[39;49m\u001b[38;5;241;43m/\u001b[39;49m\u001b[38;5;241;43m0\u001b[39;49m\n\u001b[1;32m     21\u001b[0m     \u001b[38;5;28mprint\u001b[39m(a)\n",
      "\u001b[0;31mZeroDivisionError\u001b[0m: division by zero",
      "\nDuring handling of the above exception, another exception occurred:\n",
      "\u001b[0;31mMyCustomError\u001b[0m                             Traceback (most recent call last)",
      "Cell \u001b[0;32mIn [5], line 23\u001b[0m\n\u001b[1;32m     21\u001b[0m     \u001b[38;5;28mprint\u001b[39m(a)\n\u001b[1;32m     22\u001b[0m \u001b[38;5;28;01mexcept\u001b[39;00m \u001b[38;5;167;01mException\u001b[39;00m \u001b[38;5;28;01mas\u001b[39;00m e:\n\u001b[0;32m---> 23\u001b[0m     \u001b[38;5;28;01mraise\u001b[39;00m MyCustomError(e)\n",
      "\u001b[0;31mMyCustomError\u001b[0m: division by zero"
     ]
    }
   ],
   "source": [
    "# Q3. Describe two methods for attaching context information to exception artifacts.\n",
    "\n",
    "# When an exception is raised in a program, it can be helpful to include context information \n",
    "# that can help developers understand what went wrong and why.\n",
    "# Here are two methods for attaching context information to exception artifacts:\n",
    "\n",
    "# Custom exception classes: One way to include context information with an exception is \n",
    "         # to create a custom exception class that includes additional properties or methods\n",
    "         # Example when any error occur, that error information can be captured for debugging it.\n",
    "        \n",
    "# Exception chaining: Another method for attaching context information \n",
    "        # to an exception is to use exception chaining.\n",
    "        #When an exception is caught, you can create a new exception object\n",
    "        #that includes the original exception as a \"cause\" or \"context\" object. \n",
    "        #This can be done using the raise statement with a from clause in Python\n",
    "        \n",
    "# Example \n",
    "\n",
    "try:\n",
    "    a= 4/0\n",
    "    print(a)\n",
    "except Exception as e:\n",
    "    raise MyCustomError(e) \n"
   ]
  },
  {
   "cell_type": "code",
   "execution_count": null,
   "id": "2493baf6-ea06-4c6e-a760-3d53241b16b1",
   "metadata": {},
   "outputs": [],
   "source": [
    "try:\n",
    "    # some code that may raise an exception\n",
    "except SomeException as e:\n",
    "    # attach context information and raise a new exception\n",
    "    raise NewException(\"Something went wrong\", cause=e) from e\n"
   ]
  },
  {
   "cell_type": "code",
   "execution_count": 6,
   "id": "9d8d1b54-53ab-4711-ad93-898038389a28",
   "metadata": {},
   "outputs": [
    {
     "ename": "ValueError",
     "evalue": "a is less than 4",
     "output_type": "error",
     "traceback": [
      "\u001b[0;31m---------------------------------------------------------------------------\u001b[0m",
      "\u001b[0;31mValueError\u001b[0m                                Traceback (most recent call last)",
      "Cell \u001b[0;32mIn [6], line 11\u001b[0m\n\u001b[1;32m      9\u001b[0m a \u001b[38;5;241m=\u001b[39m \u001b[38;5;241m3\u001b[39m \n\u001b[1;32m     10\u001b[0m \u001b[38;5;28;01mif\u001b[39;00m  a \u001b[38;5;241m<\u001b[39m \u001b[38;5;241m4\u001b[39m:\n\u001b[0;32m---> 11\u001b[0m     \u001b[38;5;28;01mraise\u001b[39;00m \u001b[38;5;167;01mValueError\u001b[39;00m(\u001b[38;5;124m\"\u001b[39m\u001b[38;5;124ma is less than 4\u001b[39m\u001b[38;5;124m\"\u001b[39m)\n",
      "\u001b[0;31mValueError\u001b[0m: a is less than 4"
     ]
    }
   ],
   "source": [
    "# Q4. Describe two methods for specifying the text of an exception objects error message.\n",
    "\n",
    "\n",
    "# When an exception is raised in a program, \n",
    "# it is important to provide an informative error message that describes \n",
    "# what went wrong\n",
    "\n",
    "# Custom error \n",
    "a = 3 \n",
    "if  a < 4:\n",
    "    raise ValueError(\"a is less than 4\")"
   ]
  },
  {
   "cell_type": "code",
   "execution_count": 8,
   "id": "07a8a6ca-950a-401e-9797-7d41e36894cb",
   "metadata": {},
   "outputs": [
    {
     "ename": "RuntimeError",
     "evalue": "Error reading file : [Errno 2] No such file or directory: 'new.txt'",
     "output_type": "error",
     "traceback": [
      "\u001b[0;31m---------------------------------------------------------------------------\u001b[0m",
      "\u001b[0;31mFileNotFoundError\u001b[0m                         Traceback (most recent call last)",
      "Cell \u001b[0;32mIn [8], line 3\u001b[0m\n\u001b[1;32m      2\u001b[0m \u001b[38;5;28;01mtry\u001b[39;00m:\n\u001b[0;32m----> 3\u001b[0m     f \u001b[38;5;241m=\u001b[39m \u001b[38;5;28;43mopen\u001b[39;49m\u001b[43m(\u001b[49m\u001b[38;5;124;43m'\u001b[39;49m\u001b[38;5;124;43mnew.txt\u001b[39;49m\u001b[38;5;124;43m'\u001b[39;49m\u001b[43m,\u001b[49m\u001b[38;5;124;43m'\u001b[39;49m\u001b[38;5;124;43mr\u001b[39;49m\u001b[38;5;124;43m'\u001b[39;49m\u001b[43m)\u001b[49m\n\u001b[1;32m      4\u001b[0m     f\u001b[38;5;241m.\u001b[39mread()\n",
      "\u001b[0;31mFileNotFoundError\u001b[0m: [Errno 2] No such file or directory: 'new.txt'",
      "\nDuring handling of the above exception, another exception occurred:\n",
      "\u001b[0;31mRuntimeError\u001b[0m                              Traceback (most recent call last)",
      "Cell \u001b[0;32mIn [8], line 7\u001b[0m\n\u001b[1;32m      4\u001b[0m     f\u001b[38;5;241m.\u001b[39mread()\n\u001b[1;32m      5\u001b[0m \u001b[38;5;28;01mexcept\u001b[39;00m \u001b[38;5;167;01mIOError\u001b[39;00m \u001b[38;5;28;01mas\u001b[39;00m e:\n\u001b[1;32m      6\u001b[0m     \u001b[38;5;66;03m# format a generic error message and raise an exception\u001b[39;00m\n\u001b[0;32m----> 7\u001b[0m     \u001b[38;5;28;01mraise\u001b[39;00m \u001b[38;5;167;01mRuntimeError\u001b[39;00m(\u001b[38;5;124m\"\u001b[39m\u001b[38;5;124mError reading file : \u001b[39m\u001b[38;5;132;01m{}\u001b[39;00m\u001b[38;5;124m\"\u001b[39m\u001b[38;5;241m.\u001b[39mformat(e))\n",
      "\u001b[0;31mRuntimeError\u001b[0m: Error reading file : [Errno 2] No such file or directory: 'new.txt'"
     ]
    }
   ],
   "source": [
    "# Format a generic error message:\n",
    "try:\n",
    "    f = open('new.txt','r')\n",
    "    f.read()\n",
    "except IOError as e:\n",
    "    # format a generic error message and raise an exception\n",
    "    raise RuntimeError(\"Error reading file : {}\".format(e))"
   ]
  },
  {
   "cell_type": "code",
   "execution_count": null,
   "id": "1c59cfa0-a6d5-4849-9359-436a64f62dfe",
   "metadata": {},
   "outputs": [],
   "source": [
    "# Q5. Why do you no longer use string-based exceptions?\n",
    "\n",
    "# Few reasons why string-based exceptions are no longer used:\n",
    "\n",
    "#  Lack of type safety\n",
    "# Limited functionality\n",
    "# Poor code readability\n"
   ]
  }
 ],
 "metadata": {
  "kernelspec": {
   "display_name": "Python 3 (ipykernel)",
   "language": "python",
   "name": "python3"
  },
  "language_info": {
   "codemirror_mode": {
    "name": "ipython",
    "version": 3
   },
   "file_extension": ".py",
   "mimetype": "text/x-python",
   "name": "python",
   "nbconvert_exporter": "python",
   "pygments_lexer": "ipython3",
   "version": "3.10.6"
  }
 },
 "nbformat": 4,
 "nbformat_minor": 5
}
