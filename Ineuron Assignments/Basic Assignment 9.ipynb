{
 "cells": [
  {
   "cell_type": "code",
   "execution_count": 19,
   "id": "473c3088-bd38-4612-b97f-a435584587b7",
   "metadata": {},
   "outputs": [
    {
     "name": "stdin",
     "output_type": "stream",
     "text": [
      " 175\n"
     ]
    },
    {
     "name": "stdout",
     "output_type": "stream",
     "text": [
      "It is disarium number\n"
     ]
    }
   ],
   "source": [
    "# Write a Python program to check if the given number is a Disarium Number?\n",
    "\n",
    "\n",
    "def disarium(n):\n",
    "    temp_no = 0 \n",
    "    for i in range(len(str(n))):\n",
    "        temp_no += int(str(n)[i]) ** (i+1)\n",
    "        status = temp_no == n \n",
    "    return status\n",
    "        \n",
    "\n",
    "    \n",
    "    \n",
    "if disarium(int(input())):\n",
    "    print(\"It is disarium number\")\n",
    "else:\n",
    "    print(\"It is not disarium number\")"
   ]
  },
  {
   "cell_type": "code",
   "execution_count": 20,
   "id": "b86fe031-7133-4cc5-b636-5b5b5ac94e43",
   "metadata": {},
   "outputs": [
    {
     "name": "stdout",
     "output_type": "stream",
     "text": [
      "0\n",
      "1\n",
      "2\n",
      "3\n",
      "4\n",
      "5\n",
      "6\n",
      "7\n",
      "8\n",
      "9\n",
      "89\n"
     ]
    }
   ],
   "source": [
    "# 2. Write a Python program to print all disarium numbers between 1 to 100?\n",
    "\n",
    "def disarium_print(n):\n",
    "    for i in range(n):\n",
    "        if disarium(i):\n",
    "            print(i)\n",
    "\n",
    "            \n",
    "            \n",
    "disarium_print(100)"
   ]
  },
  {
   "cell_type": "code",
   "execution_count": 22,
   "id": "a0ca0bfe-efb5-4cb7-a19f-07a4bc2331af",
   "metadata": {},
   "outputs": [],
   "source": [
    "def happy_no_check(n):\n",
    "    past = set()\n",
    "    while n!=1:\n",
    "        n = sum(int(i)**2 for i in str(n))\n",
    "        if n in past:\n",
    "            return False\n",
    "        past.add(n)\n",
    "    return True"
   ]
  },
  {
   "cell_type": "code",
   "execution_count": 27,
   "id": "76eb3d6b-89de-42c6-9554-a7710926173a",
   "metadata": {},
   "outputs": [
    {
     "data": {
      "text/plain": [
       "False"
      ]
     },
     "execution_count": 29,
     "metadata": {},
     "output_type": "execute_result"
    }
   ],
   "source": [
    "happy_no_check(48)"
   ]
  },
  {
   "cell_type": "code",
   "execution_count": 36,
   "id": "6a1f3a2b-54f0-4f1c-b313-292a0fd3a1aa",
   "metadata": {},
   "outputs": [
    {
     "name": "stdout",
     "output_type": "stream",
     "text": [
      "[1, 7, 10, 13, 19, 23, 28, 31, 32, 44, 49, 68, 70, 79, 82, 86, 91, 94, 97]\n"
     ]
    }
   ],
   "source": [
    "# 4. Write a Python program to print all happy numbers between 1 and 100?\n",
    "\n",
    "happy_no=[x for x in range(1,100) if happy_no_check(x)]\n",
    "print(happy_no)"
   ]
  },
  {
   "cell_type": "code",
   "execution_count": 2,
   "id": "f1f706d0-0da3-4da2-b6a5-f8792454b401",
   "metadata": {},
   "outputs": [
    {
     "name": "stdout",
     "output_type": "stream",
     "text": [
      "3\n"
     ]
    },
    {
     "data": {
      "text/plain": [
       "True"
      ]
     },
     "execution_count": 2,
     "metadata": {},
     "output_type": "execute_result"
    }
   ],
   "source": [
    "# Write a Python program to determine whether the given number is a Harshad Number?\n",
    "\n",
    "def checkHarshad(n):\n",
    "    st = str(n)\n",
    "    sum1 = 0 \n",
    "    length = len(st)\n",
    "    for i in st:\n",
    "        sum1 += int(i)\n",
    "    print(sum1)\n",
    "    if (n  % sum1 == 0 ):\n",
    "        return True\n",
    "    return False\n",
    "        \n",
    "checkHarshad(12)\n"
   ]
  },
  {
   "cell_type": "code",
   "execution_count": 10,
   "id": "9ac0a70e-f739-4e65-825e-2096457dcfc6",
   "metadata": {},
   "outputs": [
    {
     "data": {
      "text/plain": [
       "[2, 6, 12, 20, 30, 42, 56, 72, 90]"
      ]
     },
     "execution_count": 10,
     "metadata": {},
     "output_type": "execute_result"
    }
   ],
   "source": [
    "import math \n",
    "def checkPronic(x):\n",
    "    for i in range(int(math.sqrt(x)) + 1):\n",
    "        if (x == i *(i + 1)):\n",
    "            return True\n",
    "    return False\n",
    "\n",
    "\n",
    "[x for x in range(1,100) if checkPronic(x)]"
   ]
  },
  {
   "cell_type": "code",
   "execution_count": null,
   "id": "c4c11197-b380-476d-8ecd-5de7d2170357",
   "metadata": {},
   "outputs": [],
   "source": []
  },
  {
   "cell_type": "code",
   "execution_count": null,
   "id": "150e858c-13da-4695-a1cd-500edf7848c9",
   "metadata": {},
   "outputs": [],
   "source": []
  }
 ],
 "metadata": {
  "kernelspec": {
   "display_name": "Python 3 (ipykernel)",
   "language": "python",
   "name": "python3"
  },
  "language_info": {
   "codemirror_mode": {
    "name": "ipython",
    "version": 3
   },
   "file_extension": ".py",
   "mimetype": "text/x-python",
   "name": "python",
   "nbconvert_exporter": "python",
   "pygments_lexer": "ipython3",
   "version": "3.10.6"
  }
 },
 "nbformat": 4,
 "nbformat_minor": 5
}
