{
 "cells": [
  {
   "cell_type": "code",
   "execution_count": 5,
   "id": "533762cf",
   "metadata": {},
   "outputs": [
    {
     "name": "stdout",
     "output_type": "stream",
     "text": [
      "[1, 2, 3, 40]\n",
      "[1, 2, 3]\n",
      "[1, 2, 3, 40, 5, 6, 7, 80, 9, 10, 11, 120, 13, 14, 15, 160, 17, 18, 19, 200, 21, 22, 23, 240, 25]\n"
     ]
    }
   ],
   "source": [
    "# 1.Create a function that takes an integer and returns a list from 1 to the given number, where:\n",
    "\n",
    "def amplify(n):\n",
    "    l1 = []\n",
    "    for i in range(1,n+1):\n",
    "        if (i % 4) == 0 :\n",
    "            l1.append(i * 10)\n",
    "        else:\n",
    "            l1.append(i)\n",
    "    return l1 \n",
    "\n",
    "\n",
    "print(amplify(4))\n",
    "\n",
    "\n",
    "print(amplify(3))\n",
    "\n",
    "\n",
    "print(amplify(25))\n"
   ]
  },
  {
   "cell_type": "code",
   "execution_count": 11,
   "id": "b15ec836",
   "metadata": {},
   "outputs": [
    {
     "data": {
      "text/plain": [
       "0"
      ]
     },
     "execution_count": 11,
     "metadata": {},
     "output_type": "execute_result"
    }
   ],
   "source": [
    "# Create a function that takes a list of numbers and return the number that&#39;s unique.\n",
    "\n",
    "def unique(n):\n",
    "    for i in set(n):\n",
    "        if n.count(i) == 1:\n",
    "            val  = i\n",
    "    return val\n",
    "        \n",
    "unique([3, 3, 3, 7, 3, 3])\n",
    "unique([0, 0, 0.77, 0, 0])\n",
    "unique([0, 1, 1, 1, 1, 1, 1, 1])"
   ]
  },
  {
   "cell_type": "code",
   "execution_count": 18,
   "id": "68a5cc29",
   "metadata": {},
   "outputs": [
    {
     "name": "stdout",
     "output_type": "stream",
     "text": [
      "radius,380\n",
      "Perimeter ,28\n"
     ]
    }
   ],
   "source": [
    "# Your task is to create a Circle constructor that creates a circle with a radius provided by an\n",
    "# argument. The circles constructed must have two getters getArea() (PIr^2) and\n",
    "# getPerimeter() (2PI*r) which give both respective areas and perimeter (circumference).\n",
    "\n",
    "\n",
    "\n",
    "import math \n",
    "\n",
    "\n",
    "class circle:\n",
    "    def __init__(self,radius):\n",
    "        self.radius = radius \n",
    "    def getarea(self):\n",
    "        print(f\"radius,{round(math.pi*self.radius*self.radius)}\")\n",
    "    def getperimeter(self):\n",
    "        print(f\"Perimeter ,{round(2*math.pi*self.radius)}\")\n",
    "circy = circle(11)\n",
    "\n",
    "circy.getarea()\n",
    "# Should return 380.132711084365 circy = Circle(4.44)\n",
    "\n",
    "circy = circle(4.44)\n",
    "circy.getperimeter()"
   ]
  },
  {
   "cell_type": "code",
   "execution_count": 22,
   "id": "1a9e4931",
   "metadata": {},
   "outputs": [
    {
     "data": {
      "text/plain": [
       "['Jung', 'Turing', 'Einstein']"
      ]
     },
     "execution_count": 22,
     "metadata": {},
     "output_type": "execute_result"
    }
   ],
   "source": [
    "# Create a function that takes a list of strings and return a list, sorted from shortest to longest.\n",
    "\n",
    "def sort_by_length(list_a):\n",
    "    return sorted(list_a,key=len)\n",
    "\n",
    "\n",
    "\n",
    "sort_by_length([\"Google\", \"Apple\", \"Microsoft\"])\n",
    "sort_by_length([\"Leonardo\", \"Michelangelo\", \"Raphael\", \"Donatello\"])\n",
    "sort_by_length([\"Turing\", \"Einstein\", \"Jung\"])\n"
   ]
  },
  {
   "cell_type": "code",
   "execution_count": 29,
   "id": "8a1767e9",
   "metadata": {},
   "outputs": [
    {
     "name": "stdout",
     "output_type": "stream",
     "text": [
      "True\n",
      "False\n"
     ]
    }
   ],
   "source": [
    "# Create a function that validates whether three given integers form a Pythagorean triplet. The\n",
    "# sum of the squares of the two smallest integers must equal the square of the largest number to\n",
    "# be validated.\n",
    "\n",
    "def is_triplet(a,b,c) :\n",
    "    if((a**2+b**2)==(c**2)):\n",
    "        return True \n",
    "    else:\n",
    "        return False \n",
    "    \n",
    "print(is_triplet(3,4,5))\n",
    "print(is_triplet(1,2,3))"
   ]
  }
 ],
 "metadata": {
  "kernelspec": {
   "display_name": "Python 3 (ipykernel)",
   "language": "python",
   "name": "python3"
  },
  "language_info": {
   "codemirror_mode": {
    "name": "ipython",
    "version": 3
   },
   "file_extension": ".py",
   "mimetype": "text/x-python",
   "name": "python",
   "nbconvert_exporter": "python",
   "pygments_lexer": "ipython3",
   "version": "3.11.1"
  }
 },
 "nbformat": 4,
 "nbformat_minor": 5
}
