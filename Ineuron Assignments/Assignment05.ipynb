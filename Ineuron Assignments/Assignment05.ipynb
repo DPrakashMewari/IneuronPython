{
 "cells": [
  {
   "cell_type": "code",
   "execution_count": 3,
   "id": "bd04ed2b-7318-4274-a327-a7a29870d2de",
   "metadata": {},
   "outputs": [
    {
     "name": "stdout",
     "output_type": "stream",
     "text": [
      "Empty Dict Look like this  {}\n"
     ]
    }
   ],
   "source": [
    "# 1. What does an empty dictionary's code look like?\n",
    "\n",
    "\n",
    "l1 = {}\n",
    "print(\"Empty Dict Look like this \",l1)"
   ]
  },
  {
   "cell_type": "code",
   "execution_count": 5,
   "id": "a5717f7e-19a8-407d-a419-bbe42275805b",
   "metadata": {},
   "outputs": [
    {
     "name": "stdout",
     "output_type": "stream",
     "text": [
      "The value will be :42\n"
     ]
    }
   ],
   "source": [
    "# 2. What is the value of a dictionary value with the key 'foo' and the value 42?\n",
    "\n",
    "f2 = {\"foo\":42}\n",
    "\n",
    "print(f\"The value will be :{f2['foo']}\")"
   ]
  },
  {
   "cell_type": "code",
   "execution_count": 6,
   "id": "92deec10-9788-40e0-9107-a3fb5e2c0924",
   "metadata": {},
   "outputs": [],
   "source": [
    "# 3. What is the most significant distinction between a dictionary and a list?\n",
    "\n",
    "\n",
    "# A list is an ordered sequence of items, whereas dictionaries are unordered sets.\n",
    "\n"
   ]
  },
  {
   "cell_type": "code",
   "execution_count": 8,
   "id": "280ae63f-fdec-4545-8d19-46b0aa613b3b",
   "metadata": {},
   "outputs": [
    {
     "ename": "KeyError",
     "evalue": "'foo'",
     "output_type": "error",
     "traceback": [
      "\u001b[0;31m---------------------------------------------------------------------------\u001b[0m",
      "\u001b[0;31mKeyError\u001b[0m                                  Traceback (most recent call last)",
      "Cell \u001b[0;32mIn [8], line 5\u001b[0m\n\u001b[1;32m      1\u001b[0m \u001b[38;5;66;03m# 4. What happens if you try to access spam['foo'] if spam is {'bar': 100}?\u001b[39;00m\n\u001b[1;32m      3\u001b[0m spam \u001b[38;5;241m=\u001b[39m {\u001b[38;5;124m'\u001b[39m\u001b[38;5;124mbar\u001b[39m\u001b[38;5;124m'\u001b[39m: \u001b[38;5;241m100\u001b[39m}\n\u001b[0;32m----> 5\u001b[0m \u001b[43mspam\u001b[49m\u001b[43m[\u001b[49m\u001b[38;5;124;43m'\u001b[39;49m\u001b[38;5;124;43mfoo\u001b[39;49m\u001b[38;5;124;43m'\u001b[39;49m\u001b[43m]\u001b[49m\n",
      "\u001b[0;31mKeyError\u001b[0m: 'foo'"
     ]
    }
   ],
   "source": [
    "# 4. What happens if you try to access spam['foo'] if spam is {'bar': 100}?\n",
    "\n",
    "spam = {'bar': 100}\n",
    "\n",
    "spam['foo']\n",
    "\n",
    "# it will return key error "
   ]
  },
  {
   "cell_type": "code",
   "execution_count": 9,
   "id": "da19a7b9-05a6-465b-8fae-2d92af096a55",
   "metadata": {},
   "outputs": [],
   "source": [
    "# 5. If a dictionary is stored in spam, what is the difference \n",
    "# between the expressions 'cat' in spam and 'cat' in spam.keys()?\n",
    "\n",
    "# there is no difference . In Operator will check 'cat ' in spam.keys() or not ."
   ]
  },
  {
   "cell_type": "code",
   "execution_count": 10,
   "id": "4b239c0b-cac7-48a7-959d-d67a6dedd891",
   "metadata": {},
   "outputs": [],
   "source": [
    "# 6. If a dictionary is stored in spam, what is the difference between \n",
    "# the expressions 'cat' in spam and 'cat' in spam.values()?\n",
    "\n",
    "\n",
    "\n",
    "# 'cat' in spam checks whether a value exists as a key 'cat' in the dictionary, \n",
    "# while 'cat' in spam.values() checks whether there is a value 'cat' for one of the keys in spam.\n",
    "\n"
   ]
  },
  {
   "cell_type": "code",
   "execution_count": 11,
   "id": "79ccbdf8-1853-4c24-a8ab-81900f49b85a",
   "metadata": {},
   "outputs": [
    {
     "data": {
      "text/plain": [
       "'black'"
      ]
     },
     "execution_count": 11,
     "metadata": {},
     "output_type": "execute_result"
    }
   ],
   "source": [
    "# 7. What is a shortcut for the following code?\n",
    "# if 'color' not in spam:\n",
    "\n",
    "# spam['color'] = 'black'\n",
    "\n",
    "spam.get('color','black')"
   ]
  },
  {
   "cell_type": "code",
   "execution_count": null,
   "id": "af5ffa42-e6fc-419d-8fa4-7070cc684b65",
   "metadata": {},
   "outputs": [],
   "source": []
  },
  {
   "cell_type": "code",
   "execution_count": 18,
   "id": "4a1e8cc5-5aa9-4324-b4c1-a374ca2c491e",
   "metadata": {},
   "outputs": [],
   "source": [
    "import pprint\n",
    "\n",
    "# 8. How do you \"pretty print\" dictionary values using which module and function?\n",
    "\n",
    "\n",
    "pprint.pprint()"
   ]
  }
 ],
 "metadata": {
  "kernelspec": {
   "display_name": "Python 3 (ipykernel)",
   "language": "python",
   "name": "python3"
  },
  "language_info": {
   "codemirror_mode": {
    "name": "ipython",
    "version": 3
   },
   "file_extension": ".py",
   "mimetype": "text/x-python",
   "name": "python",
   "nbconvert_exporter": "python",
   "pygments_lexer": "ipython3",
   "version": "3.10.6"
  }
 },
 "nbformat": 4,
 "nbformat_minor": 5
}
