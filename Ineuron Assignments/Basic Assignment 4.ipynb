{
 "cells": [
  {
   "cell_type": "code",
   "execution_count": null,
   "id": "6608b8a1-70fa-4270-adac-f1a2d620e4d6",
   "metadata": {},
   "outputs": [],
   "source": []
  },
  {
   "cell_type": "code",
   "execution_count": 10,
   "id": "44971783-c86c-4b8a-b065-1a4025a5fa79",
   "metadata": {},
   "outputs": [
    {
     "name": "stdout",
     "output_type": "stream",
     "text": [
      "You factorial of given number is 5040\n"
     ]
    }
   ],
   "source": [
    "# 1. Write a Python Program to Find the Factorial of a Number?\n",
    "\n",
    "n1 = 7\n",
    "fact = 1 \n",
    "if n1 < 0:\n",
    "    print(\"Factorial Number does not exist in Negative index\")\n",
    "elif  n1 == 0 :\n",
    "    print(\"Factorial of 0 is 1\")\n",
    "else:\n",
    "    for i in range(1,n1+1):\n",
    "        fact = fact * i\n",
    "print(f\"You factorial of given number is {fact}\")"
   ]
  },
  {
   "cell_type": "code",
   "execution_count": 17,
   "id": "71d86a66-9bf6-40c0-a09b-8d8946419d30",
   "metadata": {},
   "outputs": [
    {
     "name": "stdin",
     "output_type": "stream",
     "text": [
      "Enter a number 14\n"
     ]
    },
    {
     "name": "stdout",
     "output_type": "stream",
     "text": [
      "14 * 1 = 14\n",
      "14 * 2 = 28\n",
      "14 * 3 = 42\n",
      "14 * 4 = 56\n",
      "14 * 5 = 70\n",
      "14 * 6 = 84\n",
      "14 * 7 = 98\n",
      "14 * 8 = 112\n",
      "14 * 9 = 126\n",
      "14 * 10 = 140\n"
     ]
    }
   ],
   "source": [
    "## 2. Write a Python Program to Display the multiplication Table?\n",
    "\n",
    "table_num  = int(input(\"Enter a number\"))\n",
    "\n",
    "for i in range(1,11):\n",
    "    val = table_num * i\n",
    "    print(f\"{table_num} * {i} = {val}\")"
   ]
  },
  {
   "cell_type": "code",
   "execution_count": 8,
   "id": "2ea9a853-94c0-4674-8096-2a10f9297b7e",
   "metadata": {},
   "outputs": [
    {
     "name": "stdin",
     "output_type": "stream",
     "text": [
      "Enter the sequence you want 10\n"
     ]
    },
    {
     "name": "stdout",
     "output_type": "stream",
     "text": [
      "0\n",
      "1\n",
      "1\n",
      "2\n",
      "3\n",
      "5\n",
      "8\n",
      "13\n",
      "21\n",
      "34\n"
     ]
    }
   ],
   "source": [
    "# 3. Write a Python Program to Print the Fibonacci sequence?\n",
    "\n",
    "val = int(input(\"Enter the sequence you want\"))\n",
    "n1 ,n2  = 0 ,1 \n",
    "num1 = 0\n",
    "\n",
    "if val <= 0:\n",
    "    print(\"Number not in negative Index\")\n",
    "elif val == 1:\n",
    "    print(\"Fibonnaci sequence\",val)\n",
    "else:\n",
    "    while num1 < val:\n",
    "        print(n1)\n",
    "        nth = n1+n2 \n",
    "        n1 = n2\n",
    "        n2 = nth\n",
    "        num1 += 1\n",
    "    "
   ]
  },
  {
   "cell_type": "code",
   "execution_count": 10,
   "id": "1606acd3-01a7-40b3-9ebf-0ae3a4db93cb",
   "metadata": {},
   "outputs": [
    {
     "name": "stdout",
     "output_type": "stream",
     "text": [
      "The given number 153 is armstrong number\n"
     ]
    }
   ],
   "source": [
    "# 4. Write a Python Program to Check Armstrong Number?\n",
    "\n",
    "n = 153\n",
    "s = n \n",
    "b = len(str(n))\n",
    "sum1 = 0\n",
    "while n != 0:\n",
    "    r = n % 10\n",
    "    sum1 = sum1+(r**b)\n",
    "    n = n//10\n",
    "if s == sum1:\n",
    "    print(\"The given number\", s, \"is armstrong number\")\n",
    "else:\n",
    "    print(\"The given number\", s, \"is not armstrong number\")\n"
   ]
  },
  {
   "cell_type": "code",
   "execution_count": 20,
   "id": "636757ca-ed68-4fc6-a451-7004e08e3ba1",
   "metadata": {},
   "outputs": [
    {
     "name": "stdout",
     "output_type": "stream",
     "text": [
      "The given number 153 is armstrong number\n",
      "The given number 370 is armstrong number\n",
      "The given number 371 is armstrong number\n",
      "The given number 407 is armstrong number\n"
     ]
    }
   ],
   "source": [
    "# 5. Write a Python Program to Find Armstrong Number in an Interval?\n",
    "\n",
    "\n",
    "# Program to check Armstrong numbers in a certain interval\n",
    "l1 = 100\n",
    "l2 = 1000\n",
    "\n",
    "for num in range(l1,l2 + 1):\n",
    "    sum1 = 0 \n",
    "    temp = num\n",
    "    while temp > 0:\n",
    "        digit = temp % 10\n",
    "        sum1 += digit ** 3\n",
    "        temp //= 10\n",
    "\n",
    "    if num == sum1:\n",
    "        print(\"The given number\", num , \"is armstrong number\")\n",
    "\n"
   ]
  },
  {
   "cell_type": "code",
   "execution_count": 23,
   "id": "9bf45785-aca6-4977-8e4d-49961081afac",
   "metadata": {},
   "outputs": [
    {
     "name": "stdin",
     "output_type": "stream",
     "text": [
      "Enter the number to check 100\n"
     ]
    },
    {
     "name": "stdout",
     "output_type": "stream",
     "text": [
      "5050\n"
     ]
    }
   ],
   "source": [
    "# 6. Write a Python Program to Find the Sum of Natural Numbers?\n",
    "\n",
    "val = int(input(\"Enter the number to check\"))\n",
    "\n",
    "if val < 0 :\n",
    "    print(\"Please enter postive number index\")\n",
    "else:\n",
    "    sum1 = 0 \n",
    "    while val > 0:\n",
    "        sum1 += val \n",
    "        val -= 1\n",
    "    print(sum1)"
   ]
  }
 ],
 "metadata": {
  "kernelspec": {
   "display_name": "Python 3 (ipykernel)",
   "language": "python",
   "name": "python3"
  },
  "language_info": {
   "codemirror_mode": {
    "name": "ipython",
    "version": 3
   },
   "file_extension": ".py",
   "mimetype": "text/x-python",
   "name": "python",
   "nbconvert_exporter": "python",
   "pygments_lexer": "ipython3",
   "version": "3.10.6"
  }
 },
 "nbformat": 4,
 "nbformat_minor": 5
}
