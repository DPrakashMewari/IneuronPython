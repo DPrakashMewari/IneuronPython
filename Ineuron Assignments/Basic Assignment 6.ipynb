{
 "cells": [
  {
   "cell_type": "code",
   "execution_count": 5,
   "id": "3eb61a2b-9a41-4d7d-9022-aba0a5325d32",
   "metadata": {},
   "outputs": [
    {
     "name": "stdout",
     "output_type": "stream",
     "text": [
      "0\n",
      "1\n",
      "1\n",
      "2\n",
      "3\n",
      "5\n",
      "8\n",
      "13\n",
      "21\n",
      "34\n"
     ]
    }
   ],
   "source": [
    "# 1. Write a Python Program to Display Fibonacci Sequence Using Recursion?\n",
    "\n",
    "def recur_fibo(n):\n",
    "    if n <= 1:\n",
    "        return n\n",
    "    else:\n",
    "        return (recur_fibo(n-1) + recur_fibo(n-2))\n",
    "\n",
    "def fibo_naci(n):\n",
    "    if n <=0:\n",
    "        print('please enter a postive integer ')\n",
    "    else :\n",
    "        for i in range(n):\n",
    "            print(recur_fibo(i))\n",
    "            \n",
    "            \n",
    "fibo_naci(10)"
   ]
  },
  {
   "cell_type": "code",
   "execution_count": 12,
   "id": "6aa97b42-12f5-4430-81b3-ac38a2e354f6",
   "metadata": {},
   "outputs": [
    {
     "name": "stdout",
     "output_type": "stream",
     "text": [
      "24\n"
     ]
    }
   ],
   "source": [
    "# 2. Write a Python Program to Find Factorial of Number Using Recursion?\n",
    "\n",
    "def rec_factorial(n):\n",
    "    if n == 1 :\n",
    "        return n\n",
    "    else:\n",
    "        return n* rec_factorial(n-1)\n",
    "    \n",
    "def check_factorial(n):\n",
    "    if n == 0:\n",
    "        print(\"Please try again with positive number \")\n",
    "    elif n ==0:\n",
    "        print(\" number of 0 factorial is 1\")\n",
    "    else:\n",
    "        print(rec_factorial(n))\n",
    "        \n",
    "\n",
    "check_factorial(4)"
   ]
  },
  {
   "cell_type": "code",
   "execution_count": 17,
   "id": "3b0ed3c7-0d91-4b2f-b82c-3bd5505802cc",
   "metadata": {},
   "outputs": [
    {
     "name": "stdin",
     "output_type": "stream",
     "text": [
      "Please Enter Height 1.893\n",
      "Please Enter Weight 65\n"
     ]
    },
    {
     "data": {
      "text/plain": [
       "('The BMI is ', 18.13894937530854)"
      ]
     },
     "execution_count": 17,
     "metadata": {},
     "output_type": "execute_result"
    }
   ],
   "source": [
    "# 3. Write a Python Program to calculate your Body Mass Index?\n",
    "\n",
    "# BMI  = (weight)/(height*height)\n",
    "\n",
    "def BMI(height,weight):\n",
    "    bmi = weight/(height**2)\n",
    "    return \"The BMI is \",bmi\n",
    "\n",
    "\n",
    "height=float(input(\"Please Enter Height\"))\n",
    "weight = int(input(\"Please Enter Weight\"))\n",
    "\n",
    "\n",
    "BMI(height,weight)"
   ]
  },
  {
   "cell_type": "code",
   "execution_count": 19,
   "id": "78bdc4a1-f1e0-49c9-ae29-308816fba990",
   "metadata": {},
   "outputs": [
    {
     "name": "stdin",
     "output_type": "stream",
     "text": [
      " 14\n"
     ]
    },
    {
     "name": "stdout",
     "output_type": "stream",
     "text": [
      "The natural logarithm of 14.0 is 2.6390573296152584\n"
     ]
    }
   ],
   "source": [
    "# 4. Write a Python Program to calculate the natural logarithm of any number?\n",
    "\n",
    "\n",
    "import math \n",
    "\n",
    "\n",
    "number = float(input())\n",
    "log_no=math.log(number)\n",
    "print(f\"The natural logarithm of {number} is {log_no}\")"
   ]
  },
  {
   "cell_type": "code",
   "execution_count": 22,
   "id": "2a4a904f-01a0-4558-bf8b-0d55b9aec564",
   "metadata": {},
   "outputs": [
    {
     "data": {
      "text/plain": [
       "3025"
      ]
     },
     "execution_count": 22,
     "metadata": {},
     "output_type": "execute_result"
    }
   ],
   "source": [
    "# Write a Python Program for cube sum of first n natural numbers?\n",
    "\n",
    "def sumofnatural(n):\n",
    "    val = 0 \n",
    "    for i in range(1,n+1):\n",
    "        val += pow(i,3)\n",
    "    return val\n",
    "    \n",
    "    \n",
    "sumofnatural(10)"
   ]
  },
  {
   "cell_type": "code",
   "execution_count": null,
   "id": "9a763a82-f2fb-492d-89a8-02e1096a2a7a",
   "metadata": {},
   "outputs": [],
   "source": []
  },
  {
   "cell_type": "code",
   "execution_count": null,
   "id": "e934efed-6171-4d80-ad5f-8b59e02209ee",
   "metadata": {},
   "outputs": [],
   "source": []
  },
  {
   "cell_type": "code",
   "execution_count": null,
   "id": "0574f1c0-29d5-4b7a-aeb7-7e42881155d1",
   "metadata": {},
   "outputs": [],
   "source": []
  }
 ],
 "metadata": {
  "kernelspec": {
   "display_name": "Python 3 (ipykernel)",
   "language": "python",
   "name": "python3"
  },
  "language_info": {
   "codemirror_mode": {
    "name": "ipython",
    "version": 3
   },
   "file_extension": ".py",
   "mimetype": "text/x-python",
   "name": "python",
   "nbconvert_exporter": "python",
   "pygments_lexer": "ipython3",
   "version": "3.10.6"
  }
 },
 "nbformat": 4,
 "nbformat_minor": 5
}
