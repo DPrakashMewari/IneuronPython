{
 "cells": [
  {
   "cell_type": "code",
   "execution_count": 1,
   "id": "44df0046-103d-4742-802a-3cc9c265f585",
   "metadata": {},
   "outputs": [],
   "source": [
    "\n",
    "#1. To what does a relative path refer?\n",
    "\n",
    "# Ans: The relative path is the path to some file with respect to your current working directory (PWD).\n",
    "# Note: PWD + relative path = absolute path\n",
    "\n"
   ]
  },
  {
   "cell_type": "code",
   "execution_count": null,
   "id": "e0d9ef87-80d9-47f9-9de4-562e843defec",
   "metadata": {},
   "outputs": [],
   "source": [
    "# 2. What does an absolute path start with your operating system?\n",
    "# Ans: In Linux based systems the absolute path starts with /. Where as in Windows based systems absolute path starts with C:\n",
    "\n",
    "\n"
   ]
  },
  {
   "cell_type": "code",
   "execution_count": 7,
   "id": "e2edfb3a-5000-441b-af82-58a9c073c4ad",
   "metadata": {},
   "outputs": [],
   "source": [
    "# 3. What do the functions os.getcwd() and os.chdir() do?\n",
    "\n",
    "\n",
    "# Ans: os.getcwd() method tells us the location of current working directory (CWD).\n",
    "# os.chdir() method in Python used to change the current working directory to specified path. \n"
   ]
  },
  {
   "cell_type": "code",
   "execution_count": null,
   "id": "fdc111a2-6c3d-4e38-88aa-d878efe65313",
   "metadata": {},
   "outputs": [],
   "source": [
    "# 4. What are the . and .. folders?\n",
    "\n",
    "# . Represents the Current Directory Whereas .. Represents the Parent Directory of the Current Directory"
   ]
  },
  {
   "cell_type": "code",
   "execution_count": null,
   "id": "dfe43c9b-e53a-45c5-8e50-f6706b34cd6e",
   "metadata": {},
   "outputs": [],
   "source": [
    "#5. In C:\\bacon\\eggs\\spam.txt, which part is the dir name, and which part is the base name?\n",
    "\n",
    "# Ans: For C:\\bacon\\eggs\\spam.txt\n",
    "# The dir name is C:\\\\bacon\\\\eggs\n",
    "# The Base name is spam.txt\n",
    "\n"
   ]
  },
  {
   "cell_type": "code",
   "execution_count": null,
   "id": "e4769cb1-0838-4164-80b4-b04fd2b4e29a",
   "metadata": {},
   "outputs": [],
   "source": [
    "# 6. What are the three “mode” arguments that can be passed to the open() function?\n",
    "\n",
    "\n",
    "# A file can be Accessed in python using open() function. open function takes two arguments filename and mode of operation (optional).\n",
    "# if mode is not provided the default mode of opening is read mode\n",
    "# So, the syntax being: open(filename, mode)\n",
    "\n",
    "# ‘r’ – Read Mode: This is the default mode for open(). The file is opened and a pointer is positioned at the beginning of the file’s content.\n",
    "# ‘w’ – Write Mode: Using this mode will overwrite any existing content in a file. If the given file does not exist, a new one will be created.\n",
    "# ‘r+’ – Read/Write Mode: Use this mode if you need to simultaneously read and write to a file.\n",
    "\n",
    "\n"
   ]
  },
  {
   "cell_type": "code",
   "execution_count": null,
   "id": "a211f397-2348-4c00-9b16-48ce2c2803dc",
   "metadata": {},
   "outputs": [],
   "source": [
    "#7. What happens if an existing file is opened in write mode?\n",
    "\n",
    "# Ans: Using this mode will overwrite any existing content in a file. If the given file does not exist, a new one will be created.\n",
    "\n",
    "\n"
   ]
  },
  {
   "cell_type": "code",
   "execution_count": null,
   "id": "5e2d76c3-a6f4-4b78-a2b0-a3583bcf1fc2",
   "metadata": {},
   "outputs": [],
   "source": [
    "# # 8. How do you tell the difference between read() and readlines()?\n",
    "# The read() would treat each character in the file separately, meaning that the iteration would happen for every character.\n",
    "# The readline() function, on the other hand, only reads a single line of the file. This means that if the first line of the file were three lines long, the readline() function would only parse (or iterate/operate) on the first line of the file."
   ]
  },
  {
   "cell_type": "code",
   "execution_count": null,
   "id": "5cc44420-7a88-4ed1-9540-48a79df16b8f",
   "metadata": {},
   "outputs": [],
   "source": [
    "# 9.What data structure does a shelf value resemble ?\n",
    "# Ans: it contains key and values it represents dictionary."
   ]
  }
 ],
 "metadata": {
  "kernelspec": {
   "display_name": "Python 3 (ipykernel)",
   "language": "python",
   "name": "python3"
  },
  "language_info": {
   "codemirror_mode": {
    "name": "ipython",
    "version": 3
   },
   "file_extension": ".py",
   "mimetype": "text/x-python",
   "name": "python",
   "nbconvert_exporter": "python",
   "pygments_lexer": "ipython3",
   "version": "3.10.6"
  }
 },
 "nbformat": 4,
 "nbformat_minor": 5
}
