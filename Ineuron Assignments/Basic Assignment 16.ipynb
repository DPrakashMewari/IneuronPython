{
 "cells": [
  {
   "cell_type": "code",
   "execution_count": 6,
   "id": "2585ecf0-c22e-4843-8d80-22b17591891d",
   "metadata": {},
   "outputs": [
    {
     "name": "stdout",
     "output_type": "stream",
     "text": [
      "in...in...incredible?\n",
      "en...en...enthusiastic?\n",
      "ou...ou...outstanding?\n"
     ]
    }
   ],
   "source": [
    "# Question1. Write a function that stutters a word as if someone is struggling to read it. The\n",
    "# first two letters are repeated twice with an ellipsis ... and space after each, and then the\n",
    "# word is pronounced with a question mark ?.\n",
    "\n",
    "\n",
    "\n",
    "def stutter(word):\n",
    "    return word[:2] + \"...\" +  word[:2] + \"...\" + word + \"?\"\n",
    "\n",
    "print(stutter(\"incredible\"))\n",
    "print(stutter(\"enthusiastic\"))\n",
    "print(stutter(\"outstanding\"))\n"
   ]
  },
  {
   "cell_type": "code",
   "execution_count": 10,
   "id": "a7d7f020-2836-4e94-90e5-e836103f0168",
   "metadata": {},
   "outputs": [
    {
     "name": "stdout",
     "output_type": "stream",
     "text": [
      "57.3\n",
      "1145.9\n",
      "2864.8\n"
     ]
    }
   ],
   "source": [
    "\n",
    "# Question 2.Create a function that takes an angle in radians and returns the corresponding\n",
    "# angle in degrees rounded to one decimal place.\n",
    "\n",
    "import math\n",
    "\n",
    "def radians_to_degrees(radians):\n",
    "    degrees = radians * 180 / math.pi\n",
    "    return round(degrees, 1)\n",
    "\n",
    "\n",
    "print(radians_to_degrees(1)) \n",
    "print(radians_to_degrees(20))\n",
    "print(radians_to_degrees(50))"
   ]
  },
  {
   "cell_type": "code",
   "execution_count": 12,
   "id": "bddcfc3f-cbc3-4261-ba09-4e6f23a180cd",
   "metadata": {},
   "outputs": [
    {
     "name": "stdout",
     "output_type": "stream",
     "text": [
      "True\n",
      "False\n",
      "True\n"
     ]
    }
   ],
   "source": [
    "\n",
    "# Question 3. In this challenge, establish if a given integer num is a Curzon number. If 1 plus\n",
    "# 2 elevated to num is exactly divisible by 1 plus 2 multiplied by num, then num is a Curzon\n",
    "# number.\n",
    "# Given a non-negative integer num, implement a function that returns True if num is a Curzon\n",
    "# number, or False otherwise.\n",
    "\n",
    "\n",
    "def is_curzon_number(num):\n",
    "    numerator = 2**num + 1\n",
    "    denominator = 2*num + 1\n",
    "    return numerator % denominator == 0\n",
    "\n",
    "\n",
    "print(is_curzon_number(5))\n",
    "print(is_curzon_number(10))\n",
    "print(is_curzon_number(14))\n"
   ]
  },
  {
   "cell_type": "code",
   "execution_count": 16,
   "id": "214fcb0e-b8aa-47fc-a94f-99a166faf484",
   "metadata": {},
   "outputs": [
    {
     "name": "stdout",
     "output_type": "stream",
     "text": [
      "2.6\n",
      "10.4\n",
      "23.4\n"
     ]
    }
   ],
   "source": [
    "\n",
    "# Question 4.Given the side length x find the area of a hexagon.\n",
    "\n",
    "import math\n",
    "\n",
    "def hexagon_area(x):\n",
    "    return (3 * math.sqrt(3) * x**2) / 2\n",
    "\n",
    "\n",
    "\n",
    "print(round(hexagon_area(1),2))\n",
    "print(round(hexagon_area(2),1))\n",
    "print(round(hexagon_area(3),1))"
   ]
  },
  {
   "cell_type": "code",
   "execution_count": 20,
   "id": "d9c98956-0186-46e4-ae74-7826229ebbda",
   "metadata": {},
   "outputs": [
    {
     "name": "stdout",
     "output_type": "stream",
     "text": [
      "1\n",
      "101\n",
      "1010\n"
     ]
    }
   ],
   "source": [
    "# Question 5. Create a function that returns a base-2 (binary) representation of a base-10\n",
    "# (decimal) string number. To convert is simple: ((2) means base-2 and (10) means base-10)\n",
    "# 010101001(2) = 1 + 8 + 32 + 128.\n",
    "\n",
    "\n",
    "def decimal_to_binary(decimal):\n",
    "    return bin(int(decimal))[2:]\n",
    "\n",
    "print(decimal_to_binary(1))\n",
    "print(decimal_to_binary(5))\n",
    "print(decimal_to_binary(10))\n"
   ]
  }
 ],
 "metadata": {
  "kernelspec": {
   "display_name": "Python 3 (ipykernel)",
   "language": "python",
   "name": "python3"
  },
  "language_info": {
   "codemirror_mode": {
    "name": "ipython",
    "version": 3
   },
   "file_extension": ".py",
   "mimetype": "text/x-python",
   "name": "python",
   "nbconvert_exporter": "python",
   "pygments_lexer": "ipython3",
   "version": "3.10.6"
  }
 },
 "nbformat": 4,
 "nbformat_minor": 5
}
