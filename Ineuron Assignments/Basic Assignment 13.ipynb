{
 "cells": [
  {
   "cell_type": "code",
   "execution_count": 5,
   "id": "d27bdc9b",
   "metadata": {},
   "outputs": [
    {
     "name": "stdout",
     "output_type": "stream",
     "text": [
      "100,150,180\n"
     ]
    },
    {
     "data": {
      "text/plain": [
       "[18, 22, 24]"
      ]
     },
     "execution_count": 5,
     "metadata": {},
     "output_type": "execute_result"
    }
   ],
   "source": [
    "# Write a program that calculates and prints the value according to the given formula:\n",
    "# Q = Square root of [(2 * C * D)/H]\n",
    "# Following are the fixed values of C and H:\n",
    "# C is 50. H is 30.\n",
    "# D is the variable whose values should be input to your program in a comma-separated\n",
    "# sequence.\n",
    "\n",
    "\n",
    "\n",
    "from math import sqrt\n",
    "\n",
    "def calc():\n",
    "    val = eval(input())\n",
    "    C = 50 \n",
    "    H = 30\n",
    "    q1 = []\n",
    "    for i in val :\n",
    "        q  = int(sqrt((2 * C * i)/H)) \n",
    "        q1.append(q)\n",
    "    return q1\n",
    "        \n",
    "\n",
    "calc()"
   ]
  },
  {
   "cell_type": "code",
   "execution_count": 3,
   "id": "2bb1b5db",
   "metadata": {},
   "outputs": [
    {
     "data": {
      "text/plain": [
       "[[0, 0, 0, 0, 0], [0, 1, 2, 3, 4], [0, 2, 4, 6, 8]]"
      ]
     },
     "execution_count": 3,
     "metadata": {},
     "output_type": "execute_result"
    }
   ],
   "source": [
    "# Write a program which takes 2 digits, X,Y as input and generates a 2-dimensional array. The\n",
    "# element value in the i-th row and j-th column of the array should be i*j.\n",
    "\n",
    "def generate_arr(x,y):\n",
    "    arr = []\n",
    "    for i in range(x):\n",
    "        arr.insert(x,[])\n",
    "        for j in range(y-1):\n",
    "            arr[i].append(i*j)\n",
    "        \n",
    "    return arr\n",
    "\n",
    "generate_arr(3,6)"
   ]
  },
  {
   "cell_type": "code",
   "execution_count": 30,
   "id": "e8beec2b",
   "metadata": {},
   "outputs": [
    {
     "data": {
      "text/plain": [
       "'bag,hello,without,word'"
      ]
     },
     "execution_count": 30,
     "metadata": {},
     "output_type": "execute_result"
    }
   ],
   "source": [
    "# Write a program that accepts a comma separated sequence of words as input and prints the\n",
    "# words in a comma-separated sequence after sorting them alphabetically.\n",
    "# Suppose the following input is supplied to the program:\n",
    "# without,hello,bag,world\n",
    "# Then, the output should be:\n",
    "# bag,hello,without,world\n",
    "\n",
    "def sorting_alpha(word):\n",
    "    return \",\".join(sorted(word.split(\",\")))\n",
    "\n",
    "\n",
    "sorting_alpha(\"without,hello,bag,word\")"
   ]
  },
  {
   "cell_type": "code",
   "execution_count": 1,
   "id": "56583498",
   "metadata": {},
   "outputs": [
    {
     "name": "stdout",
     "output_type": "stream",
     "text": [
      "hello world and practice makes perfect and hello world again\n"
     ]
    },
    {
     "data": {
      "text/plain": [
       "'again and hello makes perfect practice world'"
      ]
     },
     "execution_count": 1,
     "metadata": {},
     "output_type": "execute_result"
    }
   ],
   "source": [
    "# Write a program that accepts a sequence of whitespace separated words as input and prints\n",
    "# the words after removing all duplicate words and sorting them alphanumerically.\n",
    "\n",
    "\n",
    "def sort_whitespace():\n",
    "    words = input()\n",
    "    return \" \".join(sorted(list(set(words.split(\" \")))))\n",
    "\n",
    "sort_whitespace()"
   ]
  },
  {
   "cell_type": "code",
   "execution_count": 8,
   "id": "131bc255",
   "metadata": {},
   "outputs": [
    {
     "name": "stdout",
     "output_type": "stream",
     "text": [
      "Letter 10\n",
      "Digits 3\n"
     ]
    }
   ],
   "source": [
    "# Write a program that accepts a sentence and calculate the number of letters and digits.\n",
    "\n",
    "def calculate_sentence(word):\n",
    "    letter = 0 \n",
    "    digit = 0 \n",
    "    for i in word:\n",
    "        if i.isalpha():\n",
    "            letter += 1\n",
    "        elif i.isdigit():\n",
    "            digit += 1\n",
    "    print(\"Letter\",letter)\n",
    "    print(\"Digits\",digit)\n",
    "    \n",
    "calculate_sentence(\"hello world! 123\")"
   ]
  },
  {
   "cell_type": "code",
   "execution_count": 18,
   "id": "97356d31",
   "metadata": {},
   "outputs": [
    {
     "name": "stdout",
     "output_type": "stream",
     "text": [
      "ABd1234@1,a F1#,2w3E*,2We3345\n",
      "\n",
      "ABd1234@1\n",
      "a F1#\n"
     ]
    }
   ],
   "source": [
    "# A website requires the users to input username and password to register. Write a program to\n",
    "# check the validity of password input by users.\n",
    "# Following are the criteria for checking the password:\n",
    "# 1. At least 1 letter between [a-z]\n",
    "# 2. At least 1 number between [0-9]\n",
    "# 1. At least 1 letter between [A-Z]\n",
    "# 3. At least 1 character from [$#@]\n",
    "# 4. Minimum length of transaction password: 6\n",
    "# 5. Maximum length of transaction password: 12\n",
    "# Your program should accept a sequence of comma separated passwords and will check them\n",
    "# according to the above criteria. Passwords\n",
    "                              \n",
    "                              \n",
    "import re                               \n",
    "def password_check(password):\n",
    "    \n",
    "    if len(password) < 6 and len(password) > 12:\n",
    "        return False\n",
    "    if not re.search(r'[a-z]',password):\n",
    "        return False\n",
    "    if not re.search(r'[A-Z]',password):\n",
    "        return False\n",
    "    if not re.search(r'\\d',password):\n",
    "        return False\n",
    "    if not re.search(r'[$#@]',password):\n",
    "        return False\n",
    "    return True\n",
    "    \n",
    "password =input()\n",
    "print()\n",
    "for i in password.split(\",\"):\n",
    "    if password_check(i):\n",
    "        print(i)\n",
    " \n",
    "                              "
   ]
  }
 ],
 "metadata": {
  "kernelspec": {
   "display_name": "Python 3 (ipykernel)",
   "language": "python",
   "name": "python3"
  },
  "language_info": {
   "codemirror_mode": {
    "name": "ipython",
    "version": 3
   },
   "file_extension": ".py",
   "mimetype": "text/x-python",
   "name": "python",
   "nbconvert_exporter": "python",
   "pygments_lexer": "ipython3",
   "version": "3.11.1"
  }
 },
 "nbformat": 4,
 "nbformat_minor": 5
}
