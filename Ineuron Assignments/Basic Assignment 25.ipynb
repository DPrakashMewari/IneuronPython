{
 "cells": [
  {
   "cell_type": "code",
   "execution_count": 17,
   "id": "112c5732",
   "metadata": {},
   "outputs": [
    {
     "name": "stdout",
     "output_type": "stream",
     "text": [
      "(3, 4, 3) => 2\n",
      "(1, 1, 1) => 3\n",
      "(3, 4, 1) => 0\n",
      "(2, 4, 2) => 2\n"
     ]
    }
   ],
   "source": [
    "# 1.Create a function that takes three integer arguments (a, b, c) and returns the amount of integers which are of equal value.\n",
    "\n",
    "\n",
    "def equal(a,b,c):\n",
    "    if a == b == c:\n",
    "        print(f\"{a,b,c} => {3}\")\n",
    "    elif a == c or c == a:\n",
    "        print(f\"{a,b,c} => {2}\")\n",
    "    else:\n",
    "        print(f\"{a,b,c} => {0}\")\n",
    "    \n",
    "equal(3,4,3)\n",
    "equal(1,1,1)\n",
    "equal(3,4,1)\n",
    "equal(2,4,2)\n",
    "\n"
   ]
  },
  {
   "cell_type": "code",
   "execution_count": 22,
   "id": "6c008e7f",
   "metadata": {},
   "outputs": [
    {
     "name": "stdout",
     "output_type": "stream",
     "text": [
      "{'D': 1, 'B': 2, 'C': 3} -> [('D', 1), ('B', 2), ('C', 3)]\n",
      "{'likes': 2, 'dislikes': 3, 'followers': 10} -> [('likes', 2), ('dislikes', 3), ('followers', 10)]\n"
     ]
    }
   ],
   "source": [
    "# 2.Write a function that converts a dictionary into a list of keys-values tuples.\n",
    "\n",
    "def dict_to_list(in_dict):\n",
    "    list1 = []\n",
    "    for i,j in in_dict.items():\n",
    "        list1.append((i,j))\n",
    "    print(f\"{in_dict} -> {list1}\")\n",
    "    \n",
    "dict1 = { \"D\": 1, \"B\": 2, \"C\": 3 }\n",
    "dict2 =  { \"likes\": 2, \"dislikes\": 3, \"followers\": 10 }\n",
    "dict_to_list(dict1)\n",
    "dict_to_list(dict2)\n"
   ]
  },
  {
   "cell_type": "code",
   "execution_count": 25,
   "id": "abb3763a",
   "metadata": {},
   "outputs": [
    {
     "name": "stdout",
     "output_type": "stream",
     "text": [
      "['p', 's'] => {'p': 'P', 's': 'S'}\n",
      "['a', 'b', 'c'] => {'a': 'A', 'b': 'B', 'c': 'C'}\n",
      "['a', 'v', 'y', 'z'] => {'a': 'A', 'v': 'V', 'y': 'Y', 'z': 'Z'}\n"
     ]
    }
   ],
   "source": [
    "def mapping(list1):\n",
    "    dict1 = {}\n",
    "    for i in list1:\n",
    "        dict1[i] = i.upper()\n",
    "    print(f\"{list1} => {dict1}\")\n",
    "    \n",
    "arr1 = [\"p\", \"s\"]\n",
    "arr2 = [\"a\", \"b\", \"c\"]\n",
    "arr3 = [\"a\", \"v\", \"y\", \"z\"]\n",
    "\n",
    "\n",
    "mapping(arr1)\n",
    "mapping(arr2)\n",
    "mapping(arr3)"
   ]
  },
  {
   "cell_type": "code",
   "execution_count": 29,
   "id": "84fa1087",
   "metadata": {},
   "outputs": [
    {
     "name": "stdout",
     "output_type": "stream",
     "text": [
      "apples and bananas => upplus und bununus\n",
      "cheese casserole => chooso cossorolo\n",
      "stuffed jalapeno poppers => steffed jelepene peppers\n"
     ]
    }
   ],
   "source": [
    "# Write a function, that replaces all vowels in a string with a specified vowel.\n",
    "def vow_replace(string,vowel):\n",
    "    vow = ['a','e','i','o','u']\n",
    "    ostring = ''\n",
    "    for i in string:\n",
    "        if i in vow:\n",
    "            ostring += vowel \n",
    "        else:\n",
    "            ostring += i \n",
    "    print(f\"{string} => {ostring}\")\n",
    "    \n",
    "\n",
    "vow_replace(\"apples and bananas\", \"u\")\n",
    "vow_replace(\"cheese casserole\", \"o\")\n",
    "vow_replace(\"stuffed jalapeno poppers\", \"e\")\n",
    "            "
   ]
  },
  {
   "cell_type": "code",
   "execution_count": 42,
   "id": "65ab7fed",
   "metadata": {},
   "outputs": [
    {
     "name": "stdout",
     "output_type": "stream",
     "text": [
      "to be or not to be! => To Be oR NoT To Be!\n",
      "THE LITTLE MERMAID => THe LiTTLe meRmaiD\n",
      "Oh what a beautiful morning. => oH wHaT a BeauTiFuL moRNiNg.\n"
     ]
    }
   ],
   "source": [
    "# 5.Create a function that takes a string as input and capitalizes a letter if its ASCII code is even and returns its lower case version if its ASCII code is odd.\n",
    "\n",
    "def ascii_capitalize(string):\n",
    "    ostring = \"\"\n",
    "    for i in string.lower():\n",
    "        if (ord(i)%2 == 0 ):\n",
    "            ostring += i.upper()\n",
    "        else:\n",
    "            ostring += i\n",
    "    print(f'{string} => {ostring}')\n",
    "    \n",
    "ascii_capitalize(\"to be or not to be!\")\n",
    "ascii_capitalize(\"THE LITTLE MERMAID\")\n",
    "ascii_capitalize(\"Oh what a beautiful morning.\")"
   ]
  }
 ],
 "metadata": {
  "kernelspec": {
   "display_name": "Python 3 (ipykernel)",
   "language": "python",
   "name": "python3"
  },
  "language_info": {
   "codemirror_mode": {
    "name": "ipython",
    "version": 3
   },
   "file_extension": ".py",
   "mimetype": "text/x-python",
   "name": "python",
   "nbconvert_exporter": "python",
   "pygments_lexer": "ipython3",
   "version": "3.11.1"
  }
 },
 "nbformat": 4,
 "nbformat_minor": 5
}
