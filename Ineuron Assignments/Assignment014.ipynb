{
 "cells": [
  {
   "cell_type": "code",
   "execution_count": null,
   "id": "04cd2700-f2f9-4452-bd10-ce569d354a3b",
   "metadata": {},
   "outputs": [],
   "source": [
    "# 1. What does RGBA stand for?\n",
    "\n",
    "# RGBA is four channel format contain red green blue and alpha value , Alpha represent opacity"
   ]
  },
  {
   "cell_type": "code",
   "execution_count": 10,
   "id": "67547b3e-1699-4e3c-8853-593e1ae047c0",
   "metadata": {},
   "outputs": [
    {
     "data": {
      "text/plain": [
       "173"
      ]
     },
     "execution_count": 10,
     "metadata": {},
     "output_type": "execute_result"
    }
   ],
   "source": [
    "# 2. From the Pillow module, how do you get the RGBA value of any images?\n",
    "\n",
    "import PIL\n",
    "from PIL import ImageColor as img\n",
    "\n",
    "img.getcolor('orange','L')"
   ]
  },
  {
   "cell_type": "code",
   "execution_count": null,
   "id": "97879af9-03d9-4e69-8038-8f04cde52f6a",
   "metadata": {},
   "outputs": [],
   "source": [
    "# 3. What is a box tuple, and how does it work?\n",
    "\n",
    "# A box tuple is tuple of four \n",
    "# integers the left edge X \n",
    "# coordinate the top edge y\n",
    "# cordinate the width and height\n",
    "# respectively"
   ]
  },
  {
   "cell_type": "code",
   "execution_count": 14,
   "id": "4c6c5693-0438-4cf7-a8dd-3c9913652b94",
   "metadata": {},
   "outputs": [
    {
     "data": {
      "text/plain": [
       "(360, 540)"
      ]
     },
     "execution_count": 14,
     "metadata": {},
     "output_type": "execute_result"
    }
   ],
   "source": [
    "# 4. Use your image and load in notebook then, How can you find out the width and height of an Image object?\n",
    "from PIL import Image\n",
    "\n",
    "pic = Image.open('simple.jpg')\n",
    "pic.width,pic.height"
   ]
  },
  {
   "cell_type": "code",
   "execution_count": 49,
   "id": "566553ea-1f2a-4da3-ab13-af5623a26a8d",
   "metadata": {},
   "outputs": [
    {
     "data": {
      "image/png": "[encoded data removed]",
      "text/plain": [
       "<PIL.Image.Image image mode=RGB size=40x20>"
      ]
     },
     "execution_count": 49,
     "metadata": {},
     "output_type": "execute_result"
    }
   ],
   "source": [
    "# 5. What method would you call to get Image object for a 100×100 image, excluding the lower-left quarter of it?\n",
    "\n",
    "pic = Image.open('simple.jpg')\n",
    "pic.crop((0,40,40,60))"
   ]
  },
  {
   "cell_type": "code",
   "execution_count": 50,
   "id": "d3e3224d-4a3f-4946-b087-a66a0c0e92fb",
   "metadata": {},
   "outputs": [],
   "source": [
    "# 6. After making changes to an Image object, how could you save it as an image file?\n",
    "#Example Program\n",
    "from PIL import Image\n",
    "pic = Image.open('simple.jpg')\n",
    "pic.save('simple2.jpg')\n"
   ]
  },
  {
   "cell_type": "code",
   "execution_count": 51,
   "id": "a95b856e-9417-4d4f-99a0-f4ef294a6dfd",
   "metadata": {},
   "outputs": [],
   "source": [
    "# 7. What module contains Pillow’s shape-drawing code?\n",
    "\n",
    "# Pillow Image Draw Module Contain Shape Drawing Method"
   ]
  },
  {
   "cell_type": "code",
   "execution_count": null,
   "id": "9df1f77b-2d01-4143-8aec-835ea739c93d",
   "metadata": {},
   "outputs": [],
   "source": [
    "# 8. Image objects do not have drawing methods. What kind of object does? How do you get this kind of object?\n",
    "\n",
    "\n",
    "# Image draw object have shape \n",
    "# Drawing Method such as point()\n",
    "# line() or rectangle() \n",
    "\n",
    "# And they will getting return by \n",
    "# passing the image object to \n",
    "# ImageDraw.Draw() function\n"
   ]
  },
  {
   "cell_type": "code",
   "execution_count": null,
   "id": "90226ff1-b24c-4b54-a969-8abfc3bd109e",
   "metadata": {},
   "outputs": [],
   "source": []
  }
 ],
 "metadata": {
  "kernelspec": {
   "display_name": "Python 3 (ipykernel)",
   "language": "python",
   "name": "python3"
  },
  "language_info": {
   "codemirror_mode": {
    "name": "ipython",
    "version": 3
   },
   "file_extension": ".py",
   "mimetype": "text/x-python",
   "name": "python",
   "nbconvert_exporter": "python",
   "pygments_lexer": "ipython3",
   "version": "3.10.6"
  }
 },
 "nbformat": 4,
 "nbformat_minor": 5
}
