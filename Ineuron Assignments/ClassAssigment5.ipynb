{
 "cells": [
  {
   "cell_type": "code",
   "execution_count": 1,
   "id": "71595759-25d4-48e4-811e-1065426772eb",
   "metadata": {},
   "outputs": [
    {
     "data": {
      "text/plain": [
       "5"
      ]
     },
     "execution_count": 1,
     "metadata": {},
     "output_type": "execute_result"
    }
   ],
   "source": [
    "# 1. write a function which will try to find out len of a string without using an inbuilt len function \n",
    "\n",
    "str1 = \"HDSIHDS\"\n",
    "\n",
    "def check_len(args):\n",
    "    \"\"\" Made For Check Length\"\"\"\n",
    "    count = 0    \n",
    "    while (args[count:]):\n",
    "        count += 1 \n",
    "    return count \n",
    "\n",
    "check_len(str1)\n",
    "check_len(\"AyPra\")"
   ]
  },
  {
   "cell_type": "code",
   "execution_count": 2,
   "id": "1a55ff8c-5824-41f0-b4f0-0e6822f4af0b",
   "metadata": {},
   "outputs": [
    {
     "data": {
      "text/plain": [
       "3"
      ]
     },
     "execution_count": 2,
     "metadata": {},
     "output_type": "execute_result"
    }
   ],
   "source": [
    "def find_index(args,_search_list):\n",
    "    \"\"\" It is Find Index location \"\"\"\n",
    "    for index1 in range(len(_search_list)):\n",
    "        if l1[index1] == args:\n",
    "            return index1\n",
    "\n",
    "\n",
    "l1 = [1,4,12,14,2]        \n",
    "find_index(14,l1)\n"
   ]
  },
  {
   "cell_type": "code",
   "execution_count": 3,
   "id": "cc1d2626-4ca6-4c36-a4c0-2dc7e5f563db",
   "metadata": {},
   "outputs": [
    {
     "name": "stdout",
     "output_type": "stream",
     "text": [
      "Your IP Address Is 172.18.0.4\n"
     ]
    }
   ],
   "source": [
    "import socket\n",
    "def get_ipaddress():\n",
    "    hostname = socket.gethostname()\n",
    "    IPAddr = socket.gethostbyname(hostname)\n",
    "    print(f\"Your IP Address Is {IPAddr}\")\n",
    " \n",
    "\n",
    "get_ipaddress()"
   ]
  },
  {
   "cell_type": "code",
   "execution_count": 4,
   "id": "51cbe981-8ffd-4fb9-aff4-63c2b5c5e3cf",
   "metadata": {},
   "outputs": [
    {
     "data": {
      "text/plain": [
       "459.19999999999993"
      ]
     },
     "execution_count": 4,
     "metadata": {},
     "output_type": "execute_result"
    }
   ],
   "source": [
    "# write a function which will take input as a list with any kind of numeric value and give an out as a multiplication of \n",
    "# all the numeric data \n",
    "l = [3.5, 6.56, 4,5,\"sudh\" , \"ineuron\" , 'fsda bootcamp 2.0']\n",
    "def multiply_list(arg):\n",
    "    mult = 1\n",
    "    for i in arg:\n",
    "        if type(i)!= str:\n",
    "            mult = mult * i\n",
    "    return mult\n",
    "\n",
    "multiply_list(l)"
   ]
  },
  {
   "cell_type": "code",
   "execution_count": 6,
   "id": "dc582962-f3f4-4eaa-a14a-989c786b7cd7",
   "metadata": {},
   "outputs": [
    {
     "name": "stdout",
     "output_type": "stream",
     "text": [
      "From : prakash.mewari@yahoo.com\n",
      "\n",
      "Subject : My new mail.\n",
      "\n",
      "From : Google <no-reply@accounts.google.com>\n",
      "\n",
      "Subject : Security alert\n",
      "\n",
      "From : Google <no-reply@accounts.google.com>\n",
      "\n",
      "Subject : Security alert\n",
      "\n",
      "From : Google <no-reply@accounts.google.com>\n",
      "\n",
      "Subject : Your Google Account was recovered successfully\n",
      "\n",
      "From : \"Thriive.in\" <noreply@thriive.in>\n",
      "\n",
      "Subject : =?UTF-8?B?8J+OgQ==?= Here's your gift from Thriive\n",
      "\n",
      "From : Google <no-reply@accounts.google.com>\n",
      "\n",
      "Subject : Security alert\n",
      "\n",
      "From : Apollo <support@tryapollo.io>\n",
      "\n",
      "Subject : Invalid email credentials at Apollo\n",
      "\n",
      "From : Google <no-reply@accounts.google.com>\n",
      "\n",
      "Subject : Security alert\n",
      "\n",
      "From : Google <no-reply@accounts.google.com>\n",
      "\n",
      "Subject : 2-Step Verification turned on\n",
      "\n",
      "From : Google <no-reply@accounts.google.com>\n",
      "\n",
      "Subject : Security alert\n",
      "\n",
      "From : Analytics Vidhya <connect@analyticsvidhya.com>\n",
      "\n",
      "Subject : Black Friday Offer | Last 14 seats Left..\n",
      "\n",
      "From : LazyPay <noreply@lazypay.in>\n",
      "\n",
      "Subject : LazyPay Transaction Details - razorpay software private limited 1\n",
      "\n",
      "From : LazyPay <noreply@lazypay.in>\n",
      "\n",
      "Subject : LazyPay Transaction Details - razorpay software private limited 1\n",
      "\n",
      "From : =?UTF-8?B?UGhvbmVQZQ==?= <noreply@phonepe.com>\n",
      "\n",
      "Subject : =?UTF-8?B?ICAgICAgIFNlbnQg4oK5IDMwMDAgdG8gIFNIV0VUQSA=?=\n",
      "\n",
      "From : =?UTF-8?B?UGhvbmVQZQ==?= <noreply@phonepe.com>\n",
      "\n",
      "Subject : =?UTF-8?B?ICAgICAgIFNlbnQg4oK5IDEwMCB0byAgU3V2aWRoYSBGdWVscyA=?=\n",
      "\n",
      "From : =?UTF-8?B?UGhvbmVQZQ==?= <noreply@phonepe.com>\n",
      "\n",
      "Subject : =?UTF-8?B?ICAgICAgUmVjZWl2ZWQg4oK5IDQwMCBmcm9tICBUQVJVTiBLVU1BUiBDQVJQRU5URVIg?=\n",
      "\n",
      "From : SBM Bank India <noreply@sbmbank.co.in>\n",
      "\n",
      "Subject : Important communication on your SBM Bank Pre-paid card\n",
      "\n",
      "From : Google <no-reply@accounts.google.com>\n",
      "\n",
      "Subject : Your Google Account was recovered successfully\n",
      "\n",
      "From : Google <no-reply@accounts.google.com>\n",
      "\n",
      "Subject : Security alert\n",
      "\n",
      "From : Google <no-reply@accounts.google.com>\n",
      "\n",
      "Subject : Security alert\n",
      "\n",
      "From : Google <no-reply@accounts.google.com>\n",
      "\n",
      "Subject : Your Google Account was recovered successfully\n",
      "\n",
      "From : The Google Account Team <google-noreply@google.com>\n",
      "\n",
      "Subject : Estimation, take the next step on your Windows device by confirming\n",
      " your Google Account settings\n",
      "\n",
      "From : Google <no-reply@accounts.google.com>\n",
      "\n",
      "Subject : Security alert\n",
      "\n",
      "From : Google <no-reply@accounts.google.com>\n",
      "\n",
      "Subject : Security alert\n",
      "\n",
      "From : Google <no-reply@accounts.google.com>\n",
      "\n",
      "Subject : Your Google Account was recovered successfully\n",
      "\n",
      "From : =?UTF-8?B?UGhvbmVQZQ==?= <noreply@phonepe.com>\n",
      "\n",
      "Subject : =?UTF-8?B?U2VudCDigrkgNTkgdG8gIENvZGV5ZXRpIFNvZnR3YXJlIFNvbHV0aW9ucyBQdnQgTHRkIA==?=\n",
      "\n",
      "From : Giselle Gastinet <contact@gisellegastinet.com>\n",
      "\n",
      "Subject : Chandra Prakash , it's not in your nature\n",
      "\n",
      "From : \"Horoscope.com\" <info@mail.horoscope.com>\n",
      "\n",
      "Subject : Your Daily Love Horoscope Sat November 26\n",
      "\n",
      "From : \"WB Games\" <noreply@email.wbgames.com>\n",
      "\n",
      "Subject : =?UTF-8?B?4p2E77iPIEJsYWNrIEZyaWRheTogR2V0IHVwIHRvIDg1JSBvZmY=?=\n",
      "\n"
     ]
    },
    {
     "ename": "UnicodeDecodeError",
     "evalue": "'utf-8' codec can't decode byte 0xa0 in position 7207: invalid start byte",
     "output_type": "error",
     "traceback": [
      "\u001b[0;31m---------------------------------------------------------------------------\u001b[0m",
      "\u001b[0;31mUnicodeDecodeError\u001b[0m                        Traceback (most recent call last)",
      "Cell \u001b[0;32mIn [6], line 36\u001b[0m\n\u001b[1;32m     32\u001b[0m                 \u001b[38;5;28mprint\u001b[39m(\u001b[38;5;124m'\u001b[39m\u001b[38;5;124mFrom : \u001b[39m\u001b[38;5;124m'\u001b[39m \u001b[38;5;241m+\u001b[39m email_from \u001b[38;5;241m+\u001b[39m \u001b[38;5;124m'\u001b[39m\u001b[38;5;130;01m\\n\u001b[39;00m\u001b[38;5;124m'\u001b[39m)\n\u001b[1;32m     33\u001b[0m                 \u001b[38;5;28mprint\u001b[39m(\u001b[38;5;124m'\u001b[39m\u001b[38;5;124mSubject : \u001b[39m\u001b[38;5;124m'\u001b[39m \u001b[38;5;241m+\u001b[39m email_subject \u001b[38;5;241m+\u001b[39m \u001b[38;5;124m'\u001b[39m\u001b[38;5;130;01m\\n\u001b[39;00m\u001b[38;5;124m'\u001b[39m)\n\u001b[0;32m---> 36\u001b[0m \u001b[43mread_email_from_gmail\u001b[49m\u001b[43m(\u001b[49m\u001b[43m)\u001b[49m\n",
      "Cell \u001b[0;32mIn [6], line 29\u001b[0m, in \u001b[0;36mread_email_from_gmail\u001b[0;34m()\u001b[0m\n\u001b[1;32m     27\u001b[0m arr \u001b[38;5;241m=\u001b[39m response_part[\u001b[38;5;241m0\u001b[39m]\n\u001b[1;32m     28\u001b[0m \u001b[38;5;28;01mif\u001b[39;00m \u001b[38;5;28misinstance\u001b[39m(arr, \u001b[38;5;28mtuple\u001b[39m):\n\u001b[0;32m---> 29\u001b[0m     msg \u001b[38;5;241m=\u001b[39m email\u001b[38;5;241m.\u001b[39mmessage_from_string(\u001b[38;5;28;43mstr\u001b[39;49m\u001b[43m(\u001b[49m\u001b[43marr\u001b[49m\u001b[43m[\u001b[49m\u001b[38;5;241;43m1\u001b[39;49m\u001b[43m]\u001b[49m\u001b[43m,\u001b[49m\u001b[38;5;124;43m'\u001b[39;49m\u001b[38;5;124;43mutf-8\u001b[39;49m\u001b[38;5;124;43m'\u001b[39;49m\u001b[43m)\u001b[49m)\n\u001b[1;32m     30\u001b[0m     email_subject \u001b[38;5;241m=\u001b[39m msg[\u001b[38;5;124m'\u001b[39m\u001b[38;5;124msubject\u001b[39m\u001b[38;5;124m'\u001b[39m]\n\u001b[1;32m     31\u001b[0m     email_from \u001b[38;5;241m=\u001b[39m msg[\u001b[38;5;124m'\u001b[39m\u001b[38;5;124mfrom\u001b[39m\u001b[38;5;124m'\u001b[39m]\n",
      "\u001b[0;31mUnicodeDecodeError\u001b[0m: 'utf-8' codec can't decode byte 0xa0 in position 7207: invalid start byte"
     ]
    }
   ],
   "source": [
    "# Python 3.8.0\n",
    "import smtplib\n",
    "import time\n",
    "import imaplib\n",
    "import email\n",
    "import traceback \n",
    "\n",
    "ORG_EMAIL = \"@gmail.com\" \n",
    "FROM_EMAIL = \"gamerprakash96\" + ORG_EMAIL \n",
    "FROM_PWD = \"vigmmomdbikffrbc\" \n",
    "SMTP_SERVER = \"imap.gmail.com\" \n",
    "SMTP_PORT = 993\n",
    "\n",
    "def read_email_from_gmail():\n",
    "    \"\"\" For Reading Mail \"\"\"\n",
    "    mail = imaplib.IMAP4_SSL(SMTP_SERVER)\n",
    "    mail.login(FROM_EMAIL,FROM_PWD)\n",
    "    mail.select('inbox')\n",
    "    data = mail.search(None, 'ALL')\n",
    "    mail_ids = data[1]\n",
    "    id_list = mail_ids[0].split()   \n",
    "    first_email_id = int(id_list[0])\n",
    "    latest_email_id = int(id_list[-1])\n",
    "    for i in range(latest_email_id,first_email_id, -1):\n",
    "        data = mail.fetch(str(i), '(RFC822)' )\n",
    "        for response_part in data:\n",
    "            arr = response_part[0]\n",
    "            if isinstance(arr, tuple):\n",
    "                msg = email.message_from_string(str(arr[1],'utf-8'))\n",
    "                email_subject = msg['subject']\n",
    "                email_from = msg['from']\n",
    "                print('From : ' + email_from + '\\n')\n",
    "                print('Subject : ' + email_subject + '\\n')\n",
    "    \n",
    "\n",
    "read_email_from_gmail()"
   ]
  },
  {
   "cell_type": "code",
   "execution_count": 8,
   "id": "a8a29176-e77b-418f-9860-1f0a94681ed9",
   "metadata": {},
   "outputs": [],
   "source": [
    "def send_email():\n",
    "    import imaplib\n",
    "    from email.message import Message\n",
    "    from time import time\n",
    "    HOSTNAME = \"imap.gmail.com\" \n",
    "    FROM_EMAIL = \"gamerprakash96@gmail.com\" \n",
    "    FROM_PWD = \"vigmmomdbikffrbc\" \n",
    "    connection = imaplib.IMAP4_SSL(HOSTNAME)\n",
    "    connection.login(FROM_EMAIL, FROM_PWD)\n",
    "    new_message = Message()\n",
    "    new_message[\"From\"] = \"prakash.mewari@yahoo.com\"\n",
    "    new_message[\"Subject\"] = \"My new mail.\"\n",
    "    new_message.set_payload(\"This is my message.\")\n",
    "\n",
    "    connection.append('INBOX', '', imaplib.Time2Internaldate(time()), str(new_message).encode('utf-8'))\n",
    "    \n",
    "send_email()"
   ]
  },
  {
   "cell_type": "code",
   "execution_count": null,
   "id": "05175bd2-1f60-42ad-9539-9ec822a3ebca",
   "metadata": {},
   "outputs": [],
   "source": []
  }
 ],
 "metadata": {
  "kernelspec": {
   "display_name": "Python 3 (ipykernel)",
   "language": "python",
   "name": "python3"
  },
  "language_info": {
   "codemirror_mode": {
    "name": "ipython",
    "version": 3
   },
   "file_extension": ".py",
   "mimetype": "text/x-python",
   "name": "python",
   "nbconvert_exporter": "python",
   "pygments_lexer": "ipython3",
   "version": "3.10.6"
  }
 },
 "nbformat": 4,
 "nbformat_minor": 5
}
