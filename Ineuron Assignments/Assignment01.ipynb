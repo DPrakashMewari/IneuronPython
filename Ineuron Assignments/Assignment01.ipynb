{
 "cells": [
  {
   "cell_type": "code",
   "execution_count": null,
   "id": "04d8413b-3146-4d62-8352-3b88333c798b",
   "metadata": {},
   "outputs": [],
   "source": [
    "## Question 1\n",
    "\n",
    "\"\"\"\n",
    "\n",
    "1. What are the differences between operators and values in the following?\n",
    "*\n",
    "'hello'\n",
    "-87.8\n",
    "-\n",
    "/\n",
    "+\n",
    "6\n",
    "\n",
    "\"\"\"\n",
    "\n",
    "## Solution\n",
    "\n",
    "# Operators and values\n",
    "# Operators are used to perform operations on variables and values.\n",
    "# print (2 + 4)  # 2 and 4 are values(operand) and + is operator \n",
    "\n",
    "# * is  multiplication operator \n",
    "# \"hello\" is a string \n",
    "# -87.8 is a float value \n",
    "# - is arthematic operator (Subraction)\n",
    "# / is Division opeator\n",
    "# + is Addition operators\n",
    "# 6 is the value"
   ]
  },
  {
   "cell_type": "code",
   "execution_count": null,
   "id": "d34ce573-794c-4fc4-9306-3f640224ec44",
   "metadata": {},
   "outputs": [],
   "source": [
    "## Question 2 \n",
    "\n",
    "\"\"\"\n",
    "2. What is the difference between string and variable?\n",
    "spam\n",
    "'spam'\n",
    "\"\"\"\n",
    "\n",
    "## Solution \n",
    "\n",
    "# spam is a variable which stores value or we can hold some values into it .\n",
    "# 'spam' is string which represents string it will assign to some \n",
    "# example \n",
    "# spam = \"spam\"\n"
   ]
  },
  {
   "cell_type": "code",
   "execution_count": null,
   "id": "b4478835-85be-4644-894b-a029bfada135",
   "metadata": {},
   "outputs": [],
   "source": [
    "## Question 3 \n",
    "\n",
    "\"\"\"\n",
    "3. Describe three different data forms.\n",
    "\"\"\"\n",
    "\n",
    "## Solution \n",
    "# Numeric Types:\tint , float , complex\n",
    "\n",
    "# Numeric types \n",
    "# int : it takes integer value  like 1323112\n",
    "# float : it take float value or a decimal value like : 34.24444\n",
    "# complex : it take real and imaginary numbers like 2+5j; 2 is the real number , 5j is imaginary number\n",
    "#                                             complex([real[, imag]])    \n"
   ]
  },
  {
   "cell_type": "code",
   "execution_count": null,
   "id": "b89c0a7c-cbca-402e-9d3e-753db5cb4488",
   "metadata": {},
   "outputs": [],
   "source": [
    "# Question 4.\n",
    "# What makes up an expression? What are the functions of all expressions?\n",
    "\n",
    "# Solution : Expression is a collection of operators and variable which consist different operator and operand \n",
    "# which generates some values.\n",
    "# Function of all expression \n",
    "# some are constant expression : value that dosent change ; examples : 5, 10 + 5 / 6.0, 'x’\n",
    "# some are integeral expression : which represent only integer value ; ex: x, x * y, x + int( 5.0)\n",
    "# some are floating expression : which represent float value after an expression; ex: x + y, 10.75\n"
   ]
  },
  {
   "cell_type": "code",
   "execution_count": null,
   "id": "394f64f8-6236-47a2-947f-1ba3810a77e0",
   "metadata": {},
   "outputs": [],
   "source": [
    "\n",
    "# Question 5 \n",
    "# assignment statements such as spam = 10 were added. \n",
    "# What's the difference between a declaration and an expression?\n",
    "\n",
    "# Solution:\n",
    "# declaration is a statement describing an identifier, such as the name of a variable\n",
    "# example a = 10 ; print(a) # you can re-declare it also \n",
    "# Expression : But Expressions are used  for representations of value \n"
   ]
  },
  {
   "cell_type": "code",
   "execution_count": null,
   "id": "673b8153-0b22-4f8d-b897-c6536086c309",
   "metadata": {},
   "outputs": [],
   "source": [
    "# Question : 6 \n",
    "# After running the following code, what does the variable bacon contain?\n",
    "bacon = 22\n",
    "bacon + 1\n",
    "\n",
    "#bacon it hold value only 23\n"
   ]
  },
  {
   "cell_type": "code",
   "execution_count": null,
   "id": "7f2ed12e-ffca-4e7d-bc5e-d7bb6498456f",
   "metadata": {},
   "outputs": [],
   "source": [
    " # Question : 7\n",
    "# 7. What should the values of the following two terms be?\n",
    "\n",
    "#'spam' + 'spamspam'\n",
    "# 'spamspamspam'\n",
    "#'spam' * 3\n",
    "# 'spamspamspam'\n",
    "\n",
    "# it will generate the same output but with different ways\n"
   ]
  },
  {
   "cell_type": "code",
   "execution_count": null,
   "id": "19812a69-7955-413b-be76-4a05fa1c0ddc",
   "metadata": {},
   "outputs": [],
   "source": [
    "# Question 8 \n",
    "# Why is it that eggs is a true variable name but 100 is not?\n",
    "# because eggs can store value or it is variable \n",
    "#100 = 'sfrf'\n",
    "# but if we assingn 100 to some value it will through error as cant assing to literal \n",
    "\n"
   ]
  },
  {
   "cell_type": "code",
   "execution_count": 2,
   "id": "50311503-47b8-499c-9918-bec448814d86",
   "metadata": {},
   "outputs": [
    {
     "name": "stdout",
     "output_type": "stream",
     "text": [
      "100 + <class 'float'>\n",
      "200.0 + <class 'int'>\n",
      "112s + <class 'str'>\n"
     ]
    }
   ],
   "source": [
    "\n",
    "# Question 9 \n",
    "#9. Which of the following three functions \n",
    "#may be used to convert a value to an integer, a floating-point number, or a string?\n",
    "\n",
    "\n",
    "a = 100.123 # float value to int\n",
    "print(int(a),'+',type(a))\n",
    "b = 200\n",
    "print(float(b),'+', type(b))\n",
    "c = '112s'\n",
    "print(str(c),'+',type(c))\n"
   ]
  },
  {
   "cell_type": "code",
   "execution_count": 4,
   "id": "11f48240-d719-434f-b2f2-c987ac15dc20",
   "metadata": {},
   "outputs": [],
   "source": [
    "# Question 10 \n",
    "#10. What is the error caused by this expression? What would you do about it?\n",
    "\n",
    "#'I have eaten ' + 99 + ' burritos.'\n",
    "# it will through concat error \n",
    "\n",
    "# Solution it help to present expression\n",
    "# 'I have eaten ' + str(99) + ' burritos.'"
   ]
  }
 ],
 "metadata": {
  "kernelspec": {
   "display_name": "Python 3 (ipykernel)",
   "language": "python",
   "name": "python3"
  },
  "language_info": {
   "codemirror_mode": {
    "name": "ipython",
    "version": 3
   },
   "file_extension": ".py",
   "mimetype": "text/x-python",
   "name": "python",
   "nbconvert_exporter": "python",
   "pygments_lexer": "ipython3",
   "version": "3.10.6"
  }
 },
 "nbformat": 4,
 "nbformat_minor": 5
}
