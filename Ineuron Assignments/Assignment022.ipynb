{
 "cells": [
  {
   "cell_type": "code",
   "execution_count": 1,
   "id": "7fe833f1-5bcc-4a6e-a02d-40042fa0d95f",
   "metadata": {},
   "outputs": [
    {
     "name": "stdout",
     "output_type": "stream",
     "text": [
      "iNeuron\n"
     ]
    }
   ],
   "source": [
    "# 1. What is the result of the code, and explain?\n",
    "# >>> X = 'iNeuron'\n",
    "# >>> def func():\n",
    "# print(X)\n",
    "# >>> func()\n",
    "\n",
    "\n",
    "\n",
    "X = 'iNeuron'\n",
    "def func():\n",
    "    print(X)\n",
    "func()\n",
    "\n",
    "# The Result of this code is iNeuron, it's because the function intially looks for \n",
    "# the variable X in its local scope,But since there is no local variable X, \n",
    "# its returns the value of global variable x ie iNeuron\n"
   ]
  },
  {
   "cell_type": "code",
   "execution_count": 7,
   "id": "3ef85278-a113-4229-8d06-ba86134b7ce0",
   "metadata": {},
   "outputs": [
    {
     "name": "stdout",
     "output_type": "stream",
     "text": [
      "NI!\n"
     ]
    }
   ],
   "source": [
    "# 2. What is the result of the code, and explain?\n",
    "# >>> X = 'iNeuron'\n",
    "# >>> def func():\n",
    "# X = 'NI!'\n",
    "# >>> func()\n",
    "# >>> print(X)\n",
    "\n",
    "X = 'iNeuron'\n",
    "def func():\n",
    "    X = 'NI!'\n",
    "    print(X)\n",
    "func()\n",
    "\n",
    "\n",
    "\n",
    "# The Result of this cide is NI!, because the function initially looks for the variable X in its\n",
    "# local scope if X is not available then it checks for variable X in the global scope, \n",
    "# Since here the X is present in the local scope. it prints the value NI!\n",
    "\n"
   ]
  },
  {
   "cell_type": "code",
   "execution_count": 9,
   "id": "3355cd53-c3ed-4505-8f81-9ddc7d8c2485",
   "metadata": {},
   "outputs": [
    {
     "name": "stdout",
     "output_type": "stream",
     "text": [
      "NI\n",
      "iNeuron\n"
     ]
    }
   ],
   "source": [
    "# 3. What does this code print, and why?\n",
    "# >>> X = 'iNeuron'\n",
    "# >>> def func():\n",
    "# X = 'NI'\n",
    "# print(X)\n",
    "# >>> func()\n",
    "# >>> print(X)\n",
    "\n",
    "\n",
    "X = 'iNeuron'\n",
    "def func():\n",
    "    X = 'NI'\n",
    "    print(X)\n",
    "func()\n",
    "print(X)\n",
    "\n",
    "\n",
    "# The output of the code is NI and iNeuron.\n",
    "# X=NI is in the local scope of the function func() hence the function prints the x value as NI.\n",
    "# X = 'iNeuron' is in the global scope. hence print(X) prints output as iNeuron\n"
   ]
  },
  {
   "cell_type": "code",
   "execution_count": 10,
   "id": "79501578-3051-4da0-948b-f22d898c98f7",
   "metadata": {},
   "outputs": [
    {
     "name": "stdout",
     "output_type": "stream",
     "text": [
      "NI\n"
     ]
    }
   ],
   "source": [
    "# 4. What output does this code produce? Why?\n",
    "# >>> X = 'iNeuron'\n",
    "# >>> def func():\n",
    "# global X\n",
    "# X = 'NI'\n",
    "# >>> func()\n",
    "# >>> print(X)\n",
    "\n",
    "\n",
    "X = 'iNeuron'\n",
    "def func():\n",
    "    global X\n",
    "    X = 'NI'\n",
    "func()\n",
    "print(X)\n",
    "\n",
    "\n",
    "\n",
    "# The output of the code is NI. the global keyword allows a variable to be accessible in the current scope. \n",
    "# since we are using global keyword inside the function func it directly access the variable in X in global scope. \n",
    "# and changes its value to NI. "
   ]
  },
  {
   "cell_type": "code",
   "execution_count": 12,
   "id": "bdb3400b-cf29-47d8-b814-157e762bb19b",
   "metadata": {},
   "outputs": [
    {
     "name": "stdout",
     "output_type": "stream",
     "text": [
      "NI\n"
     ]
    },
    {
     "data": {
      "text/plain": [
       "'iNeuron'"
      ]
     },
     "execution_count": 12,
     "metadata": {},
     "output_type": "execute_result"
    }
   ],
   "source": [
    "# 5. What about this code—what’s the output, and why?\n",
    "# >>> X = 'iNeuron'\n",
    "# >>> def func():\n",
    "# X = 'NI'\n",
    "# def nested():\n",
    "# print(X)\n",
    "# nested()\n",
    "# >>> func()\n",
    "# >>> X\n",
    "\n",
    "\n",
    "\n",
    "X = 'iNeuron'\n",
    "def func():\n",
    "    X = 'NI'\n",
    "    def nested():\n",
    "        print(X)\n",
    "    nested()\n",
    "func()\n",
    "X\n",
    "\n",
    "\n",
    "# The output of the code is NI.\n",
    "# the reason for this output is if a function wants to access a variable, \n",
    "# if its not available in its localscope. it looks for the variable in its global scope.\n",
    "# similarly here also function nested looks for variable X in its global scope.\n",
    "\n"
   ]
  },
  {
   "cell_type": "code",
   "execution_count": 16,
   "id": "bee81514-5cb3-464f-a096-72becf6078d2",
   "metadata": {},
   "outputs": [
    {
     "name": "stdout",
     "output_type": "stream",
     "text": [
      "Spam\n"
     ]
    }
   ],
   "source": [
    "# 6. How about this code: what is its output in Python 3, and explain?\n",
    "# >>> def func():\n",
    "# X = 'NI'\n",
    "# def nested():\n",
    "# nonlocal X\n",
    "# X = 'Spam'\n",
    "# nested()\n",
    "# print(X)\n",
    "# >>> func()\n",
    "\n",
    "\n",
    "\n",
    "def func():\n",
    "    X = 'NI'\n",
    "    def nested():\n",
    "        nonlocal X\n",
    "        X = 'Spam'\n",
    "    nested()\n",
    "    print(X)\n",
    "func()\n",
    "\n",
    "\n",
    "# The output of the code is Spam. nonlocal keyword in python is used to declare a variable as not local.\n",
    "# Hence the statement X = \"Spam\" is modified in the global scope. hence the output of print(X) statement is Spam\n",
    "\n"
   ]
  },
  {
   "cell_type": "code",
   "execution_count": null,
   "id": "2cec9c92-27b2-425b-aa51-e5d44bd6e16f",
   "metadata": {},
   "outputs": [],
   "source": []
  }
 ],
 "metadata": {
  "kernelspec": {
   "display_name": "Python 3 (ipykernel)",
   "language": "python",
   "name": "python3"
  },
  "language_info": {
   "codemirror_mode": {
    "name": "ipython",
    "version": 3
   },
   "file_extension": ".py",
   "mimetype": "text/x-python",
   "name": "python",
   "nbconvert_exporter": "python",
   "pygments_lexer": "ipython3",
   "version": "3.10.6"
  }
 },
 "nbformat": 4,
 "nbformat_minor": 5
}
