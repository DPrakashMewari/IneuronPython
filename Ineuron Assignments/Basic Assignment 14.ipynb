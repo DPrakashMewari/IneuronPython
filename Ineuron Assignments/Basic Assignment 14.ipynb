{
 "cells": [
  {
   "cell_type": "code",
   "execution_count": 7,
   "id": "93495d4a",
   "metadata": {},
   "outputs": [
    {
     "name": "stdout",
     "output_type": "stream",
     "text": [
      "0\n",
      "7\n",
      "14\n",
      "21\n",
      "28\n",
      "35\n",
      "42\n",
      "49\n",
      "56\n",
      "63\n",
      "70\n",
      "77\n",
      "84\n",
      "91\n",
      "98\n"
     ]
    }
   ],
   "source": [
    "# Define a class with a generator which can iterate the numbers, which are divisible by\n",
    "# 7, between a given range 0 and n.\n",
    "\n",
    "\n",
    "\n",
    "class num_generator:\n",
    "    def generate_num(num):\n",
    "        for i in range(0,num):\n",
    "            if i % 7 == 0 :\n",
    "                yield i\n",
    "                \n",
    "                \n",
    "obj = num_generator\n",
    "for i in obj.generate_num(100):\n",
    "    print(i)\n",
    "        "
   ]
  },
  {
   "cell_type": "code",
   "execution_count": 34,
   "id": "238ac420",
   "metadata": {},
   "outputs": [
    {
     "name": "stdout",
     "output_type": "stream",
     "text": [
      "New to Python or choosing between Python 2 and Python 3? Read Python 2 or Python 3.\n",
      "2 2\n",
      "3. 1\n",
      "3? 1\n",
      "New 1\n",
      "Python 5\n",
      "Read 1\n",
      "and 1\n",
      "between 1\n",
      "choosing 1\n",
      "or 2\n",
      "to 1\n"
     ]
    }
   ],
   "source": [
    "# Write a program to compute the frequency of the words from the input. The output\n",
    "# should output after sorting the key alphanumerically.\n",
    "\n",
    "\n",
    "def frequency_checker():\n",
    "    val = {}\n",
    "    for i in input().split(\" \"):\n",
    "        if(val.get(i) == None):\n",
    "            val[i] = 1\n",
    "        else:\n",
    "            val[i] += 1 \n",
    "        \n",
    "    return val\n",
    "\n",
    "for i,j in  sorted(frequency_checker().items()):\n",
    "    print(f\"{i} {j}\")\n"
   ]
  },
  {
   "cell_type": "code",
   "execution_count": 43,
   "id": "e3e75f33",
   "metadata": {},
   "outputs": [
    {
     "name": "stdout",
     "output_type": "stream",
     "text": [
      "Male\n",
      "Female\n"
     ]
    }
   ],
   "source": [
    "# Define a class Person and its two child classes: Male and Female. All classes have a\n",
    "# method &quot;getGender&quot; which can print &quot;Male&quot; for Male class and &quot;Female&quot; for Female\n",
    "# class.\n",
    "\n",
    "\n",
    "class Person:\n",
    "    def getGender(self):\n",
    "        print(\"Person Class\")\n",
    "class Male(Person):\n",
    "    def getGender(self):\n",
    "        print(\"Male\")\n",
    "class Female(Person):\n",
    "    def getGender(self):\n",
    "        print(\"Female\")\n",
    "        \n",
    "obj,obj1 = Male(),Female()\n",
    "obj.getGender()\n",
    "obj1.getGender()"
   ]
  },
  {
   "cell_type": "code",
   "execution_count": 48,
   "id": "deb2a404",
   "metadata": {},
   "outputs": [
    {
     "name": "stdout",
     "output_type": "stream",
     "text": [
      "I Play Hockey\n",
      "Hockey Play I\n",
      "Play Hockey I\n",
      "You Love Football\n",
      "Football Love You\n",
      "Love Football You\n"
     ]
    }
   ],
   "source": [
    "# Please write a program to generate all sentences where subject is in [&quot;I&quot;, &quot;You&quot;] and\n",
    "# verb is in [&quot;Play&quot;, &quot;Love&quot;] and the object is in [&quot;Hockey&quot;,&quot;Football&quot;].\n",
    "\n",
    "\n",
    "def generateSentence():\n",
    "    subject = ['I','You']\n",
    "    verb = ['Play','Love']\n",
    "    object1 = ['Hockey','Football']\n",
    "    for i,j,k in zip(subject,verb,object1):\n",
    "        print(i,j,k)\n",
    "        print(k,j,i)\n",
    "        print(j,k,i)\n",
    "        \n",
    "generateSentence()"
   ]
  },
  {
   "cell_type": "code",
   "execution_count": 61,
   "id": "e340d1ab",
   "metadata": {},
   "outputs": [
    {
     "name": "stdout",
     "output_type": "stream",
     "text": [
      "hel2o world!hel2o world!hel2o world!hel2o world!\n",
      "hello world!hello world!hello world!hello world!\n"
     ]
    }
   ],
   "source": [
    "# Please write a program to compress and decompress the string &quot;hello world!hello\n",
    "# world!hello world!hello world!&quot;.\n",
    "\n",
    "\n",
    "def compress(words):\n",
    "    val = words[0]\n",
    "    count = 0 \n",
    "    for i in range(len(words) -1):\n",
    "        if words[i] == words[i + 1]:\n",
    "            count += 1\n",
    "        else:\n",
    "            if count > 1:\n",
    "                val += str(count)\n",
    "            val += words[i+1]\n",
    "            count = 1\n",
    "    if count > 1 :\n",
    "        val += str(count)\n",
    "    print(val)\n",
    "    \n",
    "def decompress(words):\n",
    "    val = ''\n",
    "    for i in range(len(words)):\n",
    "        if words[i].isdigit():\n",
    "            val += val[-1]*(int(words[i])-1)\n",
    "        else:\n",
    "            val += words[i]\n",
    "    print(val)\n",
    "    \n",
    "    \n",
    "compress(\"hello world!hello world!hello world!hello world!\")\n",
    "decompress(\"hel2o world!hel2o world!hel2o world!hel2o world!\")"
   ]
  },
  {
   "cell_type": "code",
   "execution_count": 81,
   "id": "5203d0f9",
   "metadata": {},
   "outputs": [
    {
     "name": "stdout",
     "output_type": "stream",
     "text": [
      "Sorted List  [1, 2, 3, 5, 12, 23, 33]\n",
      "\n",
      "2\n",
      "4\n",
      "6\n"
     ]
    }
   ],
   "source": [
    "# Please write a binary search function which searches an item in a sorted list. The\n",
    "# function should return the index of element to be searched in the list.\n",
    "\n",
    "\n",
    "def binarysearch(l1,ele_search):\n",
    "    l = 0 \n",
    "    h = len(l1)-1\n",
    "    while l <= h:\n",
    "        m = h+l//2 \n",
    "        if l1[m] < ele_search:\n",
    "            l = m + 1\n",
    "        elif l1[m] > ele_search:\n",
    "            h = m-1\n",
    "        else:\n",
    "            return m\n",
    "    else:\n",
    "        return \"-1\"\n",
    "\n",
    "l1 = [1,2,23,5,33,12,3]\n",
    "l1=sorted(l1)\n",
    "print(\"Sorted List \" ,l1)\n",
    "print()\n",
    "print(binarysearch(sorted(l1),3))\n",
    "print(binarysearch(sorted(l1),12))\n",
    "print(binarysearch(sorted(l1),33))"
   ]
  }
 ],
 "metadata": {
  "kernelspec": {
   "display_name": "Python 3 (ipykernel)",
   "language": "python",
   "name": "python3"
  },
  "language_info": {
   "codemirror_mode": {
    "name": "ipython",
    "version": 3
   },
   "file_extension": ".py",
   "mimetype": "text/x-python",
   "name": "python",
   "nbconvert_exporter": "python",
   "pygments_lexer": "ipython3",
   "version": "3.11.1"
  }
 },
 "nbformat": 4,
 "nbformat_minor": 5
}
