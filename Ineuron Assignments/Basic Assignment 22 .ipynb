{
 "cells": [
  {
   "cell_type": "code",
   "execution_count": 4,
   "id": "28aee33e",
   "metadata": {},
   "outputs": [
    {
     "data": {
      "text/plain": [
       "[]"
      ]
     },
     "execution_count": 4,
     "metadata": {},
     "output_type": "execute_result"
    }
   ],
   "source": [
    "# Create a function that takes three parameters where:\n",
    "#  x is the start of the range (inclusive).\n",
    "#  y is the end of the range (inclusive).\n",
    "#  n is the divisor to be checked against.\n",
    "# Return an ordered list with numbers in the range that are divisible by the third parameter n.\n",
    "# Return an empty list if there are no numbers that are divisible by n.\n",
    "\n",
    "\n",
    "\n",
    "\n",
    "def list_operation(a,b,c):\n",
    "    l1 = []\n",
    "    for i in range(a,b):\n",
    "        if i % c == 0:\n",
    "            l1.append(i)\n",
    "    return l1 \n",
    "\n",
    "\n",
    "list_operation(1, 10, 3)\n",
    "list_operation(7, 9, 2)\n",
    "list_operation(15, 20, 7)"
   ]
  },
  {
   "cell_type": "code",
   "execution_count": 9,
   "id": "4c6e00e7",
   "metadata": {},
   "outputs": [
    {
     "data": {
      "text/plain": [
       "True"
      ]
     },
     "execution_count": 9,
     "metadata": {},
     "output_type": "execute_result"
    }
   ],
   "source": [
    "# Create a function that takes in two lists and returns True if the second list follows the first list\n",
    "# by one element, and False otherwise. In other words, determine if the second list is the first\n",
    "# list shifted to the right by 1.\n",
    "\n",
    "\n",
    "def simon_says(l1,l2):\n",
    "    if len(l1) == len(l2) and len(l1)>=2 and len(l2) >=2:\n",
    "        if l1[:-1] == l2[1:]:\n",
    "            return True\n",
    "        else:\n",
    "            return False \n",
    "    \n",
    "    \n",
    "    \n",
    "simon_says([1, 2], [5, 1])\n",
    "simon_says([1, 2], [5, 5])\n",
    "simon_says([1, 2, 3, 4, 5], [0, 1, 2, 3, 4])\n"
   ]
  },
  {
   "cell_type": "code",
   "execution_count": 39,
   "id": "16562e4e",
   "metadata": {},
   "outputs": [
    {
     "data": {
      "text/plain": [
       "'CHLN'"
      ]
     },
     "execution_count": 39,
     "metadata": {},
     "output_type": "execute_result"
    }
   ],
   "source": [
    "# 3.A group of friends have decided to start a secret society. The name will be the first letter of each of their names, sorted in a alphabetical order ? Create a function that takes in a list of names and returns the name of the secret society ?\n",
    "\n",
    "def society_name(l1):\n",
    "    str1 = []\n",
    "    for i in l1:\n",
    "        str1.append(i[0])\n",
    "    op = \"\".join(sorted(str1))\n",
    "    return op\n",
    "    \n",
    "society_name([\"Adam\", \"Sarah\", \"Malcolm\"])\n",
    "society_name([\"Harry\", \"Newt\", \"Luna\", \"Cho\"])"
   ]
  },
  {
   "cell_type": "code",
   "execution_count": 43,
   "id": "36829f92",
   "metadata": {},
   "outputs": [
    {
     "data": {
      "text/plain": [
       "False"
      ]
     },
     "execution_count": 43,
     "metadata": {},
     "output_type": "execute_result"
    }
   ],
   "source": [
    "def isogram(str1):\n",
    "    lstr1 = str1.lower()\n",
    "    if len(lstr1)  == len(set(lstr1)):\n",
    "        return True \n",
    "    else:\n",
    "        return False \n",
    "\n",
    "isogram(\"Algorism\")\n",
    "isogram(\"PasSword\")"
   ]
  },
  {
   "cell_type": "code",
   "execution_count": 45,
   "id": "b88f618f",
   "metadata": {},
   "outputs": [
    {
     "data": {
      "text/plain": [
       "False"
      ]
     },
     "execution_count": 45,
     "metadata": {},
     "output_type": "execute_result"
    }
   ],
   "source": [
    "def is_in_order(str1):\n",
    "    sstr1 = ''.join(sorted(str1))\n",
    "    if str1 == sstr1:\n",
    "        return True \n",
    "    else:\n",
    "        return False \n",
    "    \n",
    "is_in_order(\"abc\")\n",
    "is_in_order(\"edabit\")\n",
    "\n"
   ]
  },
  {
   "cell_type": "code",
   "execution_count": null,
   "id": "9c738c66",
   "metadata": {},
   "outputs": [],
   "source": []
  }
 ],
 "metadata": {
  "kernelspec": {
   "display_name": "Python 3 (ipykernel)",
   "language": "python",
   "name": "python3"
  },
  "language_info": {
   "codemirror_mode": {
    "name": "ipython",
    "version": 3
   },
   "file_extension": ".py",
   "mimetype": "text/x-python",
   "name": "python",
   "nbconvert_exporter": "python",
   "pygments_lexer": "ipython3",
   "version": "3.11.1"
  }
 },
 "nbformat": 4,
 "nbformat_minor": 5
}
