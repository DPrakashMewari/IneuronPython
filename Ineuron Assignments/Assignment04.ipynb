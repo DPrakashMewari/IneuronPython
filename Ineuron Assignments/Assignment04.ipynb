{
 "cells": [
  {
   "cell_type": "code",
   "execution_count": null,
   "id": "a32ea2b7-091c-4661-b4c8-d72ff36e06fe",
   "metadata": {},
   "outputs": [],
   "source": [
    "#1. What exactly is []?\n",
    "\n",
    "# It is a list which contains no values "
   ]
  },
  {
   "cell_type": "code",
   "execution_count": 6,
   "id": "42ee4f65-3b48-465e-ac09-5ced835a5f7f",
   "metadata": {},
   "outputs": [
    {
     "name": "stdout",
     "output_type": "stream",
     "text": [
      "[2, 4, 'hello', 8, 10]\n"
     ]
    }
   ],
   "source": [
    "# 2. In a list of values stored in a variable called spam, how would you assign the value &#39;hello&#39; as the\n",
    "# third value? (Assume [2, 4, 6, 8, 10] are in spam.)\n",
    "\n",
    "\n",
    "spam = [2, 4, 6, 8, 10]\n",
    "spam[2] = 'hello'\n",
    "print(spam)"
   ]
  },
  {
   "cell_type": "code",
   "execution_count": 10,
   "id": "e426da0d-26cd-4e92-bff0-b61d98824c3a",
   "metadata": {},
   "outputs": [],
   "source": [
    "spam = ['a','b','c','d']"
   ]
  },
  {
   "cell_type": "code",
   "execution_count": 14,
   "id": "54c5987c-5731-420b-ad68-e490fcafb59d",
   "metadata": {},
   "outputs": [
    {
     "data": {
      "text/plain": [
       "'d'"
      ]
     },
     "execution_count": 14,
     "metadata": {},
     "output_type": "execute_result"
    }
   ],
   "source": [
    "# 3. What is the value of spam[int(int('3' * 2) / 11)]?\n",
    "spam[int(int('3' * 2) / 11)]\n",
    "\n",
    "# following expression converted first to '33' by int divide by 11 = 3 so the answer is 3 "
   ]
  },
  {
   "cell_type": "code",
   "execution_count": 15,
   "id": "89aa1e0a-e624-4cb7-be31-cbdb0d7f9d3a",
   "metadata": {},
   "outputs": [
    {
     "data": {
      "text/plain": [
       "'d'"
      ]
     },
     "execution_count": 15,
     "metadata": {},
     "output_type": "execute_result"
    }
   ],
   "source": [
    "#4  What is the value of spam[-1]?\n",
    "spam[-1]\n",
    "\n",
    "# last value of spam "
   ]
  },
  {
   "cell_type": "code",
   "execution_count": 18,
   "id": "24ad0952-8bfd-413f-9d6a-628d135bf5b9",
   "metadata": {},
   "outputs": [
    {
     "data": {
      "text/plain": [
       "['a', 'b']"
      ]
     },
     "execution_count": 18,
     "metadata": {},
     "output_type": "execute_result"
    }
   ],
   "source": [
    "# 5. What is the value of spam[:2]?\n",
    "\n",
    "spam[:2]\n",
    "\n",
    "# till index 2 value will appear "
   ]
  },
  {
   "cell_type": "code",
   "execution_count": 30,
   "id": "35f22c69-118e-4dac-a914-51eeb547a35e",
   "metadata": {},
   "outputs": [],
   "source": [
    "bacon = [3.14,'cat',11,'cat',True]"
   ]
  },
  {
   "cell_type": "code",
   "execution_count": 21,
   "id": "648e9d66-37d6-4415-9a77-95b6306a379e",
   "metadata": {},
   "outputs": [
    {
     "data": {
      "text/plain": [
       "1"
      ]
     },
     "execution_count": 21,
     "metadata": {},
     "output_type": "execute_result"
    }
   ],
   "source": [
    "#6. What is the value of bacon.index('cat')?\n",
    "\n",
    "bacon.index('cat')"
   ]
  },
  {
   "cell_type": "code",
   "execution_count": 25,
   "id": "b9fab8fa-29c3-43d8-a31e-447a7215e2cb",
   "metadata": {},
   "outputs": [
    {
     "data": {
      "text/plain": [
       "[3.14, 'cat', 11, 'cat', True, 99]"
      ]
     },
     "execution_count": 25,
     "metadata": {},
     "output_type": "execute_result"
    }
   ],
   "source": [
    "#7. How does bacon.append(99) change the look of the list value in bacon?\n",
    "bacon.append(99)\n",
    "\n",
    "bacon\n",
    "\n",
    "# it will append one value 99 "
   ]
  },
  {
   "cell_type": "code",
   "execution_count": 26,
   "id": "841b5635-3bb1-4d43-9ff5-828c8fb6aa88",
   "metadata": {},
   "outputs": [
    {
     "data": {
      "text/plain": [
       "[3.14, 11, 'cat', True, 99]"
      ]
     },
     "execution_count": 26,
     "metadata": {},
     "output_type": "execute_result"
    }
   ],
   "source": [
    "# 8. How does bacon.remove('cat') change the look of the list in bacon?\n",
    "\n",
    "bacon.remove('cat')\n",
    "bacon\n",
    "\n",
    "# it will remove one cat value"
   ]
  },
  {
   "cell_type": "code",
   "execution_count": 27,
   "id": "2dd8873e-cb30-440b-b9a7-712c7e39504c",
   "metadata": {},
   "outputs": [],
   "source": [
    "# 9. What are the list concatenation and list replication operators?\n",
    "\n",
    "# The operator for list concatenation is +, and for list replication is *."
   ]
  },
  {
   "cell_type": "code",
   "execution_count": 33,
   "id": "cc4886ba-24bf-425f-9362-f5c0a6247f85",
   "metadata": {},
   "outputs": [
    {
     "name": "stdout",
     "output_type": "stream",
     "text": [
      "append [3.14, 'cat', 11, 'cat', True, 'h']\n",
      "insert [3.14, 'p', 'cat', 11, 'cat', True, 'h']\n"
     ]
    }
   ],
   "source": [
    "# 10. What is difference between the list methods append() and insert()?\n",
    "\n",
    "# append will add value at last \n",
    "# insert will add value at desired location \n",
    "\n",
    "bacon.append('h')\n",
    "print('append',bacon)\n",
    "bacon.insert(1,'p')\n",
    "print('insert',bacon)"
   ]
  },
  {
   "cell_type": "code",
   "execution_count": 34,
   "id": "13be2a78-9646-447f-b7c7-6ebd49d242f5",
   "metadata": {},
   "outputs": [
    {
     "name": "stdout",
     "output_type": "stream",
     "text": [
      "h\n",
      "None\n",
      "After remove and pop [3.14, 'cat', 11, 'cat', True]\n"
     ]
    }
   ],
   "source": [
    "#11. What are the two methods for removing items from a list?\n",
    "\n",
    "# pop : last item will delete from list\n",
    "# remove : Specified value only removed from list\n",
    "print(bacon.pop())\n",
    "print(bacon.remove('p'))\n",
    "print(\"After remove and pop\",bacon)"
   ]
  },
  {
   "cell_type": "code",
   "execution_count": 35,
   "id": "c161ce50-25fa-4db5-bee8-7ac380e20600",
   "metadata": {},
   "outputs": [],
   "source": [
    "# 12. Describe how list values and string values are identical.\n",
    "\n",
    "# Both lists and strings can be passed to len(), \n",
    "# have indexes and slices, be used in for loops, \n",
    "# be concatenated or replicated, \n",
    "# and be used with the in and not in operators.\n"
   ]
  },
  {
   "cell_type": "code",
   "execution_count": 36,
   "id": "b72bfb99-80ad-4ea2-928a-df0e726ff0e9",
   "metadata": {},
   "outputs": [],
   "source": [
    "# 13. What's the difference between tuples and lists?\n",
    "# Tuples are immutable; they cannot be changed at all whereas \n",
    "# Lists are mutable; they can have values added,\n",
    "# removed, or changed. Also, tuples are written using parentheses,\n",
    "# ( ), while lists use the square brackets, [ ]."
   ]
  },
  {
   "cell_type": "code",
   "execution_count": 40,
   "id": "72e505a5-98c7-490f-b31d-98f4b40a58e6",
   "metadata": {},
   "outputs": [
    {
     "name": "stdout",
     "output_type": "stream",
     "text": [
      "<class 'tuple'>\n"
     ]
    }
   ],
   "source": [
    "# 14. How do you type a tuple value that only contains the integer 42?\n",
    "\n",
    "a = (42,)\n",
    "\n",
    "print(type(a))"
   ]
  },
  {
   "cell_type": "code",
   "execution_count": 43,
   "id": "6939acdb-cb83-49ff-814f-b35f0239383a",
   "metadata": {},
   "outputs": [
    {
     "name": "stdout",
     "output_type": "stream",
     "text": [
      "Tuple to list  [3, 342, 23, 42]\n",
      "List to tuple (3, 342, 23, 42)\n"
     ]
    }
   ],
   "source": [
    "# 15. How do you get a list value's tuple form? How do you get a tuple value's list form?\n",
    "\n",
    "a = (3,342,23,42)\n",
    "\n",
    "b = [3,342,23,42]\n",
    "print(\"Tuple to list \",list(a))\n",
    "\n",
    "print(\"List to tuple\",tuple(b))\n",
    "\n",
    "# we can do by tuple() and list() function"
   ]
  },
  {
   "cell_type": "code",
   "execution_count": null,
   "id": "610bdb37-7885-4f20-b6f3-1abc61fa5a21",
   "metadata": {},
   "outputs": [],
   "source": [
    "# 16. Variables that \"contain\" list values are not\n",
    "# necessarily lists themselves. Instead, what do they contain?\n",
    "\n",
    "# Variables will contain references to list values rather than list values."
   ]
  },
  {
   "cell_type": "code",
   "execution_count": 44,
   "id": "ac4238cc-c3ea-4350-97ad-cdd11c5c6747",
   "metadata": {},
   "outputs": [],
   "source": [
    "# 17. How do you distinguish between copy.copy() and copy.deepcopy()?\n",
    "\n",
    "# The copy.copy() function will do a shallow copy of a list, \n",
    "# while the copy.deepcopy() function will do a deep copy of a list. \n",
    "# That is, only copy.deepcopy() will duplicate any lists inside the list."
   ]
  }
 ],
 "metadata": {
  "kernelspec": {
   "display_name": "Python 3 (ipykernel)",
   "language": "python",
   "name": "python3"
  },
  "language_info": {
   "codemirror_mode": {
    "name": "ipython",
    "version": 3
   },
   "file_extension": ".py",
   "mimetype": "text/x-python",
   "name": "python",
   "nbconvert_exporter": "python",
   "pygments_lexer": "ipython3",
   "version": "3.10.6"
  }
 },
 "nbformat": 4,
 "nbformat_minor": 5
}
