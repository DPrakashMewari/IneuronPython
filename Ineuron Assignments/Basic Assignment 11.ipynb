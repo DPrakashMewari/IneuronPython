{
 "cells": [
  {
   "cell_type": "code",
   "execution_count": 6,
   "id": "cbdebc0e-949c-40ac-b5dd-d1eb2d072d71",
   "metadata": {},
   "outputs": [
    {
     "data": {
      "text/plain": [
       "['Hello', 'Prakash', 'Student', 'Ineuron']"
      ]
     },
     "execution_count": 6,
     "metadata": {},
     "output_type": "execute_result"
    }
   ],
   "source": [
    "# 1. Write a Python program to find words which are greater than given length k?\n",
    "\n",
    "sentence = \"Hello this is Prakash Student of Ineuron\"\n",
    "k = 4\n",
    "\n",
    "r=[i for i in sentence.split() if len(i) > k]\n",
    "r"
   ]
  },
  {
   "cell_type": "code",
   "execution_count": 17,
   "id": "62dcd86a-3df1-4815-9d14-c119c96382d5",
   "metadata": {},
   "outputs": [
    {
     "data": {
      "text/plain": [
       "'PrakashNe'"
      ]
     },
     "execution_count": 17,
     "metadata": {},
     "output_type": "execute_result"
    }
   ],
   "source": [
    "# 2. Write a Python program for removing i-th character from a string?\n",
    "\n",
    "def remove(string,i):\n",
    "    for j in range(len(string)):\n",
    "        if j == i :\n",
    "            return string\n",
    "        string  = string.replace(string[i],'',1)\n",
    "        return string\n",
    "    \n",
    "    \n",
    "string = \"PrakashNee\" \n",
    "remove(string,9)\n"
   ]
  },
  {
   "cell_type": "code",
   "execution_count": 6,
   "id": "dd663b09-9702-4333-8e33-cba50afb4d38",
   "metadata": {},
   "outputs": [
    {
     "data": {
      "text/plain": [
       "'Hello this is Prakash Student of Ineuron'"
      ]
     },
     "execution_count": 6,
     "metadata": {},
     "output_type": "execute_result"
    }
   ],
   "source": [
    "# 3. Write a Python program to split and join a string?\n",
    "\n",
    "\n",
    "sentence = \"Hello this is Prakash Student of Ineuron\"\n",
    "' '.join(sentence.split())"
   ]
  },
  {
   "cell_type": "code",
   "execution_count": 12,
   "id": "dc6ae013-3f5a-4a99-9b5f-29742d081fcc",
   "metadata": {},
   "outputs": [
    {
     "name": "stdout",
     "output_type": "stream",
     "text": [
      "Yes\n"
     ]
    }
   ],
   "source": [
    "# Write a Python to check if a given string is binary string or not?\n",
    "\n",
    "\n",
    "def check(str):\n",
    "    s=set(str)\n",
    "    unique_no = {'1','0'}\n",
    "    if s == unique_no or s == {'0'} or s =={'1'}:\n",
    "        print('Yes') \n",
    "    else :\n",
    "        print('No') \n",
    "    \n",
    "\n",
    "str1 = '01Prakay'\n",
    "str2 = '10101'\n",
    "check(str2)"
   ]
  },
  {
   "cell_type": "code",
   "execution_count": 26,
   "id": "59d4c2ad-bf42-4b31-ac63-5071a2ad6f24",
   "metadata": {},
   "outputs": [
    {
     "data": {
      "text/plain": [
       "['LoL',\n",
       " 'Are',\n",
       " 'sometime',\n",
       " 'Hy',\n",
       " 'You',\n",
       " 'Brave',\n",
       " 'Funny',\n",
       " 'This',\n",
       " 'Used',\n",
       " 'random',\n",
       " 'Man',\n",
       " 'things']"
      ]
     },
     "execution_count": 26,
     "metadata": {},
     "output_type": "execute_result"
    }
   ],
   "source": [
    "# Write a Python program to find uncommon words from two Strings?\n",
    "\n",
    "def Uncommon_word(str1,str2):\n",
    "    a1 = str1.split()\n",
    "    a2 = str2.split()\n",
    "    l1 = []\n",
    "    for i in a1:\n",
    "        if i not in a2:\n",
    "            l1.append(i)\n",
    "    for j in a2:\n",
    "        if j not in a1:\n",
    "            l1.append(j)\n",
    "    return list(set(l1))\n",
    "     \n",
    "\n",
    "\n",
    "str1 = \"Hy This Used to Brave sometime random things\"\n",
    "str2 = \"LoL You  Are to Funny Man\"\n",
    "\n",
    "Uncommon_word(str1,str2)"
   ]
  },
  {
   "cell_type": "code",
   "execution_count": 43,
   "id": "6aad6ed8-baff-4ee6-9485-0a31152edb26",
   "metadata": {},
   "outputs": [
    {
     "name": "stdout",
     "output_type": "stream",
     "text": [
      "['H', 'e', 'l', 'o']\n"
     ]
    }
   ],
   "source": [
    "# 6. Write a Python to find all duplicate characters in string?\n",
    "\n",
    "sentence = \"HelloHello \"\n",
    "d1 = []\n",
    "for i in sentence:\n",
    "    if sentence.count(i) > 1 and i not in d1:\n",
    "        d1.append(i)\n",
    "print(d1)"
   ]
  },
  {
   "cell_type": "code",
   "execution_count": 51,
   "id": "684da937-1ae8-4493-8466-d8048a63fdd3",
   "metadata": {},
   "outputs": [
    {
     "name": "stdout",
     "output_type": "stream",
     "text": [
      "It has some special Characters\n"
     ]
    }
   ],
   "source": [
    "# Write a Python Program to check if a string contains any special character?\n",
    "\n",
    "def has_special_chr(str1):\n",
    "    for i in str1:\n",
    "        if not (i.isalpha() or i.isdigit() or i == ' '):\n",
    "            return True\n",
    "    return False\n",
    "\n",
    "\n",
    "if has_special_chr('Hello#akash'):\n",
    "    print(\"It has some special Characters\")\n",
    "else:\n",
    "    print(\"It not has any special Character\")"
   ]
  },
  {
   "cell_type": "code",
   "execution_count": null,
   "id": "4ec5a3c2-fa5d-4099-95b9-75615d17dcd2",
   "metadata": {},
   "outputs": [],
   "source": []
  },
  {
   "cell_type": "code",
   "execution_count": null,
   "id": "aa40eb0f-66dd-42e1-9c71-b7647c265904",
   "metadata": {},
   "outputs": [],
   "source": []
  },
  {
   "cell_type": "code",
   "execution_count": null,
   "id": "c15e8f82-bc57-486c-a5a4-626e45ec05da",
   "metadata": {},
   "outputs": [],
   "source": []
  }
 ],
 "metadata": {
  "kernelspec": {
   "display_name": "Python 3 (ipykernel)",
   "language": "python",
   "name": "python3"
  },
  "language_info": {
   "codemirror_mode": {
    "name": "ipython",
    "version": 3
   },
   "file_extension": ".py",
   "mimetype": "text/x-python",
   "name": "python",
   "nbconvert_exporter": "python",
   "pygments_lexer": "ipython3",
   "version": "3.10.6"
  }
 },
 "nbformat": 4,
 "nbformat_minor": 5
}
