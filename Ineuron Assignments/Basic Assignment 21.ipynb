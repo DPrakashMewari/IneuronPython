{
 "cells": [
  {
   "cell_type": "code",
   "execution_count": 5,
   "id": "6757e51b",
   "metadata": {},
   "outputs": [
    {
     "name": "stdout",
     "output_type": "stream",
     "text": [
      "[6, 7, 8, 9, 1]\n",
      "[6, 3, 23, 17, 10]\n",
      "No list has been selected\n"
     ]
    }
   ],
   "source": [
    "# 1.Write a function that takes a \n",
    "# list and a number as arguments\n",
    "# Add the number to the end of the list, \n",
    "# then remove the first element of the list.\n",
    "# The function should then return the updated list.\n",
    "\n",
    "\n",
    "def next_in_line(l1,n):\n",
    "    if len(l1) > 1:\n",
    "        l1.append(n)\n",
    "        l1.remove(l1[0])\n",
    "        return l1\n",
    "    else:\n",
    "        return 'No list has been selected'\n",
    "    return \n",
    "\n",
    "\n",
    "print(next_in_line([5, 6, 7, 8, 9], 1) )\n",
    "print(next_in_line([7, 6, 3, 23, 17], 10 ))\n",
    "print(next_in_line([], 6))\n"
   ]
  },
  {
   "cell_type": "code",
   "execution_count": 12,
   "id": "94edeace",
   "metadata": {},
   "outputs": [
    {
     "name": "stdout",
     "output_type": "stream",
     "text": [
      "65700 62600\n"
     ]
    }
   ],
   "source": [
    "d1 = [ { \"name\": \"John\", \"age\": 21, \"budget\": 23000 }, { \"name\": \"Steve\", \"age\": 32, \"budget\": 40000 }, { \"name\": \"Martin\", \"age\": 16, \"budget\": 2700 } ]\n",
    "d2 = [ { \"name\": \"John\", \"age\": 21, \"budget\": 29000 }, { \"name\": \"Steve\", \"age\": 32, \"budget\": 32000 }, { \"name\": \"Martin\", \"age\": 16, \"budget\": 1600 } ]\n",
    "\n",
    "def get_budgets(d1):\n",
    "    sum1 = 0 \n",
    "    for i in d1:\n",
    "        sum1 += i['budget']\n",
    "    return sum1 \n",
    "        \n",
    "print(get_budgets(d1),\n",
    "get_budgets(d2))"
   ]
  },
  {
   "cell_type": "code",
   "execution_count": 15,
   "id": "ff170a68",
   "metadata": {},
   "outputs": [
    {
     "data": {
      "text/plain": [
       "'aacijprstv'"
      ]
     },
     "execution_count": 15,
     "metadata": {},
     "output_type": "execute_result"
    }
   ],
   "source": [
    "def alphabet_soup(str1):\n",
    "    return \"\".join(sorted(str1))\n",
    "\n",
    "\n",
    "alphabet_soup(\"hello\")\n",
    "alphabet_soup(\"edabit\")\n",
    "alphabet_soup(\"hacker\")\n",
    "alphabet_soup(\"geek\")\n",
    "alphabet_soup(\"javascript\")"
   ]
  },
  {
   "cell_type": "code",
   "execution_count": 16,
   "id": "e70ff6dc",
   "metadata": {},
   "outputs": [
    {
     "name": "stdout",
     "output_type": "stream",
     "text": [
      "Output ➞ 2007316.26\n"
     ]
    }
   ],
   "source": [
    "def compound_interest(principal,years,roi,cp):\n",
    "    ci = principal*(1+(roi/cp))**(cp*years)\n",
    "    print(f'Output ➞ {ci:.2f}')\n",
    "    \n",
    "    \n",
    "compound_interest(100000, 20, 0.15, 365)\n"
   ]
  },
  {
   "cell_type": "code",
   "execution_count": 18,
   "id": "3b4a6524",
   "metadata": {},
   "outputs": [
    {
     "name": "stdout",
     "output_type": "stream",
     "text": [
      "[9, 2, 'space', 'car', 'lion', 16] ➞ [9, 2, 16]\n",
      "['hello', 81, 'basketball', 123, 'fox'] ➞ [81, 123]\n",
      "[10, '121', 56, 20, 'car', 3, 'lion'] ➞ [10, 56, 20, 3]\n",
      "['String', True, 3.3, 1] ➞ [1]\n"
     ]
    }
   ],
   "source": [
    "def return_only_integer(in_list):\n",
    "    out_list = []\n",
    "    for ele in in_list:\n",
    "        if type(ele) == int:\n",
    "            out_list.append(ele)\n",
    "    print(f'{in_list} ➞ {out_list}')\n",
    "\n",
    "    \n",
    "\n",
    "return_only_integer([9, 2, \"space\", \"car\", \"lion\", 16])\n",
    "return_only_integer([\"hello\", 81, \"basketball\", 123, \"fox\"])\n",
    "return_only_integer([10, \"121\", 56, 20, \"car\", 3, \"lion\"]) \n",
    "return_only_integer([\"String\", True, 3.3, 1])"
   ]
  },
  {
   "cell_type": "code",
   "execution_count": null,
   "id": "fb783b97",
   "metadata": {},
   "outputs": [],
   "source": []
  }
 ],
 "metadata": {
  "kernelspec": {
   "display_name": "Python 3 (ipykernel)",
   "language": "python",
   "name": "python3"
  },
  "language_info": {
   "codemirror_mode": {
    "name": "ipython",
    "version": 3
   },
   "file_extension": ".py",
   "mimetype": "text/x-python",
   "name": "python",
   "nbconvert_exporter": "python",
   "pygments_lexer": "ipython3",
   "version": "3.11.1"
  }
 },
 "nbformat": 4,
 "nbformat_minor": 5
}
