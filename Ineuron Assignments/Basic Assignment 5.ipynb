{
 "cells": [
  {
   "cell_type": "code",
   "execution_count": 23,
   "id": "97f2562b-e399-4b58-8cc3-13ab11b65a81",
   "metadata": {},
   "outputs": [
    {
     "data": {
      "text/plain": [
       "216"
      ]
     },
     "execution_count": 23,
     "metadata": {},
     "output_type": "execute_result"
    }
   ],
   "source": [
    "# 1. Write a Python Program to Find LCM?\n",
    "\n",
    "\n",
    "def find_lcm(n1,n2):\n",
    "    if n1 > n2:\n",
    "        greater = n1\n",
    "    else:\n",
    "        greater = n2\n",
    "        \n",
    "    while True:\n",
    "        if ((greater % n1 == 0 ) and (greater % n2 == 0 )):\n",
    "            lcm = greater \n",
    "            break\n",
    "        greater += 1\n",
    "        # print(greater)\n",
    "    return lcm\n",
    "\n",
    "num1 = 54 \n",
    "num2 = 24\n",
    "\n",
    "find_lcm(num1,num2)"
   ]
  },
  {
   "cell_type": "code",
   "execution_count": 24,
   "id": "d9b829b8-1e9f-4df8-8211-1d5728993968",
   "metadata": {},
   "outputs": [
    {
     "data": {
      "text/plain": [
       "6"
      ]
     },
     "execution_count": 24,
     "metadata": {},
     "output_type": "execute_result"
    }
   ],
   "source": [
    "def find_hcf(n1,n2):\n",
    "    if n1 > n2:\n",
    "        smallest = n2\n",
    "    else:\n",
    "        smallest = n1 \n",
    "        \n",
    "    for i in range(1,smallest+1):\n",
    "        if (n1 % i ==0) and (n2 % i ==0):\n",
    "            hcf = i\n",
    "    return hcf \n",
    "\n",
    "num1 = 54\n",
    "num2 = 24\n",
    "find_hcf(54,24)"
   ]
  },
  {
   "cell_type": "code",
   "execution_count": 32,
   "id": "0dcb0c16-4b09-4a32-9e2e-3a93cf5ae2e7",
   "metadata": {},
   "outputs": [
    {
     "name": "stdout",
     "output_type": "stream",
     "text": [
      "Decimal to binary : 0b100000\n",
      "Octal to Hexadeciaml 0x20\n"
     ]
    }
   ],
   "source": [
    "# 3. Write a Python Program to Convert Decimal to Binary,\n",
    "# Octal and Hexadecimal?\n",
    "\n",
    "\n",
    "# we have a decimal no : \n",
    "decimal = 32 \n",
    "\n",
    "# convert decimal to binary \n",
    "print(\"Decimal to binary :\",bin(decimal))\n",
    "\n",
    "# comvert octal to Hexa decimal\n",
    "oct_no=oct(decimal)\n",
    "print(\"Octal to Hexadeciaml\",hex(int(oct_no,8)))"
   ]
  },
  {
   "cell_type": "code",
   "execution_count": 37,
   "id": "2175e5a8-2039-495b-9869-a40c1ae0bec1",
   "metadata": {},
   "outputs": [
    {
     "name": "stdout",
     "output_type": "stream",
     "text": [
      "Asci value of character  80\n"
     ]
    }
   ],
   "source": [
    "# Write a Python Program To Find ASCII value of a character?\n",
    "\n",
    "character = 'P'\n",
    "print(\"Asci value of character \", ord(character))\n",
    "\n"
   ]
  },
  {
   "cell_type": "code",
   "execution_count": 44,
   "id": "ec06aab3-9931-49bd-a937-7002df97f016",
   "metadata": {},
   "outputs": [
    {
     "name": "stdout",
     "output_type": "stream",
     "text": [
      "Simple Calculator\n",
      "Which Operation you want to do\n",
      "Addition,Subraction,Divide,Multiply\n"
     ]
    },
    {
     "name": "stdin",
     "output_type": "stream",
     "text": [
      "Enter the operation name addition\n",
      "Please give first no 88\n",
      "Please give second no 33\n"
     ]
    },
    {
     "name": "stdout",
     "output_type": "stream",
     "text": [
      "Your answer is  121\n"
     ]
    }
   ],
   "source": [
    "# Write a Python Program to Make a Simple Calculator with 4\n",
    "# basic mathematical operations?\n",
    "\n",
    "\n",
    "\n",
    "def calculator(operation_name):\n",
    "    n1 = int(input(\"Please give first no\"))\n",
    "    n2 = int(input(\"Please give second no\"))\n",
    "    total = method(n1,n2,operation_name)\n",
    "    return total\n",
    "\n",
    "\n",
    "\n",
    "\n",
    "def method(n1,n2,operation_name):\n",
    "    if operation_name == 'addition':\n",
    "        total = n1 + n2\n",
    "    elif operation_name == \"subraction\":\n",
    "        total = n1 - n2\n",
    "    elif operation_namr == \"multiplication\":\n",
    "        total = n1 * n2 \n",
    "    elif operation_name == \"divide\":\n",
    "        total = n1 / n2\n",
    "    return total\n",
    "\n",
    "\n",
    "print(\"Simple Calculator\")\n",
    "print(\"Which Operation you want to do\")\n",
    "print(\"Addition,Subraction,Divide,Multiply\")\n",
    "operation_name = input(\"Enter the operation name\")\n",
    "total=calculator(operation_name)\n",
    "print(\"Your answer is \",total)\n",
    "        \n"
   ]
  },
  {
   "cell_type": "code",
   "execution_count": null,
   "id": "67a43058-1f2f-4e91-8536-ef94a923e86d",
   "metadata": {},
   "outputs": [],
   "source": []
  },
  {
   "cell_type": "code",
   "execution_count": null,
   "id": "9e91d398-1455-4ab5-ada8-2089e1aaf262",
   "metadata": {},
   "outputs": [],
   "source": []
  },
  {
   "cell_type": "code",
   "execution_count": null,
   "id": "ba97e561-fdcd-4468-b049-9ba1e84b9d4a",
   "metadata": {},
   "outputs": [],
   "source": []
  }
 ],
 "metadata": {
  "kernelspec": {
   "display_name": "Python 3 (ipykernel)",
   "language": "python",
   "name": "python3"
  },
  "language_info": {
   "codemirror_mode": {
    "name": "ipython",
    "version": 3
   },
   "file_extension": ".py",
   "mimetype": "text/x-python",
   "name": "python",
   "nbconvert_exporter": "python",
   "pygments_lexer": "ipython3",
   "version": "3.10.6"
  }
 },
 "nbformat": 4,
 "nbformat_minor": 5
}
