{
 "cells": [
  {
   "cell_type": "code",
   "execution_count": 1,
   "id": "d132c1b3-a84e-4c60-943e-a66574fd0925",
   "metadata": {},
   "outputs": [],
   "source": [
    "# 1. What advantages do Excel spreadsheets have over CSV spreadsheets?\n",
    "\n",
    "# Excel : Xlsx file format is better for storing and analysing data \n",
    "# CSV : Csv file are plain text file it will not contain any formula formatting. It is know as flat files.\n"
   ]
  },
  {
   "cell_type": "code",
   "execution_count": 16,
   "id": "f8062f4e-3ae4-42ae-8ebe-ec7bf47c4b4b",
   "metadata": {},
   "outputs": [],
   "source": [
    "# 2.What do you pass to csv.reader() and csv.writer() to create reader and writer objects?\n",
    "\n",
    "\n",
    "# csv.reader() : here we pass csv files for read object \n",
    "# f = open('Titanic.csv','r'):\n",
    "# csv.reader(f)\n",
    "\n",
    "#csv.writer() : here we pass csv file for write object \n",
    "# f = open('Titanic.csv','w'):\n",
    "# csv.writer(f)\n",
    "# But here we can write using  csv.writerrow() function\n",
    "\n",
    "    "
   ]
  },
  {
   "cell_type": "code",
   "execution_count": 17,
   "id": "fca5fb07-c26e-4b0f-a719-d3e467e5e8f9",
   "metadata": {},
   "outputs": [],
   "source": [
    "# 3. What modes do File objects for reader and writer objects need to be opened in?\n",
    "\n",
    "\n",
    "# csv.reader() : here when file objects open we use mode called 'r' .\n",
    "# csv.writer() : here we use mode = 'w'\n"
   ]
  },
  {
   "cell_type": "code",
   "execution_count": null,
   "id": "d59e07e6-c91c-44b5-8ecf-fea950232aaa",
   "metadata": {},
   "outputs": [],
   "source": [
    "# 4. What method takes a list argument and writes it to a CSV file?\n",
    "\n",
    "# csv.writer class provides two methods\n",
    "# writerow() and writerows(). writerow() \n",
    "# method writes a single row at a time. Whereas writerows() \n",
    "# method is used to write multiple rows at a time."
   ]
  },
  {
   "cell_type": "code",
   "execution_count": null,
   "id": "6aafea8c-5218-433c-a19e-2bba672e677f",
   "metadata": {},
   "outputs": [],
   "source": [
    "# 5. What do the keyword arguments delimiter and line terminator do?\n",
    "\n",
    "# we can provide any character here based on our need  delimeter = ','\n"
   ]
  },
  {
   "cell_type": "code",
   "execution_count": 18,
   "id": "d6de2ca6-93d9-4ac6-9935-cdac6af91a04",
   "metadata": {},
   "outputs": [],
   "source": [
    "# 6. What function takes a string of JSON data and returns a Python data structure?\n",
    "# loads() method takes a string of JSON data and returns a Python data structure"
   ]
  },
  {
   "cell_type": "code",
   "execution_count": null,
   "id": "53e08ebd-e033-43e9-a2ee-27f7f40fe613",
   "metadata": {},
   "outputs": [],
   "source": [
    "# 7. What function takes a Python data structure and returns a string of JSON data?\n",
    "# dumps() method takes a python data structure and returns a string of JSON data"
   ]
  }
 ],
 "metadata": {
  "kernelspec": {
   "display_name": "Python 3 (ipykernel)",
   "language": "python",
   "name": "python3"
  },
  "language_info": {
   "codemirror_mode": {
    "name": "ipython",
    "version": 3
   },
   "file_extension": ".py",
   "mimetype": "text/x-python",
   "name": "python",
   "nbconvert_exporter": "python",
   "pygments_lexer": "ipython3",
   "version": "3.10.6"
  }
 },
 "nbformat": 4,
 "nbformat_minor": 5
}
