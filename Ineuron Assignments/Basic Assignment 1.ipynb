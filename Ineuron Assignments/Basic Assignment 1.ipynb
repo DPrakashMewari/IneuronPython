{
 "cells": [
  {
   "cell_type": "code",
   "execution_count": null,
   "id": "65c8f5e1",
   "metadata": {},
   "outputs": [],
   "source": [
    "# 1. Write a Python program to print &quot;Hello Python&quot;?\n",
    "# 2. Write a Python program to do arithmetical operations addition and division.?\n",
    "# 3. Write a Python program to find the area of a triangle?\n",
    "# 4. Write a Python program to swap two variables?\n",
    "# 5. Write a Python program to generate a random number?"
   ]
  },
  {
   "cell_type": "code",
   "execution_count": 1,
   "id": "9fd17f30",
   "metadata": {},
   "outputs": [
    {
     "name": "stdout",
     "output_type": "stream",
     "text": [
      "Hello Python\n"
     ]
    }
   ],
   "source": [
    "#1\n",
    "print('Hello Python')"
   ]
  },
  {
   "cell_type": "code",
   "execution_count": 4,
   "id": "75c84878",
   "metadata": {},
   "outputs": [
    {
     "name": "stdout",
     "output_type": "stream",
     "text": [
      "5\n",
      "5.0\n"
     ]
    }
   ],
   "source": [
    "#2\n",
    "# Addition \n",
    "x = 2 + 3 \n",
    "print(x)\n",
    "\n",
    "# Divison\n",
    "y = 10/2\n",
    "print(y)"
   ]
  },
  {
   "cell_type": "code",
   "execution_count": 9,
   "id": "95985387",
   "metadata": {},
   "outputs": [
    {
     "name": "stdout",
     "output_type": "stream",
     "text": [
      "28.0\n",
      "Area of Triangle is 125.21980673998823\n"
     ]
    }
   ],
   "source": [
    "#3\n",
    "x = 12 \n",
    "y = 23\n",
    "z = 21\n",
    "\n",
    "# Calculate semi parameter \n",
    "s = (x+y+z)/2\n",
    "print(s)\n",
    "\n",
    "# calculate the area\n",
    "area = (s*(s-x)*(s-y)*(s-z)) ** 0.5\n",
    "\n",
    "print(f'Area of Triangle is {abs(area)}')\n"
   ]
  },
  {
   "cell_type": "code",
   "execution_count": 12,
   "id": "6e182b3a",
   "metadata": {},
   "outputs": [
    {
     "name": "stdout",
     "output_type": "stream",
     "text": [
      "After Swapping 24 12\n"
     ]
    }
   ],
   "source": [
    "#4\n",
    "x = 12 \n",
    "y = 24\n",
    "\n",
    "x,y = y,x\n",
    "print(f'After Swapping {x} {y}')"
   ]
  },
  {
   "cell_type": "code",
   "execution_count": 20,
   "id": "2490dfc5",
   "metadata": {},
   "outputs": [
    {
     "data": {
      "text/plain": [
       "0.7630705636656843"
      ]
     },
     "execution_count": 20,
     "metadata": {},
     "output_type": "execute_result"
    }
   ],
   "source": [
    "#5\n",
    "import random \n",
    "\n",
    "random.random()"
   ]
  }
 ],
 "metadata": {
  "kernelspec": {
   "display_name": "Python 3 (ipykernel)",
   "language": "python",
   "name": "python3"
  },
  "language_info": {
   "codemirror_mode": {
    "name": "ipython",
    "version": 3
   },
   "file_extension": ".py",
   "mimetype": "text/x-python",
   "name": "python",
   "nbconvert_exporter": "python",
   "pygments_lexer": "ipython3",
   "version": "3.9.5"
  }
 },
 "nbformat": 4,
 "nbformat_minor": 5
}
