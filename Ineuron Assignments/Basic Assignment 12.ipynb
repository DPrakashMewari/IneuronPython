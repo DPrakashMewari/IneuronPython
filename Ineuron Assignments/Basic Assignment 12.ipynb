{
 "cells": [
  {
   "cell_type": "code",
   "execution_count": 11,
   "id": "9889ca39-48bb-4309-8317-9bf2c427ea9e",
   "metadata": {},
   "outputs": [
    {
     "name": "stdout",
     "output_type": "stream",
     "text": [
      "Unique values are  [1, 2, 5, 6, 7, 8, 10, 11, 12]\n"
     ]
    }
   ],
   "source": [
    "# Write a Python program to Extract Unique values dictionary values?\n",
    "\n",
    "# initializing dictionary\n",
    "dict_val = {'pra' : [5, 6, 7, 8],\n",
    "            'val' : [10, 11, 7, 5],\n",
    "            'to' : [6, 12, 10, 8],\n",
    "            'for' : [1, 2, 5]}\n",
    " \n",
    "l1 = []\n",
    "for i in dict_val.keys():\n",
    "    l1.extend(dict_val[i])\n",
    "l1.sort()\n",
    "print(\"Unique values are \",list(set(l1)))"
   ]
  },
  {
   "cell_type": "code",
   "execution_count": 18,
   "id": "8527df43-c99b-4b5c-912a-ea2d049537cd",
   "metadata": {},
   "outputs": [
    {
     "data": {
      "text/plain": [
       "600"
      ]
     },
     "execution_count": 18,
     "metadata": {},
     "output_type": "execute_result"
    }
   ],
   "source": [
    "# 2. Write a Python program to find the sum of all items in a dictionary?\n",
    "\n",
    "dict1 = {'a': 100, 'b': 200, 'c': 300}\n",
    "\n",
    "def sum_of_items(args):\n",
    "    l1 = []\n",
    "    for i in args.values() :\n",
    "        l1.append(i)\n",
    "    return sum(l1)\n",
    "sum_of_items(dict1)"
   ]
  },
  {
   "cell_type": "code",
   "execution_count": 28,
   "id": "077b13c4-9f8b-4828-89fa-a5320887a301",
   "metadata": {},
   "outputs": [
    {
     "name": "stdout",
     "output_type": "stream",
     "text": [
      "{'a': 100, 'b': 200, 'c': 300, 'd': 222, 'e': 331, 'f': 334}\n"
     ]
    }
   ],
   "source": [
    "# Write a Python program to Merging two Dictionaries?\n",
    "dict1 = {'a': 100, 'b': 200, 'c': 300}\n",
    "dict2 = {'d':222,'e':331,'f':334}\n",
    "\n",
    "\n",
    "for i in dict2.keys():\n",
    "    dict1[i] = dict2[i]\n",
    "print(dict1)"
   ]
  },
  {
   "cell_type": "code",
   "execution_count": 41,
   "id": "c9f9d0f0-858e-4f55-91db-d063816d4187",
   "metadata": {},
   "outputs": [
    {
     "name": "stdout",
     "output_type": "stream",
     "text": [
      "Flattened dictionary : {'a': 10, 'v': 11, 'c': 7, 'd': 5}\n"
     ]
    }
   ],
   "source": [
    "# Write a Python program to convert key-values list to flat dictionary?\n",
    "\n",
    "dict_val = {'pra' : ['a', 'v', 'c', 'd'],\n",
    "            'val' : [10, 11, 7, 5]\n",
    "           }\n",
    " \n",
    "    \n",
    "res = dict(zip(dict_val['pra'], dict_val['val']))\n",
    "print(\"Flattened dictionary : \" + str(res))\n"
   ]
  },
  {
   "cell_type": "code",
   "execution_count": 49,
   "id": "6ea2b4e7-ed36-4d5b-b524-1a0749aa7481",
   "metadata": {},
   "outputs": [
    {
     "data": {
      "text/plain": [
       "OrderedDict([('ra', [1, 2, 4, 8]),\n",
       "             ('pra', ['a', 'v', 'c', 'd']),\n",
       "             ('val', [10, 11, 7, 5])])"
      ]
     },
     "execution_count": 49,
     "metadata": {},
     "output_type": "execute_result"
    }
   ],
   "source": [
    "# Write a Python program to insertion at the beginning in OrderedDict?\n",
    "from collections import OrderedDict\n",
    "\n",
    "dict_val = {'pra' : ['a', 'v', 'c', 'd'],\n",
    "            'val' : [10, 11, 7, 5]\n",
    "           }\n",
    " \n",
    "dict_val.update({'ra':[1,2,4,8]})\n",
    "Order_dict = OrderedDict(dict_val)\n",
    "Order_dict.move_to_end('ra',last=False)\n",
    "Order_dict\n",
    "    "
   ]
  },
  {
   "cell_type": "code",
   "execution_count": 22,
   "id": "8e75d652-a34d-4b83-89a8-7493690f606a",
   "metadata": {},
   "outputs": [
    {
     "data": {
      "text/plain": [
       "'False'"
      ]
     },
     "execution_count": 22,
     "metadata": {},
     "output_type": "execute_result"
    }
   ],
   "source": [
    "# 6. Write a Python program to check order of character in string using OrderedDict()?\n",
    "\n",
    "from collections import OrderedDict \n",
    "\n",
    "def checkOrder_string(string,pattern):\n",
    "    p = OrderedDict.fromkeys(string)\n",
    "    p1 = 0\n",
    "    for key,value in p.items():\n",
    "        if (key == pattern[p1]):\n",
    "            p1 += 1 \n",
    "        if p1 == len(pattern):\n",
    "            return 'True' \n",
    "    return 'False'\n",
    "    \n",
    "string = \"Welcome Ineurons\"\n",
    "pattern = \"cm\"\n",
    "\n",
    "checkOrder_string(string,pattern1)\n",
    "\n"
   ]
  },
  {
   "cell_type": "code",
   "execution_count": 37,
   "id": "56099b54-e4a9-42fd-ba76-3ea57dce6633",
   "metadata": {},
   "outputs": [
    {
     "name": "stdout",
     "output_type": "stream",
     "text": [
      "['a', 'b', 'c']\n",
      "[100, 200, 300]\n"
     ]
    }
   ],
   "source": [
    "# 7. Write a Python program to sort Python Dictionaries by Key or Value?\n",
    "\n",
    "dict1 = {'c': 100, 'b': 200, 'a': 300}\n",
    "\n",
    "k = {item for item in dict1.keys()}\n",
    "print(sorted(k))\n",
    "v = {item for item in dict1.values()}\n",
    "print(sorted(v))"
   ]
  }
 ],
 "metadata": {
  "kernelspec": {
   "display_name": "Python 3 (ipykernel)",
   "language": "python",
   "name": "python3"
  },
  "language_info": {
   "codemirror_mode": {
    "name": "ipython",
    "version": 3
   },
   "file_extension": ".py",
   "mimetype": "text/x-python",
   "name": "python",
   "nbconvert_exporter": "python",
   "pygments_lexer": "ipython3",
   "version": "3.10.6"
  }
 },
 "nbformat": 4,
 "nbformat_minor": 5
}
