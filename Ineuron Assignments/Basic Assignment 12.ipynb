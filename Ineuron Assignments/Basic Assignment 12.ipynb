{
 "cells": [
  {
   "cell_type": "code",
   "execution_count": 3,
   "id": "4a616c10",
   "metadata": {},
   "outputs": [],
   "source": [
    "# 1. In what modes should the PdfFileReader() and PdfFileWriter() File objects will be opened?\n",
    "from PyPDF2 import PdfFileReader\n",
    "\n",
    "newFile = open(newFileName,'rb')\n",
    "newFile = open(newFileName, 'wb')\n"
   ]
  },
  {
   "cell_type": "code",
   "execution_count": 4,
   "id": "3d3e9b31",
   "metadata": {},
   "outputs": [],
   "source": [
    "# 2. From a PdfFileReader object, how do you get a Page object for page 5?\n",
    "\n",
    "\n",
    "# Ans: PdfFileReader class provides a method called getPage(page_no) to get a page object.\n",
    "\n"
   ]
  },
  {
   "cell_type": "code",
   "execution_count": 5,
   "id": "45ff5ea4",
   "metadata": {},
   "outputs": [],
   "source": [
    "# 3. What PdfFileReader variable stores the number of pages in the PDF document?\n",
    "\n",
    "\n",
    "# Ans : GetNumPages() method of pdfile reader class store the no of pages in a pdf document."
   ]
  },
  {
   "cell_type": "code",
   "execution_count": 7,
   "id": "d9ec9e73",
   "metadata": {},
   "outputs": [],
   "source": [
    "# 4. If a PdfFileReader object’s PDF is encrypted with the password swordfish, what must you do before you can obtain Page objects from it?\n",
    "\n",
    "\n",
    "# If a PdfFileReader object’s PDF is \n",
    "# encrypted with the password swordfish \n",
    "# and you're not aware of it.\n",
    "# first read the Pdf using the PdfFileReader Class.\n",
    "# PdfFileReader class provides a attribute called\n",
    "# isEncrypted to check whether a pdf is encrypted or not.\n",
    "# the method returns true if a pdf is encrypted .\n",
    "# if pdf is encrypted use the decrypt()\n",
    "# method provided by PdfFileReader class \n",
    "# first then try to read the contents/pages of the pdf,\n",
    "# else PyPDF2 will raise the following error\n",
    "# PyPDF2.utils.PdfReadError: file has not been decrypted\n",
    "\n",
    "\n",
    "\n",
    "#Example Code:\n",
    "from PyPDF2 import PdfFileReader\n",
    "pdf_reader = PdfFileReader(file_path)\n",
    "if pdf_reader.isEncrypted: # to check whether the pdf is encrypted or not\n",
    "    pdf_reader.decrypt(\"swordfish\")\n",
    "for page in pdf_reader.pages:\n",
    "    print(page.extractText())"
   ]
  },
  {
   "cell_type": "code",
   "execution_count": null,
   "id": "ce731519",
   "metadata": {},
   "outputs": [],
   "source": [
    "# 5. What methods do you use to rotate a page?\n",
    "\n",
    "\n",
    "# rotateClockWise() -> For Clockwise rotation\n",
    "# rotateCounterClockWise() -> For Counter Clockwise rotation"
   ]
  },
  {
   "cell_type": "code",
   "execution_count": null,
   "id": "db1c6250",
   "metadata": {},
   "outputs": [],
   "source": [
    "# 6. What is the difference between a Run object and a Paragraph object?\n",
    "\n",
    "\n",
    "# Ans: The structure of a document is \n",
    "# represented by three different data types\n",
    "# in python-Docx. At the highest level, \n",
    "# a Document object represents the entire document. \n",
    "# The Document object contains a list\n",
    "# of Paragraph objects for the paragraphs in the document. \n",
    "# (A new paragraph begins whenever the user presses ENTER \n",
    "#  or RETURN while typing in a Word document.) \n",
    "# Each of these Paragraph objects contains a \n",
    "# list of one or more Run objects."
   ]
  },
  {
   "cell_type": "code",
   "execution_count": 9,
   "id": "b06bac27",
   "metadata": {},
   "outputs": [],
   "source": [
    "# 7. How do you obtain a list of Paragraph objects for a Document object that’s stored in a variable named doc?\n",
    "\n",
    "# Example Program\n",
    "from docx import Document\n",
    "doc = Document(\"file.docx\") # Path of the Docx file\n",
    "print(doc.paragraphs) # Prints the list of Paragraph objects for a Document\n",
    "for paragraph in doc.paragraphs:\n",
    "    print(paragraph.text) # Prints the text in the paragraph\n"
   ]
  },
  {
   "cell_type": "code",
   "execution_count": null,
   "id": "949cb7dd",
   "metadata": {},
   "outputs": [],
   "source": [
    "# 8. What type of object has bold, underline, italic, strike, and outline variables?\n",
    "# Ans: Run object has bold, underline, italic, strike, and outline variables. The text in a Word document is more than just a string. It has font, size, color, and other styling information associated with it.\n",
    "# A style in Word is a collection of these attributes. A Run object is a contiguous run of text with the same style. A new Run object is needed whenever the text style changes."
   ]
  },
  {
   "cell_type": "code",
   "execution_count": 10,
   "id": "f0ff8dcc",
   "metadata": {},
   "outputs": [],
   "source": [
    "# 9. What is the difference between False, True, and None for the bold variable?\n",
    "\n",
    "# Set Applicable\n",
    "BOLD  = True \n",
    "# ! Set to bold \n",
    "BOLD = False \n",
    "# Not Applicable \n",
    "BOLD = None"
   ]
  },
  {
   "cell_type": "code",
   "execution_count": 2,
   "id": "8cded918",
   "metadata": {},
   "outputs": [],
   "source": [
    "# 10. How do you create a Document object for a new Word document?\n",
    "\n",
    "from docx import Document\n",
    "doc = Document()\n",
    "doc.add_paragraph('Hello!')\n",
    "doc.save('hello.docx')"
   ]
  },
  {
   "cell_type": "code",
   "execution_count": 3,
   "id": "dd5adcdb",
   "metadata": {},
   "outputs": [],
   "source": [
    "# 11. How do you add a paragraph with the text 'Hello, there!' to a Document object stored in a variable named doc?\n",
    "\n",
    "\n",
    "doc = Document()\n",
    "doc.add_paragraph('Hello, there!')\n",
    "doc.save('hello.docx')\n"
   ]
  },
  {
   "cell_type": "code",
   "execution_count": null,
   "id": "6b10abf5",
   "metadata": {},
   "outputs": [],
   "source": [
    "# 12. What integers represent the levels of headings available in Word documents?\n",
    "\n",
    "# Ans: The levels for a heading in a word document can be specified by using the level attribute inside the add_heading method. There are a total of 5 levels statring for 0 t0 4. where level 0 makes a headline with the horizontal line below the text, whereas the heading level 1 is the main heading. Similarly, the other headings are sub-heading with their's font-sizes in decreasing order."
   ]
  }
 ],
 "metadata": {
  "kernelspec": {
   "display_name": "Python 3 (ipykernel)",
   "language": "python",
   "name": "python3"
  },
  "language_info": {
   "codemirror_mode": {
    "name": "ipython",
    "version": 3
   },
   "file_extension": ".py",
   "mimetype": "text/x-python",
   "name": "python",
   "nbconvert_exporter": "python",
   "pygments_lexer": "ipython3",
   "version": "3.11.1"
  }
 },
 "nbformat": 4,
 "nbformat_minor": 5
}
