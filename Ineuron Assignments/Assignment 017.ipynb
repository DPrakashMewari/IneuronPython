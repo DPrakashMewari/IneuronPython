{
 "cells": [
  {
   "cell_type": "code",
   "execution_count": 2,
   "id": "3277b77a",
   "metadata": {},
   "outputs": [
    {
     "name": "stdout",
     "output_type": "stream",
     "text": [
      "just right\n"
     ]
    }
   ],
   "source": [
    "# Assign the value 7 to the variable guess_me. Then, \n",
    "# write the conditional tests (if, else, and elif) to print the string 'too low' \n",
    "# if guess_me is less than 7, 'too high' if greater than 7, and 'just right' if equal to 7.\n",
    "\n",
    "\n",
    "guess_me = 7 \n",
    "if guess_me > 7:\n",
    "    print('too high')\n",
    "elif guess_me < 7 : \n",
    "    print('too low')\n",
    "else:\n",
    "    print('just right')\n"
   ]
  },
  {
   "cell_type": "code",
   "execution_count": 10,
   "id": "884d2c6f",
   "metadata": {},
   "outputs": [
    {
     "name": "stdout",
     "output_type": "stream",
     "text": [
      "too low\n",
      "too low\n",
      "too low\n",
      "too low\n",
      "too low\n",
      "too low\n",
      "just right\n"
     ]
    }
   ],
   "source": [
    "# Assign the value 7 to the variable guess_me and the value 1 to the variable start.\n",
    "# Write a while loop that compares start with guess_me.\n",
    "# Print too low if start is less than guess me. If start equals guess_me, print 'found it!' \n",
    "# and exit the loop. If start is greater than guess_me, print 'oops' and exit the loop.\n",
    "# Increment start at the end of the loop.\n",
    "\n",
    "guess_me = 7\n",
    "start = 1 \n",
    "while True:   \n",
    "    if start > guess_me:\n",
    "        print('too high')\n",
    "        break\n",
    "    elif start < guess_me : \n",
    "        print('too low')\n",
    "    elif start == guess_me:\n",
    "        print('just right')\n",
    "        break\n",
    "    start += 1 \n",
    "    \n",
    "\n"
   ]
  },
  {
   "cell_type": "code",
   "execution_count": 15,
   "id": "0dc9f58f",
   "metadata": {},
   "outputs": [
    {
     "name": "stdout",
     "output_type": "stream",
     "text": [
      "3\n",
      "2\n",
      "1\n",
      "0\n"
     ]
    }
   ],
   "source": [
    "# Print the following values of the list [3, 2, 1, 0] using a for loop.\n",
    "\n",
    "list1 = [3,2,1,0]\n",
    "\n",
    "for x in list1:\n",
    "    print(x)"
   ]
  },
  {
   "cell_type": "code",
   "execution_count": 17,
   "id": "bbd3f1ae",
   "metadata": {},
   "outputs": [
    {
     "data": {
      "text/plain": [
       "[0, 2, 4, 6, 8]"
      ]
     },
     "execution_count": 17,
     "metadata": {},
     "output_type": "execute_result"
    }
   ],
   "source": [
    "# Use a list comprehension to make a list of the even numbers in range(10)\n",
    "\n",
    "[x for x in range(10) if x %2 ==0]"
   ]
  },
  {
   "cell_type": "code",
   "execution_count": 20,
   "id": "9b7f21fe",
   "metadata": {},
   "outputs": [
    {
     "data": {
      "text/plain": [
       "{0: 0, 1: 1, 2: 4, 3: 9, 4: 16, 5: 25, 6: 36, 7: 49, 8: 64, 9: 81}"
      ]
     },
     "execution_count": 20,
     "metadata": {},
     "output_type": "execute_result"
    }
   ],
   "source": [
    "# Use a dictionary comprehension to create the dictionary squares. \n",
    "# Use range(10) to return the keys, and use the square of each key as its value.\n",
    "\n",
    "{x:x*x for x in range(10)}"
   ]
  },
  {
   "cell_type": "code",
   "execution_count": 21,
   "id": "5918e7d7",
   "metadata": {},
   "outputs": [
    {
     "data": {
      "text/plain": [
       "{1, 3, 5, 7, 9}"
      ]
     },
     "execution_count": 21,
     "metadata": {},
     "output_type": "execute_result"
    }
   ],
   "source": [
    "# Construct the set odd from the odd numbers in the range using a set comprehension (10).\n",
    "\n",
    "{x for x in range(10) if x%2 != 0}"
   ]
  },
  {
   "cell_type": "code",
   "execution_count": 23,
   "id": "6b170e10",
   "metadata": {},
   "outputs": [
    {
     "name": "stdout",
     "output_type": "stream",
     "text": [
      "Got 0\n",
      "Got 1\n",
      "Got 2\n",
      "Got 3\n",
      "Got 4\n",
      "Got 5\n",
      "Got 6\n",
      "Got 7\n",
      "Got 8\n",
      "Got 9\n"
     ]
    }
   ],
   "source": [
    "# Use a generator comprehension to return the string 'Got ' and a number for the numbers in range(10).\n",
    "# Iterate through this by using a for loop.\n",
    "\n",
    "\n",
    "for i in (x for x in range(10)):\n",
    "    print(\"Got\",i)"
   ]
  },
  {
   "cell_type": "code",
   "execution_count": 25,
   "id": "99094fa1",
   "metadata": {},
   "outputs": [
    {
     "data": {
      "text/plain": [
       "['Harry', 'Ron', 'Hermione']"
      ]
     },
     "execution_count": 25,
     "metadata": {},
     "output_type": "execute_result"
    }
   ],
   "source": [
    "# Define a function called good that returns the list ['Harry', 'Ron', 'Hermione'].\n",
    "\n",
    "def good():\n",
    "    return [\"Harry\",'Ron',\"Hermione\"]\n",
    "\n",
    "good()"
   ]
  },
  {
   "cell_type": "code",
   "execution_count": 46,
   "id": "d5c3e532",
   "metadata": {},
   "outputs": [
    {
     "name": "stdout",
     "output_type": "stream",
     "text": [
      "5\n"
     ]
    }
   ],
   "source": [
    "# Define a generator function called get_odds that returns the \n",
    "# odd numbers from range(10). Use a for loop to find and print the third value returned.\n",
    "\n",
    "\n",
    "def get_odds():\n",
    "    for i in range(10):\n",
    "        if i % 2 !=0:\n",
    "            yield i\n",
    "count = 1\n",
    "for m in get_odds():\n",
    "    if count == 3:\n",
    "        print(m)\n",
    "        break\n",
    "    count += 1\n",
    "\n"
   ]
  },
  {
   "cell_type": "code",
   "execution_count": 47,
   "id": "4d8d7140",
   "metadata": {},
   "outputs": [
    {
     "ename": "OopsException",
     "evalue": "",
     "output_type": "error",
     "traceback": [
      "\u001b[1;31m---------------------------------------------------------------------------\u001b[0m",
      "\u001b[1;31mOopsException\u001b[0m                             Traceback (most recent call last)",
      "Cell \u001b[1;32mIn[47], line 6\u001b[0m\n\u001b[0;32m      4\u001b[0m \u001b[38;5;28;01mclass\u001b[39;00m \u001b[38;5;21;01mOopsException\u001b[39;00m(\u001b[38;5;167;01mException\u001b[39;00m):\n\u001b[0;32m      5\u001b[0m     \u001b[38;5;28;01mpass\u001b[39;00m\n\u001b[1;32m----> 6\u001b[0m \u001b[38;5;28;01mraise\u001b[39;00m OopsException\n",
      "\u001b[1;31mOopsException\u001b[0m: "
     ]
    }
   ],
   "source": [
    "# Define an exception called OopsException. Raise this exception to see what happens. Then write the code to catch this exception and print 'Caught an oops'.\n",
    "\n",
    "\n",
    "class OopsException(Exception):\n",
    "    pass\n",
    "raise OopsException"
   ]
  },
  {
   "cell_type": "code",
   "execution_count": 48,
   "id": "790bec8f",
   "metadata": {},
   "outputs": [
    {
     "name": "stdout",
     "output_type": "stream",
     "text": [
      "Caught an Oops\n"
     ]
    }
   ],
   "source": [
    "try:\n",
    "    raise OopsException\n",
    "except:\n",
    "    print(\"Caught an Oops\")"
   ]
  },
  {
   "cell_type": "code",
   "execution_count": 53,
   "id": "9bcbef92",
   "metadata": {},
   "outputs": [
    {
     "data": {
      "text/plain": [
       "{'Creature of Habit': 'A nun turns into a monster',\n",
       " 'Crewel Fate': 'A haunted yarn shop'}"
      ]
     },
     "execution_count": 53,
     "metadata": {},
     "output_type": "execute_result"
    }
   ],
   "source": [
    "# Use zip() to make a dictionary called movies that pairs these lists:\n",
    "titles = ['Creature of Habit', 'Crewel Fate']\n",
    "plots = ['A nun turns into a monster', 'A haunted yarn shop']\n",
    "\n",
    "dict((x,y) for x ,y in zip(titles,plots))"
   ]
  }
 ],
 "metadata": {
  "kernelspec": {
   "display_name": "Python 3 (ipykernel)",
   "language": "python",
   "name": "python3"
  },
  "language_info": {
   "codemirror_mode": {
    "name": "ipython",
    "version": 3
   },
   "file_extension": ".py",
   "mimetype": "text/x-python",
   "name": "python",
   "nbconvert_exporter": "python",
   "pygments_lexer": "ipython3",
   "version": "3.11.1"
  }
 },
 "nbformat": 4,
 "nbformat_minor": 5
}
