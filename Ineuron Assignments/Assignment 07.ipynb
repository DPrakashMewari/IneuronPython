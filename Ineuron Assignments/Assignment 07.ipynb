{
 "cells": [
  {
   "cell_type": "code",
   "execution_count": 7,
   "id": "8c8c317d",
   "metadata": {},
   "outputs": [
    {
     "name": "stdout",
     "output_type": "stream",
     "text": [
      "<class 're.Pattern'>\n",
      "re.compile('\\\\d+')\n"
     ]
    }
   ],
   "source": [
    "# 1. What is the name of the feature responsible for generating Regex objects?\n",
    "\n",
    "\n",
    "import re\n",
    "x = re.compile(\"\\d+\")\n",
    "print(type(x))\n",
    "print(x)\n"
   ]
  },
  {
   "cell_type": "code",
   "execution_count": null,
   "id": "7b31ddb4",
   "metadata": {},
   "outputs": [],
   "source": [
    "# 2. Why do raw strings often appear in Regex objects?\n",
    "\n",
    "#  Raw strings are used so that backslashes do not have to be escaped.\n"
   ]
  },
  {
   "cell_type": "code",
   "execution_count": 9,
   "id": "51751887",
   "metadata": {},
   "outputs": [
    {
     "name": "stdout",
     "output_type": "stream",
     "text": [
      "<re.Match object; span=(3, 4), match='f'>\n",
      "None\n"
     ]
    }
   ],
   "source": [
    "# 3. What is the return value of the search() method?\n",
    "# Ans: The return value of re.search(pattern,string) method is a match object if the pattern is observed in the string else it returns a None\n",
    "\n",
    "print(re.search('f',\"dddf\"))\n",
    "print(re.search('z','dddf'))"
   ]
  },
  {
   "cell_type": "code",
   "execution_count": 15,
   "id": "1547fbd8",
   "metadata": {},
   "outputs": [
    {
     "name": "stdout",
     "output_type": "stream",
     "text": [
      "Output f\n"
     ]
    }
   ],
   "source": [
    "# 4. From a Match item, how do you get the actual strings that match the pattern?\n",
    "\n",
    "print(\"Output\",re.search(\"f\",\"dddf\").group())"
   ]
  },
  {
   "cell_type": "code",
   "execution_count": 16,
   "id": "0983b01b",
   "metadata": {},
   "outputs": [
    {
     "name": "stdout",
     "output_type": "stream",
     "text": [
      "('415', '555-4242')\n",
      "415-555-4242\n",
      "415\n",
      "555-4242\n"
     ]
    }
   ],
   "source": [
    "# 5. In the regex which created from the r'(\\d\\d\\d)-(\\d\\d\\d-\\d\\d\\d\\d)', what does group zero cover? Group 2? Group 1?\n",
    "\n",
    "import re\n",
    "phoneNumRegex = re.compile(r'(\\d\\d\\d)-(\\d\\d\\d-\\d\\d\\d\\d)')\n",
    "mo = phoneNumRegex.search('My number is 415-555-4242.')\n",
    "print(mo.groups()) # Prints all groups in a tuple format\n",
    "print(mo.group()) # Always returns the fully matched string \n",
    "print(mo.group(1)) # Returns the first group\n",
    "print(mo.group(2)) # Returns the second group\n",
    "\n"
   ]
  },
  {
   "cell_type": "code",
   "execution_count": 17,
   "id": "94f21c7b",
   "metadata": {},
   "outputs": [
    {
     "name": "stdout",
     "output_type": "stream",
     "text": [
      "[('(415)', '555-4242')]\n",
      "['415-555-4242']\n"
     ]
    }
   ],
   "source": [
    "# 7. The findall() method returns a string list or a list of string tuples. What causes it to return one of the two options?\n",
    "\n",
    "\n",
    "# Example Program\n",
    "import re\n",
    "phoneNumRegex = re.compile(r'(\\(\\d\\d\\d\\)) (\\d\\d\\d-\\d\\d\\d\\d)')\n",
    "mo = phoneNumRegex.findall('My phone number is (415) 555-4242.')\n",
    "print(mo)\n",
    "\n",
    "# Example Program\n",
    "import re\n",
    "phoneNumRegex = re.compile(r'\\d{3}-\\d{3}-\\d{4}')\n",
    "mo = phoneNumRegex.findall('My number is 415-555-4242.')\n",
    "print(mo) # Prints all groups in a tuple format"
   ]
  },
  {
   "cell_type": "code",
   "execution_count": null,
   "id": "b3012dc2",
   "metadata": {},
   "outputs": [],
   "source": [
    "# 8. In standard expressions, what does the | character mean?\n",
    "# Ans: In Standard Expressions | means OR operator.\n",
    "\n"
   ]
  },
  {
   "cell_type": "code",
   "execution_count": 22,
   "id": "0704acf5",
   "metadata": {},
   "outputs": [
    {
     "name": "stdout",
     "output_type": "stream",
     "text": [
      "<re.Match object; span=(0, 8), match='Ultraman'>\n",
      "<re.Match object; span=(0, 9), match='Spiderman'>\n"
     ]
    }
   ],
   "source": [
    "# 9. In regular expressions, what does the ? character stand for?\n",
    "\n",
    "# Example Program\n",
    "import re\n",
    "match_1 = re.search(\"Ultra?man\",\"Ultraman Pro\")\n",
    "print(match_1)\n",
    "match_2 = re.search(\"Spider?man\",\"Spiderman returns\")\n",
    "print(match_2)\n",
    "\n",
    "# characters represents zero or one match of the preceeding group.\n",
    "\n"
   ]
  },
  {
   "cell_type": "code",
   "execution_count": 30,
   "id": "8f637170",
   "metadata": {},
   "outputs": [
    {
     "name": "stdout",
     "output_type": "stream",
     "text": [
      "<re.Match object; span=(0, 8), match='Ultraman'>\n",
      "<re.Match object; span=(7, 16), match='Spiderman'>\n"
     ]
    }
   ],
   "source": [
    "# 10.In regular expressions, what is the difference between the + and * characters?\n",
    "# Ans: In Regular Expressions, \n",
    "# * Represents Zero ore more occurances of the preceeding group,\n",
    "# whereas + represents one or more occurances of the preceeding group.\n",
    "\n",
    "# Example Program\n",
    "import re\n",
    "match_1 = re.search(\"Ultraman*\",\"Ultraman Pro\")\n",
    "print(match_1)\n",
    "match_2 = re.search(\"Spiderman+\",\"Spider Spiderman returns\")\n",
    "print(match_2)\n",
    "\n"
   ]
  },
  {
   "cell_type": "code",
   "execution_count": 39,
   "id": "fd668d8b",
   "metadata": {},
   "outputs": [
    {
     "name": "stdout",
     "output_type": "stream",
     "text": [
      "phewphewphewphew\n",
      "phewphewphewphewphew\n"
     ]
    }
   ],
   "source": [
    "# 11. What is the difference between {4} and {4,5} in regular expression?\n",
    "\n",
    "\n",
    "# Means that its preceeding group should repeat 4 times.\n",
    "# where as {4,5} means that its preceeding group should repeat mininum 4 times and maximum 5 times inclusively\n",
    "\n",
    "ccRegex = re.compile(r'(phew){4}')\n",
    "v1 = ccRegex.search('phewphewphewphewphew')\n",
    "print(v1.group())\n",
    "\n",
    "cc1Regex = re.compile(r'(phew){4,5}')\n",
    "v2 = cc1Regex.search('phewphewphewphewphew')\n",
    "print(v2.group())\n",
    "\n",
    "\n",
    "\n",
    "\n",
    "\n"
   ]
  },
  {
   "cell_type": "code",
   "execution_count": null,
   "id": "fabce201",
   "metadata": {},
   "outputs": [],
   "source": [
    "# 12. What do you mean by the \\d, \\w, and \\s shorthand character classes signify in regular expressions?\n",
    "# Ans: \\d, \\w and \\s are special sequences in regular expresssions in python:\n",
    "\n",
    "# \\w – Matches a word character equivalent to [a-zA-Z0-9_]\n",
    "# \\d – Matches digit character equivalent to [0-9]\n",
    "# \\s – Matches whitespace character (space, tab, newline, etc.)"
   ]
  },
  {
   "cell_type": "code",
   "execution_count": null,
   "id": "2a9c641f",
   "metadata": {},
   "outputs": [],
   "source": [
    "# 13. What do means by \\D, \\W, and \\S shorthand character classes signify in regular expressions?\n",
    "# Ans: \\D, \\W and \\S are special sequences in regular expresssions in python:\n",
    "\n",
    "# \\W – Matches any non-alphanumeric character equivalent to [^a-zA-Z0-9_]\n",
    "# \\D – Matches any non-digit character, this is equivalent to the set class [^0-9]\n",
    "# \\S – Matches any non-whitespace character\n"
   ]
  },
  {
   "cell_type": "code",
   "execution_count": null,
   "id": "5fb4a99e",
   "metadata": {},
   "outputs": [],
   "source": [
    "# 14. What is the difference between .*? and .*?\n",
    "# Ans: .* is a Greedy mode, which returns the longest string that meets the condition. \n",
    "# Whereas .*? is a non greedy mode which returns the shortest string that meets the condition."
   ]
  },
  {
   "cell_type": "code",
   "execution_count": null,
   "id": "b7ba5b72",
   "metadata": {},
   "outputs": [],
   "source": [
    "# 15. What is the syntax for matching both numbers and lowercase letters with a character class?\n",
    "# Ans: The Synatax is Either [a-z0-9] or [0-9a-z]"
   ]
  },
  {
   "cell_type": "code",
   "execution_count": null,
   "id": "d10526b7",
   "metadata": {},
   "outputs": [],
   "source": [
    "# 16. What is the procedure for making a normal expression in regax case insensitive?\n",
    "# Ans: We can pass re.IGNORECASE as a flag to make a noraml expression case insensitive"
   ]
  },
  {
   "cell_type": "code",
   "execution_count": null,
   "id": "86525fb7",
   "metadata": {},
   "outputs": [],
   "source": [
    "# 17. What does the . character normally match? What does it match if re.DOTALL is passed as 2nd argument in re.compile()?\n",
    "# Ans: Dot . character matches everything in input except newline character .. \n",
    "# By passing re.DOTALL as a flag to re.compile(), \n",
    "# you can make the dot character match all characters, including the newline character."
   ]
  },
  {
   "cell_type": "code",
   "execution_count": 42,
   "id": "232eb801",
   "metadata": {},
   "outputs": [
    {
     "data": {
      "text/plain": [
       "'X drummers, X pipers, five rings, X hen'"
      ]
     },
     "execution_count": 42,
     "metadata": {},
     "output_type": "execute_result"
    }
   ],
   "source": [
    "# 18. If numReg = re.compile(r'\\d+'), what will numRegex.sub('X', '11 drummers, 10 pipers, five rings, 4 hen') return?\n",
    "\n",
    "wordreg=re.compile(r'\\d+')\n",
    "wordreg.sub(\"X\",\"11 drummers, 10 pipers, five rings, 4 hen\")"
   ]
  },
  {
   "cell_type": "code",
   "execution_count": null,
   "id": "8e7f9243",
   "metadata": {},
   "outputs": [],
   "source": [
    "# 19. What does passing re.VERBOSE as the 2nd argument to re.compile() allow to do?\n",
    "# Ans: re.VERBOSE will allow to add whitespace and comments to string passed to re.compile().\n"
   ]
  },
  {
   "cell_type": "code",
   "execution_count": 53,
   "id": "46f73f22",
   "metadata": {},
   "outputs": [
    {
     "name": "stdout",
     "output_type": "stream",
     "text": [
      "42 -> <re.Match object; span=(0, 2), match='42'>\n",
      "1,234 -> <re.Match object; span=(0, 5), match='1,234'>\n",
      "6,368,745 -> <re.Match object; span=(0, 9), match='6,368,745'>\n",
      "12,34,567 -> <re.Match object; span=(0, 2), match='12'>\n",
      "1234 -> <re.Match object; span=(0, 3), match='123'>\n"
     ]
    }
   ],
   "source": [
    "# 20. How would you write a regex that match a number with comma for every three digits? It must match the given following:\n",
    "# '42','1,234', '6,368,745'but not the following: '12,34,567' (which has only two digits between the commas) '1234' (which lacks commas)\n",
    "\n",
    "\n",
    "pattern = r'^\\d{1,3}(,\\d{3})*'\n",
    "numberfind = re.compile(pattern)\n",
    "for ele in ['42','1,234', '6,368,745','12,34,567','1234']:\n",
    "    print(ele, '->', numberfind.search(ele))\n",
    "\n"
   ]
  },
  {
   "cell_type": "code",
   "execution_count": 67,
   "id": "635e05d2",
   "metadata": {},
   "outputs": [
    {
     "name": "stdout",
     "output_type": "stream",
     "text": [
      "Output:  Haruto Watanabe -> <re.Match object; span=(0, 15), match='Haruto Watanabe'>\n",
      "Output:  Alice Watanabe -> <re.Match object; span=(0, 14), match='Alice Watanabe'>\n",
      "Output:  RoboCop Watanabe -> <re.Match object; span=(4, 16), match='Cop Watanabe'>\n",
      "Output:  haruto Watanabe -> None\n",
      "Output:  Mr. Watanabe -> None\n",
      "Output:  Watanabe -> None\n",
      "Output:  Haruto watanabe -> None\n"
     ]
    }
   ],
   "source": [
    "# 21. How would you write a regex that matches the full name of someone whose last name is\n",
    "# Watanabe? You can assume that the first name that comes before it will always be one word that\n",
    "# begins with a capital letter. The regex must match the following:\n",
    "# Haruto Watanabe;\n",
    "# Alice Watanabe;\n",
    "# RoboCop Watanabe;\n",
    "# but not the following:\n",
    "# haruto Watanabe; (where the first name is not capitalized)\n",
    "# Mr. Watanabe; (where the preceding word has a nonletter character)\n",
    "# Watanabe; (which has no first name)\n",
    "# Haruto watanabe; (where Watanabe is not capitalized)\n",
    "\n",
    "\n",
    "import re\n",
    "pattern = r'[A-Z]{1,2}[a-z]+\\sWatanabe'\n",
    "val = re.compile(pattern)\n",
    "for name in ['Haruto Watanabe','Alice Watanabe','RoboCop Watanabe','haruto Watanabe','Mr. Watanabe','Watanabe','Haruto watanabe']:\n",
    "    print('Output: ',name,'->',val.search(name))\n"
   ]
  },
  {
   "cell_type": "code",
   "execution_count": 68,
   "id": "999e0e05",
   "metadata": {},
   "outputs": [
    {
     "name": "stdout",
     "output_type": "stream",
     "text": [
      "Output:  Alice eats apples. -> <re.Match object; span=(0, 18), match='Alice eats apples.'>\n",
      "Output:  Bob pets cats. -> <re.Match object; span=(0, 14), match='Bob pets cats.'>\n",
      "Output:  Carol throws baseballs. -> <re.Match object; span=(0, 23), match='Carol throws baseballs.'>\n",
      "Output:  Alice throws Apples. -> <re.Match object; span=(0, 20), match='Alice throws Apples.'>\n",
      "Output:  BOB EATS CATS. -> <re.Match object; span=(0, 14), match='BOB EATS CATS.'>\n",
      "Output:  RoboCop eats apples. -> None\n",
      "Output:  ALICE THROWS FOOTBALLS. -> None\n",
      "Output:  Carol eats 7 cats. -> None\n"
     ]
    }
   ],
   "source": [
    "# 22. How would you write a regex that matches a sentence where the first word is either Alice, Bob,or Carol; the second word is either eats, pets, or throws; the third word is apples, cats, or baseballs; and the sentence ends with a period? This regex should be case-insensitive. It must match the following:\n",
    "# 'Alice eats apples.'\n",
    "# 'Bob pets cats.'\n",
    "# 'Carol throws baseballs.'\n",
    "# 'Alice throws Apples.'\n",
    "# 'BOB EATS CATS.'\n",
    "\n",
    "# but not the following:\n",
    "\n",
    "# 'RoboCop eats apples.'\n",
    "# 'ALICE THROWS FOOTBALLS.'\n",
    "# 'Carol eats 7 cats.'\n",
    "\n",
    "\n",
    "pattern = r'(Alice|Bob|Carol)\\s(eats|pets|throws)\\s(apples|cats|baseballs)\\.'\n",
    "val = re.compile(pattern,re.IGNORECASE)\n",
    "for ele in ['Alice eats apples.','Bob pets cats.','Carol throws baseballs.','Alice throws Apples.','BOB EATS CATS.','RoboCop eats apples.'\n",
    ",'ALICE THROWS FOOTBALLS.','Carol eats 7 cats.']:\n",
    "    print('Output: ',ele,'->',val.search(ele))\n"
   ]
  },
  {
   "cell_type": "code",
   "execution_count": null,
   "id": "e9a4b6a9",
   "metadata": {},
   "outputs": [],
   "source": []
  }
 ],
 "metadata": {
  "kernelspec": {
   "display_name": "Python 3 (ipykernel)",
   "language": "python",
   "name": "python3"
  },
  "language_info": {
   "codemirror_mode": {
    "name": "ipython",
    "version": 3
   },
   "file_extension": ".py",
   "mimetype": "text/x-python",
   "name": "python",
   "nbconvert_exporter": "python",
   "pygments_lexer": "ipython3",
   "version": "3.11.1"
  }
 },
 "nbformat": 4,
 "nbformat_minor": 5
}
