{
 "cells": [
  {
   "cell_type": "code",
   "execution_count": 2,
   "id": "8807c11f-4af1-4f29-9325-cae9603e84e4",
   "metadata": {},
   "outputs": [],
   "source": [
    "# 1. What are escape characters, and how do you use them?\n",
    "\n",
    "# # An escape character is a backslash \\ followed by the character you want to insert.\n",
    "# The escape character allows you to use double quotes when you normally would not be allowed:"
   ]
  },
  {
   "cell_type": "code",
   "execution_count": 1,
   "id": "294234e1-8069-4d80-ac15-e22313fb46ff",
   "metadata": {},
   "outputs": [],
   "source": [
    "# 2. What do the escape characters n and t stand for?\n",
    "\n",
    "# \\n For Newline \n",
    "# \\t For tab"
   ]
  },
  {
   "cell_type": "code",
   "execution_count": null,
   "id": "6fd8b6d9-de81-465c-a7f9-ec94e00d731e",
   "metadata": {},
   "outputs": [],
   "source": [
    "# 3. What is the way to include backslash characters in a string?\n",
    "\n",
    "# Using \\ escape character will represent a backslash character. \n",
    "\n"
   ]
  },
  {
   "cell_type": "code",
   "execution_count": null,
   "id": "100de1c9-7f2a-4c04-95aa-da8c9064986c",
   "metadata": {},
   "outputs": [],
   "source": [
    "# 4. The string \"Howl's Moving Castle\" is a correct value.\n",
    "# Why isn't the single quote character in the word Howl's not escaped a problem?\n",
    "\n",
    "# Ans: The string \"Howl's Moving Castle\" has \n",
    "# some isssue it is in inside double quotes. but if  inside single quotes\n",
    "# then we have to use escape character \\' \n",
    "# 'Howl\\'s Moving Castle' -> 'Howl's Moving Castle'"
   ]
  },
  {
   "cell_type": "code",
   "execution_count": 5,
   "id": "958e115e-8633-4b85-9f78-81fbda00c867",
   "metadata": {},
   "outputs": [
    {
     "name": "stdout",
     "output_type": "stream",
     "text": [
      " It is sample \n",
      "        string \n"
     ]
    }
   ],
   "source": [
    "# 5. How do you write a string of newlines if you don't want to use the n character?\n",
    "l1 = ''' It is sample \n",
    "        string '''\n",
    "\n",
    "print(l1)"
   ]
  },
  {
   "cell_type": "code",
   "execution_count": 11,
   "id": "054f9e61-acad-42c3-8b84-ea2e38704ad6",
   "metadata": {},
   "outputs": [
    {
     "name": "stdout",
     "output_type": "stream",
     "text": [
      "e\n",
      "Hello\n",
      "Hello\n",
      "lo, world!\n"
     ]
    }
   ],
   "source": [
    "# 6. What are the values of the given expressions?\n",
    "\n",
    "# It is string slicing we can access using index value\n",
    "\n",
    "\n",
    "a = 'Hello, world!'[1]\n",
    "b = 'Hello, world!'[0:5]\n",
    "c ='Hello, world!'[:5]\n",
    "d = 'Hello, world!'[3:]\n",
    "\n",
    "print(a)\n",
    "print(b)\n",
    "print(c)\n",
    "print(d)\n"
   ]
  },
  {
   "cell_type": "code",
   "execution_count": 12,
   "id": "d48b58ac-115f-4753-8463-831671aea782",
   "metadata": {},
   "outputs": [
    {
     "name": "stdout",
     "output_type": "stream",
     "text": [
      "HELLO\n",
      "True\n",
      "hello\n"
     ]
    }
   ],
   "source": [
    "\n",
    "# 7.What are the values of the following expressions ?\n",
    "a ='Hello'.upper()\n",
    "b ='Hello'.upper().isupper()\n",
    "c = 'Hello'.upper().lower()\n",
    "\n",
    "\n",
    "print(a)\n",
    "print(b)\n",
    "print(c)"
   ]
  },
  {
   "cell_type": "code",
   "execution_count": 17,
   "id": "00d61db2-5f4f-4998-9f98-9aee78a9dad5",
   "metadata": {},
   "outputs": [
    {
     "name": "stdout",
     "output_type": "stream",
     "text": [
      "['Remember,', 'remember,', 'the', 'fifith', 'of', 'July.']\n",
      "There-can-only-one\n"
     ]
    }
   ],
   "source": [
    "# 8.What are the values of the following expressions ?\n",
    "a = 'Remember, remember, the fifith of July.'.split()\n",
    "b ='-'.join('There can only one'.split())\n",
    "\n",
    "print(a)\n",
    "print(b)\n"
   ]
  },
  {
   "cell_type": "code",
   "execution_count": 18,
   "id": "1afeffb0-cfcc-4677-8acb-016b06046bb5",
   "metadata": {},
   "outputs": [],
   "source": [
    "\n",
    "# 9.What are the methods for right-justifying, left-justifying and centering a string ?\n",
    "#The rjust(),ljust(),center() string methods, respectively\n"
   ]
  },
  {
   "cell_type": "code",
   "execution_count": null,
   "id": "9813943a-b514-4abc-b5a3-323816996f5e",
   "metadata": {},
   "outputs": [],
   "source": [
    "# 10.What is the best way to remove whitespace characters from the start or end ?\n",
    "# Ans: The lstrip() and rstrip() methods remove whitesapce characters from the left and right ends of a string respectively"
   ]
  }
 ],
 "metadata": {
  "kernelspec": {
   "display_name": "Python 3 (ipykernel)",
   "language": "python",
   "name": "python3"
  },
  "language_info": {
   "codemirror_mode": {
    "name": "ipython",
    "version": 3
   },
   "file_extension": ".py",
   "mimetype": "text/x-python",
   "name": "python",
   "nbconvert_exporter": "python",
   "pygments_lexer": "ipython3",
   "version": "3.10.6"
  }
 },
 "nbformat": 4,
 "nbformat_minor": 5
}
