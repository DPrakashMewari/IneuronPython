{
 "cells": [
  {
   "cell_type": "code",
   "execution_count": null,
   "id": "22128ea9-bd6d-4f81-9309-f001f6ed27c5",
   "metadata": {},
   "outputs": [],
   "source": [
    "# 1.What are the two values of the Boolean data type? How do you write them?\n",
    "\n",
    "\n",
    "# True and False are two values of the boolen data types"
   ]
  },
  {
   "cell_type": "code",
   "execution_count": 1,
   "id": "93cc5376-8b12-40a6-90a2-a4c7fde14d19",
   "metadata": {},
   "outputs": [
    {
     "name": "stdout",
     "output_type": "stream",
     "text": [
      "True\n",
      "True\n",
      "False\n"
     ]
    }
   ],
   "source": [
    "# What are the three different types of Boolean operators?\n",
    "\n",
    "\n",
    "# and or not\n",
    "a=400\n",
    "b=200\n",
    "print(a>50 and b>100) \n",
    "print(a>200 or b>100) \n",
    "print(not(a>100))  "
   ]
  },
  {
   "cell_type": "code",
   "execution_count": 5,
   "id": "8792a869-0439-4ae9-8ed1-e47793ee7ead",
   "metadata": {},
   "outputs": [
    {
     "data": {
      "text/plain": [
       "True"
      ]
     },
     "execution_count": 5,
     "metadata": {},
     "output_type": "execute_result"
    }
   ],
   "source": [
    "# 3. Make a list of each Boolean operator's truth tables (i.e. every possible combination of Boolean values for the operator and what it evaluate) ?\n",
    "\n",
    "# And  Operator truth table \n",
    "\n",
    "# True  - True is True\n",
    "# True - False is False\n",
    "# False - True is False\n",
    "# False - False is False\n",
    "\n",
    "# OR Operator truth table \n",
    "\n",
    "# True - True is True\n",
    "# True - False is True\n",
    "# False - True is True\n",
    "# False - False is False\n",
    "\n",
    "\n",
    "# Not\n",
    "v  = True \n",
    "not(v)\n",
    "# True not is  Flase \n",
    "v1 = False \n",
    "not(v1)\n",
    "# False not is true \n"
   ]
  },
  {
   "cell_type": "code",
   "execution_count": 8,
   "id": "65e41578-4c84-4120-b101-c52b954b5e58",
   "metadata": {},
   "outputs": [
    {
     "name": "stdout",
     "output_type": "stream",
     "text": [
      "False\n",
      "False\n",
      "True\n",
      "False\n",
      "False\n",
      "True\n"
     ]
    }
   ],
   "source": [
    "# 4. What are the values of the following expressions?\n",
    "\n",
    "print((5 > 4) and (3 == 5))\n",
    "print(not (5 > 4))\n",
    "print((5 > 4) or (3 == 5))\n",
    "print(not ((5 > 4) or (3 == 5)))\n",
    "print((True and True) and (True == False))\n",
    "print((not False) or (not True))"
   ]
  },
  {
   "cell_type": "code",
   "execution_count": 9,
   "id": "97e2137d-84b8-4ba8-9f1b-f6adeb4d03b3",
   "metadata": {},
   "outputs": [],
   "source": [
    "# 5. What are the six comparison operators?\n",
    "\n",
    "# == , != , < , > , <= , =>"
   ]
  },
  {
   "cell_type": "code",
   "execution_count": 12,
   "id": "d1ce6191-7fd9-4fe8-8cba-00033ead3faf",
   "metadata": {},
   "outputs": [
    {
     "data": {
      "text/plain": [
       "True"
      ]
     },
     "execution_count": 12,
     "metadata": {},
     "output_type": "execute_result"
    }
   ],
   "source": [
    "# 6. How do you tell the difference between the equal to and assignment operators?Describe a\n",
    "# condition and when you would use one.\n",
    "\n",
    "\n",
    "# Ans  \n",
    "var  = 22 # assignment operator stores a particular value in a form of variable \n",
    "var2 = 22\n",
    "var2 == var # In Equal to opertor compares value  between two variable values"
   ]
  },
  {
   "cell_type": "code",
   "execution_count": null,
   "id": "7c9b2aaa-3fff-4b2a-9aa6-d3eb159c5ac2",
   "metadata": {},
   "outputs": [],
   "source": [
    "# 7. Identify the three blocks in this code:\n",
    "spam = 0\n",
    "if spam == 10:\n",
    "print('eggs')\n",
    "if spam > 5:\n",
    "print('bacon')\n",
    "else:\n",
    "print('ham')\n",
    "print('spam')\n",
    "print('spam') \n",
    "\n",
    "\n",
    "# In this three blocks has some identation issue and it has conditional statement based on ham spam"
   ]
  },
  {
   "cell_type": "code",
   "execution_count": 14,
   "id": "6a6df51d-c065-4284-9339-971a8fba5fc2",
   "metadata": {},
   "outputs": [
    {
     "name": "stdout",
     "output_type": "stream",
     "text": [
      "ham\n",
      "spam\n",
      "spam\n"
     ]
    }
   ],
   "source": [
    "# After Rectify Identation It will look like this \n",
    "spam = 0  \n",
    "if spam == 10:  \n",
    "    print('eggs')  # block #1\n",
    "if spam > 5:  \n",
    "    print('bacon')  # block #2\n",
    "else:  \n",
    "    print('ham')  # block #3\n",
    "print('spam')  \n",
    "print('spam')\n"
   ]
  },
  {
   "cell_type": "code",
   "execution_count": 15,
   "id": "590aa6a3-331a-4249-90d4-3c2ba18e1c13",
   "metadata": {},
   "outputs": [
    {
     "name": "stdout",
     "output_type": "stream",
     "text": [
      "Hello\n",
      "Howdy\n",
      "Greeting !\n"
     ]
    }
   ],
   "source": [
    "# 8. Write code that prints Hello if 1 is stored in spam, prints Howdy if 2 is stored in spam, and prints\n",
    "# Greetings! if anything else is stored in spam.\n",
    "\n",
    "\n",
    "def find_code(spam ):\n",
    "    if spam == 1:\n",
    "        print(\"Hello\")\n",
    "    elif spam == 2:\n",
    "        print(\"Howdy\")\n",
    "    else:\n",
    "        print(\"Greeting !\")\n",
    "find_code(1)\n",
    "find_code(2)\n",
    "find_code(3)"
   ]
  },
  {
   "cell_type": "code",
   "execution_count": 16,
   "id": "8f79dedc-2615-42b9-8c6d-0baf0f450be5",
   "metadata": {},
   "outputs": [],
   "source": [
    "\n",
    "# 9.If your programme is stuck in an endless loop, what keys you’ll press?\n",
    "\n",
    "# we use ctrl + c to control loop \n"
   ]
  },
  {
   "cell_type": "code",
   "execution_count": 17,
   "id": "002fe280-cc5c-4da2-a35e-86cf180e6f5b",
   "metadata": {},
   "outputs": [],
   "source": [
    "# 10. How can you tell the difference between break and continue?\n",
    "# Ans: The break statement will move the execution outside the loop \n",
    "# if break condtion is satisfied. In continue statement will move the execution to the start of the loop."
   ]
  },
  {
   "cell_type": "code",
   "execution_count": 18,
   "id": "23ff7b55-05a7-442a-adc5-f3dbd922cab7",
   "metadata": {},
   "outputs": [],
   "source": [
    "# 11. In a for loop, what is the difference between range(10), range(0, 10), and range(0, 10, 1)?\n",
    "# Ans: The Differences are as follows:\n",
    "\n",
    "# The range(10) will give from 0 to 9 (but not include 10)\n",
    "# The range (0,10) will the start loop from 0 \n",
    "# The range(0,10,1) will start loop to from 0 and increase by 1 on each iteration"
   ]
  },
  {
   "cell_type": "code",
   "execution_count": 27,
   "id": "029b814b-d83c-468d-a7f5-e525b3a00b10",
   "metadata": {},
   "outputs": [
    {
     "name": "stdout",
     "output_type": "stream",
     "text": [
      "1\n",
      "2\n",
      "3\n",
      "4\n",
      "5\n",
      "6\n",
      "7\n",
      "8\n",
      "9\n",
      "10\n",
      "\n",
      "1\n",
      "2\n",
      "3\n",
      "4\n",
      "5\n",
      "6\n",
      "7\n",
      "8\n",
      "9\n",
      "10\n"
     ]
    }
   ],
   "source": [
    "# 12. Write a short program that prints the numbers 1 to 10 using a for loop. Then write an equivalent\n",
    "# program that prints the numbers 1 to 10 using a while loop.\n",
    "\n",
    "\n",
    "def givewithfor():\n",
    "    for i in range (1,10 + 1):\n",
    "        print(i)\n",
    "        \n",
    "def givewithwhile():\n",
    "    c = 0 \n",
    "    while c < 10:\n",
    "        c += 1\n",
    "        print(c)\n",
    "        \n",
    "    \n",
    "givewithwhile()\n",
    "print()\n",
    "givewithfor()"
   ]
  },
  {
   "cell_type": "code",
   "execution_count": 28,
   "id": "3f622aa4-d982-4239-a0c8-71089f799fc4",
   "metadata": {},
   "outputs": [],
   "source": [
    "# 13. If you had a function named bacon() inside a module named spam, how would you call it after importing spam ?\n",
    "# Ans: This function can be called with spam.bacon()"
   ]
  }
 ],
 "metadata": {
  "kernelspec": {
   "display_name": "Python 3 (ipykernel)",
   "language": "python",
   "name": "python3"
  },
  "language_info": {
   "codemirror_mode": {
    "name": "ipython",
    "version": 3
   },
   "file_extension": ".py",
   "mimetype": "text/x-python",
   "name": "python",
   "nbconvert_exporter": "python",
   "pygments_lexer": "ipython3",
   "version": "3.10.6"
  }
 },
 "nbformat": 4,
 "nbformat_minor": 5
}
