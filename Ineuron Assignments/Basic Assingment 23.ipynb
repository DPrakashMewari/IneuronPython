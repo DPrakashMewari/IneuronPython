{
 "cells": [
  {
   "cell_type": "code",
   "execution_count": 5,
   "id": "719d41af",
   "metadata": {},
   "outputs": [
    {
     "name": "stdout",
     "output_type": "stream",
     "text": [
      "True\n",
      "False\n"
     ]
    }
   ],
   "source": [
    "def is_symmetrical(n):\n",
    "    return str(n) == str(n)[::-1]\n",
    "\n",
    "\n",
    "print(is_symmetrical(7227))\n",
    "print(is_symmetrical(12567))\n",
    "print(is_symmetrical(12567))\n",
    "\n",
    "\n",
    "\n"
   ]
  },
  {
   "cell_type": "code",
   "execution_count": 17,
   "id": "64df8bd5",
   "metadata": {},
   "outputs": [
    {
     "name": "stdout",
     "output_type": "stream",
     "text": [
      "6\n",
      "24\n"
     ]
    }
   ],
   "source": [
    "# Given a string of numbers separated by a comma and space, return the product of the\n",
    "# numbers.\n",
    "\n",
    "\n",
    "def produc_no(args):\n",
    "    n = 1 \n",
    "    args = args.replace(\" \",\"\").split(\",\")\n",
    "    for i in args: \n",
    "        n *= int(i)\n",
    "         \n",
    "    return n\n",
    "\n",
    "print(produc_no(\"2 ,3\"))\n",
    "print(produc_no(\"1, 2, 3, 4\"))\n",
    "    "
   ]
  },
  {
   "cell_type": "code",
   "execution_count": 36,
   "id": "a7e868c8",
   "metadata": {},
   "outputs": [
    {
     "name": "stdout",
     "output_type": "stream",
     "text": [
      "8111181\n",
      "416649\n",
      "9414\n"
     ]
    }
   ],
   "source": [
    "# 3.Create a function that squares every digit of a number.\n",
    "\n",
    "def square_digits(n):\n",
    "    x =[(str(int(x)**2)) for x in str(n)]\n",
    "    return \"\".join(x) \n",
    "\n",
    "\n",
    "print(square_digits(91119))\n",
    "print(square_digits(2483))\n",
    "print(square_digits(3212))\n"
   ]
  },
  {
   "cell_type": "code",
   "execution_count": 43,
   "id": "156e4e38",
   "metadata": {},
   "outputs": [
    {
     "name": "stdout",
     "output_type": "stream",
     "text": [
      "[1, 3, 5]\n",
      "[4]\n",
      "[5, 7, 8, 9, 10, 15]\n",
      "[1, 2, 3]\n"
     ]
    }
   ],
   "source": [
    "# Create a function that sorts a list and removes all duplicate items from it.\n",
    "def setify(args):\n",
    "    args1 = [] \n",
    "    for i in set(args):\n",
    "        args1.append(i)\n",
    "    return args1 \n",
    "\n",
    "\n",
    "print(setify([1,3,3,5,5]))\n",
    "\n",
    "print(setify([4,4,4,4]))\n",
    "\n",
    "\n",
    "print(setify([5,7,8,9,10,15]))\n",
    "\n",
    "\n",
    "print(setify([3,3,3,2,1]))\n",
    "\n"
   ]
  },
  {
   "cell_type": "code",
   "execution_count": 59,
   "id": "2e610575",
   "metadata": {},
   "outputs": [
    {
     "name": "stdout",
     "output_type": "stream",
     "text": [
      "3\n",
      "3\n",
      "6\n"
     ]
    }
   ],
   "source": [
    "# Create a function that returns the mean of all digits.\n",
    "def mean(n):\n",
    "    sum1 = 0 \n",
    "    len_n = len(str(n))\n",
    "    for i in str(n):\n",
    "        sum1 += int(i)\n",
    "    mean = sum1/len_n\n",
    "    return int(mean) \n",
    "        \n",
    "print(mean(42))\n",
    "print(mean(12345))\n",
    "print(mean(666))"
   ]
  },
  {
   "cell_type": "code",
   "execution_count": null,
   "id": "4cad8df4",
   "metadata": {},
   "outputs": [],
   "source": []
  },
  {
   "cell_type": "code",
   "execution_count": null,
   "id": "ed0a2d57",
   "metadata": {},
   "outputs": [],
   "source": []
  },
  {
   "cell_type": "code",
   "execution_count": null,
   "id": "c6453d60",
   "metadata": {},
   "outputs": [],
   "source": []
  }
 ],
 "metadata": {
  "kernelspec": {
   "display_name": "Python 3 (ipykernel)",
   "language": "python",
   "name": "python3"
  },
  "language_info": {
   "codemirror_mode": {
    "name": "ipython",
    "version": 3
   },
   "file_extension": ".py",
   "mimetype": "text/x-python",
   "name": "python",
   "nbconvert_exporter": "python",
   "pygments_lexer": "ipython3",
   "version": "3.11.1"
  }
 },
 "nbformat": 4,
 "nbformat_minor": 5
}
