{
 "cells": [
  {
   "cell_type": "code",
   "execution_count": 4,
   "id": "601c4ce3",
   "metadata": {},
   "outputs": [],
   "source": [
    "# 1. Set the variable test1 to the string &#39;This is a test of the emergency text system,&#39; and save test1 to a\n",
    "# file named test.txt.\n",
    "\n",
    "\n",
    "test1 = \"This is a test of the emergency text system\"\n",
    "f = open('test.txt','w+')\n",
    "f.write(test1)\n",
    "f.close()\n"
   ]
  },
  {
   "cell_type": "code",
   "execution_count": 2,
   "id": "ae8ccec9",
   "metadata": {},
   "outputs": [
    {
     "name": "stdout",
     "output_type": "stream",
     "text": [
      "This is a test of the emergency text system\n"
     ]
    }
   ],
   "source": [
    "# read the file \n",
    "! type test.txt"
   ]
  },
  {
   "cell_type": "code",
   "execution_count": 9,
   "id": "23b0a875",
   "metadata": {},
   "outputs": [
    {
     "name": "stdout",
     "output_type": "stream",
     "text": [
      "This is a test of the emergency text system\n",
      "True\n"
     ]
    }
   ],
   "source": [
    "# 2. Read the contents of the file test.txt into the variable test2. Is there a difference between test 1\n",
    "# and test 2?\n",
    "\n",
    "f = open('test.txt','r')\n",
    "test2 = f.read()\n",
    "\n",
    "print(test2)\n",
    "print(test1 == test2)"
   ]
  },
  {
   "cell_type": "code",
   "execution_count": 16,
   "id": "65095cf0",
   "metadata": {},
   "outputs": [],
   "source": [
    "# 3. Create a CSV file called books.csv by using these lines:\n",
    "import pandas as pd \n",
    "\n",
    "import io   \n",
    "\n",
    "\n",
    "raw_data = \"\"\"title,author,year\n",
    "The Weirdstone of Brisingamen,Alan Garner,1960\n",
    "Perdido Street Station,China Miéville,2000\n",
    "Thud!,Terry Pratchett,2005\n",
    "The Spellman Files,Lisa Lutz,2007\n",
    "Small Gods,Terry Pratchett,1992\"\"\"\n",
    "\n",
    "df = pd.read_csv(io.StringIO(raw_data), sep=\",\")\n",
    "df.to_csv('books.csv')"
   ]
  },
  {
   "cell_type": "code",
   "execution_count": 33,
   "id": "20a87fe3",
   "metadata": {},
   "outputs": [],
   "source": [
    "# 4. Use the sqlite3 module to create a SQLite database called books.db, and a table called books with\n",
    "# these fields: title (text), author (text), and year (integer).\n",
    "\n",
    "try :\n",
    "    import sqlite3\n",
    "    conn = sqlite3.connect(\"books1.db\")\n",
    "    cur = conn.cursor()\n",
    "    cur.execute(\"CREATE TABLE books1 (title text, author text, year int)\")\n",
    "    cur.close()\n",
    "except:\n",
    "    pass"
   ]
  },
  {
   "cell_type": "code",
   "execution_count": 36,
   "id": "18586d72",
   "metadata": {},
   "outputs": [
    {
     "name": "stdout",
     "output_type": "stream",
     "text": [
      "The Weirdstone of Brisingamen - Alan Garner - 1960\n",
      "Executed Success\n",
      "Perdido Street Station - China Miéville - 2000\n",
      "Executed Success\n",
      "Thud! - Terry Pratchett - 2005\n",
      "Executed Success\n",
      "The Spellman Files - Lisa Lutz - 2007\n",
      "Executed Success\n",
      "Small Gods - Terry Pratchett - 1992\n",
      "Executed Success\n"
     ]
    }
   ],
   "source": [
    "# 5. Read books.csv and insert its data into the book table.\n",
    "\n",
    "for i,j,k in df.values:\n",
    "    cur = conn.cursor()\n",
    "    print(i,'-',j,'-',k)\n",
    "    cur.execute(\"INSERT INTO books1 VALUES (?,?,?)\",(i,j,k))\n",
    "    print('Executed Success')"
   ]
  },
  {
   "cell_type": "code",
   "execution_count": 44,
   "id": "23c38d5b",
   "metadata": {},
   "outputs": [
    {
     "name": "stdout",
     "output_type": "stream",
     "text": [
      "Perdido Street Station\n",
      "Small Gods\n",
      "The Spellman Files\n",
      "The Weirdstone of Brisingamen\n",
      "The Weirdstone of Brisingamen\n",
      "The Weirdstone of Brisingamen\n",
      "Thud!\n"
     ]
    }
   ],
   "source": [
    "# 6. Select and print the title column from the book table in alphabetical order.\n",
    "\n",
    "result=cur.execute(\"select * from books1 order by title asc;\")\n",
    "for i in result:\n",
    "    print(i[0])"
   ]
  },
  {
   "cell_type": "code",
   "execution_count": 45,
   "id": "ab0292d4",
   "metadata": {},
   "outputs": [
    {
     "name": "stdout",
     "output_type": "stream",
     "text": [
      "('The Weirdstone of Brisingamen', 'Alan Garner', 1960)\n",
      "('The Weirdstone of Brisingamen', 'Alan Garner', 1960)\n",
      "('The Weirdstone of Brisingamen', 'Alan Garner', 1960)\n",
      "('Perdido Street Station', 'China Miéville', 2000)\n",
      "('The Spellman Files', 'Lisa Lutz', 2007)\n",
      "('Thud!', 'Terry Pratchett', 2005)\n",
      "('Small Gods', 'Terry Pratchett', 1992)\n"
     ]
    }
   ],
   "source": [
    "#7. From the book table, select and print all columns in the order of publication.\n",
    "\n",
    "result=cur.execute(\"select * from books1 order by author asc;\")\n",
    "for i in result:\n",
    "    print(i)"
   ]
  },
  {
   "cell_type": "code",
   "execution_count": 2,
   "id": "dd67382f",
   "metadata": {},
   "outputs": [],
   "source": [
    "try:\n",
    "    import sqlalchemy\n",
    "    connect = sqlalchemy.create_engine('sqlite:///books1.db')\n",
    "    connect\n",
    "except:\n",
    "    pass"
   ]
  },
  {
   "cell_type": "code",
   "execution_count": 3,
   "id": "aba14f48",
   "metadata": {},
   "outputs": [
    {
     "name": "stdout",
     "output_type": "stream",
     "text": [
      "Collecting redis\n",
      "  Downloading redis-4.5.1-py3-none-any.whl (238 kB)\n",
      "     ---------------------------------------- 0.0/238.5 kB ? eta -:--:--\n",
      "     ---- -------------------------------- 30.7/238.5 kB 660.6 kB/s eta 0:00:01\n",
      "     --------- --------------------------- 61.4/238.5 kB 656.4 kB/s eta 0:00:01\n",
      "     ------------------ ----------------- 122.9/238.5 kB 901.1 kB/s eta 0:00:01\n",
      "     -------------------------------------  235.5/238.5 kB 1.4 MB/s eta 0:00:01\n",
      "     -------------------------------------  235.5/238.5 kB 1.4 MB/s eta 0:00:01\n",
      "     -------------------------------------  235.5/238.5 kB 1.4 MB/s eta 0:00:01\n",
      "     ------------------------------------ 238.5/238.5 kB 768.4 kB/s eta 0:00:00\n",
      "Collecting async-timeout>=4.0.2\n",
      "  Using cached async_timeout-4.0.2-py3-none-any.whl (5.8 kB)\n",
      "Installing collected packages: async-timeout, redis\n",
      "Successfully installed async-timeout-4.0.2 redis-4.5.1\n"
     ]
    }
   ],
   "source": [
    "# 9. Install the Redis server and the Python redis library (pip install redis) on your computer. Create a Redis hash called test with the fields count (1) and name ('Fester Bestertester'). Print all the fields for test.\n",
    "\n",
    "! python -m pip install redis\n"
   ]
  },
  {
   "cell_type": "code",
   "execution_count": 6,
   "id": "bbb43370",
   "metadata": {},
   "outputs": [],
   "source": [
    "import redis\n",
    "conn = redis.Redis()\n",
    "try:\n",
    "    \n",
    "    conn.hset('test1',{\n",
    "        'count':1,\n",
    "        'name':'Fester Bestertester'\n",
    "    })\n",
    "    conn.hgetall('test1')\n",
    "except:\n",
    "    pass"
   ]
  },
  {
   "cell_type": "code",
   "execution_count": 10,
   "id": "c5c3d2ef",
   "metadata": {},
   "outputs": [],
   "source": [
    "# 10. Increment the count field of test and print it.\n",
    "\n",
    "try:\n",
    "    conn.hincrby('test1', 'count', 1)\n",
    "    conn.hget('test1', 'count')\n",
    "except:\n",
    "    pass"
   ]
  },
  {
   "cell_type": "code",
   "execution_count": null,
   "id": "18df0b5c",
   "metadata": {},
   "outputs": [],
   "source": []
  }
 ],
 "metadata": {
  "kernelspec": {
   "display_name": "Python 3 (ipykernel)",
   "language": "python",
   "name": "python3"
  },
  "language_info": {
   "codemirror_mode": {
    "name": "ipython",
    "version": 3
   },
   "file_extension": ".py",
   "mimetype": "text/x-python",
   "name": "python",
   "nbconvert_exporter": "python",
   "pygments_lexer": "ipython3",
   "version": "3.11.1"
  }
 },
 "nbformat": 4,
 "nbformat_minor": 5
}
