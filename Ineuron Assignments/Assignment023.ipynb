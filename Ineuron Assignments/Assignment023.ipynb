{
 "cells": [
  {
   "cell_type": "code",
   "execution_count": 2,
   "id": "a74a990f-7053-4043-8fe1-d2259227cdd2",
   "metadata": {},
   "outputs": [
    {
     "name": "stdout",
     "output_type": "stream",
     "text": [
      "1 2 8\n"
     ]
    }
   ],
   "source": [
    "# 1. What is the result of the code, and why?\n",
    "# >>> def func(a, b=6, c=8):\n",
    "# print(a, b, c)\n",
    "# >>> func(1, 2)\n",
    "\n",
    "\n",
    "def func(a, b=6, c=8):\n",
    "    print(a, b, c)\n",
    "func(1, 2)\n",
    "\n",
    "\n",
    "# Output is 1,2,8 , if we pass 1,2 to a,b give: 1,2 ,in c not give any param so default values comes "
   ]
  },
  {
   "cell_type": "code",
   "execution_count": 3,
   "id": "6a7044f4-c9cf-4bf5-9939-26a263a99de6",
   "metadata": {},
   "outputs": [
    {
     "name": "stdout",
     "output_type": "stream",
     "text": [
      "1 2 3\n"
     ]
    }
   ],
   "source": [
    "# 2. What is the result of this code, and why?\n",
    "# >>> def func(a, b, c=5):\n",
    "# print(a, b, c)\n",
    "# >>> func(1, c=3, b=2)\n",
    "\n",
    "\n",
    "def func(a, b, c=5):\n",
    "    print(a, b, c)\n",
    "func(1, c=3, b=2)\n",
    "\n",
    "\n",
    "# it is because the function will use default values only when a value for a argument is not provided and if argument name is mentioned while doing a function call, the order of arguments is also ignored by the python interpreter"
   ]
  },
  {
   "cell_type": "code",
   "execution_count": 5,
   "id": "df39fa08-aaf2-4555-a35d-802664b7fc6d",
   "metadata": {},
   "outputs": [
    {
     "name": "stdout",
     "output_type": "stream",
     "text": [
      "1 (2, 3)\n"
     ]
    }
   ],
   "source": [
    "# 3. How about this code: what is its result, and why?\n",
    "# >>> def func(a, *pargs):\n",
    "# print(a, pargs)\n",
    "# >>> func(1, 2, 3)\n",
    "\n",
    "def func(a, *pargs):\n",
    "     print(a, pargs)\n",
    "func(1, 2, 3)\n",
    "\n",
    "\n",
    "\n",
    "# *pargs stands for variable length arguments. this format is used \n",
    "# when we are not sure about the no of arguments to be passed to a function. \n",
    "# all the values under this argument will be stored in a tuple."
   ]
  },
  {
   "cell_type": "code",
   "execution_count": 6,
   "id": "4f8493e3-19d9-4bec-991d-891415fb0c27",
   "metadata": {},
   "outputs": [
    {
     "name": "stdout",
     "output_type": "stream",
     "text": [
      "1 {'c': 3, 'b': 2}\n"
     ]
    }
   ],
   "source": [
    "# 4. What does this code print, and why?\n",
    "# >>> def func(a, **kargs):\n",
    "# print(a, kargs)\n",
    "# >>> func(a=1, c=3, b=2)\n",
    "\n",
    "\n",
    "def func(a, **kargs):\n",
    "    print(a, kargs)\n",
    "func(a=1, c=3, b=2)\n",
    "\n",
    "\n",
    "# **args stands for variable length keyword arguments. \n",
    "# this format is used when we want pass key value pairs as input to a function.\n",
    "# All these key value pairs will be stored in a dictionary"
   ]
  },
  {
   "cell_type": "code",
   "execution_count": 9,
   "id": "5aef669c-329b-45ea-8058-e2095bc7fc6d",
   "metadata": {},
   "outputs": [
    {
     "name": "stdout",
     "output_type": "stream",
     "text": [
      "1 5 6 5\n"
     ]
    }
   ],
   "source": [
    "# 5. What gets printed by this, and explain?\n",
    "# >>> def func(a, b, c=8, d=5): print(a, b, c, d)\n",
    "# >>> func(1, *(5, 6)\n",
    "\n",
    "def func(a, b, c=8, d=5): \n",
    "    print(a, b, c, d)\n",
    "func(1, *(5, 6))\n",
    "\n",
    "\n",
    "\n",
    "# This reason for this function not throwing an error is because, this function expects 4 arguments. \n",
    "# the value for a is provided explicitly whereas for arguments b and c, \n",
    "# the function will expand the *(5,6) and consider the value of b as 5 and value of c as 6. \n",
    "# since the default value of d is provided in function declaration d value will be 5\n"
   ]
  },
  {
   "cell_type": "code",
   "execution_count": 13,
   "id": "2269206f-ec71-43a7-bd56-fdba3a7c448a",
   "metadata": {},
   "outputs": [
    {
     "data": {
      "text/plain": [
       "(1, ['x'], {'a': 'y'})"
      ]
     },
     "execution_count": 13,
     "metadata": {},
     "output_type": "execute_result"
    }
   ],
   "source": [
    "# 6. what is the result of this, and explain?\n",
    "# >>> def func(a, b, c): a = 2; b[0] = 'x'; c['a'] = 'y'\n",
    "# >>> l=1; m=[1]; n={'a':0}\n",
    "# >>> func(l, m, n)\n",
    "# >>> l, m, n\n",
    "\n",
    "\n",
    "\n",
    "\n",
    "def func(a, b, c): \n",
    "    a = 2; \n",
    "    b[0] = 'x'; \n",
    "    c['a'] = 'y'\n",
    "l=1;\n",
    "m=[1];\n",
    "n={'a':0}\n",
    "func(l, m, n)\n",
    "l,m,n\n",
    "\n",
    "\n",
    "# l,m,n are provided as inputs to the function. \n",
    "# its modifies the values of l,m,n \n",
    "# and sets the value of l=1 ,m=['x'] and n={'a':'y'}\n"
   ]
  }
 ],
 "metadata": {
  "kernelspec": {
   "display_name": "Python 3 (ipykernel)",
   "language": "python",
   "name": "python3"
  },
  "language_info": {
   "codemirror_mode": {
    "name": "ipython",
    "version": 3
   },
   "file_extension": ".py",
   "mimetype": "text/x-python",
   "name": "python",
   "nbconvert_exporter": "python",
   "pygments_lexer": "ipython3",
   "version": "3.10.6"
  }
 },
 "nbformat": 4,
 "nbformat_minor": 5
}
