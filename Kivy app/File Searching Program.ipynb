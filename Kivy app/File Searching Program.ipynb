{
 "cells": [
  {
   "cell_type": "code",
   "execution_count": 70,
   "metadata": {},
   "outputs": [
    {
     "name": "stdout",
     "output_type": "stream",
     "text": [
      "['/home/mewaris/PyPrograms/heart.csv', '/home/mewaris/Templates/heart.csv']\n"
     ]
    }
   ],
   "source": [
    "import os\n",
    "\n",
    "def find_files(filename, search_path):\n",
    "   result = []\n",
    "\n",
    "# Wlaking top-down from the root\n",
    "   for root, dir, files in os.walk(search_path):\n",
    "      if filename in files:\n",
    "         result.append(os.path.join(root, filename))\n",
    "   return result\n",
    "\n",
    "print(find_files(\"heart.csv\",\"/home\"))"
   ]
  },
  {
   "cell_type": "code",
   "execution_count": 85,
   "metadata": {},
   "outputs": [
    {
     "name": "stdout",
     "output_type": "stream",
     "text": [
      "/home/mewaris/PyPrograms/KNN/readme.md\n",
      "/home/mewaris/snap/jupyter/common/lib/python3.7/site-packages/idna-3.2.dist-info/LICENSE.md\n",
      "/home/mewaris/snap/jupyter/common/lib/python3.7/site-packages/kivy/tools/image-testsuite/README.md\n",
      "/home/mewaris/Templates/Flask Visualization/readme.md\n",
      "/home/mewaris/Templates/Flask-Basics-main/README.md\n",
      "/home/mewaris/Downloads/Others/DataAnalysisProjects-master/2_SalesInsightsTableau/README.md\n",
      "/home/mewaris/Downloads/Others/DataAnalysisProjects-master/1_SalesInsights/README.md\n",
      "/home/mewaris/Downloads/Complete-Deep-Learning-master/README.md\n",
      "/home/mewaris/Downloads/Complete-Deep-Learning-master/Keras-Tuner-main/README.md\n",
      "/home/mewaris/Downloads/pycharm-community-2021.1.1/plugins/textmate/lib/bundles/git/README.md\n",
      "/home/mewaris/Downloads/pycharm-community-2021.1.1/plugins/textmate/lib/bundles/search-result/README.md\n",
      "/home/mewaris/Downloads/pycharm-community-2021.1.1/plugins/textmate/lib/bundles/javascript/syntaxes/Readme.md\n",
      "/home/mewaris/Downloads/pycharm-community-2021.1.1/plugins/textmate/lib/bundles/viml/tests/modeline.md\n",
      "/home/mewaris/Downloads/pycharm-community-2021.1.1/plugins/textmate/lib/bundles/typescript-basics/syntaxes/Readme.md\n",
      "/home/mewaris/Downloads/pycharm-community-2021.1.1/plugins/textmate/lib/bundles/swift/LICENSE.md\n",
      "/home/mewaris/Downloads/pycharm-community-2021.1.1/plugins/python-ce/helpers/third_party/thriftpy/README.md\n",
      "/home/mewaris/Downloads/pycharm-community-2021.1.1/plugins/python-ce/helpers/typeshed/CONTRIBUTING.md\n",
      "/home/mewaris/Downloads/pycharm-community-2021.1.1/plugins/python-ce/helpers/typeshed/README.md\n",
      "/home/mewaris/Downloads/pycharm-community-2021.1.1/plugins/python-ce/helpers/python-skeletons/README.md\n",
      "/home/mewaris/Downloads/pycharm-community-2021.1.1/plugins/python-ce/helpers/pydev/pydevd_plugins/extensions/README.md\n",
      "/home/mewaris/Downloads/pycharm-community-2021.1.1/plugins/python-ce/helpers/pydev/pydevd_plugins/extensions/types/README.md\n",
      "/home/mewaris/Downloads/pycharm-community-2021.1.1/jbr/legal/java.smartcardio/pcsclite.md\n",
      "/home/mewaris/Downloads/pycharm-community-2021.1.1/jbr/legal/jdk.localedata/cldr.md\n",
      "/home/mewaris/Downloads/pycharm-community-2021.1.1/jbr/legal/jdk.localedata/thaidict.md\n",
      "/home/mewaris/Downloads/pycharm-community-2021.1.1/jbr/legal/jdk.dynalink/dynalink.md\n",
      "/home/mewaris/Downloads/pycharm-community-2021.1.1/jbr/legal/java.xml.crypto/santuario.md\n",
      "/home/mewaris/Downloads/pycharm-community-2021.1.1/jbr/legal/jdk.crypto.ec/ecc.md\n",
      "/home/mewaris/Downloads/pycharm-community-2021.1.1/jbr/legal/java.base/aes.md\n",
      "/home/mewaris/Downloads/pycharm-community-2021.1.1/jbr/legal/java.base/unicode.md\n",
      "/home/mewaris/Downloads/pycharm-community-2021.1.1/jbr/legal/java.base/cldr.md\n",
      "/home/mewaris/Downloads/pycharm-community-2021.1.1/jbr/legal/java.base/icu.md\n",
      "/home/mewaris/Downloads/pycharm-community-2021.1.1/jbr/legal/java.base/c-libutl.md\n",
      "/home/mewaris/Downloads/pycharm-community-2021.1.1/jbr/legal/java.base/public_suffix.md\n",
      "/home/mewaris/Downloads/pycharm-community-2021.1.1/jbr/legal/java.base/asm.md\n",
      "/home/mewaris/Downloads/pycharm-community-2021.1.1/jbr/legal/jdk.scripting.nashorn/double-conversion.md\n",
      "/home/mewaris/Downloads/pycharm-community-2021.1.1/jbr/legal/jdk.scripting.nashorn/joni.md\n",
      "/home/mewaris/Downloads/pycharm-community-2021.1.1/jbr/legal/java.xml/xerces.md\n",
      "/home/mewaris/Downloads/pycharm-community-2021.1.1/jbr/legal/java.xml/jcup.md\n",
      "/home/mewaris/Downloads/pycharm-community-2021.1.1/jbr/legal/java.xml/bcel.md\n",
      "/home/mewaris/Downloads/pycharm-community-2021.1.1/jbr/legal/java.xml/dom.md\n",
      "/home/mewaris/Downloads/pycharm-community-2021.1.1/jbr/legal/java.xml/xalan.md\n",
      "/home/mewaris/Downloads/pycharm-community-2021.1.1/jbr/legal/java.desktop/lcms.md\n",
      "/home/mewaris/Downloads/pycharm-community-2021.1.1/jbr/legal/java.desktop/libpng.md\n",
      "/home/mewaris/Downloads/pycharm-community-2021.1.1/jbr/legal/java.desktop/jpeg.md\n",
      "/home/mewaris/Downloads/pycharm-community-2021.1.1/jbr/legal/java.desktop/mesa3d.md\n",
      "/home/mewaris/Downloads/pycharm-community-2021.1.1/jbr/legal/java.desktop/harfbuzz.md\n",
      "/home/mewaris/Downloads/pycharm-community-2021.1.1/jbr/legal/java.desktop/giflib.md\n",
      "/home/mewaris/Downloads/pycharm-community-2021.1.1/jbr/legal/java.desktop/xwd.md\n",
      "/home/mewaris/Downloads/pycharm-community-2021.1.1/jbr/legal/java.desktop/colorimaging.md\n",
      "/home/mewaris/Downloads/pycharm-community-2021.1.1/jbr/legal/jdk.crypto.cryptoki/pkcs11cryptotoken.md\n",
      "/home/mewaris/Downloads/pycharm-community-2021.1.1/jbr/legal/jdk.crypto.cryptoki/pkcs11wrapper.md\n",
      "/home/mewaris/Downloads/pycharm-community-2021.1.1/jbr/legal/jdk.internal.le/jline.md\n",
      "/home/mewaris/Downloads/[FreeCourseSite.com] Udemy - Python for Computer Vision with OpenCV and Deep Learning/1. Course Overview and Introduction/3.1 Computer-Vision-with-Python.zip/Computer-Vision-with-Python/06-Deep-Learning-Computer-Vision/06-YOLOv3/README.md\n",
      "/home/mewaris/PycharmProjects/Flask/venv/lib/python3.8/site-packages/werkzeug/debug/shared/ICON_LICENSE.md\n",
      "/home/mewaris/PycharmProjects/pythonProject3/venv/lib/python3.8/site-packages/werkzeug/debug/shared/ICON_LICENSE.md\n",
      "/home/mewaris/PycharmProjects/new1/venv/lib/python3.8/site-packages/werkzeug/debug/shared/ICON_LICENSE.md\n",
      "/home/mewaris/PycharmProjects/pythonProject2/venv/lib/python3.8/site-packages/werkzeug/debug/shared/ICON_LICENSE.md\n",
      "/home/mewaris/PycharmProjects/Kivyapp/Kivy App/readme.md\n",
      "/home/mewaris/PycharmProjects/pythonProject1/venv/lib/python3.8/site-packages/kivy/tools/image-testsuite/README.md\n",
      "/home/mewaris/Untitled Folder/Computer-Vision-Tutorial-master/README.md\n"
     ]
    }
   ],
   "source": [
    "import os\n",
    "def file_finder(fileextension):\n",
    "    for root, dirs, files in os.walk(\"/home\"):\n",
    "        for file in files:\n",
    "            if file.endswith(fileextension):\n",
    "                 print(os.path.join(root, file))\n",
    "                    \n",
    "file_finder(\".md\")"
   ]
  }
 ],
 "metadata": {
  "kernelspec": {
   "display_name": "Python 3",
   "language": "python",
   "name": "python3"
  },
  "language_info": {
   "codemirror_mode": {
    "name": "ipython",
    "version": 3
   },
   "file_extension": ".py",
   "mimetype": "text/x-python",
   "name": "python",
   "nbconvert_exporter": "python",
   "pygments_lexer": "ipython3",
   "version": "3.7.3"
  }
 },
 "nbformat": 4,
 "nbformat_minor": 2
}
