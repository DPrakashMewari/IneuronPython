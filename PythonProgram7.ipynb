{
 "cells": [
  {
   "cell_type": "code",
   "execution_count": 16,
   "metadata": {},
   "outputs": [
    {
     "data": {
      "text/plain": [
       "2344"
      ]
     },
     "execution_count": 16,
     "metadata": {},
     "output_type": "execute_result"
    }
   ],
   "source": [
    "#Write a Python Program to find sum of array?\n",
    "\n",
    "def sumofarray(arr):\n",
    "    sum = 0\n",
    "    for i in arr:\n",
    "        sum +=i\n",
    "    return sum   \n",
    "\n",
    "sumofarray([1,31,2312])"
   ]
  },
  {
   "cell_type": "code",
   "execution_count": 37,
   "metadata": {},
   "outputs": [
    {
     "data": {
      "text/plain": [
       "('Thelargestelementis', 100)"
      ]
     },
     "execution_count": 37,
     "metadata": {},
     "output_type": "execute_result"
    }
   ],
   "source": [
    "# Write a Python Program to find largest element in an array?\n",
    "\n",
    "def findlarg(arr,n):\n",
    "    max = arr[0]\n",
    "    for i in range(1,n):\n",
    "        if arr[i] > max:\n",
    "            max=arr[i]\n",
    "    return(\"Thelargestelementis\",max)\n",
    "arr = [28,4,1,31,100]         \n",
    "m=len(arr)           \n",
    "\n",
    "findlarg(arr,m)"
   ]
  },
  {
   "cell_type": "code",
   "execution_count": 46,
   "metadata": {},
   "outputs": [
    {
     "name": "stdout",
     "output_type": "stream",
     "text": [
      "Input list is [3, 4, 5, 6, 7, 1, 2]\n"
     ]
    },
    {
     "data": {
      "text/plain": [
       "('Rotated List is', [3, 4, 5, 6, 7, 1, 2])"
      ]
     },
     "execution_count": 46,
     "metadata": {},
     "output_type": "execute_result"
    }
   ],
   "source": [
    "# Write a Python Program for array rotation?\n",
    "\n",
    "def func(arr,d,n):\n",
    "    arr[:] = arr[d:n] + arr[0:d]\n",
    "    return(\"Rotated List is\",arr)\n",
    "\n",
    "l1=[1,2,3,4,5,6,7]\n",
    "func(l1,d=2,n=7)\n"
   ]
  },
  {
   "cell_type": "code",
   "execution_count": 55,
   "metadata": {},
   "outputs": [
    {
     "data": {
      "text/plain": [
       "('Output array is', [2, 3, 1, 33, 12, 10])"
      ]
     },
     "execution_count": 55,
     "metadata": {},
     "output_type": "execute_result"
    }
   ],
   "source": [
    "#Write a Python Program to Split the array and add the first part to the end?\n",
    "\n",
    "def splitit(arr,k):\n",
    "    arr[:] = arr[k:] + arr[0:k]\n",
    "    return(\"Output array is\", arr)\n",
    "\n",
    "\n",
    "\n",
    "\n",
    "arr = [12,10,2,3,1,33]\n",
    "splitit(arr,2)"
   ]
  }
 ],
 "metadata": {
  "kernelspec": {
   "display_name": "Python 3",
   "language": "python",
   "name": "python3"
  },
  "language_info": {
   "codemirror_mode": {
    "name": "ipython",
    "version": 3
   },
   "file_extension": ".py",
   "mimetype": "text/x-python",
   "name": "python",
   "nbconvert_exporter": "python",
   "pygments_lexer": "ipython3",
   "version": "3.7.6"
  }
 },
 "nbformat": 4,
 "nbformat_minor": 4
}
