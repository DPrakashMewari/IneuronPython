{
 "cells": [
  {
   "cell_type": "code",
   "execution_count": null,
   "metadata": {},
   "outputs": [],
   "source": [
    "# Sorting referes to arranging a data.\n",
    "# or you can say data arrange in particualar \n",
    "\n",
    "# here is first sorting algo: Bubble sort:\n",
    "# IF YOu pass any input numbers and it will return in ascending order\n",
    "\n",
    "# Bubble sort : It is comparison based algo in which pair \n",
    "#of adjacent element is comapred and the element are swapped if they are not in order .\n",
    "\n",
    "\n",
    "# Step of Bubble sort:\n",
    "\n",
    "# Intialise  a list which you will pass in a function\n",
    "# Take a loop which see till the end of element \n",
    "# Compare adjacent element it is greater or not \n",
    "# Declare a temp variable \n",
    "# assing a adjacent side and previous side \n",
    "# Return a main list\n"
   ]
  },
  {
   "cell_type": "code",
   "execution_count": 12,
   "metadata": {},
   "outputs": [
    {
     "name": "stdout",
     "output_type": "stream",
     "text": [
      "[1, 2, 3, 10, 13]\n"
     ]
    }
   ],
   "source": [
    "# Ruff\n",
    "n1 = [10,3,13,1,2]\n",
    "n = 0\n",
    "for n in range(len(n1)-1,0,-1):\n",
    "    for n2 in range(n):\n",
    "        if n1[n2] > n1[n2+1]:\n",
    "            temp = n1[n2]\n",
    "            n1[n2] = n1[n2+1]\n",
    "            n1[n2+1] = temp\n",
    "print(n1)"
   ]
  },
  {
   "cell_type": "code",
   "execution_count": 17,
   "metadata": {},
   "outputs": [],
   "source": [
    "def bubble_sort(list):\n",
    "    for n1 in range(len(list)-1,0,-1):\n",
    "        for n2 in range(n1):\n",
    "            if list[n2] > list[n2+1]:\n",
    "                temp = list[n2]\n",
    "                list[n2] = list[n2+1]\n",
    "                list[n2+1] = temp\n",
    "    return list"
   ]
  },
  {
   "cell_type": "code",
   "execution_count": 18,
   "metadata": {},
   "outputs": [
    {
     "data": {
      "text/plain": [
       "[1, 2, 3, 132]"
      ]
     },
     "execution_count": 18,
     "metadata": {},
     "output_type": "execute_result"
    }
   ],
   "source": [
    "bubble_sort([1,3,132,2])"
   ]
  }
 ],
 "metadata": {
  "kernelspec": {
   "display_name": "Python 3",
   "language": "python",
   "name": "python3"
  },
  "language_info": {
   "codemirror_mode": {
    "name": "ipython",
    "version": 3
   },
   "file_extension": ".py",
   "mimetype": "text/x-python",
   "name": "python",
   "nbconvert_exporter": "python",
   "pygments_lexer": "ipython3",
   "version": "3.7.3"
  }
 },
 "nbformat": 4,
 "nbformat_minor": 2
}
