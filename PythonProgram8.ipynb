{
 "cells": [
  {
   "cell_type": "code",
   "execution_count": 11,
   "metadata": {},
   "outputs": [
    {
     "name": "stdout",
     "output_type": "stream",
     "text": [
      "[4, 26, 34]\n",
      "[25, 52, 234]\n",
      "[4, 35, 3]\n"
     ]
    }
   ],
   "source": [
    "# Write a Python Program to Add Two Matrices?\n",
    "\n",
    "a = [[3,3,3],\n",
    "     [2,21,3],\n",
    "     [1,34,2]]\n",
    "\n",
    "b = [[1,23,3],\n",
    "    [23,31,1],\n",
    "    [31,231,1]]\n",
    "\n",
    "res = [[0,0,0]\n",
    "         ,[0,0,0]\n",
    "         ,[0,0,0]]\n",
    "\n",
    "for i in range(len(a)):\n",
    "    for j in range(len(b)):\n",
    "        res[i][j] = a[i][j] + b[j][i]\n",
    "        \n",
    "for k in res:\n",
    "    print(k)\n"
   ]
  },
  {
   "cell_type": "code",
   "execution_count": 1,
   "metadata": {},
   "outputs": [
    {
     "name": "stdout",
     "output_type": "stream",
     "text": [
      "[3, 69, 93]\n",
      "[46, 651, 693]\n",
      "[3, 34, 2]\n"
     ]
    }
   ],
   "source": [
    "# Write a Python Program to multiply Two Matrices?\n",
    "\n",
    "a = [[3,3,3],\n",
    "     [2,21,3],\n",
    "     [1,34,2]]\n",
    "\n",
    "b = [[1,23,3],\n",
    "    [23,31,1],\n",
    "    [31,231,1]]\n",
    "\n",
    "res = [[0,0,0]\n",
    "         ,[0,0,0]\n",
    "         ,[0,0,0]]\n",
    "\n",
    "for i in range(len(a)):\n",
    "    for j in range(len(b)):\n",
    "        res[i][j] = a[i][j] * b[j][i]\n",
    "        \n",
    "for k in res:\n",
    "    print(k)"
   ]
  },
  {
   "cell_type": "code",
   "execution_count": 14,
   "metadata": {},
   "outputs": [
    {
     "name": "stdout",
     "output_type": "stream",
     "text": [
      "1 1 2323 43 \n",
      "3 31 231 12 \n",
      "13 32 21 12 \n",
      "12 1 1 2 \n"
     ]
    }
   ],
   "source": [
    "# Matrix size\n",
    "n = 4\n",
    "def transpose(A):\n",
    "    for i in range(n):\n",
    "        for j in range(i+1,n):\n",
    "            A[j][i],A[i][j] = A[i][j],A[j][i]\n",
    "            \n",
    "A = [[1,3,13,12],\n",
    "    [1,31,32,1],\n",
    "    [2323,231,21,1],\n",
    "    [43,12,12,2]]\n",
    "\n",
    "transpose(A)\n",
    "\n",
    "\n",
    "for i in range(n):\n",
    "    for j in range(n):\n",
    "        print(A[i][j],\"\",end=\"\")\n",
    "    print()"
   ]
  },
  {
   "cell_type": "code",
   "execution_count": 17,
   "metadata": {},
   "outputs": [
    {
     "data": {
      "text/plain": [
       "'beeeffwz'"
      ]
     },
     "execution_count": 17,
     "metadata": {},
     "output_type": "execute_result"
    }
   ],
   "source": [
    "# WAP to sort a string in alphabetic order \n",
    "def sort(string):\n",
    "    return \"\".join(sorted(string))\n",
    "\n",
    "sort(\"zebefwfe\")"
   ]
  },
  {
   "cell_type": "code",
   "execution_count": 27,
   "metadata": {},
   "outputs": [
    {
     "name": "stdout",
     "output_type": "stream",
     "text": [
      "Hello this Prakash  \n"
     ]
    }
   ],
   "source": [
    "# Write a Python Program to remove punctuation from string\n",
    "# Punctuation we know it has varied types '',/\n",
    "# so in this program we will remove it \n",
    "\n",
    "punchuation = '''!()-[]{};:'\"\\,<>./?@#$%^&*_~'''\n",
    "\n",
    "str = \"Hello this Prakash; \\<>@$'' \"\n",
    "\n",
    "nopunc = \"\"\n",
    "for char in str:\n",
    "    if char not in punchuation:\n",
    "        nopunc = nopunc + char\n",
    "print(nopunc)"
   ]
  },
  {
   "cell_type": "code",
   "execution_count": null,
   "metadata": {},
   "outputs": [],
   "source": []
  },
  {
   "cell_type": "code",
   "execution_count": null,
   "metadata": {},
   "outputs": [],
   "source": []
  }
 ],
 "metadata": {
  "kernelspec": {
   "display_name": "Python 3",
   "language": "python",
   "name": "python3"
  },
  "language_info": {
   "codemirror_mode": {
    "name": "ipython",
    "version": 3
   },
   "file_extension": ".py",
   "mimetype": "text/x-python",
   "name": "python",
   "nbconvert_exporter": "python",
   "pygments_lexer": "ipython3",
   "version": "3.7.3"
  }
 },
 "nbformat": 4,
 "nbformat_minor": 2
}
