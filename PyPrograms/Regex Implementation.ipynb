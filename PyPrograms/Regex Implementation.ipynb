{
 "cells": [
  {
   "cell_type": "code",
   "execution_count": 3,
   "id": "865cd48a",
   "metadata": {},
   "outputs": [],
   "source": [
    "data = {'TraitScores':['TY1(0)TY2(0)TY6710_C4(0)(0)(0)TY6710_C10(0)(0)M|1(0)VE-1(2)TM2A(2)I2(2)', 'TY1(2)TY2(2)TY6710.10(2),(0)','Ty1(2)Vel(2)Ty2(0)PM(0)1BPh3(0)ToMV(2)Ty6710.4(0)(0)(0)Ty6710.10(0)(2)EBR4(0)FUS(2)',\n",
    "'TY1(0)TY2(0)TY3(0)TOMV2(0)M11(0)1.13PH3(0)12(2)M11(0)TY6710_C4 (0)(0)(0),6710_C10 (0)(0)M11 (0)VE-1 (0)TM2A (0)12 (2)']\n",
    "       ,'Histgroup':[2332,215,215,2332]}"
   ]
  },
  {
   "cell_type": "code",
   "execution_count": 5,
   "id": "3d973a7d",
   "metadata": {},
   "outputs": [
    {
     "data": {
      "text/html": [
       "<div>\n",
       "<style scoped>\n",
       "    .dataframe tbody tr th:only-of-type {\n",
       "        vertical-align: middle;\n",
       "    }\n",
       "\n",
       "    .dataframe tbody tr th {\n",
       "        vertical-align: top;\n",
       "    }\n",
       "\n",
       "    .dataframe thead th {\n",
       "        text-align: right;\n",
       "    }\n",
       "</style>\n",
       "<table border=\"1\" class=\"dataframe\">\n",
       "  <thead>\n",
       "    <tr style=\"text-align: right;\">\n",
       "      <th></th>\n",
       "      <th>TraitScores</th>\n",
       "      <th>Histgroup</th>\n",
       "    </tr>\n",
       "  </thead>\n",
       "  <tbody>\n",
       "    <tr>\n",
       "      <th>0</th>\n",
       "      <td>TY1(0)TY2(0)TY6710_C4(0)(0)(0)TY6710_C10(0)(0)...</td>\n",
       "      <td>2332</td>\n",
       "    </tr>\n",
       "    <tr>\n",
       "      <th>1</th>\n",
       "      <td>TY1(2)TY2(2)TY6710.10(2),(0)</td>\n",
       "      <td>215</td>\n",
       "    </tr>\n",
       "    <tr>\n",
       "      <th>2</th>\n",
       "      <td>Ty1(2)Vel(2)Ty2(0)PM(0)1BPh3(0)ToMV(2)Ty6710.4...</td>\n",
       "      <td>215</td>\n",
       "    </tr>\n",
       "    <tr>\n",
       "      <th>3</th>\n",
       "      <td>TY1(0)TY2(0)TY3(0)TOMV2(0)M11(0)1.13PH3(0)12(2...</td>\n",
       "      <td>2332</td>\n",
       "    </tr>\n",
       "  </tbody>\n",
       "</table>\n",
       "</div>"
      ],
      "text/plain": [
       "                                         TraitScores  Histgroup\n",
       "0  TY1(0)TY2(0)TY6710_C4(0)(0)(0)TY6710_C10(0)(0)...       2332\n",
       "1                       TY1(2)TY2(2)TY6710.10(2),(0)        215\n",
       "2  Ty1(2)Vel(2)Ty2(0)PM(0)1BPh3(0)ToMV(2)Ty6710.4...        215\n",
       "3  TY1(0)TY2(0)TY3(0)TOMV2(0)M11(0)1.13PH3(0)12(2...       2332"
      ]
     },
     "execution_count": 5,
     "metadata": {},
     "output_type": "execute_result"
    }
   ],
   "source": [
    "import pandas as pd\n",
    "# Create DataFrame\n",
    "df = pd.DataFrame(data)\n",
    "df"
   ]
  },
  {
   "cell_type": "code",
   "execution_count": 6,
   "id": "2aa79912",
   "metadata": {},
   "outputs": [],
   "source": [
    "# Now apply a regex to perform extraction\n",
    "df['one']=df.TraitScores.str.findall('[A-Z]\\w+[-.]?\\w.\\(?\\w+[),(\\d)]*')"
   ]
  },
  {
   "cell_type": "code",
   "execution_count": 8,
   "id": "2db2c935",
   "metadata": {},
   "outputs": [
    {
     "data": {
      "text/plain": [
       "0    [TY1(0), TY2(0), TY6710_C4(0)(0)(0), TY6710_C1...\n",
       "1                   [TY1(2), TY2(2), TY6710.10(2),(0)]\n",
       "2    [Ty1(2), Vel(2), Ty2(0), BPh3(0), ToMV(2), Ty6...\n",
       "3    [TY1(0), TY2(0), TY3(0), TOMV2(0), M11(0)1, PH...\n",
       "Name: one, dtype: object"
      ]
     },
     "execution_count": 8,
     "metadata": {},
     "output_type": "execute_result"
    }
   ],
   "source": [
    "df['one']"
   ]
  },
  {
   "cell_type": "code",
   "execution_count": 9,
   "id": "5c62ed75",
   "metadata": {},
   "outputs": [],
   "source": [
    "# Remove braces\n",
    "import numpy as np\n",
    "def func(txt):\n",
    "    arr = np.array(txt) # convert into np array\n",
    "    str(arr) # convert into string\n",
    "    return str(arr).lstrip('[').rstrip(']')  # remove part"
   ]
  },
  {
   "cell_type": "code",
   "execution_count": 11,
   "id": "048179a6",
   "metadata": {},
   "outputs": [
    {
     "data": {
      "text/html": [
       "<div>\n",
       "<style scoped>\n",
       "    .dataframe tbody tr th:only-of-type {\n",
       "        vertical-align: middle;\n",
       "    }\n",
       "\n",
       "    .dataframe tbody tr th {\n",
       "        vertical-align: top;\n",
       "    }\n",
       "\n",
       "    .dataframe thead th {\n",
       "        text-align: right;\n",
       "    }\n",
       "</style>\n",
       "<table border=\"1\" class=\"dataframe\">\n",
       "  <thead>\n",
       "    <tr style=\"text-align: right;\">\n",
       "      <th></th>\n",
       "      <th>TraitScores</th>\n",
       "      <th>Histgroup</th>\n",
       "      <th>one</th>\n",
       "    </tr>\n",
       "  </thead>\n",
       "  <tbody>\n",
       "    <tr>\n",
       "      <th>0</th>\n",
       "      <td>TY1(0)TY2(0)TY6710_C4(0)(0)(0)TY6710_C10(0)(0)...</td>\n",
       "      <td>2332</td>\n",
       "      <td>'TY1(0)' 'TY2(0)' 'TY6710_C4(0)(0)(0)' 'TY6710...</td>\n",
       "    </tr>\n",
       "    <tr>\n",
       "      <th>1</th>\n",
       "      <td>TY1(2)TY2(2)TY6710.10(2),(0)</td>\n",
       "      <td>215</td>\n",
       "      <td>'TY1(2)' 'TY2(2)' 'TY6710.10(2),(0)'</td>\n",
       "    </tr>\n",
       "    <tr>\n",
       "      <th>2</th>\n",
       "      <td>Ty1(2)Vel(2)Ty2(0)PM(0)1BPh3(0)ToMV(2)Ty6710.4...</td>\n",
       "      <td>215</td>\n",
       "      <td>'Ty1(2)' 'Vel(2)' 'Ty2(0)' 'BPh3(0)' 'ToMV(2)'...</td>\n",
       "    </tr>\n",
       "    <tr>\n",
       "      <th>3</th>\n",
       "      <td>TY1(0)TY2(0)TY3(0)TOMV2(0)M11(0)1.13PH3(0)12(2...</td>\n",
       "      <td>2332</td>\n",
       "      <td>'TY1(0)' 'TY2(0)' 'TY3(0)' 'TOMV2(0)' 'M11(0)1...</td>\n",
       "    </tr>\n",
       "  </tbody>\n",
       "</table>\n",
       "</div>"
      ],
      "text/plain": [
       "                                         TraitScores  Histgroup  \\\n",
       "0  TY1(0)TY2(0)TY6710_C4(0)(0)(0)TY6710_C10(0)(0)...       2332   \n",
       "1                       TY1(2)TY2(2)TY6710.10(2),(0)        215   \n",
       "2  Ty1(2)Vel(2)Ty2(0)PM(0)1BPh3(0)ToMV(2)Ty6710.4...        215   \n",
       "3  TY1(0)TY2(0)TY3(0)TOMV2(0)M11(0)1.13PH3(0)12(2...       2332   \n",
       "\n",
       "                                                 one  \n",
       "0  'TY1(0)' 'TY2(0)' 'TY6710_C4(0)(0)(0)' 'TY6710...  \n",
       "1               'TY1(2)' 'TY2(2)' 'TY6710.10(2),(0)'  \n",
       "2  'Ty1(2)' 'Vel(2)' 'Ty2(0)' 'BPh3(0)' 'ToMV(2)'...  \n",
       "3  'TY1(0)' 'TY2(0)' 'TY3(0)' 'TOMV2(0)' 'M11(0)1...  "
      ]
     },
     "execution_count": 11,
     "metadata": {},
     "output_type": "execute_result"
    }
   ],
   "source": [
    "# apply that func into it\n",
    "df['one']=df['one'].apply(func)\n",
    "df"
   ]
  },
  {
   "cell_type": "code",
   "execution_count": 12,
   "id": "9838d06e",
   "metadata": {},
   "outputs": [
    {
     "data": {
      "text/html": [
       "<div>\n",
       "<style scoped>\n",
       "    .dataframe tbody tr th:only-of-type {\n",
       "        vertical-align: middle;\n",
       "    }\n",
       "\n",
       "    .dataframe tbody tr th {\n",
       "        vertical-align: top;\n",
       "    }\n",
       "\n",
       "    .dataframe thead th {\n",
       "        text-align: right;\n",
       "    }\n",
       "</style>\n",
       "<table border=\"1\" class=\"dataframe\">\n",
       "  <thead>\n",
       "    <tr style=\"text-align: right;\">\n",
       "      <th></th>\n",
       "      <th>Histgroup</th>\n",
       "      <th>one</th>\n",
       "      <th>Count</th>\n",
       "    </tr>\n",
       "  </thead>\n",
       "  <tbody>\n",
       "    <tr>\n",
       "      <th>0</th>\n",
       "      <td>215</td>\n",
       "      <td>'TY1(2)' 'TY2(2)' 'TY6710.10(2),(0)'</td>\n",
       "      <td>1</td>\n",
       "    </tr>\n",
       "    <tr>\n",
       "      <th>1</th>\n",
       "      <td>215</td>\n",
       "      <td>'Ty1(2)' 'Vel(2)' 'Ty2(0)' 'BPh3(0)' 'ToMV(2)'...</td>\n",
       "      <td>1</td>\n",
       "    </tr>\n",
       "    <tr>\n",
       "      <th>2</th>\n",
       "      <td>2332</td>\n",
       "      <td>'TY1(0)' 'TY2(0)' 'TY3(0)' 'TOMV2(0)' 'M11(0)1...</td>\n",
       "      <td>1</td>\n",
       "    </tr>\n",
       "    <tr>\n",
       "      <th>3</th>\n",
       "      <td>2332</td>\n",
       "      <td>'TY1(0)' 'TY2(0)' 'TY6710_C4(0)(0)(0)' 'TY6710...</td>\n",
       "      <td>1</td>\n",
       "    </tr>\n",
       "  </tbody>\n",
       "</table>\n",
       "</div>"
      ],
      "text/plain": [
       "   Histgroup                                                one  Count\n",
       "0        215               'TY1(2)' 'TY2(2)' 'TY6710.10(2),(0)'      1\n",
       "1        215  'Ty1(2)' 'Vel(2)' 'Ty2(0)' 'BPh3(0)' 'ToMV(2)'...      1\n",
       "2       2332  'TY1(0)' 'TY2(0)' 'TY3(0)' 'TOMV2(0)' 'M11(0)1...      1\n",
       "3       2332  'TY1(0)' 'TY2(0)' 'TY6710_C4(0)(0)(0)' 'TY6710...      1"
      ]
     },
     "execution_count": 12,
     "metadata": {},
     "output_type": "execute_result"
    }
   ],
   "source": [
    "# see the counnt basis on hist group\n",
    "group=df.groupby(['Histgroup','one'])\n",
    "group = group.size()\n",
    "group.reset_index(name='Count')"
   ]
  }
 ],
 "metadata": {
  "kernelspec": {
   "display_name": "Python 3",
   "language": "python",
   "name": "python3"
  },
  "language_info": {
   "codemirror_mode": {
    "name": "ipython",
    "version": 3
   },
   "file_extension": ".py",
   "mimetype": "text/x-python",
   "name": "python",
   "nbconvert_exporter": "python",
   "pygments_lexer": "ipython3",
   "version": "3.8.5"
  }
 },
 "nbformat": 4,
 "nbformat_minor": 5
}
