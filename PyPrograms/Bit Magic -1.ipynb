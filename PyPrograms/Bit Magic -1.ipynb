{
 "cells": [
  {
   "cell_type": "code",
   "execution_count": null,
   "id": "27f27488",
   "metadata": {},
   "outputs": [],
   "source": [
    "# Bitwise operator \n",
    "# & and \n",
    "# or |\n",
    "# not ~\n",
    "# XOR ^\n",
    "# right shift >>\n",
    "# left shift <<"
   ]
  },
  {
   "cell_type": "code",
   "execution_count": 21,
   "id": "6aa774d5",
   "metadata": {},
   "outputs": [
    {
     "data": {
      "text/plain": [
       "1"
      ]
     },
     "execution_count": 21,
     "metadata": {},
     "output_type": "execute_result"
    }
   ],
   "source": [
    "23 & 1  # even & odd"
   ]
  },
  {
   "cell_type": "code",
   "execution_count": 12,
   "id": "e1fd6d76",
   "metadata": {},
   "outputs": [
    {
     "name": "stdout",
     "output_type": "stream",
     "text": [
      "odd\n"
     ]
    }
   ],
   "source": [
    "def evenodd(n):\n",
    "    if n&1 == 1:\n",
    "        print(\"odd\")\n",
    "    else:\n",
    "        print(\"even\")\n",
    "evenodd(3)"
   ]
  },
  {
   "cell_type": "code",
   "execution_count": 13,
   "id": "6e8a2970",
   "metadata": {},
   "outputs": [
    {
     "name": "stdout",
     "output_type": "stream",
     "text": [
      "3\n",
      "2\n",
      "even\n",
      "4\n",
      "even\n",
      "5\n",
      "odd\n"
     ]
    }
   ],
   "source": [
    "t = int(input())\n",
    "while t:\n",
    "    n = int(input())\n",
    "    evenodd(n)\n",
    "    t = t-1 "
   ]
  },
  {
   "cell_type": "code",
   "execution_count": 18,
   "id": "031e60bc",
   "metadata": {},
   "outputs": [
    {
     "data": {
      "text/plain": [
       "3"
      ]
     },
     "execution_count": 18,
     "metadata": {},
     "output_type": "execute_result"
    }
   ],
   "source": [
    "# rightshift is divide in power of your\n",
    "\n",
    "def div(n):\n",
    "    return n >> 2\n",
    "div(12)"
   ]
  },
  {
   "cell_type": "code",
   "execution_count": 20,
   "id": "a43bc46a",
   "metadata": {},
   "outputs": [
    {
     "data": {
      "text/plain": [
       "48"
      ]
     },
     "execution_count": 20,
     "metadata": {},
     "output_type": "execute_result"
    }
   ],
   "source": [
    "# leftshift is multiply in power of you\n",
    "def mul(n):\n",
    "    return n << 2\n",
    "mul(12)"
   ]
  },
  {
   "cell_type": "code",
   "execution_count": 23,
   "id": "f47b7ab9",
   "metadata": {},
   "outputs": [
    {
     "name": "stdout",
     "output_type": "stream",
     "text": [
      "1\n",
      "12\n",
      "3\n",
      "48\n"
     ]
    }
   ],
   "source": [
    "t = int(input())\n",
    "while t:\n",
    "    n = int(input())\n",
    "    print(div(n))\n",
    "    print(mul(n))\n",
    "    t = t - 1"
   ]
  }
 ],
 "metadata": {
  "kernelspec": {
   "display_name": "Python 3",
   "language": "python",
   "name": "python3"
  },
  "language_info": {
   "codemirror_mode": {
    "name": "ipython",
    "version": 3
   },
   "file_extension": ".py",
   "mimetype": "text/x-python",
   "name": "python",
   "nbconvert_exporter": "python",
   "pygments_lexer": "ipython3",
   "version": "3.8.5"
  }
 },
 "nbformat": 4,
 "nbformat_minor": 5
}
