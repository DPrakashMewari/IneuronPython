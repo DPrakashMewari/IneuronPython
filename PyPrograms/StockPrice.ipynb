{
 "cells": [
  {
   "cell_type": "raw",
   "id": "818ee54e",
   "metadata": {},
   "source": [
    "'''\n",
    "\n",
    "# Buy and Stock Prices \n",
    "\n",
    "* First Buy\n",
    "* Second Sell\n",
    "* You need to Buy the stock before selling \n",
    "* Max Profit \n",
    "* Testcase : [7,1,5,3,6,4]\n",
    "\n",
    "\n",
    "'''"
   ]
  },
  {
   "cell_type": "code",
   "execution_count": 25,
   "id": "9760fe3d",
   "metadata": {},
   "outputs": [
    {
     "name": "stdout",
     "output_type": "stream",
     "text": [
      "5\n"
     ]
    }
   ],
   "source": [
    "# Ruff\n",
    "array  = [7,1,5,3,6,4]\n",
    "a=len(array)\n",
    "maxprofit = 0\n",
    "for i in range(a):\n",
    "    for j in range(i+1,a):\n",
    "        if array[j] > array[i]:\n",
    "            maxprofit = max(maxprofit,array[j]-array[i])\n",
    "    \n",
    "print(maxprofit)"
   ]
  },
  {
   "cell_type": "code",
   "execution_count": 22,
   "id": "82185ebe",
   "metadata": {},
   "outputs": [],
   "source": [
    "# Using function\n",
    "def stockprice(A):\n",
    "    n = len(A)  # check the lenth of list\n",
    "    maxprofit = 0\n",
    "    for i in range(n): # Buy\n",
    "        for j in range(i+1,n): # sell\n",
    "            if A[j] > A[i]:\n",
    "                maxprofit = max(maxprofit,A[j]-A[i])\n",
    "    return maxprofit"
   ]
  },
  {
   "cell_type": "code",
   "execution_count": 23,
   "id": "18c7bcdf",
   "metadata": {},
   "outputs": [
    {
     "data": {
      "text/plain": [
       "5"
      ]
     },
     "execution_count": 23,
     "metadata": {},
     "output_type": "execute_result"
    }
   ],
   "source": [
    "stockprice(array)"
   ]
  }
 ],
 "metadata": {
  "kernelspec": {
   "display_name": "Python 3",
   "language": "python",
   "name": "python3"
  },
  "language_info": {
   "codemirror_mode": {
    "name": "ipython",
    "version": 3
   },
   "file_extension": ".py",
   "mimetype": "text/x-python",
   "name": "python",
   "nbconvert_exporter": "python",
   "pygments_lexer": "ipython3",
   "version": "3.8.5"
  }
 },
 "nbformat": 4,
 "nbformat_minor": 5
}
