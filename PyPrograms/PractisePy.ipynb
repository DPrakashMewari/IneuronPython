{
 "cells": [
  {
   "cell_type": "code",
   "execution_count": 42,
   "id": "1cfb7ae5",
   "metadata": {},
   "outputs": [
    {
     "name": "stdout",
     "output_type": "stream",
     "text": [
      "Sql Crud operation\n",
      "What Do You Want to Perform\n",
      "1.Create a Database\n",
      "2.Show Databases\n",
      "3.Create a table\n",
      "4.Want to Insert some data in table \n",
      "5.Want to update the table\n",
      "6.Or you Just Wish to Drop a table \n",
      "Enter Your Choice2\n",
      "show databases\n",
      "These are some avaible Databases\n",
      "('emp',)\n",
      "('emp2',)\n",
      "('information_schema',)\n",
      "('mysql',)\n",
      "('new',)\n",
      "('new1',)\n",
      "('per',)\n",
      "('performance_schema',)\n",
      "('sys',)\n"
     ]
    }
   ],
   "source": [
    "class dbconn:\n",
    "    def __init__(self):\n",
    "        self.con = mysql.connector.connect(host = \"localhost\",\n",
    "                                    port = '3306',\n",
    "                                    user = 'root',\n",
    "                                    password = 'Root@123')\n",
    "\n",
    "        cur = self.con.cursor()\n",
    "        print(\"Sql Crud operation\")\n",
    "        print(\"What Do You Want to Perform\")\n",
    "        print(\"1.Create a Database\")\n",
    "        print(\"2.Show Databases\")\n",
    "        print(\"3.Create a table\")\n",
    "        print(\"4.Want to Insert some data in table \")\n",
    "        print(\"5.Want to update the table\")\n",
    "        print(\"6.Or you Just Wish to Drop a table \")\n",
    "        choice = int(input(\"Enter Your Choice\"))\n",
    "        if choice == 1:\n",
    "            cur.execute(str(input()))\n",
    "            print(\"Database Created\")\n",
    "            cur.execute(\"use \" + str(input()))\n",
    "            print(\"using {0}\".format(cur))\n",
    "            \n",
    "        elif choice == 2:\n",
    "            cur.execute(str(input()))\n",
    "            print(\"These are some avaible Databases\")\n",
    "            for x in cur:\n",
    "                print(x)\n",
    "        elif choice == 3:\n",
    "            cur.execute(str(input()))\n",
    "            cur.execute(str(input()))\n",
    "            print(\"Table created\")\n",
    "        elif choice == 4:\n",
    "            cur.execute(str(input()))\n",
    "            print(\"Data Inserted to a table\")\n",
    "            cur.execute(str(input()))\n",
    "        elif choice == 5:\n",
    "            cur.execute(str(input()))\n",
    "            print(\"Data Updated\")\n",
    "        elif choice == 6:\n",
    "            cur.execute(str(input()))\n",
    "            print(\"Data Dropped\")\n",
    "        else:\n",
    "            print(\"Exit\")\n",
    "\n",
    "obj = dbconn()"
   ]
  },
  {
   "cell_type": "code",
   "execution_count": 6,
   "id": "ca0220a0",
   "metadata": {},
   "outputs": [
    {
     "data": {
      "text/plain": [
       "3"
      ]
     },
     "execution_count": 6,
     "metadata": {},
     "output_type": "execute_result"
    }
   ],
   "source": [
    "# Python | Count occurrences of an element in a list\n",
    "\n",
    "def elementcount(elem,x):\n",
    "    count = 0 \n",
    "    for i in elem:\n",
    "        if i == x:\n",
    "            count += 1\n",
    "    return count\n",
    "\n",
    "elem = [1,231,31,1,1,2]\n",
    "\n",
    "elementcount(elem,1)\n",
    "\n",
    "\n",
    "# 2nd way using a Counter:"
   ]
  },
  {
   "cell_type": "code",
   "execution_count": 12,
   "id": "0aa63944",
   "metadata": {},
   "outputs": [
    {
     "name": "stdout",
     "output_type": "stream",
     "text": [
      "1 is occured 3 times\n"
     ]
    }
   ],
   "source": [
    "import collections\n",
    "from collections import Counter \n",
    "\n",
    "\n",
    "d = Counter(elem)\n",
    "\n",
    "print(\"{} is occured {} times\".format(1,d[1]))"
   ]
  },
  {
   "cell_type": "code",
   "execution_count": 19,
   "id": "4e062fb0",
   "metadata": {},
   "outputs": [
    {
     "name": "stdout",
     "output_type": "stream",
     "text": [
      "Tuple None Clear Method 1  [('ram', '15', '8'), ('laxman', 'sita'), ('krishna', 'akbar', '45'), ('', '')]\n",
      "('ram', '15', '8')\n",
      "('laxman', 'sita')\n",
      "('krishna', 'akbar', '45')\n",
      "('', '')\n",
      "Tuple None Clear Method 2 ('', '')\n"
     ]
    }
   ],
   "source": [
    "# Remove empty tuples from a list :\n",
    "\n",
    "def tuple(t):\n",
    "    x2 = [x1 for x1 in t if x1]\n",
    "    return x2\n",
    "\n",
    "\n",
    "t = [(), ('ram','15','8'), (), ('laxman', 'sita'), \n",
    "                  ('krishna', 'akbar', '45'), ('',''),()]\n",
    "\n",
    "print(\"Tuple None Clear Method 1 \",tuple(t))\n",
    "\n",
    "\n",
    "# Now using filter Method \n",
    "\n",
    "def tuple(t):\n",
    "    t = filter(None,t)\n",
    "    for x in t:\n",
    "        print(x)\n",
    "    return x\n",
    "\n",
    "print(\"Tuple None Clear Method 2\",tuple(t))"
   ]
  },
  {
   "cell_type": "code",
   "execution_count": 3,
   "id": "e81799e9",
   "metadata": {},
   "outputs": [
    {
     "data": {
      "text/plain": [
       "-5"
      ]
     },
     "execution_count": 3,
     "metadata": {},
     "output_type": "execute_result"
    }
   ],
   "source": [
    "def summation(list):\n",
    "    sum = 0\n",
    "    for i in list:\n",
    "        sum = sum + i\n",
    "    return sum\n",
    "\n",
    "\n",
    "summation([1,2,-8])"
   ]
  },
  {
   "cell_type": "code",
   "execution_count": 12,
   "id": "16b39214",
   "metadata": {},
   "outputs": [
    {
     "name": "stdout",
     "output_type": "stream",
     "text": [
      "* \n",
      "* * \n",
      "* * * \n",
      "* * * * \n",
      "* * * * * \n",
      "* * * * * * \n",
      "* * * * * * * \n"
     ]
    }
   ],
   "source": [
    "# Python Programm to print Pattern \n",
    "n=8\n",
    "for i in range(1,n):\n",
    "    print(\"\",end=\"\")\n",
    "    for j in range(0,i):\n",
    "        print(\"*\",end=\" \")\n",
    "    print()"
   ]
  },
  {
   "cell_type": "code",
   "execution_count": 18,
   "id": "fc861dd5",
   "metadata": {},
   "outputs": [
    {
     "name": "stdout",
     "output_type": "stream",
     "text": [
      "10\n",
      " * * * * * * * * * \n",
      " * * * * * * * * \n",
      " * * * * * * * \n",
      " * * * * * * \n",
      " * * * * * \n",
      " * * * * \n",
      " * * * \n",
      " * * \n",
      " * \n",
      " \n"
     ]
    }
   ],
   "source": [
    "# Now try with different pattern:\n",
    "\n",
    "n = int(input(\"\"))\n",
    "for i in range(0,n):\n",
    "    print(\" \",end=\"\")\n",
    "    for j in range(i+1,n):\n",
    "        print(\"*\",end=\" \") \n",
    "    print()"
   ]
  },
  {
   "cell_type": "code",
   "execution_count": 31,
   "id": "704c1368",
   "metadata": {},
   "outputs": [
    {
     "name": "stdout",
     "output_type": "stream",
     "text": [
      "10\n",
      " * * * * * * * * * * * * * * * \n",
      " * * * * * * * * * * * * * \n",
      " * * * * * * * * * * * \n",
      " * * * * * * * * * \n",
      " * * * * * * * \n",
      " * * * * * \n",
      " * * * \n",
      " * \n"
     ]
    }
   ],
   "source": [
    "n = int(input())\n",
    "for i in range(1,n-1):\n",
    "    print(\" \",end=\"\")\n",
    "    for j in range(i+2,n):\n",
    "        print(\"*\",end=\" \")\n",
    "    for k in range(i,j):\n",
    "        print(\"*\",end=\" \")\n",
    "    print() \n",
    "    \n",
    "for j in range(n,i):\n",
    "    print(\" \",end=\" \")\n",
    "    for l in range(j,n):\n",
    "        print(\"*\",end=\" \")\n",
    "    for o in range(k,n):\n",
    "        print(\"*\",end=\" \")\n",
    "    print()\n",
    "    \n",
    "    "
   ]
  },
  {
   "cell_type": "code",
   "execution_count": 39,
   "id": "2696ad4e",
   "metadata": {},
   "outputs": [
    {
     "name": "stdout",
     "output_type": "stream",
     "text": [
      "10\n",
      "  * \n",
      "  * * \n",
      "  * * * \n",
      "  * * * * \n",
      "  * * * * * \n",
      "  * * * * * * \n",
      "  * * * * * * * \n",
      "  * * * * * * * * \n",
      "  * * * * * * * * * \n",
      " * * * * * * * * * \n",
      " * * * * * * * * \n",
      " * * * * * * * \n",
      " * * * * * * \n",
      " * * * * * \n",
      " * * * * \n",
      " * * * \n",
      " * * \n",
      " * \n",
      " \n"
     ]
    }
   ],
   "source": [
    "n = int(input())\n",
    "for i in range(1,n):\n",
    "    print(\" \",end=\" \")\n",
    "    for j in range(0,i):\n",
    "        print(\"*\",end=\" \")\n",
    "    print()\n",
    "    \n",
    "for i in range(0,n):\n",
    "    print(\" \",end=\"\")\n",
    "    for j in range(i+1,n):\n",
    "        print(\"*\",end=\" \") \n",
    "    print()"
   ]
  },
  {
   "cell_type": "code",
   "execution_count": 49,
   "id": "5ad77665",
   "metadata": {},
   "outputs": [
    {
     "name": "stdout",
     "output_type": "stream",
     "text": [
      "10\n",
      "                  *  \n",
      "                *  *  \n",
      "              *  *  *  \n",
      "            *  *  *  *  \n",
      "          *  *  *  *  *  \n",
      "        *  *  *  *  *  *  \n",
      "      *  *  *  *  *  *  *  \n",
      "    *  *  *  *  *  *  *  *  \n",
      "  *  *  *  *  *  *  *  *  *  \n",
      "*  *  *  *  *  *  *  *  *  *  \n"
     ]
    }
   ],
   "source": [
    "n = int(input())\n",
    "\n",
    "k = 2*n-2\n",
    "\n",
    "for i in range(0,n):\n",
    "    for j in range(0,k):\n",
    "        print(end=\" \")\n",
    "    k = k - 2\n",
    "    for l in range(0,i+1):\n",
    "        print(\"* \",end=\" \")\n",
    "    print(\"\\r\")"
   ]
  },
  {
   "cell_type": "code",
   "execution_count": 57,
   "id": "af7eae85",
   "metadata": {},
   "outputs": [
    {
     "name": "stdout",
     "output_type": "stream",
     "text": [
      "10\n",
      "* \n",
      "* * \n",
      "* * * \n",
      "* * * * \n",
      "* * * * * \n",
      "* * * * * * \n",
      "* * * * * * * \n",
      "* * * * * * * * \n",
      "* * * * * * * * * \n",
      "* * * * * * * * * * \n"
     ]
    }
   ],
   "source": [
    "n = int(input())\n",
    "i = 1\n",
    "while i <= n:\n",
    "    j = 1 \n",
    "    while j <= i:\n",
    "        print(\"*\",end=\" \")\n",
    "        j += 1\n",
    "    print()\n",
    "    i  += 1"
   ]
  },
  {
   "cell_type": "code",
   "execution_count": 59,
   "id": "0e88f47a",
   "metadata": {},
   "outputs": [
    {
     "name": "stdout",
     "output_type": "stream",
     "text": [
      "*  \n",
      "*  *  \n",
      "*  *  *  \n",
      "*  *  *  *  \n",
      "*  *  *  *  *  \n"
     ]
    }
   ],
   "source": [
    "n = 5\n",
    "i = 1 \n",
    "while i <= n:\n",
    "    j = 1 \n",
    "    while j <= i:\n",
    "        print(\"* \",end=\" \")\n",
    "        j += 1\n",
    "    print()\n",
    "    i +=1"
   ]
  },
  {
   "cell_type": "code",
   "execution_count": 63,
   "id": "fb0c802a",
   "metadata": {},
   "outputs": [
    {
     "name": "stdout",
     "output_type": "stream",
     "text": [
      "      *  \n",
      "    *  *  *  \n",
      "  *  *  *  *  *  \n",
      "*  *  *  *  *  *  *  \n",
      "*  *  *  *  *  *  *  *  *  \n"
     ]
    }
   ],
   "source": [
    "i = 1\n",
    "k = 1\n",
    "\n",
    "while i <= 5:\n",
    "    b = 1 \n",
    "    while b < 5-i:\n",
    "        print(\" \",end=\" \")\n",
    "        b = b + 1\n",
    "    j = 1 \n",
    "    while j<= k:\n",
    "        print(\"* \",end=\" \")\n",
    "        j = j+1\n",
    "    \n",
    "    print()\n",
    "    k = k + 2\n",
    "    \n",
    "    i = i + 1 "
   ]
  }
 ],
 "metadata": {
  "kernelspec": {
   "display_name": "Python 3",
   "language": "python",
   "name": "python3"
  },
  "language_info": {
   "codemirror_mode": {
    "name": "ipython",
    "version": 3
   },
   "file_extension": ".py",
   "mimetype": "text/x-python",
   "name": "python",
   "nbconvert_exporter": "python",
   "pygments_lexer": "ipython3",
   "version": "3.8.5"
  }
 },
 "nbformat": 4,
 "nbformat_minor": 5
}
