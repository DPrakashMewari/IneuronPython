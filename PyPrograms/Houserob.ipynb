{
 "cells": [
  {
   "cell_type": "code",
   "execution_count": 7,
   "metadata": {},
   "outputs": [
    {
     "name": "stdout",
     "output_type": "stream",
     "text": [
      "19\n",
      "16\n"
     ]
    }
   ],
   "source": [
    "def houserob(num,n):\n",
    "    if n == 1:\n",
    "        return num[0]\n",
    "    if n == 2:\n",
    "        return max(num)\n",
    "    num[1] = max(num[0],num[1])\n",
    "    for i in range(2,n):\n",
    "        num[i] = max(num[i-1],num[i]+num[i-2])\n",
    "    return num[-1]\n",
    "\n",
    "# Test case \n",
    "Housevalues1= [6,7,1,3,8,2,4]\n",
    "# Test case 2 \n",
    "Housevalues2 = [5,3,4,11,2]\n",
    "\n",
    "print(houserob(Housevalues1,len(Housevalues1)))\n",
    "print(houserob(Housevalues2,len(Housevalues2)))"
   ]
  }
 ],
 "metadata": {
  "kernelspec": {
   "display_name": "Python 3",
   "language": "python",
   "name": "python3"
  },
  "language_info": {
   "codemirror_mode": {
    "name": "ipython",
    "version": 3
   },
   "file_extension": ".py",
   "mimetype": "text/x-python",
   "name": "python",
   "nbconvert_exporter": "python",
   "pygments_lexer": "ipython3",
   "version": "3.7.6"
  }
 },
 "nbformat": 4,
 "nbformat_minor": 4
}
